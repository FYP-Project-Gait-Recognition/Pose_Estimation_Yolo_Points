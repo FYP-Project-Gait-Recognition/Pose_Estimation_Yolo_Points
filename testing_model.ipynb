{
  "nbformat": 4,
  "nbformat_minor": 0,
  "metadata": {
    "colab": {
      "name": "testing_model.ipynb",
      "provenance": [],
      "collapsed_sections": [],
      "authorship_tag": "ABX9TyN75VfY1jdUbAmnlONIAFc4",
      "include_colab_link": true
    },
    "kernelspec": {
      "name": "python3",
      "display_name": "Python 3"
    }
  },
  "cells": [
    {
      "cell_type": "markdown",
      "metadata": {
        "id": "view-in-github",
        "colab_type": "text"
      },
      "source": [
        "<a href=\"https://colab.research.google.com/github/Hamza1122/Pose_Estimation_Yolo_Points/blob/main/testing_model.ipynb\" target=\"_parent\"><img src=\"https://colab.research.google.com/assets/colab-badge.svg\" alt=\"Open In Colab\"/></a>"
      ]
    },
    {
      "cell_type": "code",
      "metadata": {
        "id": "pyHxALICAskO"
      },
      "source": [
        "import os\r\n",
        "from sklearn import preprocessing\r\n",
        "\r\n",
        "category = ['sami', 'sajid', 'amman', 'wajid', 'ahmed', 'shumail', 'steve', 'hannan']\r\n"
      ],
      "execution_count": 1,
      "outputs": []
    },
    {
      "cell_type": "code",
      "metadata": {
        "id": "lROWIcg3er8D"
      },
      "source": [
        "#!unzip new_test.zip"
      ],
      "execution_count": null,
      "outputs": []
    },
    {
      "cell_type": "code",
      "metadata": {
        "id": "sHKNkvKUAp22"
      },
      "source": [
        "data=r\"/content/new_test/\"\r\n",
        "IMG_SIZE = 50"
      ],
      "execution_count": null,
      "outputs": []
    },
    {
      "cell_type": "code",
      "metadata": {
        "id": "OCMq9hXLelkR"
      },
      "source": [
        ""
      ],
      "execution_count": null,
      "outputs": []
    },
    {
      "cell_type": "code",
      "metadata": {
        "id": "9Yjs3_aUeYOU"
      },
      "source": [
        "training_data = []\r\n",
        "temp_array=[]\r\n",
        "cate =['Unknown_class']\r\n",
        "def create_training_data():\r\n",
        "    for category in cate:\r\n",
        "        \r\n",
        "        path = os.path.join(data,category)\r\n",
        "        class_num = cate.index(category)\r\n",
        "        for img in os.listdir(path):\r\n",
        "            try :\r\n",
        "                img_array = cv2.imread(os.path.join(path, img), cv2.IMREAD_GRAYSCALE)\r\n",
        "                temp_array.append(img_array)\r\n",
        "                new_array = cv2.resize(img_array, (IMG_SIZE, IMG_SIZE))\r\n",
        "                training_data.append([new_array, class_num])\r\n",
        "            except Exception as e:\r\n",
        "                pass\r\n",
        "\r\n",
        "create_training_data()"
      ],
      "execution_count": null,
      "outputs": []
    },
    {
      "cell_type": "code",
      "metadata": {
        "id": "HgMZh3sNedfw"
      },
      "source": [
        "import pandas as pd\r\n",
        "import numpy as np\r\n",
        "\r\n",
        "X_test=[]\r\n",
        "y_test=[]\r\n",
        "\r\n",
        "\r\n",
        "df_angle = pd.read_csv('new_angles.csv',names=['images','angles','distance'])\r\n",
        "df_angle = df_angle.fillna(0)\r\n",
        "\r\n",
        "\r\n",
        "df_test=pd.read_csv('new_pose.csv')\r\n",
        "\r\n",
        "\r\n",
        "df_angle['path'] = df_test['Image']\r\n",
        "df=pd.merge(df_test,df_angle, how='left', left_on='Image', right_on='path')   #merge both datasets and duplicates will be removed automatically\r\n",
        "df=df.fillna(0)"
      ],
      "execution_count": null,
      "outputs": []
    },
    {
      "cell_type": "code",
      "metadata": {
        "colab": {
          "base_uri": "https://localhost:8080/"
        },
        "id": "1wzRZYL4eduh",
        "outputId": "500919e9-d7eb-41d9-eb0c-5fee595d58bc"
      },
      "source": [
        "df=df.drop(['Image','Class','images','path'],axis=1)\r\n",
        "\r\n",
        "for features, label in training_data:\r\n",
        "  X_test.append(features)\r\n",
        "  y_test.append(label)\r\n",
        "\r\n",
        "y_test=np.array(y_test)\r\n",
        "len(y_test)"
      ],
      "execution_count": null,
      "outputs": [
        {
          "output_type": "execute_result",
          "data": {
            "text/plain": [
              "153"
            ]
          },
          "metadata": {
            "tags": []
          },
          "execution_count": 28
        }
      ]
    },
    {
      "cell_type": "code",
      "metadata": {
        "id": "xfQgUGz-Z6h9"
      },
      "source": [
        "min_max_scaler = preprocessing.MinMaxScaler()   #normalizing the data\r\n",
        "df = min_max_scaler.fit_transform(df)"
      ],
      "execution_count": null,
      "outputs": []
    },
    {
      "cell_type": "code",
      "metadata": {
        "id": "J6PGsAljZ63W"
      },
      "source": [
        "from keras.utils import np_utils\r\n",
        "\r\n",
        "X_test = np.array(X_test).reshape(-1, IMG_SIZE, IMG_SIZE, 1) \r\n",
        "X_test=X_test.astype('float')\r\n",
        "X_test=X_test/ 255 \r\n",
        "\r\n",
        "y_test = np_utils.to_categorical(y_test)\r\n"
      ],
      "execution_count": null,
      "outputs": []
    },
    {
      "cell_type": "code",
      "metadata": {
        "id": "FYZJrCGZed6u",
        "colab": {
          "base_uri": "https://localhost:8080/"
        },
        "outputId": "fe96f81a-29fa-4e07-b1ad-67cff6eac603"
      },
      "source": [
        "from keras.models import Sequential\r\n",
        "from keras.layers import Dense\r\n",
        "from keras.models import model_from_json\r\n",
        "import numpy\r\n",
        "\r\n",
        "\r\n",
        "json_file = open('model.json', 'r')\r\n",
        "loaded_model_json = json_file.read()\r\n",
        "json_file.close()\r\n",
        "loaded_model = model_from_json(loaded_model_json)\r\n",
        "loaded_model.load_weights(\"model.h5\")\r\n",
        "print(\"Loaded model from disk\")"
      ],
      "execution_count": null,
      "outputs": [
        {
          "output_type": "stream",
          "text": [
            "Loaded model from disk\n"
          ],
          "name": "stdout"
        }
      ]
    },
    {
      "cell_type": "code",
      "metadata": {
        "id": "29jlqgCBfZGi"
      },
      "source": [
        "loaded_model.compile(loss='categorical_crossentropy', optimizer='rmsprop', metrics=['accuracy'])"
      ],
      "execution_count": null,
      "outputs": []
    },
    {
      "cell_type": "code",
      "metadata": {
        "id": "qh9t1BcqZDAs"
      },
      "source": [
        "y_new = loaded_model.predict([df,X_test])"
      ],
      "execution_count": null,
      "outputs": []
    },
    {
      "cell_type": "code",
      "metadata": {
        "id": "EGB4E2uMZmWT"
      },
      "source": [
        "results = np.argmax(y_new,axis=1)\r\n",
        "results\r\n"
      ],
      "execution_count": null,
      "outputs": []
    },
    {
      "cell_type": "code",
      "metadata": {
        "id": "tDF_0TimZvoO"
      },
      "source": [
        ""
      ],
      "execution_count": null,
      "outputs": []
    }
  ]
}