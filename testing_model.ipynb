{
  "nbformat": 4,
  "nbformat_minor": 0,
  "metadata": {
    "colab": {
      "name": "testing_model.ipynb",
      "provenance": [],
      "collapsed_sections": [],
      "authorship_tag": "ABX9TyNiaTH1hWTQWS28/lVQ9gwc",
      "include_colab_link": true
    },
    "kernelspec": {
      "name": "python3",
      "display_name": "Python 3"
    }
  },
  "cells": [
    {
      "cell_type": "markdown",
      "metadata": {
        "id": "view-in-github",
        "colab_type": "text"
      },
      "source": [
        "<a href=\"https://colab.research.google.com/github/Hamza1122/Pose_Estimation_Yolo_Points/blob/main/testing_model.ipynb\" target=\"_parent\"><img src=\"https://colab.research.google.com/assets/colab-badge.svg\" alt=\"Open In Colab\"/></a>"
      ]
    },
    {
      "cell_type": "code",
      "metadata": {
        "id": "pyHxALICAskO"
      },
      "source": [
        "import os\r\n",
        "import cv2\r\n",
        "import pandas as pd\r\n",
        "import numpy as np\r\n",
        "import matplotlib.pyplot as plt\r\n",
        "from sklearn import preprocessing\r\n",
        "\r\n",
        "\r\n",
        "category = ['sami', 'sajid', 'amman', 'wajid', 'ahmed', 'shumail', 'steve', 'hannan']\r\n"
      ],
      "execution_count": 60,
      "outputs": []
    },
    {
      "cell_type": "code",
      "metadata": {
        "id": "lROWIcg3er8D"
      },
      "source": [
        "# !unzip wajid.zip"
      ],
      "execution_count": 48,
      "outputs": []
    },
    {
      "cell_type": "code",
      "metadata": {
        "id": "sHKNkvKUAp22"
      },
      "source": [
        "# data=r\"/content/steve/\"\r\n",
        "\r\n",
        "IMG_SIZE = 50"
      ],
      "execution_count": 49,
      "outputs": []
    },
    {
      "cell_type": "code",
      "metadata": {
        "id": "J6PGsAljZ63W"
      },
      "source": [
        "from keras.utils import np_utils\r\n",
        "from keras.models import Sequential\r\n",
        "from keras.layers import Dense\r\n",
        "from keras.models import model_from_json\r\n",
        "import numpy\r\n"
      ],
      "execution_count": 50,
      "outputs": []
    },
    {
      "cell_type": "code",
      "metadata": {
        "id": "MlqJp3UtxI0R"
      },
      "source": [
        "def feature_extraction(training_data):\r\n",
        "  X_test=[]\r\n",
        "  y_test=[]\r\n",
        "\r\n",
        "  for features, label in training_data:\r\n",
        "    X_test.append(features)\r\n",
        "    y_test.append(label)\r\n",
        "\r\n",
        "  y_test=np.array(y_test)\r\n",
        "  X_test = np.array(X_test).reshape(-1, IMG_SIZE, IMG_SIZE, 1) \r\n",
        "  X_test=X_test.astype('float')\r\n",
        "  X_test=X_test/ 255 \r\n",
        "  \r\n",
        "\r\n",
        "  \r\n",
        "\r\n",
        "  return X_test,y_test\r\n",
        "\r\n",
        "\r\n",
        "\r\n",
        "def pre_processing(pose_path,angles_path):\r\n",
        "  df_angle = pd.read_csv(angles_path)\r\n",
        "  df_angle = df_angle.fillna(0)\r\n",
        "  df_test=pd.read_csv(pose_path) \r\n",
        "  df_angle['path'] = df_test['Image']\r\n",
        "  df=pd.merge(df_test,df_angle, how='left', left_on='Image', right_on='path')   #merge both datasets and duplicates will be removed automatically  \r\n",
        "  df=df.fillna(0)\r\n",
        "  return df"
      ],
      "execution_count": 51,
      "outputs": []
    },
    {
      "cell_type": "code",
      "metadata": {
        "id": "j6tnV_SgtJ1E"
      },
      "source": [
        "training_data = []\r\n",
        "temp_array=[]\r\n",
        "\r\n",
        "def create_training_data(data,cate):\r\n",
        "    for category in cate:\r\n",
        "        \r\n",
        "        path = os.path.join(data,category)\r\n",
        "        class_num = cate.index(category)\r\n",
        "        for img in os.listdir(path):\r\n",
        "            try :\r\n",
        "                img_array = cv2.imread(os.path.join(path, img), cv2.IMREAD_GRAYSCALE)\r\n",
        "                temp_array.append(img_array)\r\n",
        "                new_array = cv2.resize(img_array, (IMG_SIZE, IMG_SIZE))\r\n",
        "                training_data.append([new_array, class_num])\r\n",
        "            except Exception as e:\r\n",
        "                pass\r\n",
        "\r\n",
        "    return training_data          "
      ],
      "execution_count": 52,
      "outputs": []
    },
    {
      "cell_type": "code",
      "metadata": {
        "id": "tDF_0TimZvoO"
      },
      "source": [
        "\r\n",
        "def convolutional_neural_network(dataset_path,pose_path,angles_path):\r\n",
        "  data=r\"/content/\"+dataset_path+'/'\r\n",
        "  cate =[dataset_path]\r\n",
        "\r\n",
        "  training_data = create_training_data(data,cate)\r\n",
        "  \r\n",
        "  df =pre_processing(pose_path,angles_path)\r\n",
        "  df=df.drop(['Image','Class','images','path'],axis=1)\r\n",
        "  \r\n",
        "  \r\n",
        "  X_test,y_test =feature_extraction(training_data)\r\n",
        "  \r\n",
        "  return X_test,df\r\n"
      ],
      "execution_count": 53,
      "outputs": []
    },
    {
      "cell_type": "code",
      "metadata": {
        "id": "nGhpa153ruvA"
      },
      "source": [
        "X_test,df = convolutional_neural_network('wajid','wajid_pose.csv','wajid_angle.csv')\r\n",
        "\r\n",
        "min_max_scaler = preprocessing.MinMaxScaler()\r\n",
        "\r\n",
        "df = min_max_scaler.fit_transform(df)"
      ],
      "execution_count": 54,
      "outputs": []
    },
    {
      "cell_type": "code",
      "metadata": {
        "colab": {
          "base_uri": "https://localhost:8080/"
        },
        "id": "TOKYmYyRsGF7",
        "outputId": "9ba8177d-8ec1-4a71-c5e2-960c2b5be1b4"
      },
      "source": [
        "json_file = open('model.json', 'r')\r\n",
        "loaded_model_json = json_file.read()\r\n",
        "json_file.close()\r\n",
        "\r\n",
        "\r\n",
        "\r\n",
        "\r\n",
        "loaded_model = model_from_json(loaded_model_json)\r\n",
        "loaded_model.load_weights(\"model.h5\")\r\n",
        "print(\"Loaded model from disk\")"
      ],
      "execution_count": 55,
      "outputs": [
        {
          "output_type": "stream",
          "text": [
            "Loaded model from disk\n"
          ],
          "name": "stdout"
        }
      ]
    },
    {
      "cell_type": "code",
      "metadata": {
        "id": "KazX2ImOscWo"
      },
      "source": [
        "# loaded_model.compile(loss='categorical_crossentropy', optimizer='rmsprop', metrics=['accuracy'])"
      ],
      "execution_count": 56,
      "outputs": []
    },
    {
      "cell_type": "code",
      "metadata": {
        "id": "CuAt0FHS8FUH"
      },
      "source": [
        "y_new = loaded_model.predict(([df,X_test]))"
      ],
      "execution_count": 57,
      "outputs": []
    },
    {
      "cell_type": "code",
      "metadata": {
        "id": "1oxQo-R28KBA",
        "colab": {
          "base_uri": "https://localhost:8080/"
        },
        "outputId": "3c4e3692-3541-4e8f-c895-35298dd3960d"
      },
      "source": [
        "results = np.argmax(y_new,axis=1)\r\n",
        "results"
      ],
      "execution_count": 59,
      "outputs": [
        {
          "output_type": "execute_result",
          "data": {
            "text/plain": [
              "array([7, 7, 7, 7, 7, 0, 7, 5, 7, 7, 7, 7, 7, 7, 7, 7, 7, 7, 7, 7, 7, 4,\n",
              "       7, 7, 7, 7, 7, 7, 7, 7, 7, 7, 0, 7, 7, 7, 7, 7, 7, 7, 7, 7, 7, 7,\n",
              "       3, 7, 7, 0, 0, 0, 0, 7, 7, 0, 7, 7, 7, 3, 7, 7, 7, 7, 7, 7, 7, 7,\n",
              "       7, 7, 7, 7, 7, 7, 7, 7, 3, 7, 7, 3, 7, 7, 7, 7, 7, 7, 7, 7, 7, 7,\n",
              "       7, 7, 7, 7, 7, 5, 7, 7, 4, 7, 7, 7, 7, 7, 7, 7, 7, 3, 3, 7, 7, 7,\n",
              "       3, 7, 7, 7, 7, 7, 7, 7, 7, 7, 7, 7, 7, 3, 7, 7, 7, 7, 7, 7, 7, 7,\n",
              "       7, 7, 7, 4, 7, 7, 7, 7, 7, 7, 7, 7, 7, 3, 7, 7, 7, 5, 7, 7, 4, 7,\n",
              "       7, 7, 7, 5, 7, 7, 7, 7, 7, 7, 4])"
            ]
          },
          "metadata": {
            "tags": []
          },
          "execution_count": 59
        }
      ]
    },
    {
      "cell_type": "code",
      "metadata": {
        "colab": {
          "base_uri": "https://localhost:8080/",
          "height": 294
        },
        "id": "DtZyOXqqQ-t1",
        "outputId": "81710e7f-f89b-4b89-af94-acc33aa4ebc4"
      },
      "source": [
        "plt.hist(results,rwidth=0.8,color='orange',alpha=0.7)\r\n",
        "plt.title('Decision Tree')\r\n",
        "plt.grid(axis='y', alpha=0.75)\r\n",
        "plt.xlabel('Classes',fontsize=9)\r\n",
        "plt.show()\r\n",
        "  "
      ],
      "execution_count": 61,
      "outputs": [
        {
          "output_type": "display_data",
          "data": {
            "image/png": "[encoded data removed]",
            "text/plain": [
              "<Figure size 432x288 with 1 Axes>"
            ]
          },
          "metadata": {
            "tags": [],
            "needs_background": "light"
          }
        }
      ]
    },
    {
      "cell_type": "code",
      "metadata": {
        "id": "8BKErCcuca1u"
      },
      "source": [
        ""
      ],
      "execution_count": null,
      "outputs": []
    }
  ]
}