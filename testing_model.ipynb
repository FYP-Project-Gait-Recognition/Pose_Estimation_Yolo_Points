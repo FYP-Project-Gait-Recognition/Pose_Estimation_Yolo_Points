{
  "nbformat": 4,
  "nbformat_minor": 0,
  "metadata": {
    "colab": {
      "name": "testing_model.ipynb",
      "provenance": [],
      "collapsed_sections": [],
      "authorship_tag": "ABX9TyMohrnRXXR4ArJGy8zCcufN",
      "include_colab_link": true
    },
    "kernelspec": {
      "name": "python3",
      "display_name": "Python 3"
    }
  },
  "cells": [
    {
      "cell_type": "markdown",
      "metadata": {
        "id": "view-in-github",
        "colab_type": "text"
      },
      "source": [
        "<a href=\"https://colab.research.google.com/github/Hamza1122/Pose_Estimation_Yolo_Points/blob/main/testing_model.ipynb\" target=\"_parent\"><img src=\"https://colab.research.google.com/assets/colab-badge.svg\" alt=\"Open In Colab\"/></a>"
      ]
    },
    {
      "cell_type": "code",
      "metadata": {
        "id": "pyHxALICAskO"
      },
      "source": [
        "import os\r\n",
        "from sklearn import preprocessing\r\n",
        "import cv2\r\n",
        "import pandas as pd\r\n",
        "import numpy as np\r\n",
        "\r\n",
        "\r\n",
        "category = ['sami', 'sajid', 'amman', 'wajid', 'ahmed', 'shumail', 'steve', 'hannan']\r\n"
      ],
      "execution_count": 141,
      "outputs": []
    },
    {
      "cell_type": "code",
      "metadata": {
        "id": "lROWIcg3er8D"
      },
      "source": [
        "#!unzip wajid.zip"
      ],
      "execution_count": 142,
      "outputs": []
    },
    {
      "cell_type": "code",
      "metadata": {
        "id": "sHKNkvKUAp22"
      },
      "source": [
        "data=r\"/content/wajid/\"\r\n",
        "IMG_SIZE = 50"
      ],
      "execution_count": 143,
      "outputs": []
    },
    {
      "cell_type": "code",
      "metadata": {
        "id": "9Yjs3_aUeYOU"
      },
      "source": [
        "# training_data = []\r\n",
        "# temp_array=[]\r\n",
        "# cate=[\"wajid\"]\r\n",
        "# def create_training_data():\r\n",
        "#     for category in cate:\r\n",
        "        \r\n",
        "#         path = os.path.join(data,category)\r\n",
        "#         class_num = cate.index(category)\r\n",
        "#         for img in os.listdir(path):\r\n",
        "#             try :\r\n",
        "#                 img_array = cv2.imread(os.path.join(path, img), cv2.IMREAD_GRAYSCALE)\r\n",
        "#                 temp_array.append(img_array)\r\n",
        "#                 new_array = cv2.resize(img_array, (IMG_SIZE, IMG_SIZE))\r\n",
        "#                 training_data.append([new_array, class_num])\r\n",
        "#             except Exception as e:\r\n",
        "#                 pass\r\n",
        "\r\n",
        "# create_training_data()"
      ],
      "execution_count": 144,
      "outputs": []
    },
    {
      "cell_type": "code",
      "metadata": {
        "id": "BD3cecKOv2uj"
      },
      "source": [
        "# training_data"
      ],
      "execution_count": 145,
      "outputs": []
    },
    {
      "cell_type": "code",
      "metadata": {
        "id": "HgMZh3sNedfw"
      },
      "source": [
        "\r\n",
        "# X_test=[]\r\n",
        "# y_test=[]\r\n",
        "\r\n",
        "\r\n",
        "# df_angle = pd.read_csv('wajid_angle.csv',names=['images','angles','distance'])\r\n",
        "# df_angle = df_angle.fillna(0)\r\n",
        "\r\n",
        "\r\n",
        "# df_test=pd.read_csv('wajid_pose.csv')\r\n",
        "\r\n",
        "# df_angle['path'] = df_test['Image']\r\n",
        "# df=pd.merge(df_test,df_angle, how='left', left_on='Image', right_on='path')   #merge both datasets and duplicates will be removed automatically\r\n",
        "# df=df.fillna(0)"
      ],
      "execution_count": 146,
      "outputs": []
    },
    {
      "cell_type": "code",
      "metadata": {
        "id": "1wzRZYL4eduh"
      },
      "source": [
        "# df=df.drop(['Image','Class','images','path'],axis=1)\r\n",
        "\r\n",
        "# for features, label in training_data:\r\n",
        "#   X_test.append(features)\r\n",
        "#   y_test.append(label)\r\n",
        "\r\n",
        "# y_test=np.array(y_test)\r\n",
        "# len(y_test)\r\n",
        "\r\n",
        "\r\n"
      ],
      "execution_count": 147,
      "outputs": []
    },
    {
      "cell_type": "code",
      "metadata": {
        "id": "xfQgUGz-Z6h9"
      },
      "source": [
        "# min_max_scaler = preprocessing.MinMaxScaler()   #normalizing the data\r\n",
        "# df = min_max_scaler.fit_transform(df)"
      ],
      "execution_count": 148,
      "outputs": []
    },
    {
      "cell_type": "code",
      "metadata": {
        "id": "J6PGsAljZ63W"
      },
      "source": [
        "from keras.utils import np_utils\r\n",
        "\r\n",
        "# X_test = np.array(X_test).reshape(-1, IMG_SIZE, IMG_SIZE, 1) \r\n",
        "# X_test=X_test.astype('float')\r\n",
        "# X_test=X_test/ 255 \r\n",
        "\r\n",
        "# y_test = np_utils.to_categorical(y_test)\r\n"
      ],
      "execution_count": 149,
      "outputs": []
    },
    {
      "cell_type": "code",
      "metadata": {
        "id": "FYZJrCGZed6u"
      },
      "source": [
        "from keras.models import Sequential\r\n",
        "from keras.layers import Dense\r\n",
        "from keras.models import model_from_json\r\n",
        "import numpy\r\n",
        "\r\n",
        "\r\n",
        "# json_file = open('model.json', 'r')\r\n",
        "# loaded_model_json = json_file.read()\r\n",
        "# json_file.close()\r\n",
        "# loaded_model = model_from_json(loaded_model_json)\r\n",
        "# loaded_model.load_weights(\"model.h5\")\r\n",
        "# print(\"Loaded model from disk\")"
      ],
      "execution_count": 150,
      "outputs": []
    },
    {
      "cell_type": "code",
      "metadata": {
        "id": "29jlqgCBfZGi"
      },
      "source": [
        "# loaded_model.compile(loss='categorical_crossentropy', optimizer='rmsprop', metrics=['accuracy'])"
      ],
      "execution_count": 151,
      "outputs": []
    },
    {
      "cell_type": "code",
      "metadata": {
        "id": "qh9t1BcqZDAs"
      },
      "source": [
        "# y_new = loaded_model.predict([df,X_test])"
      ],
      "execution_count": 152,
      "outputs": []
    },
    {
      "cell_type": "code",
      "metadata": {
        "id": "EGB4E2uMZmWT"
      },
      "source": [
        "# results = np.argmax(y_new,axis=1)\r\n",
        "# results"
      ],
      "execution_count": 153,
      "outputs": []
    },
    {
      "cell_type": "code",
      "metadata": {
        "id": "lxPX85sQztS5"
      },
      "source": [
        "# min_max_scaler = preprocessing.MinMaxScaler()   #normalizing the data"
      ],
      "execution_count": 154,
      "outputs": []
    },
    {
      "cell_type": "code",
      "metadata": {
        "id": "MlqJp3UtxI0R"
      },
      "source": [
        "def feature_extraction(training_data):\r\n",
        "  X_test=[]\r\n",
        "  y_test=[]\r\n",
        "\r\n",
        "  for features, label in training_data:\r\n",
        "    X_test.append(features)\r\n",
        "    y_test.append(label)\r\n",
        "\r\n",
        "  y_test=np.array(y_test)\r\n",
        "  X_test = np.array(X_test).reshape(-1, IMG_SIZE, IMG_SIZE, 1) \r\n",
        "  X_test=X_test.astype('float')\r\n",
        "  X_test=X_test/ 255 \r\n",
        "  y_test = np_utils.to_categorical(y_test)\r\n",
        "\r\n",
        "\r\n",
        "  \r\n",
        "\r\n",
        "  return X_test,y_test\r\n",
        "\r\n",
        "\r\n",
        "\r\n",
        "def pre_processing(pose_path,angles_path):\r\n",
        "  df_angle = pd.read_csv(angles_path,names=['images','angles','distance'])\r\n",
        "  df_angle = df_angle.fillna(0)\r\n",
        "  df_test=pd.read_csv(pose_path) \r\n",
        "  df_angle['path'] = df_test['Image']\r\n",
        "  df=pd.merge(df_test,df_angle, how='left', left_on='Image', right_on='path')   #merge both datasets and duplicates will be removed automatically  \r\n",
        "  df=df.fillna(0)\r\n",
        "  return df"
      ],
      "execution_count": 155,
      "outputs": []
    },
    {
      "cell_type": "code",
      "metadata": {
        "id": "j6tnV_SgtJ1E"
      },
      "source": [
        "training_data = []\r\n",
        "temp_array=[]\r\n",
        "\r\n",
        "def create_training_data(data,cate):\r\n",
        "    for category in cate:\r\n",
        "        \r\n",
        "        path = os.path.join(data,category)\r\n",
        "        class_num = cate.index(category)\r\n",
        "        for img in os.listdir(path):\r\n",
        "            try :\r\n",
        "                img_array = cv2.imread(os.path.join(path, img), cv2.IMREAD_GRAYSCALE)\r\n",
        "                temp_array.append(img_array)\r\n",
        "                new_array = cv2.resize(img_array, (IMG_SIZE, IMG_SIZE))\r\n",
        "                training_data.append([new_array, class_num])\r\n",
        "            except Exception as e:\r\n",
        "                pass\r\n",
        "\r\n",
        "    return training_data          "
      ],
      "execution_count": 156,
      "outputs": []
    },
    {
      "cell_type": "code",
      "metadata": {
        "id": "tDF_0TimZvoO"
      },
      "source": [
        "\r\n",
        "def convolutional_neural_network(dataset_path,pose_path,angles_path):\r\n",
        "  data=r\"/content/\"+dataset_path+'/'\r\n",
        "  cate =[dataset_path]\r\n",
        "\r\n",
        "  training_data = create_training_data(data,cate)\r\n",
        "  \r\n",
        "  df =pre_processing(pose_path,angles_path)\r\n",
        "  df=df.drop(['Image','Class','images','path'],axis=1)\r\n",
        "  \r\n",
        "  # min_max_scaler = preprocessing.MinMaxScaler()   #normalizing the data\r\n",
        "  # df = min_max_scaler.fit_transform(df)\r\n",
        "  # print(df)  \r\n",
        "\r\n",
        "  X_test,y_test =feature_extraction(training_data)\r\n",
        "  \r\n",
        "  return X_test,df\r\n"
      ],
      "execution_count": 157,
      "outputs": []
    },
    {
      "cell_type": "code",
      "metadata": {
        "id": "nGhpa153ruvA"
      },
      "source": [
        "X_test,df = convolutional_neural_network('wajid','wajid_pose.csv','wajid_angle.csv')"
      ],
      "execution_count": 158,
      "outputs": []
    },
    {
      "cell_type": "code",
      "metadata": {
        "colab": {
          "base_uri": "https://localhost:8080/"
        },
        "id": "TOKYmYyRsGF7",
        "outputId": "2a3ce67a-c251-4a57-d18f-ce72d74237e1"
      },
      "source": [
        "json_file = open('model.json', 'r')\r\n",
        "loaded_model_json = json_file.read()\r\n",
        "json_file.close()\r\n",
        "\r\n",
        "\r\n",
        "\r\n",
        "\r\n",
        "loaded_model = model_from_json(loaded_model_json)\r\n",
        "loaded_model.load_weights(\"model.h5\")\r\n",
        "print(\"Loaded model from disk\")"
      ],
      "execution_count": 159,
      "outputs": [
        {
          "output_type": "stream",
          "text": [
            "Loaded model from disk\n"
          ],
          "name": "stdout"
        }
      ]
    },
    {
      "cell_type": "code",
      "metadata": {
        "id": "KazX2ImOscWo"
      },
      "source": [
        "loaded_model.compile(loss='categorical_crossentropy', optimizer='rmsprop', metrics=['accuracy'])"
      ],
      "execution_count": 160,
      "outputs": []
    },
    {
      "cell_type": "code",
      "metadata": {
        "colab": {
          "base_uri": "https://localhost:8080/",
          "height": 340
        },
        "id": "CuAt0FHS8FUH",
        "outputId": "f9bd84aa-682f-46c4-b462-7ee646eb126c"
      },
      "source": [
        "y_new = loaded_model.predict([df,X_test])"
      ],
      "execution_count": 161,
      "outputs": [
        {
          "output_type": "error",
          "ename": "ValueError",
          "evalue": "ignored",
          "traceback": [
            "\u001b[0;31m---------------------------------------------------------------------------\u001b[0m",
            "\u001b[0;31mValueError\u001b[0m                                Traceback (most recent call last)",
            "\u001b[0;32m<ipython-input-161-fb9a0077388c>\u001b[0m in \u001b[0;36m<module>\u001b[0;34m()\u001b[0m\n\u001b[0;32m----> 1\u001b[0;31m \u001b[0my_new\u001b[0m \u001b[0;34m=\u001b[0m \u001b[0mloaded_model\u001b[0m\u001b[0;34m.\u001b[0m\u001b[0mpredict\u001b[0m\u001b[0;34m(\u001b[0m\u001b[0;34m[\u001b[0m\u001b[0mdf\u001b[0m\u001b[0;34m,\u001b[0m\u001b[0mX_test\u001b[0m\u001b[0;34m]\u001b[0m\u001b[0;34m)\u001b[0m\u001b[0;34m\u001b[0m\u001b[0;34m\u001b[0m\u001b[0m\n\u001b[0m",
            "\u001b[0;32m/usr/local/lib/python3.6/dist-packages/tensorflow/python/keras/engine/training.py\u001b[0m in \u001b[0;36mpredict\u001b[0;34m(self, x, batch_size, verbose, steps, callbacks, max_queue_size, workers, use_multiprocessing)\u001b[0m\n\u001b[1;32m   1606\u001b[0m           \u001b[0muse_multiprocessing\u001b[0m\u001b[0;34m=\u001b[0m\u001b[0muse_multiprocessing\u001b[0m\u001b[0;34m,\u001b[0m\u001b[0;34m\u001b[0m\u001b[0;34m\u001b[0m\u001b[0m\n\u001b[1;32m   1607\u001b[0m           \u001b[0mmodel\u001b[0m\u001b[0;34m=\u001b[0m\u001b[0mself\u001b[0m\u001b[0;34m,\u001b[0m\u001b[0;34m\u001b[0m\u001b[0;34m\u001b[0m\u001b[0m\n\u001b[0;32m-> 1608\u001b[0;31m           steps_per_execution=self._steps_per_execution)\n\u001b[0m\u001b[1;32m   1609\u001b[0m \u001b[0;34m\u001b[0m\u001b[0m\n\u001b[1;32m   1610\u001b[0m       \u001b[0;31m# Container that configures and calls `tf.keras.Callback`s.\u001b[0m\u001b[0;34m\u001b[0m\u001b[0;34m\u001b[0m\u001b[0;34m\u001b[0m\u001b[0m\n",
            "\u001b[0;32m/usr/local/lib/python3.6/dist-packages/tensorflow/python/keras/engine/data_adapter.py\u001b[0m in \u001b[0;36m__init__\u001b[0;34m(self, x, y, sample_weight, batch_size, steps_per_epoch, initial_epoch, epochs, shuffle, class_weight, max_queue_size, workers, use_multiprocessing, model, steps_per_execution)\u001b[0m\n\u001b[1;32m   1110\u001b[0m         \u001b[0muse_multiprocessing\u001b[0m\u001b[0;34m=\u001b[0m\u001b[0muse_multiprocessing\u001b[0m\u001b[0;34m,\u001b[0m\u001b[0;34m\u001b[0m\u001b[0;34m\u001b[0m\u001b[0m\n\u001b[1;32m   1111\u001b[0m         \u001b[0mdistribution_strategy\u001b[0m\u001b[0;34m=\u001b[0m\u001b[0mds_context\u001b[0m\u001b[0;34m.\u001b[0m\u001b[0mget_strategy\u001b[0m\u001b[0;34m(\u001b[0m\u001b[0;34m)\u001b[0m\u001b[0;34m,\u001b[0m\u001b[0;34m\u001b[0m\u001b[0;34m\u001b[0m\u001b[0m\n\u001b[0;32m-> 1112\u001b[0;31m         model=model)\n\u001b[0m\u001b[1;32m   1113\u001b[0m \u001b[0;34m\u001b[0m\u001b[0m\n\u001b[1;32m   1114\u001b[0m     \u001b[0mstrategy\u001b[0m \u001b[0;34m=\u001b[0m \u001b[0mds_context\u001b[0m\u001b[0;34m.\u001b[0m\u001b[0mget_strategy\u001b[0m\u001b[0;34m(\u001b[0m\u001b[0;34m)\u001b[0m\u001b[0;34m\u001b[0m\u001b[0;34m\u001b[0m\u001b[0m\n",
            "\u001b[0;32m/usr/local/lib/python3.6/dist-packages/tensorflow/python/keras/engine/data_adapter.py\u001b[0m in \u001b[0;36m__init__\u001b[0;34m(self, x, y, sample_weights, sample_weight_modes, batch_size, epochs, steps, shuffle, **kwargs)\u001b[0m\n\u001b[1;32m    272\u001b[0m \u001b[0;34m\u001b[0m\u001b[0m\n\u001b[1;32m    273\u001b[0m     \u001b[0mnum_samples\u001b[0m \u001b[0;34m=\u001b[0m \u001b[0mset\u001b[0m\u001b[0;34m(\u001b[0m\u001b[0mint\u001b[0m\u001b[0;34m(\u001b[0m\u001b[0mi\u001b[0m\u001b[0;34m.\u001b[0m\u001b[0mshape\u001b[0m\u001b[0;34m[\u001b[0m\u001b[0;36m0\u001b[0m\u001b[0;34m]\u001b[0m\u001b[0;34m)\u001b[0m \u001b[0;32mfor\u001b[0m \u001b[0mi\u001b[0m \u001b[0;32min\u001b[0m \u001b[0mnest\u001b[0m\u001b[0;34m.\u001b[0m\u001b[0mflatten\u001b[0m\u001b[0;34m(\u001b[0m\u001b[0minputs\u001b[0m\u001b[0;34m)\u001b[0m\u001b[0;34m)\u001b[0m\u001b[0;34m.\u001b[0m\u001b[0mpop\u001b[0m\u001b[0;34m(\u001b[0m\u001b[0;34m)\u001b[0m\u001b[0;34m\u001b[0m\u001b[0;34m\u001b[0m\u001b[0m\n\u001b[0;32m--> 274\u001b[0;31m     \u001b[0m_check_data_cardinality\u001b[0m\u001b[0;34m(\u001b[0m\u001b[0minputs\u001b[0m\u001b[0;34m)\u001b[0m\u001b[0;34m\u001b[0m\u001b[0;34m\u001b[0m\u001b[0m\n\u001b[0m\u001b[1;32m    275\u001b[0m \u001b[0;34m\u001b[0m\u001b[0m\n\u001b[1;32m    276\u001b[0m     \u001b[0;31m# If batch_size is not passed but steps is, calculate from the input data.\u001b[0m\u001b[0;34m\u001b[0m\u001b[0;34m\u001b[0m\u001b[0;34m\u001b[0m\u001b[0m\n",
            "\u001b[0;32m/usr/local/lib/python3.6/dist-packages/tensorflow/python/keras/engine/data_adapter.py\u001b[0m in \u001b[0;36m_check_data_cardinality\u001b[0;34m(data)\u001b[0m\n\u001b[1;32m   1527\u001b[0m           label, \", \".join(str(i.shape[0]) for i in nest.flatten(single_data)))\n\u001b[1;32m   1528\u001b[0m     \u001b[0mmsg\u001b[0m \u001b[0;34m+=\u001b[0m \u001b[0;34m\"Make sure all arrays contain the same number of samples.\"\u001b[0m\u001b[0;34m\u001b[0m\u001b[0;34m\u001b[0m\u001b[0m\n\u001b[0;32m-> 1529\u001b[0;31m     \u001b[0;32mraise\u001b[0m \u001b[0mValueError\u001b[0m\u001b[0;34m(\u001b[0m\u001b[0mmsg\u001b[0m\u001b[0;34m)\u001b[0m\u001b[0;34m\u001b[0m\u001b[0;34m\u001b[0m\u001b[0m\n\u001b[0m\u001b[1;32m   1530\u001b[0m \u001b[0;34m\u001b[0m\u001b[0m\n\u001b[1;32m   1531\u001b[0m \u001b[0;34m\u001b[0m\u001b[0m\n",
            "\u001b[0;31mValueError\u001b[0m: Data cardinality is ambiguous:\n  x sizes: 165, 134\nMake sure all arrays contain the same number of samples."
          ]
        }
      ]
    },
    {
      "cell_type": "code",
      "metadata": {
        "id": "1oxQo-R28KBA"
      },
      "source": [
        "results = np.argmax(y_new,axis=1)\r\n",
        "results"
      ],
      "execution_count": null,
      "outputs": []
    },
    {
      "cell_type": "code",
      "metadata": {
        "colab": {
          "base_uri": "https://localhost:8080/"
        },
        "id": "topYQglK8gbj",
        "outputId": "75545438-b898-4bf6-eb61-48ddbac22b74"
      },
      "source": [
        "len(X_test)"
      ],
      "execution_count": 164,
      "outputs": [
        {
          "output_type": "execute_result",
          "data": {
            "text/plain": [
              "134"
            ]
          },
          "metadata": {
            "tags": []
          },
          "execution_count": 164
        }
      ]
    },
    {
      "cell_type": "code",
      "metadata": {
        "id": "XvBYjFFe8jbM"
      },
      "source": [
        "df = pd.read_csv('wajid_pose.csv')"
      ],
      "execution_count": 165,
      "outputs": []
    },
    {
      "cell_type": "code",
      "metadata": {
        "colab": {
          "base_uri": "https://localhost:8080/"
        },
        "id": "RSyUzvVt8uGd",
        "outputId": "0de993fd-92c8-476d-cc1e-84f76bc694d9"
      },
      "source": [
        "df.shape"
      ],
      "execution_count": 166,
      "outputs": [
        {
          "output_type": "execute_result",
          "data": {
            "text/plain": [
              "(165, 19)"
            ]
          },
          "metadata": {
            "tags": []
          },
          "execution_count": 166
        }
      ]
    },
    {
      "cell_type": "code",
      "metadata": {
        "id": "Du2sfj0e8vDB"
      },
      "source": [
        ""
      ],
      "execution_count": null,
      "outputs": []
    }
  ]
}