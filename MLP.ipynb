{
  "nbformat": 4,
  "nbformat_minor": 0,
  "metadata": {
    "colab": {
      "name": "Untitled77.ipynb",
      "provenance": [],
      "collapsed_sections": [],
      "include_colab_link": true
    },
    "kernelspec": {
      "name": "python3",
      "display_name": "Python 3"
    }
  },
  "cells": [
    {
      "cell_type": "markdown",
      "metadata": {
        "id": "view-in-github",
        "colab_type": "text"
      },
      "source": [
        "<a href=\"https://colab.research.google.com/github/Hamza1122/Pose_Estimation_Yolo_Points/blob/main/Untitled77.ipynb\" target=\"_parent\"><img src=\"https://colab.research.google.com/assets/colab-badge.svg\" alt=\"Open In Colab\"/></a>"
      ]
    },
    {
      "cell_type": "code",
      "metadata": {
        "id": "ewhnfs_orRSl"
      },
      "source": [
        "#importing all required libraries\n",
        "import keras\n",
        "import pandas as pd\n",
        "import numpy as np\n",
        "\n",
        "import seaborn as sns\n",
        "\n",
        "import matplotlib.pyplot as plt\n",
        "import sklearn.metrics as metrics\n",
        "\n",
        "\n",
        "\n",
        "from keras.models import Model\n",
        "\n",
        "from keras.layers import *\n",
        "from keras import optimizers\n",
        "from pprint import pprint\n",
        "\n",
        "\n",
        "\n",
        "from sklearn.model_selection import train_test_split\n",
        "from sklearn.metrics import classification_report, confusion_matrix \n"
      ],
      "execution_count": 1,
      "outputs": []
    },
    {
      "cell_type": "code",
      "metadata": {
        "id": "4MfMxCKdrVtu"
      },
      "source": [
        "df=pd.read_csv('pose.csv')  #pose dataset loading\n",
        "df1=pd.read_csv('angles.csv') #angles datatset loading"
      ],
      "execution_count": 2,
      "outputs": []
    },
    {
      "cell_type": "code",
      "metadata": {
        "id": "5EQ0pqA-rnkl",
        "colab": {
          "base_uri": "https://localhost:8080/",
          "height": 368
        },
        "outputId": "94fc495b-aa64-40c7-edd8-3f774dfcb28f"
      },
      "source": [
        "df.head(10)    #displaying 10 rows of a dataset"
      ],
      "execution_count": 3,
      "outputs": [
        {
          "output_type": "execute_result",
          "data": {
            "text/html": [
              "<div>\n",
              "<style scoped>\n",
              "    .dataframe tbody tr th:only-of-type {\n",
              "        vertical-align: middle;\n",
              "    }\n",
              "\n",
              "    .dataframe tbody tr th {\n",
              "        vertical-align: top;\n",
              "    }\n",
              "\n",
              "    .dataframe thead th {\n",
              "        text-align: right;\n",
              "    }\n",
              "</style>\n",
              "<table border=\"1\" class=\"dataframe\">\n",
              "  <thead>\n",
              "    <tr style=\"text-align: right;\">\n",
              "      <th></th>\n",
              "      <th>Image</th>\n",
              "      <th>Class</th>\n",
              "      <th>Neck_to_RShoulder</th>\n",
              "      <th>Neck_to_LShoulder</th>\n",
              "      <th>RShoulder_to_RElbow</th>\n",
              "      <th>RElbow_to_RWrist</th>\n",
              "      <th>LShoulder_to_LElbow</th>\n",
              "      <th>LElbow_to_LWrist</th>\n",
              "      <th>Neck_to_RHip</th>\n",
              "      <th>RHip_to_RKnee</th>\n",
              "      <th>RKnee_to_RAnkle</th>\n",
              "      <th>Neck_to_LHip</th>\n",
              "      <th>LHip_to_LKnee</th>\n",
              "      <th>LKnee_to_LAnkle</th>\n",
              "      <th>Neck_to_Nose</th>\n",
              "      <th>Nose_to_REye</th>\n",
              "      <th>REye_to_REar</th>\n",
              "      <th>Nose_to_LEye</th>\n",
              "      <th>LEye_to_LEar</th>\n",
              "    </tr>\n",
              "  </thead>\n",
              "  <tbody>\n",
              "    <tr>\n",
              "      <th>0</th>\n",
              "      <td>img\\Ahmed0.jpg</td>\n",
              "      <td>Ahmed</td>\n",
              "      <td>8</td>\n",
              "      <td>14</td>\n",
              "      <td>14</td>\n",
              "      <td>16</td>\n",
              "      <td>7</td>\n",
              "      <td>14</td>\n",
              "      <td>28</td>\n",
              "      <td>13</td>\n",
              "      <td>28</td>\n",
              "      <td>28</td>\n",
              "      <td>13</td>\n",
              "      <td>28</td>\n",
              "      <td>0</td>\n",
              "      <td>0</td>\n",
              "      <td>0</td>\n",
              "      <td>0</td>\n",
              "      <td>0</td>\n",
              "    </tr>\n",
              "    <tr>\n",
              "      <th>1</th>\n",
              "      <td>img\\Ahmed1.jpg</td>\n",
              "      <td>Ahmed</td>\n",
              "      <td>0</td>\n",
              "      <td>14</td>\n",
              "      <td>14</td>\n",
              "      <td>14</td>\n",
              "      <td>7</td>\n",
              "      <td>15</td>\n",
              "      <td>28</td>\n",
              "      <td>13</td>\n",
              "      <td>28</td>\n",
              "      <td>28</td>\n",
              "      <td>27</td>\n",
              "      <td>14</td>\n",
              "      <td>0</td>\n",
              "      <td>0</td>\n",
              "      <td>0</td>\n",
              "      <td>0</td>\n",
              "      <td>0</td>\n",
              "    </tr>\n",
              "    <tr>\n",
              "      <th>2</th>\n",
              "      <td>img\\Ahmed10.jpg</td>\n",
              "      <td>Ahmed</td>\n",
              "      <td>0</td>\n",
              "      <td>8</td>\n",
              "      <td>14</td>\n",
              "      <td>15</td>\n",
              "      <td>16</td>\n",
              "      <td>14</td>\n",
              "      <td>28</td>\n",
              "      <td>27</td>\n",
              "      <td>14</td>\n",
              "      <td>28</td>\n",
              "      <td>27</td>\n",
              "      <td>14</td>\n",
              "      <td>0</td>\n",
              "      <td>0</td>\n",
              "      <td>0</td>\n",
              "      <td>0</td>\n",
              "      <td>16</td>\n",
              "    </tr>\n",
              "    <tr>\n",
              "      <th>3</th>\n",
              "      <td>img\\Ahmed100.jpg</td>\n",
              "      <td>Ahmed</td>\n",
              "      <td>15</td>\n",
              "      <td>15</td>\n",
              "      <td>15</td>\n",
              "      <td>14</td>\n",
              "      <td>27</td>\n",
              "      <td>16</td>\n",
              "      <td>28</td>\n",
              "      <td>28</td>\n",
              "      <td>28</td>\n",
              "      <td>27</td>\n",
              "      <td>28</td>\n",
              "      <td>28</td>\n",
              "      <td>20</td>\n",
              "      <td>15</td>\n",
              "      <td>14</td>\n",
              "      <td>14</td>\n",
              "      <td>31</td>\n",
              "    </tr>\n",
              "    <tr>\n",
              "      <th>4</th>\n",
              "      <td>img\\Ahmed101.jpg</td>\n",
              "      <td>Ahmed</td>\n",
              "      <td>15</td>\n",
              "      <td>7</td>\n",
              "      <td>15</td>\n",
              "      <td>14</td>\n",
              "      <td>13</td>\n",
              "      <td>16</td>\n",
              "      <td>28</td>\n",
              "      <td>28</td>\n",
              "      <td>28</td>\n",
              "      <td>27</td>\n",
              "      <td>28</td>\n",
              "      <td>42</td>\n",
              "      <td>20</td>\n",
              "      <td>20</td>\n",
              "      <td>29</td>\n",
              "      <td>14</td>\n",
              "      <td>31</td>\n",
              "    </tr>\n",
              "    <tr>\n",
              "      <th>5</th>\n",
              "      <td>img\\Ahmed102.jpg</td>\n",
              "      <td>Ahmed</td>\n",
              "      <td>15</td>\n",
              "      <td>7</td>\n",
              "      <td>15</td>\n",
              "      <td>14</td>\n",
              "      <td>13</td>\n",
              "      <td>16</td>\n",
              "      <td>28</td>\n",
              "      <td>28</td>\n",
              "      <td>28</td>\n",
              "      <td>41</td>\n",
              "      <td>15</td>\n",
              "      <td>42</td>\n",
              "      <td>20</td>\n",
              "      <td>15</td>\n",
              "      <td>14</td>\n",
              "      <td>26</td>\n",
              "      <td>28</td>\n",
              "    </tr>\n",
              "    <tr>\n",
              "      <th>6</th>\n",
              "      <td>img\\Ahmed103.jpg</td>\n",
              "      <td>Ahmed</td>\n",
              "      <td>15</td>\n",
              "      <td>7</td>\n",
              "      <td>15</td>\n",
              "      <td>14</td>\n",
              "      <td>13</td>\n",
              "      <td>16</td>\n",
              "      <td>28</td>\n",
              "      <td>28</td>\n",
              "      <td>28</td>\n",
              "      <td>41</td>\n",
              "      <td>15</td>\n",
              "      <td>42</td>\n",
              "      <td>15</td>\n",
              "      <td>7</td>\n",
              "      <td>14</td>\n",
              "      <td>22</td>\n",
              "      <td>15</td>\n",
              "    </tr>\n",
              "    <tr>\n",
              "      <th>7</th>\n",
              "      <td>img\\Ahmed104.jpg</td>\n",
              "      <td>Ahmed</td>\n",
              "      <td>15</td>\n",
              "      <td>7</td>\n",
              "      <td>15</td>\n",
              "      <td>14</td>\n",
              "      <td>13</td>\n",
              "      <td>29</td>\n",
              "      <td>41</td>\n",
              "      <td>28</td>\n",
              "      <td>29</td>\n",
              "      <td>41</td>\n",
              "      <td>14</td>\n",
              "      <td>42</td>\n",
              "      <td>15</td>\n",
              "      <td>7</td>\n",
              "      <td>14</td>\n",
              "      <td>0</td>\n",
              "      <td>20</td>\n",
              "    </tr>\n",
              "    <tr>\n",
              "      <th>8</th>\n",
              "      <td>img\\Ahmed105.jpg</td>\n",
              "      <td>Ahmed</td>\n",
              "      <td>15</td>\n",
              "      <td>7</td>\n",
              "      <td>15</td>\n",
              "      <td>14</td>\n",
              "      <td>13</td>\n",
              "      <td>29</td>\n",
              "      <td>41</td>\n",
              "      <td>28</td>\n",
              "      <td>29</td>\n",
              "      <td>41</td>\n",
              "      <td>28</td>\n",
              "      <td>28</td>\n",
              "      <td>8</td>\n",
              "      <td>15</td>\n",
              "      <td>28</td>\n",
              "      <td>20</td>\n",
              "      <td>7</td>\n",
              "    </tr>\n",
              "    <tr>\n",
              "      <th>9</th>\n",
              "      <td>img\\Ahmed106.jpg</td>\n",
              "      <td>Ahmed</td>\n",
              "      <td>15</td>\n",
              "      <td>7</td>\n",
              "      <td>15</td>\n",
              "      <td>14</td>\n",
              "      <td>28</td>\n",
              "      <td>14</td>\n",
              "      <td>41</td>\n",
              "      <td>28</td>\n",
              "      <td>29</td>\n",
              "      <td>41</td>\n",
              "      <td>28</td>\n",
              "      <td>28</td>\n",
              "      <td>8</td>\n",
              "      <td>8</td>\n",
              "      <td>16</td>\n",
              "      <td>20</td>\n",
              "      <td>7</td>\n",
              "    </tr>\n",
              "  </tbody>\n",
              "</table>\n",
              "</div>"
            ],
            "text/plain": [
              "              Image  Class  ...  Nose_to_LEye  LEye_to_LEar\n",
              "0    img\\Ahmed0.jpg  Ahmed  ...             0             0\n",
              "1    img\\Ahmed1.jpg  Ahmed  ...             0             0\n",
              "2   img\\Ahmed10.jpg  Ahmed  ...             0            16\n",
              "3  img\\Ahmed100.jpg  Ahmed  ...            14            31\n",
              "4  img\\Ahmed101.jpg  Ahmed  ...            14            31\n",
              "5  img\\Ahmed102.jpg  Ahmed  ...            26            28\n",
              "6  img\\Ahmed103.jpg  Ahmed  ...            22            15\n",
              "7  img\\Ahmed104.jpg  Ahmed  ...             0            20\n",
              "8  img\\Ahmed105.jpg  Ahmed  ...            20             7\n",
              "9  img\\Ahmed106.jpg  Ahmed  ...            20             7\n",
              "\n",
              "[10 rows x 19 columns]"
            ]
          },
          "metadata": {
            "tags": []
          },
          "execution_count": 3
        }
      ]
    },
    {
      "cell_type": "code",
      "metadata": {
        "id": "9vCmNVW3lqZR",
        "colab": {
          "base_uri": "https://localhost:8080/",
          "height": 348
        },
        "outputId": "65367cfb-dfcb-4033-e33f-09498f276141"
      },
      "source": [
        "df1.head(10)   #displaying distance rows"
      ],
      "execution_count": 4,
      "outputs": [
        {
          "output_type": "execute_result",
          "data": {
            "text/html": [
              "<div>\n",
              "<style scoped>\n",
              "    .dataframe tbody tr th:only-of-type {\n",
              "        vertical-align: middle;\n",
              "    }\n",
              "\n",
              "    .dataframe tbody tr th {\n",
              "        vertical-align: top;\n",
              "    }\n",
              "\n",
              "    .dataframe thead th {\n",
              "        text-align: right;\n",
              "    }\n",
              "</style>\n",
              "<table border=\"1\" class=\"dataframe\">\n",
              "  <thead>\n",
              "    <tr style=\"text-align: right;\">\n",
              "      <th></th>\n",
              "      <th>images</th>\n",
              "      <th>angles</th>\n",
              "      <th>distance</th>\n",
              "    </tr>\n",
              "  </thead>\n",
              "  <tbody>\n",
              "    <tr>\n",
              "      <th>0</th>\n",
              "      <td>img\\Ahmed0.jpg</td>\n",
              "      <td>173.203364</td>\n",
              "      <td>0.658186</td>\n",
              "    </tr>\n",
              "    <tr>\n",
              "      <th>1</th>\n",
              "      <td>img\\Ahmed1.jpg</td>\n",
              "      <td>172.653846</td>\n",
              "      <td>0.660281</td>\n",
              "    </tr>\n",
              "    <tr>\n",
              "      <th>2</th>\n",
              "      <td>img\\Ahmed10.jpg</td>\n",
              "      <td>172.050827</td>\n",
              "      <td>0.662595</td>\n",
              "    </tr>\n",
              "    <tr>\n",
              "      <th>3</th>\n",
              "      <td>img\\Ahmed100.jpg</td>\n",
              "      <td>168.183585</td>\n",
              "      <td>0.677831</td>\n",
              "    </tr>\n",
              "    <tr>\n",
              "      <th>4</th>\n",
              "      <td>img\\Ahmed101.jpg</td>\n",
              "      <td>167.413389</td>\n",
              "      <td>0.680949</td>\n",
              "    </tr>\n",
              "    <tr>\n",
              "      <th>5</th>\n",
              "      <td>img\\Ahmed102.jpg</td>\n",
              "      <td>167.661262</td>\n",
              "      <td>0.679942</td>\n",
              "    </tr>\n",
              "    <tr>\n",
              "      <th>6</th>\n",
              "      <td>img\\Ahmed103.jpg</td>\n",
              "      <td>166.819833</td>\n",
              "      <td>0.683372</td>\n",
              "    </tr>\n",
              "    <tr>\n",
              "      <th>7</th>\n",
              "      <td>img\\Ahmed104.jpg</td>\n",
              "      <td>166.314019</td>\n",
              "      <td>0.685450</td>\n",
              "    </tr>\n",
              "    <tr>\n",
              "      <th>8</th>\n",
              "      <td>img\\Ahmed105.jpg</td>\n",
              "      <td>165.902660</td>\n",
              "      <td>0.687150</td>\n",
              "    </tr>\n",
              "    <tr>\n",
              "      <th>9</th>\n",
              "      <td>img\\Ahmed106.jpg</td>\n",
              "      <td>166.015987</td>\n",
              "      <td>0.686681</td>\n",
              "    </tr>\n",
              "  </tbody>\n",
              "</table>\n",
              "</div>"
            ],
            "text/plain": [
              "             images      angles  distance\n",
              "0    img\\Ahmed0.jpg  173.203364  0.658186\n",
              "1    img\\Ahmed1.jpg  172.653846  0.660281\n",
              "2   img\\Ahmed10.jpg  172.050827  0.662595\n",
              "3  img\\Ahmed100.jpg  168.183585  0.677831\n",
              "4  img\\Ahmed101.jpg  167.413389  0.680949\n",
              "5  img\\Ahmed102.jpg  167.661262  0.679942\n",
              "6  img\\Ahmed103.jpg  166.819833  0.683372\n",
              "7  img\\Ahmed104.jpg  166.314019  0.685450\n",
              "8  img\\Ahmed105.jpg  165.902660  0.687150\n",
              "9  img\\Ahmed106.jpg  166.015987  0.686681"
            ]
          },
          "metadata": {
            "tags": []
          },
          "execution_count": 4
        }
      ]
    },
    {
      "cell_type": "code",
      "metadata": {
        "id": "qgl4evGjl1MR",
        "colab": {
          "base_uri": "https://localhost:8080/"
        },
        "outputId": "15e22dfe-9819-4f29-a10d-50a879596343"
      },
      "source": [
        "df1.shape  #size of dataset\n"
      ],
      "execution_count": 5,
      "outputs": [
        {
          "output_type": "execute_result",
          "data": {
            "text/plain": [
              "(1260, 3)"
            ]
          },
          "metadata": {
            "tags": []
          },
          "execution_count": 5
        }
      ]
    },
    {
      "cell_type": "code",
      "metadata": {
        "id": "X60rnhI3ym7j",
        "colab": {
          "base_uri": "https://localhost:8080/"
        },
        "outputId": "f7b348f7-3a46-43fa-beb0-3d9fde8f24ae"
      },
      "source": [
        "df.shape #size of dataset"
      ],
      "execution_count": 6,
      "outputs": [
        {
          "output_type": "execute_result",
          "data": {
            "text/plain": [
              "(1260, 19)"
            ]
          },
          "metadata": {
            "tags": []
          },
          "execution_count": 6
        }
      ]
    },
    {
      "cell_type": "code",
      "metadata": {
        "colab": {
          "base_uri": "https://localhost:8080/",
          "height": 277
        },
        "id": "2eOzYx8QWtK6",
        "outputId": "6bc7768b-bb38-416b-9e0b-728a345ae195"
      },
      "source": [
        "colors = ['red'] \r\n",
        "plt.figsize=(20,20)\r\n",
        "plt.hist(df['Class'],rwidth=0.8,alpha=0.7,color = colors, label = colors)\r\n",
        "plt.grid(axis='y', alpha=0.75)\r\n",
        "plt.xlabel('Classes',fontsize=9)\r\n",
        "plt.ylabel('Frequency',fontsize=9)\r\n",
        "plt.xticks(fontsize=9)\r\n",
        "plt.yticks(fontsize=9)\r\n",
        "plt.ylabel('Frequency',fontsize=9)\r\n",
        "plt.show()\r\n",
        "\r\n"
      ],
      "execution_count": 7,
      "outputs": [
        {
          "output_type": "display_data",
          "data": {
            "image/png": "[encoded data removed]",
            "text/plain": [
              "<Figure size 432x288 with 1 Axes>"
            ]
          },
          "metadata": {
            "tags": [],
            "needs_background": "light"
          }
        }
      ]
    },
    {
      "cell_type": "code",
      "metadata": {
        "id": "4PnVnVbGxSAP"
      },
      "source": [
        "df=pd.merge(df,df1, how='left', left_on='Image', right_on='images')   #merge both datasets and duplicates will be removed automatically"
      ],
      "execution_count": 8,
      "outputs": []
    },
    {
      "cell_type": "code",
      "metadata": {
        "id": "sx5VxMJmrpHD",
        "colab": {
          "base_uri": "https://localhost:8080/",
          "height": 308
        },
        "outputId": "a53bf66d-0be3-4123-a3cd-92d7ea1f6704"
      },
      "source": [
        "df.describe()   #summary of dataset"
      ],
      "execution_count": 9,
      "outputs": [
        {
          "output_type": "execute_result",
          "data": {
            "text/html": [
              "<div>\n",
              "<style scoped>\n",
              "    .dataframe tbody tr th:only-of-type {\n",
              "        vertical-align: middle;\n",
              "    }\n",
              "\n",
              "    .dataframe tbody tr th {\n",
              "        vertical-align: top;\n",
              "    }\n",
              "\n",
              "    .dataframe thead th {\n",
              "        text-align: right;\n",
              "    }\n",
              "</style>\n",
              "<table border=\"1\" class=\"dataframe\">\n",
              "  <thead>\n",
              "    <tr style=\"text-align: right;\">\n",
              "      <th></th>\n",
              "      <th>Neck_to_RShoulder</th>\n",
              "      <th>Neck_to_LShoulder</th>\n",
              "      <th>RShoulder_to_RElbow</th>\n",
              "      <th>RElbow_to_RWrist</th>\n",
              "      <th>LShoulder_to_LElbow</th>\n",
              "      <th>LElbow_to_LWrist</th>\n",
              "      <th>Neck_to_RHip</th>\n",
              "      <th>RHip_to_RKnee</th>\n",
              "      <th>RKnee_to_RAnkle</th>\n",
              "      <th>Neck_to_LHip</th>\n",
              "      <th>LHip_to_LKnee</th>\n",
              "      <th>LKnee_to_LAnkle</th>\n",
              "      <th>Neck_to_Nose</th>\n",
              "      <th>Nose_to_REye</th>\n",
              "      <th>REye_to_REar</th>\n",
              "      <th>Nose_to_LEye</th>\n",
              "      <th>LEye_to_LEar</th>\n",
              "      <th>angles</th>\n",
              "      <th>distance</th>\n",
              "    </tr>\n",
              "  </thead>\n",
              "  <tbody>\n",
              "    <tr>\n",
              "      <th>count</th>\n",
              "      <td>1260.000000</td>\n",
              "      <td>1260.000000</td>\n",
              "      <td>1260.000000</td>\n",
              "      <td>1260.000000</td>\n",
              "      <td>1260.000000</td>\n",
              "      <td>1260.000000</td>\n",
              "      <td>1260.000000</td>\n",
              "      <td>1260.000000</td>\n",
              "      <td>1260.000000</td>\n",
              "      <td>1260.000000</td>\n",
              "      <td>1260.000000</td>\n",
              "      <td>1260.000000</td>\n",
              "      <td>1260.000000</td>\n",
              "      <td>1260.000000</td>\n",
              "      <td>1260.000000</td>\n",
              "      <td>1260.000000</td>\n",
              "      <td>1260.000000</td>\n",
              "      <td>1247.000000</td>\n",
              "      <td>1247.000000</td>\n",
              "    </tr>\n",
              "    <tr>\n",
              "      <th>mean</th>\n",
              "      <td>15.410317</td>\n",
              "      <td>14.673016</td>\n",
              "      <td>28.510317</td>\n",
              "      <td>24.302381</td>\n",
              "      <td>29.024603</td>\n",
              "      <td>23.010317</td>\n",
              "      <td>55.153175</td>\n",
              "      <td>37.260317</td>\n",
              "      <td>33.377778</td>\n",
              "      <td>55.976984</td>\n",
              "      <td>34.454762</td>\n",
              "      <td>32.921429</td>\n",
              "      <td>16.989683</td>\n",
              "      <td>14.260317</td>\n",
              "      <td>15.370635</td>\n",
              "      <td>14.858730</td>\n",
              "      <td>16.390476</td>\n",
              "      <td>127.287726</td>\n",
              "      <td>0.302515</td>\n",
              "    </tr>\n",
              "    <tr>\n",
              "      <th>std</th>\n",
              "      <td>8.180202</td>\n",
              "      <td>8.221288</td>\n",
              "      <td>16.202621</td>\n",
              "      <td>14.171025</td>\n",
              "      <td>14.516903</td>\n",
              "      <td>13.999003</td>\n",
              "      <td>25.428331</td>\n",
              "      <td>22.779682</td>\n",
              "      <td>20.294147</td>\n",
              "      <td>24.894700</td>\n",
              "      <td>16.861875</td>\n",
              "      <td>15.532876</td>\n",
              "      <td>12.395869</td>\n",
              "      <td>32.529361</td>\n",
              "      <td>30.422833</td>\n",
              "      <td>18.025859</td>\n",
              "      <td>21.709759</td>\n",
              "      <td>68.334256</td>\n",
              "      <td>6.266492</td>\n",
              "    </tr>\n",
              "    <tr>\n",
              "      <th>min</th>\n",
              "      <td>0.000000</td>\n",
              "      <td>0.000000</td>\n",
              "      <td>0.000000</td>\n",
              "      <td>0.000000</td>\n",
              "      <td>7.000000</td>\n",
              "      <td>0.000000</td>\n",
              "      <td>27.000000</td>\n",
              "      <td>13.000000</td>\n",
              "      <td>0.000000</td>\n",
              "      <td>27.000000</td>\n",
              "      <td>13.000000</td>\n",
              "      <td>0.000000</td>\n",
              "      <td>0.000000</td>\n",
              "      <td>0.000000</td>\n",
              "      <td>0.000000</td>\n",
              "      <td>0.000000</td>\n",
              "      <td>0.000000</td>\n",
              "      <td>-91.697013</td>\n",
              "      <td>-109.242595</td>\n",
              "    </tr>\n",
              "    <tr>\n",
              "      <th>25%</th>\n",
              "      <td>8.000000</td>\n",
              "      <td>8.000000</td>\n",
              "      <td>15.000000</td>\n",
              "      <td>14.000000</td>\n",
              "      <td>16.000000</td>\n",
              "      <td>14.000000</td>\n",
              "      <td>41.000000</td>\n",
              "      <td>28.000000</td>\n",
              "      <td>28.000000</td>\n",
              "      <td>41.000000</td>\n",
              "      <td>28.000000</td>\n",
              "      <td>28.000000</td>\n",
              "      <td>8.000000</td>\n",
              "      <td>0.000000</td>\n",
              "      <td>7.000000</td>\n",
              "      <td>0.000000</td>\n",
              "      <td>7.000000</td>\n",
              "      <td>126.974529</td>\n",
              "      <td>0.668772</td>\n",
              "    </tr>\n",
              "    <tr>\n",
              "      <th>50%</th>\n",
              "      <td>15.000000</td>\n",
              "      <td>15.000000</td>\n",
              "      <td>28.000000</td>\n",
              "      <td>27.500000</td>\n",
              "      <td>28.000000</td>\n",
              "      <td>16.000000</td>\n",
              "      <td>44.000000</td>\n",
              "      <td>28.000000</td>\n",
              "      <td>28.000000</td>\n",
              "      <td>55.000000</td>\n",
              "      <td>28.000000</td>\n",
              "      <td>28.000000</td>\n",
              "      <td>15.000000</td>\n",
              "      <td>8.000000</td>\n",
              "      <td>8.000000</td>\n",
              "      <td>14.000000</td>\n",
              "      <td>8.000000</td>\n",
              "      <td>159.895089</td>\n",
              "      <td>0.688429</td>\n",
              "    </tr>\n",
              "    <tr>\n",
              "      <th>75%</th>\n",
              "      <td>22.000000</td>\n",
              "      <td>20.000000</td>\n",
              "      <td>42.000000</td>\n",
              "      <td>29.000000</td>\n",
              "      <td>32.000000</td>\n",
              "      <td>28.000000</td>\n",
              "      <td>70.000000</td>\n",
              "      <td>42.000000</td>\n",
              "      <td>42.000000</td>\n",
              "      <td>70.000000</td>\n",
              "      <td>42.000000</td>\n",
              "      <td>42.000000</td>\n",
              "      <td>27.000000</td>\n",
              "      <td>15.000000</td>\n",
              "      <td>16.000000</td>\n",
              "      <td>16.000000</td>\n",
              "      <td>20.000000</td>\n",
              "      <td>168.457787</td>\n",
              "      <td>0.770314</td>\n",
              "    </tr>\n",
              "    <tr>\n",
              "      <th>max</th>\n",
              "      <td>40.000000</td>\n",
              "      <td>41.000000</td>\n",
              "      <td>125.000000</td>\n",
              "      <td>114.000000</td>\n",
              "      <td>158.000000</td>\n",
              "      <td>115.000000</td>\n",
              "      <td>181.000000</td>\n",
              "      <td>302.000000</td>\n",
              "      <td>275.000000</td>\n",
              "      <td>167.000000</td>\n",
              "      <td>126.000000</td>\n",
              "      <td>112.000000</td>\n",
              "      <td>139.000000</td>\n",
              "      <td>508.000000</td>\n",
              "      <td>343.000000</td>\n",
              "      <td>250.000000</td>\n",
              "      <td>238.000000</td>\n",
              "      <td>173.203364</td>\n",
              "      <td>98.986385</td>\n",
              "    </tr>\n",
              "  </tbody>\n",
              "</table>\n",
              "</div>"
            ],
            "text/plain": [
              "       Neck_to_RShoulder  Neck_to_LShoulder  ...       angles     distance\n",
              "count        1260.000000        1260.000000  ...  1247.000000  1247.000000\n",
              "mean           15.410317          14.673016  ...   127.287726     0.302515\n",
              "std             8.180202           8.221288  ...    68.334256     6.266492\n",
              "min             0.000000           0.000000  ...   -91.697013  -109.242595\n",
              "25%             8.000000           8.000000  ...   126.974529     0.668772\n",
              "50%            15.000000          15.000000  ...   159.895089     0.688429\n",
              "75%            22.000000          20.000000  ...   168.457787     0.770314\n",
              "max            40.000000          41.000000  ...   173.203364    98.986385\n",
              "\n",
              "[8 rows x 19 columns]"
            ]
          },
          "metadata": {
            "tags": []
          },
          "execution_count": 9
        }
      ]
    },
    {
      "cell_type": "code",
      "metadata": {
        "id": "9J0ruRuKrr-v",
        "colab": {
          "base_uri": "https://localhost:8080/"
        },
        "outputId": "3e66f31f-fa93-406d-9b54-2e2ebb2d65e0"
      },
      "source": [
        "df.columns"
      ],
      "execution_count": 10,
      "outputs": [
        {
          "output_type": "execute_result",
          "data": {
            "text/plain": [
              "Index(['Image', 'Class', 'Neck_to_RShoulder', 'Neck_to_LShoulder',\n",
              "       'RShoulder_to_RElbow', 'RElbow_to_RWrist', 'LShoulder_to_LElbow',\n",
              "       'LElbow_to_LWrist', 'Neck_to_RHip', 'RHip_to_RKnee', 'RKnee_to_RAnkle',\n",
              "       'Neck_to_LHip', 'LHip_to_LKnee', 'LKnee_to_LAnkle', 'Neck_to_Nose',\n",
              "       'Nose_to_REye', 'REye_to_REar', 'Nose_to_LEye', 'LEye_to_LEar',\n",
              "       'images', 'angles', 'distance'],\n",
              "      dtype='object')"
            ]
          },
          "metadata": {
            "tags": []
          },
          "execution_count": 10
        }
      ]
    },
    {
      "cell_type": "code",
      "metadata": {
        "id": "Qsj2MMBxxhW7"
      },
      "source": [
        "del df['Image']\n",
        "del df['images']"
      ],
      "execution_count": 11,
      "outputs": []
    },
    {
      "cell_type": "code",
      "metadata": {
        "id": "MK4jOYfqVADX"
      },
      "source": [
        "df=df.fillna(0)"
      ],
      "execution_count": 12,
      "outputs": []
    },
    {
      "cell_type": "code",
      "metadata": {
        "id": "PBf8kW1Udyd5",
        "colab": {
          "base_uri": "https://localhost:8080/"
        },
        "outputId": "e666f286-5ff5-46da-98dd-2ecd1fe90771"
      },
      "source": [
        "df['Class'].unique()"
      ],
      "execution_count": 13,
      "outputs": [
        {
          "output_type": "execute_result",
          "data": {
            "text/plain": [
              "array(['Ahmed', 'Amman', 'Hannan', 'Sajid', 'Sami', 'Shumile', 'Steve',\n",
              "       'Wajid'], dtype=object)"
            ]
          },
          "metadata": {
            "tags": []
          },
          "execution_count": 13
        }
      ]
    },
    {
      "cell_type": "code",
      "metadata": {
        "id": "HmF9R6lOr2wa"
      },
      "source": [
        "#df['Class']=df['Class'].replace({'Sami': '1', 'Ali': '2', 'Feroz': '3','Hamza':'4','Shumile':'5'})\n",
        "#df['Class'].unique()"
      ],
      "execution_count": 14,
      "outputs": []
    },
    {
      "cell_type": "code",
      "metadata": {
        "id": "gEwxZSqWsYzv",
        "colab": {
          "base_uri": "https://localhost:8080/"
        },
        "outputId": "93b7b4df-41d7-4b8a-d53c-81e994263b62"
      },
      "source": [
        "df.dtypes    #datatypes of each columns in a dataset"
      ],
      "execution_count": 15,
      "outputs": [
        {
          "output_type": "execute_result",
          "data": {
            "text/plain": [
              "Class                   object\n",
              "Neck_to_RShoulder        int64\n",
              "Neck_to_LShoulder        int64\n",
              "RShoulder_to_RElbow      int64\n",
              "RElbow_to_RWrist         int64\n",
              "LShoulder_to_LElbow      int64\n",
              "LElbow_to_LWrist         int64\n",
              "Neck_to_RHip             int64\n",
              "RHip_to_RKnee            int64\n",
              "RKnee_to_RAnkle          int64\n",
              "Neck_to_LHip             int64\n",
              "LHip_to_LKnee            int64\n",
              "LKnee_to_LAnkle          int64\n",
              "Neck_to_Nose             int64\n",
              "Nose_to_REye             int64\n",
              "REye_to_REar             int64\n",
              "Nose_to_LEye             int64\n",
              "LEye_to_LEar             int64\n",
              "angles                 float64\n",
              "distance               float64\n",
              "dtype: object"
            ]
          },
          "metadata": {
            "tags": []
          },
          "execution_count": 15
        }
      ]
    },
    {
      "cell_type": "code",
      "metadata": {
        "id": "_pVQ087Zs0Zf",
        "colab": {
          "base_uri": "https://localhost:8080/"
        },
        "outputId": "6c182dec-ddec-458a-df17-152a14b35c92"
      },
      "source": [
        "df.isnull().sum()    #to check any null values in a dataset"
      ],
      "execution_count": 16,
      "outputs": [
        {
          "output_type": "execute_result",
          "data": {
            "text/plain": [
              "Class                  0\n",
              "Neck_to_RShoulder      0\n",
              "Neck_to_LShoulder      0\n",
              "RShoulder_to_RElbow    0\n",
              "RElbow_to_RWrist       0\n",
              "LShoulder_to_LElbow    0\n",
              "LElbow_to_LWrist       0\n",
              "Neck_to_RHip           0\n",
              "RHip_to_RKnee          0\n",
              "RKnee_to_RAnkle        0\n",
              "Neck_to_LHip           0\n",
              "LHip_to_LKnee          0\n",
              "LKnee_to_LAnkle        0\n",
              "Neck_to_Nose           0\n",
              "Nose_to_REye           0\n",
              "REye_to_REar           0\n",
              "Nose_to_LEye           0\n",
              "LEye_to_LEar           0\n",
              "angles                 0\n",
              "distance               0\n",
              "dtype: int64"
            ]
          },
          "metadata": {
            "tags": []
          },
          "execution_count": 16
        }
      ]
    },
    {
      "cell_type": "code",
      "metadata": {
        "id": "11BlieZyg9cT"
      },
      "source": [
        "from sklearn.preprocessing import LabelEncoder, OneHotEncoder\n",
        "from sklearn import preprocessing\n",
        "\n",
        "labelencoder_y_1 = LabelEncoder()\n",
        "df['Class'] = labelencoder_y_1.fit_transform(df['Class'].values)"
      ],
      "execution_count": 17,
      "outputs": []
    },
    {
      "cell_type": "code",
      "metadata": {
        "id": "O5nEuPtatIoz",
        "colab": {
          "base_uri": "https://localhost:8080/"
        },
        "outputId": "5644063d-79ec-439c-d797-ddc15e44283b"
      },
      "source": [
        "df['Class'].unique()"
      ],
      "execution_count": 18,
      "outputs": [
        {
          "output_type": "execute_result",
          "data": {
            "text/plain": [
              "array([0, 1, 2, 3, 4, 5, 6, 7])"
            ]
          },
          "metadata": {
            "tags": []
          },
          "execution_count": 18
        }
      ]
    },
    {
      "cell_type": "code",
      "metadata": {
        "id": "Gi1IDFQCiblT"
      },
      "source": [
        "Y=df['Class']\n",
        "X=df.drop(['Class'],axis=1)\n",
        "\n",
        "# x = X #returns a numpy array\n",
        "# min_max_scaler = preprocessing.MinMaxScaler()   #normalizing the data\n",
        "# X = min_max_scaler.fit_transform(x)"
      ],
      "execution_count": 19,
      "outputs": []
    },
    {
      "cell_type": "code",
      "metadata": {
        "id": "cpNG7FzdtmD6"
      },
      "source": [
        "X_train, X_val, y_train, y_val = train_test_split(X, Y, test_size=0.33, random_state=42)  #random state fill fix the same dataset tray"
      ],
      "execution_count": 20,
      "outputs": []
    },
    {
      "cell_type": "code",
      "metadata": {
        "id": "IGnBC_Lctmtv"
      },
      "source": [
        "y_train = keras.utils.to_categorical(y_train,8)\n",
        "y_val = keras.utils.to_categorical(y_val,8)"
      ],
      "execution_count": 21,
      "outputs": []
    },
    {
      "cell_type": "markdown",
      "metadata": {
        "id": "6xwxhOHxlRMD"
      },
      "source": [
        "**MLP**\r\n"
      ]
    },
    {
      "cell_type": "code",
      "metadata": {
        "id": "7lswb39xttRN",
        "colab": {
          "base_uri": "https://localhost:8080/",
          "height": 812
        },
        "outputId": "2912623f-687c-436f-aec3-1c686d322227"
      },
      "source": [
        "#Code reference\n",
        "#https://www.pyimagesearch.com/2019/02/04/keras-multiple-inputs-and-mixed-data/\n",
        "# Multilayer Perceptron\n",
        "from keras.utils import plot_model\n",
        "from keras.models import Model\n",
        "from keras.layers import Input\n",
        "from keras.layers import Dense\n",
        "visible = Input(shape=(19,))    #19 size of the columns\n",
        "hidden1 = Dense(10, activation='relu')(visible)\n",
        "hidden2 = Dense(20, activation='relu')(hidden1)\n",
        "hidden3 = Dense(10, activation='relu')(hidden2)\n",
        "output = Dense(8, activation='softmax')(hidden3)   #5 number of classess\n",
        "model = Model(inputs=visible, outputs=output)\n",
        "# summarize layers\n",
        "print(model.summary())\n",
        "# plot graph\n",
        "plot_model(model, to_file='multilayer_perceptron_graph.png')"
      ],
      "execution_count": 22,
      "outputs": [
        {
          "output_type": "stream",
          "text": [
            "Model: \"model\"\n",
            "_________________________________________________________________\n",
            "Layer (type)                 Output Shape              Param #   \n",
            "=================================================================\n",
            "input_1 (InputLayer)         [(None, 19)]              0         \n",
            "_________________________________________________________________\n",
            "dense (Dense)                (None, 10)                200       \n",
            "_________________________________________________________________\n",
            "dense_1 (Dense)              (None, 20)                220       \n",
            "_________________________________________________________________\n",
            "dense_2 (Dense)              (None, 10)                210       \n",
            "_________________________________________________________________\n",
            "dense_3 (Dense)              (None, 8)                 88        \n",
            "=================================================================\n",
            "Total params: 718\n",
            "Trainable params: 718\n",
            "Non-trainable params: 0\n",
            "_________________________________________________________________\n",
            "None\n"
          ],
          "name": "stdout"
        },
        {
          "output_type": "execute_result",
          "data": {
            "image/png": "[encoded data removed]",
            "text/plain": [
              "<IPython.core.display.Image object>"
            ]
          },
          "metadata": {
            "tags": []
          },
          "execution_count": 22
        }
      ]
    },
    {
      "cell_type": "code",
      "metadata": {
        "id": "kgrhvWJouedb"
      },
      "source": [
        "# Compile the model \n",
        "model.compile(optimizer='rmsprop',\n",
        "                       loss ='categorical_crossentropy',\n",
        "                       metrics=['accuracy'])"
      ],
      "execution_count": 23,
      "outputs": []
    },
    {
      "cell_type": "code",
      "metadata": {
        "id": "WW39G-3ZwhJK",
        "colab": {
          "base_uri": "https://localhost:8080/"
        },
        "outputId": "9d569d2c-28c4-47d5-dc5a-b75a27ad7eb5"
      },
      "source": [
        "history=model.fit(x=X_train, y=y_train, epochs =1000, validation_data = (X_val,y_val),batch_size=120)"
      ],
      "execution_count": 24,
      "outputs": [
        {
          "output_type": "stream",
          "text": [
            "Epoch 1/1000\n",
            "8/8 [==============================] - 1s 68ms/step - loss: 4.7952 - accuracy: 0.1668 - val_loss: 2.6209 - val_accuracy: 0.1899\n",
            "Epoch 2/1000\n",
            "8/8 [==============================] - 0s 7ms/step - loss: 2.3604 - accuracy: 0.2000 - val_loss: 2.3156 - val_accuracy: 0.2139\n",
            "Epoch 3/1000\n",
            "8/8 [==============================] - 0s 7ms/step - loss: 2.2569 - accuracy: 0.2207 - val_loss: 2.2430 - val_accuracy: 0.2043\n",
            "Epoch 4/1000\n",
            "8/8 [==============================] - 0s 7ms/step - loss: 2.1066 - accuracy: 0.2100 - val_loss: 2.1655 - val_accuracy: 0.1394\n",
            "Epoch 5/1000\n",
            "8/8 [==============================] - 0s 8ms/step - loss: 2.0875 - accuracy: 0.1757 - val_loss: 2.1329 - val_accuracy: 0.1803\n",
            "Epoch 6/1000\n",
            "8/8 [==============================] - 0s 7ms/step - loss: 2.0668 - accuracy: 0.2079 - val_loss: 2.3628 - val_accuracy: 0.1442\n",
            "Epoch 7/1000\n",
            "8/8 [==============================] - 0s 7ms/step - loss: 2.1443 - accuracy: 0.1934 - val_loss: 2.1240 - val_accuracy: 0.1995\n",
            "Epoch 8/1000\n",
            "8/8 [==============================] - 0s 7ms/step - loss: 2.0333 - accuracy: 0.2252 - val_loss: 2.0769 - val_accuracy: 0.1899\n",
            "Epoch 9/1000\n",
            "8/8 [==============================] - 0s 7ms/step - loss: 2.0226 - accuracy: 0.2293 - val_loss: 2.2419 - val_accuracy: 0.1466\n",
            "Epoch 10/1000\n",
            "8/8 [==============================] - 0s 7ms/step - loss: 2.0847 - accuracy: 0.2184 - val_loss: 2.1411 - val_accuracy: 0.1683\n",
            "Epoch 11/1000\n",
            "8/8 [==============================] - 0s 27ms/step - loss: 2.0594 - accuracy: 0.1968 - val_loss: 2.0612 - val_accuracy: 0.1875\n",
            "Epoch 12/1000\n",
            "8/8 [==============================] - 0s 7ms/step - loss: 2.0150 - accuracy: 0.2046 - val_loss: 2.2095 - val_accuracy: 0.1490\n",
            "Epoch 13/1000\n",
            "8/8 [==============================] - 0s 7ms/step - loss: 2.0529 - accuracy: 0.2080 - val_loss: 2.0937 - val_accuracy: 0.1755\n",
            "Epoch 14/1000\n",
            "8/8 [==============================] - 0s 6ms/step - loss: 1.9976 - accuracy: 0.1973 - val_loss: 2.0687 - val_accuracy: 0.1827\n",
            "Epoch 15/1000\n",
            "8/8 [==============================] - 0s 7ms/step - loss: 1.9910 - accuracy: 0.2051 - val_loss: 2.1509 - val_accuracy: 0.1731\n",
            "Epoch 16/1000\n",
            "8/8 [==============================] - 0s 7ms/step - loss: 2.0407 - accuracy: 0.2159 - val_loss: 2.0749 - val_accuracy: 0.1875\n",
            "Epoch 17/1000\n",
            "8/8 [==============================] - 0s 7ms/step - loss: 2.0074 - accuracy: 0.1934 - val_loss: 2.0545 - val_accuracy: 0.1971\n",
            "Epoch 18/1000\n",
            "8/8 [==============================] - 0s 8ms/step - loss: 1.9851 - accuracy: 0.2211 - val_loss: 2.0774 - val_accuracy: 0.2019\n",
            "Epoch 19/1000\n",
            "8/8 [==============================] - 0s 7ms/step - loss: 1.9862 - accuracy: 0.2167 - val_loss: 2.0660 - val_accuracy: 0.2260\n",
            "Epoch 20/1000\n",
            "8/8 [==============================] - 0s 7ms/step - loss: 1.9846 - accuracy: 0.2204 - val_loss: 2.0969 - val_accuracy: 0.1923\n",
            "Epoch 21/1000\n",
            "8/8 [==============================] - 0s 7ms/step - loss: 2.0082 - accuracy: 0.2031 - val_loss: 2.0515 - val_accuracy: 0.2163\n",
            "Epoch 22/1000\n",
            "8/8 [==============================] - 0s 8ms/step - loss: 1.9523 - accuracy: 0.2379 - val_loss: 2.0686 - val_accuracy: 0.2067\n",
            "Epoch 23/1000\n",
            "8/8 [==============================] - 0s 8ms/step - loss: 1.9724 - accuracy: 0.2391 - val_loss: 2.0696 - val_accuracy: 0.2212\n",
            "Epoch 24/1000\n",
            "8/8 [==============================] - 0s 7ms/step - loss: 1.9640 - accuracy: 0.2384 - val_loss: 2.1086 - val_accuracy: 0.1947\n",
            "Epoch 25/1000\n",
            "8/8 [==============================] - 0s 7ms/step - loss: 2.0021 - accuracy: 0.2082 - val_loss: 2.1002 - val_accuracy: 0.2188\n",
            "Epoch 26/1000\n",
            "8/8 [==============================] - 0s 7ms/step - loss: 1.9747 - accuracy: 0.2385 - val_loss: 2.0885 - val_accuracy: 0.1923\n",
            "Epoch 27/1000\n",
            "8/8 [==============================] - 0s 7ms/step - loss: 1.9538 - accuracy: 0.2376 - val_loss: 2.0763 - val_accuracy: 0.1875\n",
            "Epoch 28/1000\n",
            "8/8 [==============================] - 0s 7ms/step - loss: 1.9723 - accuracy: 0.2208 - val_loss: 2.0608 - val_accuracy: 0.2019\n",
            "Epoch 29/1000\n",
            "8/8 [==============================] - 0s 8ms/step - loss: 1.9439 - accuracy: 0.2346 - val_loss: 2.0614 - val_accuracy: 0.2067\n",
            "Epoch 30/1000\n",
            "8/8 [==============================] - 0s 8ms/step - loss: 1.9653 - accuracy: 0.2241 - val_loss: 2.1933 - val_accuracy: 0.1923\n",
            "Epoch 31/1000\n",
            "8/8 [==============================] - 0s 7ms/step - loss: 2.0268 - accuracy: 0.2055 - val_loss: 2.0679 - val_accuracy: 0.2236\n",
            "Epoch 32/1000\n",
            "8/8 [==============================] - 0s 7ms/step - loss: 1.9288 - accuracy: 0.2434 - val_loss: 2.0519 - val_accuracy: 0.2188\n",
            "Epoch 33/1000\n",
            "8/8 [==============================] - 0s 7ms/step - loss: 1.9246 - accuracy: 0.2623 - val_loss: 2.0376 - val_accuracy: 0.2212\n",
            "Epoch 34/1000\n",
            "8/8 [==============================] - 0s 7ms/step - loss: 1.9250 - accuracy: 0.2540 - val_loss: 2.1840 - val_accuracy: 0.1899\n",
            "Epoch 35/1000\n",
            "8/8 [==============================] - 0s 7ms/step - loss: 1.9487 - accuracy: 0.2460 - val_loss: 2.1820 - val_accuracy: 0.2019\n",
            "Epoch 36/1000\n",
            "8/8 [==============================] - 0s 7ms/step - loss: 1.9816 - accuracy: 0.2451 - val_loss: 2.1019 - val_accuracy: 0.1995\n",
            "Epoch 37/1000\n",
            "8/8 [==============================] - 0s 7ms/step - loss: 1.9479 - accuracy: 0.2256 - val_loss: 2.0483 - val_accuracy: 0.2236\n",
            "Epoch 38/1000\n",
            "8/8 [==============================] - 0s 8ms/step - loss: 1.9198 - accuracy: 0.2558 - val_loss: 2.0530 - val_accuracy: 0.1995\n",
            "Epoch 39/1000\n",
            "8/8 [==============================] - 0s 7ms/step - loss: 1.9337 - accuracy: 0.2434 - val_loss: 2.0734 - val_accuracy: 0.2043\n",
            "Epoch 40/1000\n",
            "8/8 [==============================] - 0s 7ms/step - loss: 1.9355 - accuracy: 0.2515 - val_loss: 2.0738 - val_accuracy: 0.2115\n",
            "Epoch 41/1000\n",
            "8/8 [==============================] - 0s 7ms/step - loss: 1.9683 - accuracy: 0.2248 - val_loss: 2.0418 - val_accuracy: 0.2139\n",
            "Epoch 42/1000\n",
            "8/8 [==============================] - 0s 7ms/step - loss: 1.9388 - accuracy: 0.2376 - val_loss: 2.0534 - val_accuracy: 0.1971\n",
            "Epoch 43/1000\n",
            "8/8 [==============================] - 0s 7ms/step - loss: 1.9288 - accuracy: 0.2396 - val_loss: 2.0259 - val_accuracy: 0.2188\n",
            "Epoch 44/1000\n",
            "8/8 [==============================] - 0s 7ms/step - loss: 1.9273 - accuracy: 0.2456 - val_loss: 2.0217 - val_accuracy: 0.2236\n",
            "Epoch 45/1000\n",
            "8/8 [==============================] - 0s 8ms/step - loss: 1.9182 - accuracy: 0.2571 - val_loss: 2.2342 - val_accuracy: 0.1995\n",
            "Epoch 46/1000\n",
            "8/8 [==============================] - 0s 7ms/step - loss: 1.9523 - accuracy: 0.2433 - val_loss: 2.0200 - val_accuracy: 0.2308\n",
            "Epoch 47/1000\n",
            "8/8 [==============================] - 0s 7ms/step - loss: 1.9043 - accuracy: 0.2591 - val_loss: 2.1172 - val_accuracy: 0.2260\n",
            "Epoch 48/1000\n",
            "8/8 [==============================] - 0s 7ms/step - loss: 1.9327 - accuracy: 0.2557 - val_loss: 2.0354 - val_accuracy: 0.2115\n",
            "Epoch 49/1000\n",
            "8/8 [==============================] - 0s 7ms/step - loss: 1.9052 - accuracy: 0.2849 - val_loss: 2.0340 - val_accuracy: 0.2236\n",
            "Epoch 50/1000\n",
            "8/8 [==============================] - 0s 7ms/step - loss: 1.8987 - accuracy: 0.2626 - val_loss: 2.1816 - val_accuracy: 0.2019\n",
            "Epoch 51/1000\n",
            "8/8 [==============================] - 0s 7ms/step - loss: 1.9619 - accuracy: 0.2358 - val_loss: 2.0384 - val_accuracy: 0.2091\n",
            "Epoch 52/1000\n",
            "8/8 [==============================] - 0s 7ms/step - loss: 1.9104 - accuracy: 0.2494 - val_loss: 2.0400 - val_accuracy: 0.2260\n",
            "Epoch 53/1000\n",
            "8/8 [==============================] - 0s 7ms/step - loss: 1.8755 - accuracy: 0.2856 - val_loss: 2.0567 - val_accuracy: 0.2163\n",
            "Epoch 54/1000\n",
            "8/8 [==============================] - 0s 8ms/step - loss: 1.9017 - accuracy: 0.2761 - val_loss: 2.1059 - val_accuracy: 0.2067\n",
            "Epoch 55/1000\n",
            "8/8 [==============================] - 0s 8ms/step - loss: 1.9574 - accuracy: 0.2377 - val_loss: 2.0469 - val_accuracy: 0.2380\n",
            "Epoch 56/1000\n",
            "8/8 [==============================] - 0s 7ms/step - loss: 1.8896 - accuracy: 0.2686 - val_loss: 2.0685 - val_accuracy: 0.2284\n",
            "Epoch 57/1000\n",
            "8/8 [==============================] - 0s 7ms/step - loss: 1.8971 - accuracy: 0.2604 - val_loss: 2.1455 - val_accuracy: 0.2043\n",
            "Epoch 58/1000\n",
            "8/8 [==============================] - 0s 7ms/step - loss: 1.9116 - accuracy: 0.2417 - val_loss: 2.0955 - val_accuracy: 0.2115\n",
            "Epoch 59/1000\n",
            "8/8 [==============================] - 0s 7ms/step - loss: 1.8902 - accuracy: 0.2604 - val_loss: 2.0119 - val_accuracy: 0.2308\n",
            "Epoch 60/1000\n",
            "8/8 [==============================] - 0s 8ms/step - loss: 1.8728 - accuracy: 0.2751 - val_loss: 2.0238 - val_accuracy: 0.2404\n",
            "Epoch 61/1000\n",
            "8/8 [==============================] - 0s 8ms/step - loss: 1.8839 - accuracy: 0.2714 - val_loss: 2.6002 - val_accuracy: 0.1851\n",
            "Epoch 62/1000\n",
            "8/8 [==============================] - 0s 7ms/step - loss: 2.0027 - accuracy: 0.2472 - val_loss: 2.0871 - val_accuracy: 0.2308\n",
            "Epoch 63/1000\n",
            "8/8 [==============================] - 0s 7ms/step - loss: 1.8625 - accuracy: 0.2796 - val_loss: 2.0357 - val_accuracy: 0.2284\n",
            "Epoch 64/1000\n",
            "8/8 [==============================] - 0s 7ms/step - loss: 1.8744 - accuracy: 0.2669 - val_loss: 2.0687 - val_accuracy: 0.2091\n",
            "Epoch 65/1000\n",
            "8/8 [==============================] - 0s 24ms/step - loss: 1.8794 - accuracy: 0.2618 - val_loss: 2.1067 - val_accuracy: 0.2332\n",
            "Epoch 66/1000\n",
            "8/8 [==============================] - 0s 7ms/step - loss: 1.8700 - accuracy: 0.2781 - val_loss: 2.1595 - val_accuracy: 0.2019\n",
            "Epoch 67/1000\n",
            "8/8 [==============================] - 0s 7ms/step - loss: 1.8569 - accuracy: 0.2780 - val_loss: 2.1053 - val_accuracy: 0.2115\n",
            "Epoch 68/1000\n",
            "8/8 [==============================] - 0s 8ms/step - loss: 1.8878 - accuracy: 0.2484 - val_loss: 2.0407 - val_accuracy: 0.2139\n",
            "Epoch 69/1000\n",
            "8/8 [==============================] - 0s 7ms/step - loss: 1.8528 - accuracy: 0.2598 - val_loss: 2.1609 - val_accuracy: 0.2284\n",
            "Epoch 70/1000\n",
            "8/8 [==============================] - 0s 7ms/step - loss: 1.8513 - accuracy: 0.2776 - val_loss: 2.0352 - val_accuracy: 0.2380\n",
            "Epoch 71/1000\n",
            "8/8 [==============================] - 0s 7ms/step - loss: 1.8163 - accuracy: 0.2761 - val_loss: 1.9995 - val_accuracy: 0.2332\n",
            "Epoch 72/1000\n",
            "8/8 [==============================] - 0s 7ms/step - loss: 1.8393 - accuracy: 0.2779 - val_loss: 2.0687 - val_accuracy: 0.1971\n",
            "Epoch 73/1000\n",
            "8/8 [==============================] - 0s 9ms/step - loss: 1.8854 - accuracy: 0.2512 - val_loss: 2.0436 - val_accuracy: 0.2236\n",
            "Epoch 74/1000\n",
            "8/8 [==============================] - 0s 7ms/step - loss: 1.8960 - accuracy: 0.2638 - val_loss: 2.1915 - val_accuracy: 0.2188\n",
            "Epoch 75/1000\n",
            "8/8 [==============================] - 0s 7ms/step - loss: 1.8979 - accuracy: 0.2645 - val_loss: 2.0315 - val_accuracy: 0.2356\n",
            "Epoch 76/1000\n",
            "8/8 [==============================] - 0s 7ms/step - loss: 1.8473 - accuracy: 0.2930 - val_loss: 2.0930 - val_accuracy: 0.2139\n",
            "Epoch 77/1000\n",
            "8/8 [==============================] - 0s 7ms/step - loss: 1.8368 - accuracy: 0.2835 - val_loss: 2.1346 - val_accuracy: 0.2212\n",
            "Epoch 78/1000\n",
            "8/8 [==============================] - 0s 7ms/step - loss: 1.8625 - accuracy: 0.2732 - val_loss: 2.0573 - val_accuracy: 0.2284\n",
            "Epoch 79/1000\n",
            "8/8 [==============================] - 0s 7ms/step - loss: 1.8388 - accuracy: 0.2875 - val_loss: 2.1076 - val_accuracy: 0.2188\n",
            "Epoch 80/1000\n",
            "8/8 [==============================] - 0s 7ms/step - loss: 1.8291 - accuracy: 0.3041 - val_loss: 2.1124 - val_accuracy: 0.2212\n",
            "Epoch 81/1000\n",
            "8/8 [==============================] - 0s 7ms/step - loss: 1.8726 - accuracy: 0.2852 - val_loss: 2.1686 - val_accuracy: 0.2139\n",
            "Epoch 82/1000\n",
            "8/8 [==============================] - 0s 7ms/step - loss: 1.8423 - accuracy: 0.2641 - val_loss: 2.1599 - val_accuracy: 0.2043\n",
            "Epoch 83/1000\n",
            "8/8 [==============================] - 0s 8ms/step - loss: 1.8729 - accuracy: 0.2732 - val_loss: 2.0306 - val_accuracy: 0.2188\n",
            "Epoch 84/1000\n",
            "8/8 [==============================] - 0s 8ms/step - loss: 1.8280 - accuracy: 0.2665 - val_loss: 2.1551 - val_accuracy: 0.2163\n",
            "Epoch 85/1000\n",
            "8/8 [==============================] - 0s 7ms/step - loss: 1.8967 - accuracy: 0.2621 - val_loss: 2.0885 - val_accuracy: 0.2091\n",
            "Epoch 86/1000\n",
            "8/8 [==============================] - 0s 7ms/step - loss: 1.8027 - accuracy: 0.2908 - val_loss: 2.0185 - val_accuracy: 0.2188\n",
            "Epoch 87/1000\n",
            "8/8 [==============================] - 0s 8ms/step - loss: 1.8473 - accuracy: 0.2458 - val_loss: 2.0489 - val_accuracy: 0.2115\n",
            "Epoch 88/1000\n",
            "8/8 [==============================] - 0s 9ms/step - loss: 1.8718 - accuracy: 0.2511 - val_loss: 2.1086 - val_accuracy: 0.2236\n",
            "Epoch 89/1000\n",
            "8/8 [==============================] - 0s 7ms/step - loss: 1.8181 - accuracy: 0.2890 - val_loss: 2.0611 - val_accuracy: 0.2115\n",
            "Epoch 90/1000\n",
            "8/8 [==============================] - 0s 7ms/step - loss: 1.8148 - accuracy: 0.2802 - val_loss: 2.0881 - val_accuracy: 0.2139\n",
            "Epoch 91/1000\n",
            "8/8 [==============================] - 0s 7ms/step - loss: 1.8370 - accuracy: 0.2969 - val_loss: 2.0775 - val_accuracy: 0.2284\n",
            "Epoch 92/1000\n",
            "8/8 [==============================] - 0s 9ms/step - loss: 1.8302 - accuracy: 0.2832 - val_loss: 2.1659 - val_accuracy: 0.2163\n",
            "Epoch 93/1000\n",
            "8/8 [==============================] - 0s 10ms/step - loss: 1.8378 - accuracy: 0.2758 - val_loss: 1.9912 - val_accuracy: 0.2476\n",
            "Epoch 94/1000\n",
            "8/8 [==============================] - 0s 8ms/step - loss: 1.8113 - accuracy: 0.2785 - val_loss: 2.0283 - val_accuracy: 0.2260\n",
            "Epoch 95/1000\n",
            "8/8 [==============================] - 0s 7ms/step - loss: 1.8223 - accuracy: 0.2911 - val_loss: 1.9978 - val_accuracy: 0.2452\n",
            "Epoch 96/1000\n",
            "8/8 [==============================] - 0s 7ms/step - loss: 1.8170 - accuracy: 0.2867 - val_loss: 2.0029 - val_accuracy: 0.2284\n",
            "Epoch 97/1000\n",
            "8/8 [==============================] - 0s 7ms/step - loss: 1.8291 - accuracy: 0.2601 - val_loss: 2.0071 - val_accuracy: 0.2308\n",
            "Epoch 98/1000\n",
            "8/8 [==============================] - 0s 7ms/step - loss: 1.8179 - accuracy: 0.2811 - val_loss: 2.1666 - val_accuracy: 0.2236\n",
            "Epoch 99/1000\n",
            "8/8 [==============================] - 0s 7ms/step - loss: 1.8548 - accuracy: 0.2908 - val_loss: 2.0234 - val_accuracy: 0.2356\n",
            "Epoch 100/1000\n",
            "8/8 [==============================] - 0s 7ms/step - loss: 1.7978 - accuracy: 0.3023 - val_loss: 2.0061 - val_accuracy: 0.2356\n",
            "Epoch 101/1000\n",
            "8/8 [==============================] - 0s 8ms/step - loss: 1.8110 - accuracy: 0.2813 - val_loss: 2.0655 - val_accuracy: 0.2163\n",
            "Epoch 102/1000\n",
            "8/8 [==============================] - 0s 8ms/step - loss: 1.8429 - accuracy: 0.2613 - val_loss: 2.1013 - val_accuracy: 0.2212\n",
            "Epoch 103/1000\n",
            "8/8 [==============================] - 0s 7ms/step - loss: 1.8426 - accuracy: 0.2807 - val_loss: 2.0166 - val_accuracy: 0.2163\n",
            "Epoch 104/1000\n",
            "8/8 [==============================] - 0s 8ms/step - loss: 1.8125 - accuracy: 0.2743 - val_loss: 2.0189 - val_accuracy: 0.2332\n",
            "Epoch 105/1000\n",
            "8/8 [==============================] - 0s 8ms/step - loss: 1.8006 - accuracy: 0.2803 - val_loss: 1.9803 - val_accuracy: 0.2452\n",
            "Epoch 106/1000\n",
            "8/8 [==============================] - 0s 7ms/step - loss: 1.7840 - accuracy: 0.2796 - val_loss: 2.0409 - val_accuracy: 0.2356\n",
            "Epoch 107/1000\n",
            "8/8 [==============================] - 0s 7ms/step - loss: 1.7971 - accuracy: 0.2867 - val_loss: 1.9523 - val_accuracy: 0.2476\n",
            "Epoch 108/1000\n",
            "8/8 [==============================] - 0s 7ms/step - loss: 1.7846 - accuracy: 0.2853 - val_loss: 2.0016 - val_accuracy: 0.2380\n",
            "Epoch 109/1000\n",
            "8/8 [==============================] - 0s 8ms/step - loss: 1.7965 - accuracy: 0.2832 - val_loss: 2.1107 - val_accuracy: 0.2260\n",
            "Epoch 110/1000\n",
            "8/8 [==============================] - 0s 7ms/step - loss: 1.7625 - accuracy: 0.3040 - val_loss: 2.0496 - val_accuracy: 0.2308\n",
            "Epoch 111/1000\n",
            "8/8 [==============================] - 0s 8ms/step - loss: 1.8134 - accuracy: 0.2825 - val_loss: 2.1016 - val_accuracy: 0.2163\n",
            "Epoch 112/1000\n",
            "8/8 [==============================] - 0s 7ms/step - loss: 1.7842 - accuracy: 0.3026 - val_loss: 1.9757 - val_accuracy: 0.2308\n",
            "Epoch 113/1000\n",
            "8/8 [==============================] - 0s 7ms/step - loss: 1.7713 - accuracy: 0.2975 - val_loss: 2.0962 - val_accuracy: 0.2308\n",
            "Epoch 114/1000\n",
            "8/8 [==============================] - 0s 7ms/step - loss: 1.7548 - accuracy: 0.3048 - val_loss: 2.0490 - val_accuracy: 0.2188\n",
            "Epoch 115/1000\n",
            "8/8 [==============================] - 0s 7ms/step - loss: 1.8035 - accuracy: 0.2736 - val_loss: 2.0822 - val_accuracy: 0.2332\n",
            "Epoch 116/1000\n",
            "8/8 [==============================] - 0s 7ms/step - loss: 1.8079 - accuracy: 0.3145 - val_loss: 2.0894 - val_accuracy: 0.2163\n",
            "Epoch 117/1000\n",
            "8/8 [==============================] - 0s 8ms/step - loss: 1.8220 - accuracy: 0.2643 - val_loss: 2.0534 - val_accuracy: 0.2139\n",
            "Epoch 118/1000\n",
            "8/8 [==============================] - 0s 8ms/step - loss: 1.8047 - accuracy: 0.2719 - val_loss: 2.1262 - val_accuracy: 0.2260\n",
            "Epoch 119/1000\n",
            "8/8 [==============================] - 0s 25ms/step - loss: 1.7837 - accuracy: 0.2870 - val_loss: 2.0255 - val_accuracy: 0.2308\n",
            "Epoch 120/1000\n",
            "8/8 [==============================] - 0s 8ms/step - loss: 1.7685 - accuracy: 0.2984 - val_loss: 2.2522 - val_accuracy: 0.2163\n",
            "Epoch 121/1000\n",
            "8/8 [==============================] - 0s 7ms/step - loss: 1.8208 - accuracy: 0.2818 - val_loss: 1.9579 - val_accuracy: 0.2668\n",
            "Epoch 122/1000\n",
            "8/8 [==============================] - 0s 7ms/step - loss: 1.7230 - accuracy: 0.3210 - val_loss: 2.1281 - val_accuracy: 0.2188\n",
            "Epoch 123/1000\n",
            "8/8 [==============================] - 0s 8ms/step - loss: 1.8250 - accuracy: 0.2758 - val_loss: 1.9722 - val_accuracy: 0.2356\n",
            "Epoch 124/1000\n",
            "8/8 [==============================] - 0s 8ms/step - loss: 1.7674 - accuracy: 0.2860 - val_loss: 2.0060 - val_accuracy: 0.2236\n",
            "Epoch 125/1000\n",
            "8/8 [==============================] - 0s 8ms/step - loss: 1.7648 - accuracy: 0.2933 - val_loss: 2.3150 - val_accuracy: 0.2115\n",
            "Epoch 126/1000\n",
            "8/8 [==============================] - 0s 7ms/step - loss: 1.8838 - accuracy: 0.2470 - val_loss: 2.0189 - val_accuracy: 0.2260\n",
            "Epoch 127/1000\n",
            "8/8 [==============================] - 0s 7ms/step - loss: 1.7547 - accuracy: 0.2935 - val_loss: 2.0187 - val_accuracy: 0.2308\n",
            "Epoch 128/1000\n",
            "8/8 [==============================] - 0s 7ms/step - loss: 1.7660 - accuracy: 0.2838 - val_loss: 2.0793 - val_accuracy: 0.2308\n",
            "Epoch 129/1000\n",
            "8/8 [==============================] - 0s 7ms/step - loss: 1.7431 - accuracy: 0.2946 - val_loss: 2.1682 - val_accuracy: 0.2139\n",
            "Epoch 130/1000\n",
            "8/8 [==============================] - 0s 8ms/step - loss: 1.7549 - accuracy: 0.2836 - val_loss: 1.9952 - val_accuracy: 0.2548\n",
            "Epoch 131/1000\n",
            "8/8 [==============================] - 0s 8ms/step - loss: 1.7386 - accuracy: 0.3049 - val_loss: 1.9856 - val_accuracy: 0.2428\n",
            "Epoch 132/1000\n",
            "8/8 [==============================] - 0s 8ms/step - loss: 1.7380 - accuracy: 0.2876 - val_loss: 2.2809 - val_accuracy: 0.2308\n",
            "Epoch 133/1000\n",
            "8/8 [==============================] - 0s 8ms/step - loss: 1.8009 - accuracy: 0.2872 - val_loss: 2.0847 - val_accuracy: 0.2236\n",
            "Epoch 134/1000\n",
            "8/8 [==============================] - 0s 8ms/step - loss: 1.7617 - accuracy: 0.2929 - val_loss: 1.9932 - val_accuracy: 0.2428\n",
            "Epoch 135/1000\n",
            "8/8 [==============================] - 0s 7ms/step - loss: 1.7084 - accuracy: 0.3299 - val_loss: 2.0498 - val_accuracy: 0.2308\n",
            "Epoch 136/1000\n",
            "8/8 [==============================] - 0s 10ms/step - loss: 1.7128 - accuracy: 0.3011 - val_loss: 1.9395 - val_accuracy: 0.2380\n",
            "Epoch 137/1000\n",
            "8/8 [==============================] - 0s 8ms/step - loss: 1.7454 - accuracy: 0.2965 - val_loss: 2.1298 - val_accuracy: 0.2332\n",
            "Epoch 138/1000\n",
            "8/8 [==============================] - 0s 7ms/step - loss: 1.7937 - accuracy: 0.2804 - val_loss: 1.9711 - val_accuracy: 0.2404\n",
            "Epoch 139/1000\n",
            "8/8 [==============================] - 0s 8ms/step - loss: 1.6892 - accuracy: 0.3062 - val_loss: 1.9969 - val_accuracy: 0.2260\n",
            "Epoch 140/1000\n",
            "8/8 [==============================] - 0s 7ms/step - loss: 1.7190 - accuracy: 0.3102 - val_loss: 2.0452 - val_accuracy: 0.2284\n",
            "Epoch 141/1000\n",
            "8/8 [==============================] - 0s 7ms/step - loss: 1.7319 - accuracy: 0.2897 - val_loss: 1.9347 - val_accuracy: 0.2428\n",
            "Epoch 142/1000\n",
            "8/8 [==============================] - 0s 8ms/step - loss: 1.7107 - accuracy: 0.3154 - val_loss: 2.0398 - val_accuracy: 0.2332\n",
            "Epoch 143/1000\n",
            "8/8 [==============================] - 0s 7ms/step - loss: 1.7288 - accuracy: 0.2960 - val_loss: 1.9972 - val_accuracy: 0.2236\n",
            "Epoch 144/1000\n",
            "8/8 [==============================] - 0s 7ms/step - loss: 1.7213 - accuracy: 0.2973 - val_loss: 1.9133 - val_accuracy: 0.2476\n",
            "Epoch 145/1000\n",
            "8/8 [==============================] - 0s 7ms/step - loss: 1.7460 - accuracy: 0.2892 - val_loss: 2.0019 - val_accuracy: 0.2308\n",
            "Epoch 146/1000\n",
            "8/8 [==============================] - 0s 7ms/step - loss: 1.7010 - accuracy: 0.2977 - val_loss: 2.1369 - val_accuracy: 0.2356\n",
            "Epoch 147/1000\n",
            "8/8 [==============================] - 0s 8ms/step - loss: 1.6959 - accuracy: 0.3026 - val_loss: 1.9801 - val_accuracy: 0.2428\n",
            "Epoch 148/1000\n",
            "8/8 [==============================] - 0s 8ms/step - loss: 1.6973 - accuracy: 0.2978 - val_loss: 2.1898 - val_accuracy: 0.2308\n",
            "Epoch 149/1000\n",
            "8/8 [==============================] - 0s 7ms/step - loss: 1.8069 - accuracy: 0.3055 - val_loss: 2.0041 - val_accuracy: 0.2356\n",
            "Epoch 150/1000\n",
            "8/8 [==============================] - 0s 8ms/step - loss: 1.6879 - accuracy: 0.3063 - val_loss: 2.0475 - val_accuracy: 0.2452\n",
            "Epoch 151/1000\n",
            "8/8 [==============================] - 0s 7ms/step - loss: 1.7112 - accuracy: 0.3062 - val_loss: 2.0375 - val_accuracy: 0.2428\n",
            "Epoch 152/1000\n",
            "8/8 [==============================] - 0s 7ms/step - loss: 1.7160 - accuracy: 0.3102 - val_loss: 2.0774 - val_accuracy: 0.2452\n",
            "Epoch 153/1000\n",
            "8/8 [==============================] - 0s 9ms/step - loss: 1.6854 - accuracy: 0.3023 - val_loss: 1.9719 - val_accuracy: 0.2572\n",
            "Epoch 154/1000\n",
            "8/8 [==============================] - 0s 9ms/step - loss: 1.6850 - accuracy: 0.3024 - val_loss: 1.9255 - val_accuracy: 0.2356\n",
            "Epoch 155/1000\n",
            "8/8 [==============================] - 0s 7ms/step - loss: 1.6811 - accuracy: 0.3110 - val_loss: 2.1249 - val_accuracy: 0.2524\n",
            "Epoch 156/1000\n",
            "8/8 [==============================] - 0s 7ms/step - loss: 1.7091 - accuracy: 0.3034 - val_loss: 2.0448 - val_accuracy: 0.2500\n",
            "Epoch 157/1000\n",
            "8/8 [==============================] - 0s 8ms/step - loss: 1.7141 - accuracy: 0.3028 - val_loss: 2.1126 - val_accuracy: 0.2452\n",
            "Epoch 158/1000\n",
            "8/8 [==============================] - 0s 8ms/step - loss: 1.7027 - accuracy: 0.3062 - val_loss: 1.9947 - val_accuracy: 0.2308\n",
            "Epoch 159/1000\n",
            "8/8 [==============================] - 0s 7ms/step - loss: 1.6718 - accuracy: 0.3088 - val_loss: 2.0976 - val_accuracy: 0.2332\n",
            "Epoch 160/1000\n",
            "8/8 [==============================] - 0s 7ms/step - loss: 1.7004 - accuracy: 0.2947 - val_loss: 1.9494 - val_accuracy: 0.2356\n",
            "Epoch 161/1000\n",
            "8/8 [==============================] - 0s 7ms/step - loss: 1.6811 - accuracy: 0.2959 - val_loss: 1.9942 - val_accuracy: 0.2212\n",
            "Epoch 162/1000\n",
            "8/8 [==============================] - 0s 9ms/step - loss: 1.6339 - accuracy: 0.3234 - val_loss: 1.9636 - val_accuracy: 0.2284\n",
            "Epoch 163/1000\n",
            "8/8 [==============================] - 0s 9ms/step - loss: 1.7201 - accuracy: 0.2884 - val_loss: 2.0217 - val_accuracy: 0.2356\n",
            "Epoch 164/1000\n",
            "8/8 [==============================] - 0s 7ms/step - loss: 1.6725 - accuracy: 0.2824 - val_loss: 1.9684 - val_accuracy: 0.2428\n",
            "Epoch 165/1000\n",
            "8/8 [==============================] - 0s 8ms/step - loss: 1.6837 - accuracy: 0.3119 - val_loss: 2.4014 - val_accuracy: 0.2212\n",
            "Epoch 166/1000\n",
            "8/8 [==============================] - 0s 8ms/step - loss: 1.8145 - accuracy: 0.2764 - val_loss: 2.0481 - val_accuracy: 0.2332\n",
            "Epoch 167/1000\n",
            "8/8 [==============================] - 0s 8ms/step - loss: 1.6965 - accuracy: 0.2851 - val_loss: 1.9143 - val_accuracy: 0.2620\n",
            "Epoch 168/1000\n",
            "8/8 [==============================] - 0s 8ms/step - loss: 1.6655 - accuracy: 0.3048 - val_loss: 2.0478 - val_accuracy: 0.2260\n",
            "Epoch 169/1000\n",
            "8/8 [==============================] - 0s 9ms/step - loss: 1.7260 - accuracy: 0.2791 - val_loss: 1.9398 - val_accuracy: 0.2620\n",
            "Epoch 170/1000\n",
            "8/8 [==============================] - 0s 9ms/step - loss: 1.7063 - accuracy: 0.2712 - val_loss: 2.0934 - val_accuracy: 0.2476\n",
            "Epoch 171/1000\n",
            "8/8 [==============================] - 0s 8ms/step - loss: 1.6400 - accuracy: 0.3114 - val_loss: 1.9740 - val_accuracy: 0.2524\n",
            "Epoch 172/1000\n",
            "8/8 [==============================] - 0s 7ms/step - loss: 1.6855 - accuracy: 0.2973 - val_loss: 2.0703 - val_accuracy: 0.2188\n",
            "Epoch 173/1000\n",
            "8/8 [==============================] - 0s 26ms/step - loss: 1.7703 - accuracy: 0.2555 - val_loss: 1.9513 - val_accuracy: 0.2596\n",
            "Epoch 174/1000\n",
            "8/8 [==============================] - 0s 8ms/step - loss: 1.6620 - accuracy: 0.3029 - val_loss: 2.0235 - val_accuracy: 0.2548\n",
            "Epoch 175/1000\n",
            "8/8 [==============================] - 0s 8ms/step - loss: 1.6421 - accuracy: 0.3173 - val_loss: 1.9064 - val_accuracy: 0.2548\n",
            "Epoch 176/1000\n",
            "8/8 [==============================] - 0s 7ms/step - loss: 1.6450 - accuracy: 0.3119 - val_loss: 1.9806 - val_accuracy: 0.2452\n",
            "Epoch 177/1000\n",
            "8/8 [==============================] - 0s 8ms/step - loss: 1.6700 - accuracy: 0.3072 - val_loss: 2.1687 - val_accuracy: 0.2260\n",
            "Epoch 178/1000\n",
            "8/8 [==============================] - 0s 8ms/step - loss: 1.7172 - accuracy: 0.2869 - val_loss: 2.0515 - val_accuracy: 0.2524\n",
            "Epoch 179/1000\n",
            "8/8 [==============================] - 0s 9ms/step - loss: 1.6476 - accuracy: 0.3038 - val_loss: 1.9533 - val_accuracy: 0.2452\n",
            "Epoch 180/1000\n",
            "8/8 [==============================] - 0s 8ms/step - loss: 1.6755 - accuracy: 0.3048 - val_loss: 1.9225 - val_accuracy: 0.2452\n",
            "Epoch 181/1000\n",
            "8/8 [==============================] - 0s 8ms/step - loss: 1.6543 - accuracy: 0.3010 - val_loss: 1.9252 - val_accuracy: 0.2548\n",
            "Epoch 182/1000\n",
            "8/8 [==============================] - 0s 8ms/step - loss: 1.6266 - accuracy: 0.3323 - val_loss: 1.9115 - val_accuracy: 0.2452\n",
            "Epoch 183/1000\n",
            "8/8 [==============================] - 0s 8ms/step - loss: 1.6786 - accuracy: 0.3080 - val_loss: 1.9290 - val_accuracy: 0.2452\n",
            "Epoch 184/1000\n",
            "8/8 [==============================] - 0s 8ms/step - loss: 1.6455 - accuracy: 0.3093 - val_loss: 2.2918 - val_accuracy: 0.2404\n",
            "Epoch 185/1000\n",
            "8/8 [==============================] - 0s 7ms/step - loss: 1.7765 - accuracy: 0.2975 - val_loss: 2.0124 - val_accuracy: 0.2524\n",
            "Epoch 186/1000\n",
            "8/8 [==============================] - 0s 9ms/step - loss: 1.6417 - accuracy: 0.3111 - val_loss: 1.9820 - val_accuracy: 0.2668\n",
            "Epoch 187/1000\n",
            "8/8 [==============================] - 0s 7ms/step - loss: 1.6551 - accuracy: 0.2897 - val_loss: 1.9774 - val_accuracy: 0.2596\n",
            "Epoch 188/1000\n",
            "8/8 [==============================] - 0s 7ms/step - loss: 1.6310 - accuracy: 0.3104 - val_loss: 2.0252 - val_accuracy: 0.2500\n",
            "Epoch 189/1000\n",
            "8/8 [==============================] - 0s 7ms/step - loss: 1.7145 - accuracy: 0.2768 - val_loss: 1.9835 - val_accuracy: 0.2524\n",
            "Epoch 190/1000\n",
            "8/8 [==============================] - 0s 8ms/step - loss: 1.6005 - accuracy: 0.3142 - val_loss: 1.9705 - val_accuracy: 0.2236\n",
            "Epoch 191/1000\n",
            "8/8 [==============================] - 0s 8ms/step - loss: 1.7191 - accuracy: 0.2691 - val_loss: 1.9040 - val_accuracy: 0.2740\n",
            "Epoch 192/1000\n",
            "8/8 [==============================] - 0s 7ms/step - loss: 1.6175 - accuracy: 0.3056 - val_loss: 1.9570 - val_accuracy: 0.2692\n",
            "Epoch 193/1000\n",
            "8/8 [==============================] - 0s 9ms/step - loss: 1.6075 - accuracy: 0.3003 - val_loss: 2.0843 - val_accuracy: 0.2644\n",
            "Epoch 194/1000\n",
            "8/8 [==============================] - 0s 8ms/step - loss: 1.6505 - accuracy: 0.2909 - val_loss: 2.0164 - val_accuracy: 0.2428\n",
            "Epoch 195/1000\n",
            "8/8 [==============================] - 0s 7ms/step - loss: 1.6574 - accuracy: 0.2913 - val_loss: 1.9742 - val_accuracy: 0.2524\n",
            "Epoch 196/1000\n",
            "8/8 [==============================] - 0s 7ms/step - loss: 1.6238 - accuracy: 0.3046 - val_loss: 2.1266 - val_accuracy: 0.2500\n",
            "Epoch 197/1000\n",
            "8/8 [==============================] - 0s 8ms/step - loss: 1.6389 - accuracy: 0.2873 - val_loss: 1.9861 - val_accuracy: 0.2620\n",
            "Epoch 198/1000\n",
            "8/8 [==============================] - 0s 9ms/step - loss: 1.6370 - accuracy: 0.3050 - val_loss: 2.1911 - val_accuracy: 0.2356\n",
            "Epoch 199/1000\n",
            "8/8 [==============================] - 0s 9ms/step - loss: 1.7196 - accuracy: 0.2892 - val_loss: 2.0439 - val_accuracy: 0.2716\n",
            "Epoch 200/1000\n",
            "8/8 [==============================] - 0s 8ms/step - loss: 1.6365 - accuracy: 0.3064 - val_loss: 1.9345 - val_accuracy: 0.2404\n",
            "Epoch 201/1000\n",
            "8/8 [==============================] - 0s 8ms/step - loss: 1.6664 - accuracy: 0.3074 - val_loss: 1.8976 - val_accuracy: 0.2596\n",
            "Epoch 202/1000\n",
            "8/8 [==============================] - 0s 8ms/step - loss: 1.6049 - accuracy: 0.3249 - val_loss: 1.9765 - val_accuracy: 0.2284\n",
            "Epoch 203/1000\n",
            "8/8 [==============================] - 0s 7ms/step - loss: 1.6593 - accuracy: 0.2956 - val_loss: 1.9156 - val_accuracy: 0.2524\n",
            "Epoch 204/1000\n",
            "8/8 [==============================] - 0s 8ms/step - loss: 1.5942 - accuracy: 0.3172 - val_loss: 2.0509 - val_accuracy: 0.2596\n",
            "Epoch 205/1000\n",
            "8/8 [==============================] - 0s 8ms/step - loss: 1.6140 - accuracy: 0.3022 - val_loss: 2.1880 - val_accuracy: 0.2428\n",
            "Epoch 206/1000\n",
            "8/8 [==============================] - 0s 7ms/step - loss: 1.7297 - accuracy: 0.2982 - val_loss: 1.8984 - val_accuracy: 0.2572\n",
            "Epoch 207/1000\n",
            "8/8 [==============================] - 0s 9ms/step - loss: 1.5928 - accuracy: 0.3016 - val_loss: 1.9162 - val_accuracy: 0.2644\n",
            "Epoch 208/1000\n",
            "8/8 [==============================] - 0s 8ms/step - loss: 1.5745 - accuracy: 0.3179 - val_loss: 1.9207 - val_accuracy: 0.2620\n",
            "Epoch 209/1000\n",
            "8/8 [==============================] - 0s 8ms/step - loss: 1.6561 - accuracy: 0.3013 - val_loss: 2.0433 - val_accuracy: 0.2380\n",
            "Epoch 210/1000\n",
            "8/8 [==============================] - 0s 8ms/step - loss: 1.6379 - accuracy: 0.3117 - val_loss: 2.1181 - val_accuracy: 0.2740\n",
            "Epoch 211/1000\n",
            "8/8 [==============================] - 0s 8ms/step - loss: 1.6676 - accuracy: 0.3040 - val_loss: 1.9460 - val_accuracy: 0.2812\n",
            "Epoch 212/1000\n",
            "8/8 [==============================] - 0s 8ms/step - loss: 1.5924 - accuracy: 0.3114 - val_loss: 2.0605 - val_accuracy: 0.2692\n",
            "Epoch 213/1000\n",
            "8/8 [==============================] - 0s 8ms/step - loss: 1.6177 - accuracy: 0.3111 - val_loss: 1.8935 - val_accuracy: 0.2620\n",
            "Epoch 214/1000\n",
            "8/8 [==============================] - 0s 9ms/step - loss: 1.6083 - accuracy: 0.3167 - val_loss: 1.9118 - val_accuracy: 0.2548\n",
            "Epoch 215/1000\n",
            "8/8 [==============================] - 0s 8ms/step - loss: 1.5928 - accuracy: 0.2971 - val_loss: 2.1288 - val_accuracy: 0.2596\n",
            "Epoch 216/1000\n",
            "8/8 [==============================] - 0s 8ms/step - loss: 1.5984 - accuracy: 0.3099 - val_loss: 2.1034 - val_accuracy: 0.2668\n",
            "Epoch 217/1000\n",
            "8/8 [==============================] - 0s 8ms/step - loss: 1.6443 - accuracy: 0.2967 - val_loss: 1.9821 - val_accuracy: 0.2524\n",
            "Epoch 218/1000\n",
            "8/8 [==============================] - 0s 8ms/step - loss: 1.5894 - accuracy: 0.3230 - val_loss: 2.0990 - val_accuracy: 0.2692\n",
            "Epoch 219/1000\n",
            "8/8 [==============================] - 0s 7ms/step - loss: 1.6859 - accuracy: 0.2897 - val_loss: 2.0091 - val_accuracy: 0.2716\n",
            "Epoch 220/1000\n",
            "8/8 [==============================] - 0s 9ms/step - loss: 1.6179 - accuracy: 0.3157 - val_loss: 2.0534 - val_accuracy: 0.2356\n",
            "Epoch 221/1000\n",
            "8/8 [==============================] - 0s 8ms/step - loss: 1.6375 - accuracy: 0.3044 - val_loss: 1.9892 - val_accuracy: 0.2620\n",
            "Epoch 222/1000\n",
            "8/8 [==============================] - 0s 8ms/step - loss: 1.6339 - accuracy: 0.2801 - val_loss: 1.9583 - val_accuracy: 0.2524\n",
            "Epoch 223/1000\n",
            "8/8 [==============================] - 0s 8ms/step - loss: 1.6112 - accuracy: 0.3171 - val_loss: 2.1845 - val_accuracy: 0.2644\n",
            "Epoch 224/1000\n",
            "8/8 [==============================] - 0s 8ms/step - loss: 1.6347 - accuracy: 0.3158 - val_loss: 2.1356 - val_accuracy: 0.2716\n",
            "Epoch 225/1000\n",
            "8/8 [==============================] - 0s 8ms/step - loss: 1.6240 - accuracy: 0.3123 - val_loss: 1.9790 - val_accuracy: 0.2740\n",
            "Epoch 226/1000\n",
            "8/8 [==============================] - 0s 9ms/step - loss: 1.6064 - accuracy: 0.3110 - val_loss: 1.9455 - val_accuracy: 0.2572\n",
            "Epoch 227/1000\n",
            "8/8 [==============================] - 0s 25ms/step - loss: 1.6145 - accuracy: 0.3063 - val_loss: 2.1096 - val_accuracy: 0.2692\n",
            "Epoch 228/1000\n",
            "8/8 [==============================] - 0s 8ms/step - loss: 1.6288 - accuracy: 0.2995 - val_loss: 2.0458 - val_accuracy: 0.2476\n",
            "Epoch 229/1000\n",
            "8/8 [==============================] - 0s 7ms/step - loss: 1.6208 - accuracy: 0.3120 - val_loss: 1.9723 - val_accuracy: 0.2740\n",
            "Epoch 230/1000\n",
            "8/8 [==============================] - 0s 8ms/step - loss: 1.6033 - accuracy: 0.3208 - val_loss: 1.9283 - val_accuracy: 0.2524\n",
            "Epoch 231/1000\n",
            "8/8 [==============================] - 0s 8ms/step - loss: 1.6014 - accuracy: 0.2992 - val_loss: 1.9275 - val_accuracy: 0.2668\n",
            "Epoch 232/1000\n",
            "8/8 [==============================] - 0s 7ms/step - loss: 1.6172 - accuracy: 0.3173 - val_loss: 2.0386 - val_accuracy: 0.2236\n",
            "Epoch 233/1000\n",
            "8/8 [==============================] - 0s 8ms/step - loss: 1.6556 - accuracy: 0.2812 - val_loss: 2.0807 - val_accuracy: 0.2452\n",
            "Epoch 234/1000\n",
            "8/8 [==============================] - 0s 9ms/step - loss: 1.6671 - accuracy: 0.3088 - val_loss: 1.9037 - val_accuracy: 0.2596\n",
            "Epoch 235/1000\n",
            "8/8 [==============================] - 0s 9ms/step - loss: 1.6362 - accuracy: 0.3088 - val_loss: 1.9388 - val_accuracy: 0.2644\n",
            "Epoch 236/1000\n",
            "8/8 [==============================] - 0s 9ms/step - loss: 1.6021 - accuracy: 0.3129 - val_loss: 1.8823 - val_accuracy: 0.2644\n",
            "Epoch 237/1000\n",
            "8/8 [==============================] - 0s 8ms/step - loss: 1.5778 - accuracy: 0.3212 - val_loss: 2.0712 - val_accuracy: 0.2716\n",
            "Epoch 238/1000\n",
            "8/8 [==============================] - 0s 9ms/step - loss: 1.6025 - accuracy: 0.3175 - val_loss: 1.9999 - val_accuracy: 0.2644\n",
            "Epoch 239/1000\n",
            "8/8 [==============================] - 0s 8ms/step - loss: 1.5758 - accuracy: 0.3153 - val_loss: 2.0294 - val_accuracy: 0.2668\n",
            "Epoch 240/1000\n",
            "8/8 [==============================] - 0s 8ms/step - loss: 1.5955 - accuracy: 0.3170 - val_loss: 1.8634 - val_accuracy: 0.2620\n",
            "Epoch 241/1000\n",
            "8/8 [==============================] - 0s 8ms/step - loss: 1.5769 - accuracy: 0.3207 - val_loss: 1.9233 - val_accuracy: 0.2644\n",
            "Epoch 242/1000\n",
            "8/8 [==============================] - 0s 9ms/step - loss: 1.6376 - accuracy: 0.2858 - val_loss: 2.0549 - val_accuracy: 0.2500\n",
            "Epoch 243/1000\n",
            "8/8 [==============================] - 0s 10ms/step - loss: 1.6263 - accuracy: 0.3034 - val_loss: 1.9140 - val_accuracy: 0.2764\n",
            "Epoch 244/1000\n",
            "8/8 [==============================] - 0s 9ms/step - loss: 1.5664 - accuracy: 0.3301 - val_loss: 2.0092 - val_accuracy: 0.2332\n",
            "Epoch 245/1000\n",
            "8/8 [==============================] - 0s 8ms/step - loss: 1.5959 - accuracy: 0.3092 - val_loss: 1.8534 - val_accuracy: 0.2644\n",
            "Epoch 246/1000\n",
            "8/8 [==============================] - 0s 8ms/step - loss: 1.6034 - accuracy: 0.3131 - val_loss: 1.8995 - val_accuracy: 0.2452\n",
            "Epoch 247/1000\n",
            "8/8 [==============================] - 0s 9ms/step - loss: 1.5845 - accuracy: 0.3134 - val_loss: 1.9490 - val_accuracy: 0.2668\n",
            "Epoch 248/1000\n",
            "8/8 [==============================] - 0s 8ms/step - loss: 1.5778 - accuracy: 0.3162 - val_loss: 2.0273 - val_accuracy: 0.2668\n",
            "Epoch 249/1000\n",
            "8/8 [==============================] - 0s 9ms/step - loss: 1.6046 - accuracy: 0.3159 - val_loss: 2.1279 - val_accuracy: 0.2332\n",
            "Epoch 250/1000\n",
            "8/8 [==============================] - 0s 9ms/step - loss: 1.7363 - accuracy: 0.2736 - val_loss: 1.9548 - val_accuracy: 0.2596\n",
            "Epoch 251/1000\n",
            "8/8 [==============================] - 0s 9ms/step - loss: 1.5727 - accuracy: 0.3082 - val_loss: 2.0000 - val_accuracy: 0.2740\n",
            "Epoch 252/1000\n",
            "8/8 [==============================] - 0s 9ms/step - loss: 1.5953 - accuracy: 0.3166 - val_loss: 2.0996 - val_accuracy: 0.2692\n",
            "Epoch 253/1000\n",
            "8/8 [==============================] - 0s 9ms/step - loss: 1.6647 - accuracy: 0.3029 - val_loss: 1.8332 - val_accuracy: 0.2764\n",
            "Epoch 254/1000\n",
            "8/8 [==============================] - 0s 10ms/step - loss: 1.5761 - accuracy: 0.3232 - val_loss: 2.0434 - val_accuracy: 0.2740\n",
            "Epoch 255/1000\n",
            "8/8 [==============================] - 0s 9ms/step - loss: 1.6500 - accuracy: 0.2706 - val_loss: 2.0475 - val_accuracy: 0.2308\n",
            "Epoch 256/1000\n",
            "8/8 [==============================] - 0s 10ms/step - loss: 1.6321 - accuracy: 0.3013 - val_loss: 1.8225 - val_accuracy: 0.2861\n",
            "Epoch 257/1000\n",
            "8/8 [==============================] - 0s 9ms/step - loss: 1.5914 - accuracy: 0.2955 - val_loss: 1.9082 - val_accuracy: 0.2572\n",
            "Epoch 258/1000\n",
            "8/8 [==============================] - 0s 8ms/step - loss: 1.5719 - accuracy: 0.3005 - val_loss: 1.8791 - val_accuracy: 0.2524\n",
            "Epoch 259/1000\n",
            "8/8 [==============================] - 0s 9ms/step - loss: 1.5862 - accuracy: 0.3157 - val_loss: 1.8945 - val_accuracy: 0.2596\n",
            "Epoch 260/1000\n",
            "8/8 [==============================] - 0s 9ms/step - loss: 1.5924 - accuracy: 0.3277 - val_loss: 1.8662 - val_accuracy: 0.2812\n",
            "Epoch 261/1000\n",
            "8/8 [==============================] - 0s 11ms/step - loss: 1.5589 - accuracy: 0.3465 - val_loss: 1.9444 - val_accuracy: 0.2668\n",
            "Epoch 262/1000\n",
            "8/8 [==============================] - 0s 9ms/step - loss: 1.5735 - accuracy: 0.3314 - val_loss: 2.0399 - val_accuracy: 0.2476\n",
            "Epoch 263/1000\n",
            "8/8 [==============================] - 0s 8ms/step - loss: 1.6317 - accuracy: 0.3201 - val_loss: 1.9757 - val_accuracy: 0.2380\n",
            "Epoch 264/1000\n",
            "8/8 [==============================] - 0s 9ms/step - loss: 1.6417 - accuracy: 0.2936 - val_loss: 1.9007 - val_accuracy: 0.2692\n",
            "Epoch 265/1000\n",
            "8/8 [==============================] - 0s 8ms/step - loss: 1.5827 - accuracy: 0.3179 - val_loss: 2.0259 - val_accuracy: 0.2788\n",
            "Epoch 266/1000\n",
            "8/8 [==============================] - 0s 8ms/step - loss: 1.6233 - accuracy: 0.3158 - val_loss: 1.9354 - val_accuracy: 0.2957\n",
            "Epoch 267/1000\n",
            "8/8 [==============================] - 0s 9ms/step - loss: 1.5791 - accuracy: 0.3333 - val_loss: 1.7998 - val_accuracy: 0.2837\n",
            "Epoch 268/1000\n",
            "8/8 [==============================] - 0s 9ms/step - loss: 1.5886 - accuracy: 0.3174 - val_loss: 1.8989 - val_accuracy: 0.2957\n",
            "Epoch 269/1000\n",
            "8/8 [==============================] - 0s 11ms/step - loss: 1.5630 - accuracy: 0.3132 - val_loss: 2.1705 - val_accuracy: 0.2668\n",
            "Epoch 270/1000\n",
            "8/8 [==============================] - 0s 9ms/step - loss: 1.6712 - accuracy: 0.2922 - val_loss: 1.8357 - val_accuracy: 0.2933\n",
            "Epoch 271/1000\n",
            "8/8 [==============================] - 0s 27ms/step - loss: 1.5692 - accuracy: 0.3416 - val_loss: 1.9072 - val_accuracy: 0.2861\n",
            "Epoch 272/1000\n",
            "8/8 [==============================] - 0s 8ms/step - loss: 1.6059 - accuracy: 0.3341 - val_loss: 1.8458 - val_accuracy: 0.2812\n",
            "Epoch 273/1000\n",
            "8/8 [==============================] - 0s 9ms/step - loss: 1.5614 - accuracy: 0.3209 - val_loss: 1.9376 - val_accuracy: 0.2596\n",
            "Epoch 274/1000\n",
            "8/8 [==============================] - 0s 9ms/step - loss: 1.5881 - accuracy: 0.3159 - val_loss: 1.8616 - val_accuracy: 0.2572\n",
            "Epoch 275/1000\n",
            "8/8 [==============================] - 0s 10ms/step - loss: 1.5617 - accuracy: 0.3276 - val_loss: 1.9511 - val_accuracy: 0.2740\n",
            "Epoch 276/1000\n",
            "8/8 [==============================] - 0s 9ms/step - loss: 1.6616 - accuracy: 0.3276 - val_loss: 1.8368 - val_accuracy: 0.2788\n",
            "Epoch 277/1000\n",
            "8/8 [==============================] - 0s 9ms/step - loss: 1.5674 - accuracy: 0.3129 - val_loss: 1.9020 - val_accuracy: 0.2452\n",
            "Epoch 278/1000\n",
            "8/8 [==============================] - 0s 9ms/step - loss: 1.5659 - accuracy: 0.3552 - val_loss: 1.8262 - val_accuracy: 0.2716\n",
            "Epoch 279/1000\n",
            "8/8 [==============================] - 0s 9ms/step - loss: 1.5745 - accuracy: 0.3396 - val_loss: 1.8617 - val_accuracy: 0.2788\n",
            "Epoch 280/1000\n",
            "8/8 [==============================] - 0s 9ms/step - loss: 1.5291 - accuracy: 0.3324 - val_loss: 1.8556 - val_accuracy: 0.2885\n",
            "Epoch 281/1000\n",
            "8/8 [==============================] - 0s 10ms/step - loss: 1.5682 - accuracy: 0.3339 - val_loss: 2.1226 - val_accuracy: 0.2812\n",
            "Epoch 282/1000\n",
            "8/8 [==============================] - 0s 10ms/step - loss: 1.6581 - accuracy: 0.3361 - val_loss: 1.9966 - val_accuracy: 0.2885\n",
            "Epoch 283/1000\n",
            "8/8 [==============================] - 0s 12ms/step - loss: 1.6172 - accuracy: 0.3079 - val_loss: 1.8503 - val_accuracy: 0.2596\n",
            "Epoch 284/1000\n",
            "8/8 [==============================] - 0s 10ms/step - loss: 1.5909 - accuracy: 0.3174 - val_loss: 1.8598 - val_accuracy: 0.2764\n",
            "Epoch 285/1000\n",
            "8/8 [==============================] - 0s 9ms/step - loss: 1.5832 - accuracy: 0.2997 - val_loss: 1.9874 - val_accuracy: 0.2740\n",
            "Epoch 286/1000\n",
            "8/8 [==============================] - 0s 10ms/step - loss: 1.6062 - accuracy: 0.3199 - val_loss: 1.9249 - val_accuracy: 0.2788\n",
            "Epoch 287/1000\n",
            "8/8 [==============================] - 0s 9ms/step - loss: 1.6024 - accuracy: 0.3167 - val_loss: 1.9511 - val_accuracy: 0.2668\n",
            "Epoch 288/1000\n",
            "8/8 [==============================] - 0s 9ms/step - loss: 1.5265 - accuracy: 0.3388 - val_loss: 1.8366 - val_accuracy: 0.2909\n",
            "Epoch 289/1000\n",
            "8/8 [==============================] - 0s 9ms/step - loss: 1.5392 - accuracy: 0.3286 - val_loss: 1.8573 - val_accuracy: 0.2644\n",
            "Epoch 290/1000\n",
            "8/8 [==============================] - 0s 10ms/step - loss: 1.5642 - accuracy: 0.3289 - val_loss: 1.9692 - val_accuracy: 0.2764\n",
            "Epoch 291/1000\n",
            "8/8 [==============================] - 0s 9ms/step - loss: 1.5398 - accuracy: 0.3370 - val_loss: 2.0214 - val_accuracy: 0.2837\n",
            "Epoch 292/1000\n",
            "8/8 [==============================] - 0s 9ms/step - loss: 1.5639 - accuracy: 0.3504 - val_loss: 1.9675 - val_accuracy: 0.2716\n",
            "Epoch 293/1000\n",
            "8/8 [==============================] - 0s 9ms/step - loss: 1.6221 - accuracy: 0.3078 - val_loss: 1.8964 - val_accuracy: 0.2788\n",
            "Epoch 294/1000\n",
            "8/8 [==============================] - 0s 10ms/step - loss: 1.5602 - accuracy: 0.3365 - val_loss: 2.0059 - val_accuracy: 0.2380\n",
            "Epoch 295/1000\n",
            "8/8 [==============================] - 0s 8ms/step - loss: 1.5955 - accuracy: 0.3125 - val_loss: 1.8556 - val_accuracy: 0.2837\n",
            "Epoch 296/1000\n",
            "8/8 [==============================] - 0s 10ms/step - loss: 1.5470 - accuracy: 0.3355 - val_loss: 1.8580 - val_accuracy: 0.2909\n",
            "Epoch 297/1000\n",
            "8/8 [==============================] - 0s 8ms/step - loss: 1.5566 - accuracy: 0.3222 - val_loss: 1.9004 - val_accuracy: 0.2716\n",
            "Epoch 298/1000\n",
            "8/8 [==============================] - 0s 10ms/step - loss: 1.5316 - accuracy: 0.3212 - val_loss: 2.0059 - val_accuracy: 0.2885\n",
            "Epoch 299/1000\n",
            "8/8 [==============================] - 0s 10ms/step - loss: 1.5684 - accuracy: 0.3385 - val_loss: 2.0747 - val_accuracy: 0.2596\n",
            "Epoch 300/1000\n",
            "8/8 [==============================] - 0s 9ms/step - loss: 1.6447 - accuracy: 0.3035 - val_loss: 1.9520 - val_accuracy: 0.2812\n",
            "Epoch 301/1000\n",
            "8/8 [==============================] - 0s 8ms/step - loss: 1.5419 - accuracy: 0.3364 - val_loss: 1.9715 - val_accuracy: 0.2812\n",
            "Epoch 302/1000\n",
            "8/8 [==============================] - 0s 9ms/step - loss: 1.5688 - accuracy: 0.3401 - val_loss: 1.8122 - val_accuracy: 0.2861\n",
            "Epoch 303/1000\n",
            "8/8 [==============================] - 0s 10ms/step - loss: 1.5398 - accuracy: 0.3446 - val_loss: 1.8809 - val_accuracy: 0.2788\n",
            "Epoch 304/1000\n",
            "8/8 [==============================] - 0s 9ms/step - loss: 1.5830 - accuracy: 0.3319 - val_loss: 1.9189 - val_accuracy: 0.2644\n",
            "Epoch 305/1000\n",
            "8/8 [==============================] - 0s 9ms/step - loss: 1.5837 - accuracy: 0.3165 - val_loss: 1.8648 - val_accuracy: 0.2909\n",
            "Epoch 306/1000\n",
            "8/8 [==============================] - 0s 10ms/step - loss: 1.5553 - accuracy: 0.3154 - val_loss: 2.1090 - val_accuracy: 0.2452\n",
            "Epoch 307/1000\n",
            "8/8 [==============================] - 0s 8ms/step - loss: 1.6383 - accuracy: 0.3030 - val_loss: 1.8682 - val_accuracy: 0.2764\n",
            "Epoch 308/1000\n",
            "8/8 [==============================] - 0s 9ms/step - loss: 1.5847 - accuracy: 0.3161 - val_loss: 1.8406 - val_accuracy: 0.2740\n",
            "Epoch 309/1000\n",
            "8/8 [==============================] - 0s 9ms/step - loss: 1.5071 - accuracy: 0.3592 - val_loss: 1.7971 - val_accuracy: 0.2981\n",
            "Epoch 310/1000\n",
            "8/8 [==============================] - 0s 9ms/step - loss: 1.5604 - accuracy: 0.3111 - val_loss: 2.2588 - val_accuracy: 0.2668\n",
            "Epoch 311/1000\n",
            "8/8 [==============================] - 0s 10ms/step - loss: 1.6567 - accuracy: 0.2950 - val_loss: 1.9089 - val_accuracy: 0.2885\n",
            "Epoch 312/1000\n",
            "8/8 [==============================] - 0s 8ms/step - loss: 1.5626 - accuracy: 0.3158 - val_loss: 1.8458 - val_accuracy: 0.2812\n",
            "Epoch 313/1000\n",
            "8/8 [==============================] - 0s 9ms/step - loss: 1.5516 - accuracy: 0.3284 - val_loss: 1.9944 - val_accuracy: 0.2716\n",
            "Epoch 314/1000\n",
            "8/8 [==============================] - 0s 8ms/step - loss: 1.5733 - accuracy: 0.3333 - val_loss: 1.8197 - val_accuracy: 0.2764\n",
            "Epoch 315/1000\n",
            "8/8 [==============================] - 0s 24ms/step - loss: 1.5362 - accuracy: 0.3455 - val_loss: 1.8003 - val_accuracy: 0.3053\n",
            "Epoch 316/1000\n",
            "8/8 [==============================] - 0s 7ms/step - loss: 1.5318 - accuracy: 0.3413 - val_loss: 2.0349 - val_accuracy: 0.2500\n",
            "Epoch 317/1000\n",
            "8/8 [==============================] - 0s 8ms/step - loss: 1.6020 - accuracy: 0.3231 - val_loss: 1.8695 - val_accuracy: 0.2957\n",
            "Epoch 318/1000\n",
            "8/8 [==============================] - 0s 8ms/step - loss: 1.5268 - accuracy: 0.3495 - val_loss: 1.9899 - val_accuracy: 0.2861\n",
            "Epoch 319/1000\n",
            "8/8 [==============================] - 0s 8ms/step - loss: 1.5577 - accuracy: 0.3325 - val_loss: 1.8551 - val_accuracy: 0.2812\n",
            "Epoch 320/1000\n",
            "8/8 [==============================] - 0s 7ms/step - loss: 1.5102 - accuracy: 0.3363 - val_loss: 1.8463 - val_accuracy: 0.2740\n",
            "Epoch 321/1000\n",
            "8/8 [==============================] - 0s 8ms/step - loss: 1.5318 - accuracy: 0.3301 - val_loss: 1.9007 - val_accuracy: 0.2668\n",
            "Epoch 322/1000\n",
            "8/8 [==============================] - 0s 7ms/step - loss: 1.5577 - accuracy: 0.3123 - val_loss: 1.8694 - val_accuracy: 0.2788\n",
            "Epoch 323/1000\n",
            "8/8 [==============================] - 0s 13ms/step - loss: 1.5273 - accuracy: 0.3435 - val_loss: 2.3464 - val_accuracy: 0.2692\n",
            "Epoch 324/1000\n",
            "8/8 [==============================] - 0s 9ms/step - loss: 1.7336 - accuracy: 0.2908 - val_loss: 2.1845 - val_accuracy: 0.2572\n",
            "Epoch 325/1000\n",
            "8/8 [==============================] - 0s 8ms/step - loss: 1.6527 - accuracy: 0.3172 - val_loss: 1.8497 - val_accuracy: 0.2644\n",
            "Epoch 326/1000\n",
            "8/8 [==============================] - 0s 9ms/step - loss: 1.5054 - accuracy: 0.3394 - val_loss: 1.8740 - val_accuracy: 0.2620\n",
            "Epoch 327/1000\n",
            "8/8 [==============================] - 0s 9ms/step - loss: 1.5597 - accuracy: 0.3301 - val_loss: 1.7816 - val_accuracy: 0.2957\n",
            "Epoch 328/1000\n",
            "8/8 [==============================] - 0s 9ms/step - loss: 1.5798 - accuracy: 0.3054 - val_loss: 1.8605 - val_accuracy: 0.2764\n",
            "Epoch 329/1000\n",
            "8/8 [==============================] - 0s 8ms/step - loss: 1.5659 - accuracy: 0.3233 - val_loss: 1.8932 - val_accuracy: 0.2764\n",
            "Epoch 330/1000\n",
            "8/8 [==============================] - 0s 7ms/step - loss: 1.5378 - accuracy: 0.3460 - val_loss: 1.8638 - val_accuracy: 0.2909\n",
            "Epoch 331/1000\n",
            "8/8 [==============================] - 0s 8ms/step - loss: 1.5310 - accuracy: 0.3456 - val_loss: 1.9196 - val_accuracy: 0.3101\n",
            "Epoch 332/1000\n",
            "8/8 [==============================] - 0s 9ms/step - loss: 1.5543 - accuracy: 0.3328 - val_loss: 2.0192 - val_accuracy: 0.2716\n",
            "Epoch 333/1000\n",
            "8/8 [==============================] - 0s 8ms/step - loss: 1.5800 - accuracy: 0.3508 - val_loss: 1.8657 - val_accuracy: 0.2861\n",
            "Epoch 334/1000\n",
            "8/8 [==============================] - 0s 9ms/step - loss: 1.5570 - accuracy: 0.3326 - val_loss: 1.9903 - val_accuracy: 0.2812\n",
            "Epoch 335/1000\n",
            "8/8 [==============================] - 0s 8ms/step - loss: 1.5746 - accuracy: 0.3268 - val_loss: 1.9973 - val_accuracy: 0.3029\n",
            "Epoch 336/1000\n",
            "8/8 [==============================] - 0s 8ms/step - loss: 1.5295 - accuracy: 0.3335 - val_loss: 2.0534 - val_accuracy: 0.2692\n",
            "Epoch 337/1000\n",
            "8/8 [==============================] - 0s 9ms/step - loss: 1.5935 - accuracy: 0.3158 - val_loss: 1.8800 - val_accuracy: 0.3029\n",
            "Epoch 338/1000\n",
            "8/8 [==============================] - 0s 8ms/step - loss: 1.5382 - accuracy: 0.3560 - val_loss: 1.8018 - val_accuracy: 0.3101\n",
            "Epoch 339/1000\n",
            "8/8 [==============================] - 0s 9ms/step - loss: 1.5273 - accuracy: 0.3539 - val_loss: 1.9111 - val_accuracy: 0.2668\n",
            "Epoch 340/1000\n",
            "8/8 [==============================] - 0s 9ms/step - loss: 1.5636 - accuracy: 0.3252 - val_loss: 1.9897 - val_accuracy: 0.3029\n",
            "Epoch 341/1000\n",
            "8/8 [==============================] - 0s 9ms/step - loss: 1.5740 - accuracy: 0.3292 - val_loss: 1.9198 - val_accuracy: 0.2861\n",
            "Epoch 342/1000\n",
            "8/8 [==============================] - 0s 8ms/step - loss: 1.5587 - accuracy: 0.3365 - val_loss: 2.0302 - val_accuracy: 0.3029\n",
            "Epoch 343/1000\n",
            "8/8 [==============================] - 0s 9ms/step - loss: 1.5513 - accuracy: 0.3584 - val_loss: 1.8444 - val_accuracy: 0.2788\n",
            "Epoch 344/1000\n",
            "8/8 [==============================] - 0s 8ms/step - loss: 1.5509 - accuracy: 0.3207 - val_loss: 1.9422 - val_accuracy: 0.2740\n",
            "Epoch 345/1000\n",
            "8/8 [==============================] - 0s 8ms/step - loss: 1.5263 - accuracy: 0.3351 - val_loss: 1.9289 - val_accuracy: 0.2740\n",
            "Epoch 346/1000\n",
            "8/8 [==============================] - 0s 8ms/step - loss: 1.5475 - accuracy: 0.3208 - val_loss: 2.0324 - val_accuracy: 0.2548\n",
            "Epoch 347/1000\n",
            "8/8 [==============================] - 0s 11ms/step - loss: 1.6263 - accuracy: 0.2963 - val_loss: 1.8667 - val_accuracy: 0.2668\n",
            "Epoch 348/1000\n",
            "8/8 [==============================] - 0s 9ms/step - loss: 1.5243 - accuracy: 0.3174 - val_loss: 1.8054 - val_accuracy: 0.3053\n",
            "Epoch 349/1000\n",
            "8/8 [==============================] - 0s 9ms/step - loss: 1.5273 - accuracy: 0.3502 - val_loss: 1.9008 - val_accuracy: 0.2861\n",
            "Epoch 350/1000\n",
            "8/8 [==============================] - 0s 10ms/step - loss: 1.5251 - accuracy: 0.3395 - val_loss: 1.9104 - val_accuracy: 0.2572\n",
            "Epoch 351/1000\n",
            "8/8 [==============================] - 0s 8ms/step - loss: 1.5344 - accuracy: 0.3479 - val_loss: 1.9095 - val_accuracy: 0.2837\n",
            "Epoch 352/1000\n",
            "8/8 [==============================] - 0s 10ms/step - loss: 1.5347 - accuracy: 0.3565 - val_loss: 1.8353 - val_accuracy: 0.3101\n",
            "Epoch 353/1000\n",
            "8/8 [==============================] - 0s 8ms/step - loss: 1.5147 - accuracy: 0.3499 - val_loss: 1.9071 - val_accuracy: 0.2933\n",
            "Epoch 354/1000\n",
            "8/8 [==============================] - 0s 7ms/step - loss: 1.5395 - accuracy: 0.3351 - val_loss: 1.9599 - val_accuracy: 0.2428\n",
            "Epoch 355/1000\n",
            "8/8 [==============================] - 0s 8ms/step - loss: 1.5986 - accuracy: 0.3115 - val_loss: 1.8899 - val_accuracy: 0.2837\n",
            "Epoch 356/1000\n",
            "8/8 [==============================] - 0s 10ms/step - loss: 1.5447 - accuracy: 0.3449 - val_loss: 1.9620 - val_accuracy: 0.2788\n",
            "Epoch 357/1000\n",
            "8/8 [==============================] - 0s 8ms/step - loss: 1.5777 - accuracy: 0.3461 - val_loss: 1.8925 - val_accuracy: 0.2788\n",
            "Epoch 358/1000\n",
            "8/8 [==============================] - 0s 8ms/step - loss: 1.5880 - accuracy: 0.3064 - val_loss: 1.8378 - val_accuracy: 0.2861\n",
            "Epoch 359/1000\n",
            "8/8 [==============================] - 0s 26ms/step - loss: 1.5166 - accuracy: 0.3347 - val_loss: 2.3161 - val_accuracy: 0.2812\n",
            "Epoch 360/1000\n",
            "8/8 [==============================] - 0s 8ms/step - loss: 1.6721 - accuracy: 0.3213 - val_loss: 1.8388 - val_accuracy: 0.2933\n",
            "Epoch 361/1000\n",
            "8/8 [==============================] - 0s 9ms/step - loss: 1.4974 - accuracy: 0.3663 - val_loss: 1.8927 - val_accuracy: 0.2837\n",
            "Epoch 362/1000\n",
            "8/8 [==============================] - 0s 7ms/step - loss: 1.5218 - accuracy: 0.3435 - val_loss: 2.0159 - val_accuracy: 0.2716\n",
            "Epoch 363/1000\n",
            "8/8 [==============================] - 0s 8ms/step - loss: 1.5678 - accuracy: 0.3664 - val_loss: 1.9958 - val_accuracy: 0.2668\n",
            "Epoch 364/1000\n",
            "8/8 [==============================] - 0s 8ms/step - loss: 1.5934 - accuracy: 0.3366 - val_loss: 1.8867 - val_accuracy: 0.2668\n",
            "Epoch 365/1000\n",
            "8/8 [==============================] - 0s 10ms/step - loss: 1.5469 - accuracy: 0.3504 - val_loss: 1.8623 - val_accuracy: 0.3029\n",
            "Epoch 366/1000\n",
            "8/8 [==============================] - 0s 9ms/step - loss: 1.5175 - accuracy: 0.3652 - val_loss: 1.9679 - val_accuracy: 0.2740\n",
            "Epoch 367/1000\n",
            "8/8 [==============================] - 0s 9ms/step - loss: 1.4835 - accuracy: 0.3671 - val_loss: 1.8805 - val_accuracy: 0.2885\n",
            "Epoch 368/1000\n",
            "8/8 [==============================] - 0s 8ms/step - loss: 1.4936 - accuracy: 0.3635 - val_loss: 2.0481 - val_accuracy: 0.2837\n",
            "Epoch 369/1000\n",
            "8/8 [==============================] - 0s 8ms/step - loss: 1.5249 - accuracy: 0.3499 - val_loss: 1.9890 - val_accuracy: 0.2764\n",
            "Epoch 370/1000\n",
            "8/8 [==============================] - 0s 8ms/step - loss: 1.5451 - accuracy: 0.3499 - val_loss: 1.8834 - val_accuracy: 0.2957\n",
            "Epoch 371/1000\n",
            "8/8 [==============================] - 0s 8ms/step - loss: 1.5268 - accuracy: 0.3488 - val_loss: 1.9873 - val_accuracy: 0.2861\n",
            "Epoch 372/1000\n",
            "8/8 [==============================] - 0s 8ms/step - loss: 1.5166 - accuracy: 0.3587 - val_loss: 1.9188 - val_accuracy: 0.2837\n",
            "Epoch 373/1000\n",
            "8/8 [==============================] - 0s 9ms/step - loss: 1.5640 - accuracy: 0.3178 - val_loss: 1.9797 - val_accuracy: 0.2837\n",
            "Epoch 374/1000\n",
            "8/8 [==============================] - 0s 8ms/step - loss: 1.5619 - accuracy: 0.3395 - val_loss: 2.0443 - val_accuracy: 0.2885\n",
            "Epoch 375/1000\n",
            "8/8 [==============================] - 0s 8ms/step - loss: 1.5604 - accuracy: 0.3543 - val_loss: 1.8699 - val_accuracy: 0.2788\n",
            "Epoch 376/1000\n",
            "8/8 [==============================] - 0s 8ms/step - loss: 1.4922 - accuracy: 0.3459 - val_loss: 1.9138 - val_accuracy: 0.2933\n",
            "Epoch 377/1000\n",
            "8/8 [==============================] - 0s 9ms/step - loss: 1.5125 - accuracy: 0.3481 - val_loss: 1.9607 - val_accuracy: 0.2861\n",
            "Epoch 378/1000\n",
            "8/8 [==============================] - 0s 9ms/step - loss: 1.5305 - accuracy: 0.3434 - val_loss: 1.9714 - val_accuracy: 0.2909\n",
            "Epoch 379/1000\n",
            "8/8 [==============================] - 0s 8ms/step - loss: 1.5512 - accuracy: 0.3438 - val_loss: 1.8993 - val_accuracy: 0.2861\n",
            "Epoch 380/1000\n",
            "8/8 [==============================] - 0s 9ms/step - loss: 1.5431 - accuracy: 0.3279 - val_loss: 1.9526 - val_accuracy: 0.2957\n",
            "Epoch 381/1000\n",
            "8/8 [==============================] - 0s 8ms/step - loss: 1.5122 - accuracy: 0.3413 - val_loss: 1.9409 - val_accuracy: 0.2909\n",
            "Epoch 382/1000\n",
            "8/8 [==============================] - 0s 8ms/step - loss: 1.5243 - accuracy: 0.3590 - val_loss: 2.0811 - val_accuracy: 0.2861\n",
            "Epoch 383/1000\n",
            "8/8 [==============================] - 0s 8ms/step - loss: 1.5784 - accuracy: 0.3302 - val_loss: 2.0003 - val_accuracy: 0.2500\n",
            "Epoch 384/1000\n",
            "8/8 [==============================] - 0s 8ms/step - loss: 1.5969 - accuracy: 0.3117 - val_loss: 1.8539 - val_accuracy: 0.2981\n",
            "Epoch 385/1000\n",
            "8/8 [==============================] - 0s 9ms/step - loss: 1.4975 - accuracy: 0.3575 - val_loss: 2.0764 - val_accuracy: 0.2909\n",
            "Epoch 386/1000\n",
            "8/8 [==============================] - 0s 8ms/step - loss: 1.5841 - accuracy: 0.3439 - val_loss: 1.8403 - val_accuracy: 0.3053\n",
            "Epoch 387/1000\n",
            "8/8 [==============================] - 0s 8ms/step - loss: 1.5366 - accuracy: 0.3365 - val_loss: 2.0293 - val_accuracy: 0.2933\n",
            "Epoch 388/1000\n",
            "8/8 [==============================] - 0s 8ms/step - loss: 1.5779 - accuracy: 0.3263 - val_loss: 1.9638 - val_accuracy: 0.3029\n",
            "Epoch 389/1000\n",
            "8/8 [==============================] - 0s 9ms/step - loss: 1.5194 - accuracy: 0.3686 - val_loss: 1.8203 - val_accuracy: 0.3149\n",
            "Epoch 390/1000\n",
            "8/8 [==============================] - 0s 8ms/step - loss: 1.4986 - accuracy: 0.3594 - val_loss: 1.9871 - val_accuracy: 0.2452\n",
            "Epoch 391/1000\n",
            "8/8 [==============================] - 0s 8ms/step - loss: 1.5830 - accuracy: 0.3067 - val_loss: 1.8805 - val_accuracy: 0.2788\n",
            "Epoch 392/1000\n",
            "8/8 [==============================] - 0s 8ms/step - loss: 1.5380 - accuracy: 0.3259 - val_loss: 1.8860 - val_accuracy: 0.3101\n",
            "Epoch 393/1000\n",
            "8/8 [==============================] - 0s 9ms/step - loss: 1.4948 - accuracy: 0.3524 - val_loss: 1.9396 - val_accuracy: 0.2764\n",
            "Epoch 394/1000\n",
            "8/8 [==============================] - 0s 8ms/step - loss: 1.5289 - accuracy: 0.3407 - val_loss: 1.9050 - val_accuracy: 0.2788\n",
            "Epoch 395/1000\n",
            "8/8 [==============================] - 0s 9ms/step - loss: 1.5316 - accuracy: 0.3301 - val_loss: 1.9148 - val_accuracy: 0.2861\n",
            "Epoch 396/1000\n",
            "8/8 [==============================] - 0s 9ms/step - loss: 1.5045 - accuracy: 0.3423 - val_loss: 1.9223 - val_accuracy: 0.2933\n",
            "Epoch 397/1000\n",
            "8/8 [==============================] - 0s 9ms/step - loss: 1.4767 - accuracy: 0.3471 - val_loss: 2.0571 - val_accuracy: 0.2885\n",
            "Epoch 398/1000\n",
            "8/8 [==============================] - 0s 8ms/step - loss: 1.5513 - accuracy: 0.3388 - val_loss: 1.9565 - val_accuracy: 0.2909\n",
            "Epoch 399/1000\n",
            "8/8 [==============================] - 0s 9ms/step - loss: 1.5143 - accuracy: 0.3669 - val_loss: 1.9080 - val_accuracy: 0.2957\n",
            "Epoch 400/1000\n",
            "8/8 [==============================] - 0s 8ms/step - loss: 1.5386 - accuracy: 0.3452 - val_loss: 2.0853 - val_accuracy: 0.2596\n",
            "Epoch 401/1000\n",
            "8/8 [==============================] - 0s 8ms/step - loss: 1.5543 - accuracy: 0.3269 - val_loss: 1.9362 - val_accuracy: 0.3005\n",
            "Epoch 402/1000\n",
            "8/8 [==============================] - 0s 8ms/step - loss: 1.5045 - accuracy: 0.3661 - val_loss: 1.9255 - val_accuracy: 0.2933\n",
            "Epoch 403/1000\n",
            "8/8 [==============================] - 0s 25ms/step - loss: 1.4943 - accuracy: 0.3706 - val_loss: 2.0266 - val_accuracy: 0.2764\n",
            "Epoch 404/1000\n",
            "8/8 [==============================] - 0s 8ms/step - loss: 1.5314 - accuracy: 0.3334 - val_loss: 1.8939 - val_accuracy: 0.2957\n",
            "Epoch 405/1000\n",
            "8/8 [==============================] - 0s 8ms/step - loss: 1.5457 - accuracy: 0.3255 - val_loss: 1.9727 - val_accuracy: 0.2788\n",
            "Epoch 406/1000\n",
            "8/8 [==============================] - 0s 9ms/step - loss: 1.5229 - accuracy: 0.3509 - val_loss: 2.0048 - val_accuracy: 0.2764\n",
            "Epoch 407/1000\n",
            "8/8 [==============================] - 0s 8ms/step - loss: 1.5505 - accuracy: 0.3582 - val_loss: 2.1619 - val_accuracy: 0.2861\n",
            "Epoch 408/1000\n",
            "8/8 [==============================] - 0s 10ms/step - loss: 1.6461 - accuracy: 0.3205 - val_loss: 1.8969 - val_accuracy: 0.2885\n",
            "Epoch 409/1000\n",
            "8/8 [==============================] - 0s 8ms/step - loss: 1.5052 - accuracy: 0.3388 - val_loss: 1.8309 - val_accuracy: 0.2909\n",
            "Epoch 410/1000\n",
            "8/8 [==============================] - 0s 8ms/step - loss: 1.4879 - accuracy: 0.3505 - val_loss: 1.9668 - val_accuracy: 0.2740\n",
            "Epoch 411/1000\n",
            "8/8 [==============================] - 0s 9ms/step - loss: 1.5639 - accuracy: 0.3120 - val_loss: 1.9697 - val_accuracy: 0.2861\n",
            "Epoch 412/1000\n",
            "8/8 [==============================] - 0s 9ms/step - loss: 1.5318 - accuracy: 0.3739 - val_loss: 2.0128 - val_accuracy: 0.2692\n",
            "Epoch 413/1000\n",
            "8/8 [==============================] - 0s 9ms/step - loss: 1.5266 - accuracy: 0.3584 - val_loss: 1.8497 - val_accuracy: 0.3149\n",
            "Epoch 414/1000\n",
            "8/8 [==============================] - 0s 8ms/step - loss: 1.5065 - accuracy: 0.3514 - val_loss: 1.9403 - val_accuracy: 0.2885\n",
            "Epoch 415/1000\n",
            "8/8 [==============================] - 0s 9ms/step - loss: 1.5173 - accuracy: 0.3665 - val_loss: 1.9703 - val_accuracy: 0.2764\n",
            "Epoch 416/1000\n",
            "8/8 [==============================] - 0s 9ms/step - loss: 1.5301 - accuracy: 0.3437 - val_loss: 2.0556 - val_accuracy: 0.2861\n",
            "Epoch 417/1000\n",
            "8/8 [==============================] - 0s 7ms/step - loss: 1.5751 - accuracy: 0.3236 - val_loss: 1.8545 - val_accuracy: 0.3029\n",
            "Epoch 418/1000\n",
            "8/8 [==============================] - 0s 8ms/step - loss: 1.4817 - accuracy: 0.3549 - val_loss: 1.9986 - val_accuracy: 0.2788\n",
            "Epoch 419/1000\n",
            "8/8 [==============================] - 0s 8ms/step - loss: 1.5220 - accuracy: 0.3544 - val_loss: 2.0507 - val_accuracy: 0.2861\n",
            "Epoch 420/1000\n",
            "8/8 [==============================] - 0s 8ms/step - loss: 1.5593 - accuracy: 0.3522 - val_loss: 1.8951 - val_accuracy: 0.2933\n",
            "Epoch 421/1000\n",
            "8/8 [==============================] - 0s 8ms/step - loss: 1.5208 - accuracy: 0.3645 - val_loss: 1.9178 - val_accuracy: 0.2837\n",
            "Epoch 422/1000\n",
            "8/8 [==============================] - 0s 8ms/step - loss: 1.5057 - accuracy: 0.3649 - val_loss: 1.9187 - val_accuracy: 0.2909\n",
            "Epoch 423/1000\n",
            "8/8 [==============================] - 0s 9ms/step - loss: 1.4781 - accuracy: 0.3543 - val_loss: 1.8305 - val_accuracy: 0.3101\n",
            "Epoch 424/1000\n",
            "8/8 [==============================] - 0s 8ms/step - loss: 1.5032 - accuracy: 0.3477 - val_loss: 1.8459 - val_accuracy: 0.3029\n",
            "Epoch 425/1000\n",
            "8/8 [==============================] - 0s 8ms/step - loss: 1.4926 - accuracy: 0.3639 - val_loss: 1.8829 - val_accuracy: 0.3053\n",
            "Epoch 426/1000\n",
            "8/8 [==============================] - 0s 8ms/step - loss: 1.4833 - accuracy: 0.3658 - val_loss: 1.9242 - val_accuracy: 0.2885\n",
            "Epoch 427/1000\n",
            "8/8 [==============================] - 0s 9ms/step - loss: 1.5003 - accuracy: 0.3539 - val_loss: 1.9328 - val_accuracy: 0.2909\n",
            "Epoch 428/1000\n",
            "8/8 [==============================] - 0s 9ms/step - loss: 1.4491 - accuracy: 0.3815 - val_loss: 1.8739 - val_accuracy: 0.3125\n",
            "Epoch 429/1000\n",
            "8/8 [==============================] - 0s 9ms/step - loss: 1.4839 - accuracy: 0.3678 - val_loss: 1.9935 - val_accuracy: 0.2885\n",
            "Epoch 430/1000\n",
            "8/8 [==============================] - 0s 8ms/step - loss: 1.4980 - accuracy: 0.3657 - val_loss: 2.0749 - val_accuracy: 0.2981\n",
            "Epoch 431/1000\n",
            "8/8 [==============================] - 0s 7ms/step - loss: 1.5262 - accuracy: 0.3722 - val_loss: 1.8605 - val_accuracy: 0.2981\n",
            "Epoch 432/1000\n",
            "8/8 [==============================] - 0s 8ms/step - loss: 1.4742 - accuracy: 0.3515 - val_loss: 1.8949 - val_accuracy: 0.2861\n",
            "Epoch 433/1000\n",
            "8/8 [==============================] - 0s 8ms/step - loss: 1.4504 - accuracy: 0.3794 - val_loss: 1.9766 - val_accuracy: 0.2788\n",
            "Epoch 434/1000\n",
            "8/8 [==============================] - 0s 9ms/step - loss: 1.4896 - accuracy: 0.3465 - val_loss: 1.8467 - val_accuracy: 0.3053\n",
            "Epoch 435/1000\n",
            "8/8 [==============================] - 0s 9ms/step - loss: 1.5098 - accuracy: 0.3442 - val_loss: 1.8333 - val_accuracy: 0.2909\n",
            "Epoch 436/1000\n",
            "8/8 [==============================] - 0s 8ms/step - loss: 1.4628 - accuracy: 0.3616 - val_loss: 1.9432 - val_accuracy: 0.3053\n",
            "Epoch 437/1000\n",
            "8/8 [==============================] - 0s 9ms/step - loss: 1.5183 - accuracy: 0.3610 - val_loss: 1.9199 - val_accuracy: 0.3005\n",
            "Epoch 438/1000\n",
            "8/8 [==============================] - 0s 10ms/step - loss: 1.4933 - accuracy: 0.3685 - val_loss: 1.8865 - val_accuracy: 0.2861\n",
            "Epoch 439/1000\n",
            "8/8 [==============================] - 0s 8ms/step - loss: 1.4766 - accuracy: 0.3692 - val_loss: 1.9476 - val_accuracy: 0.2885\n",
            "Epoch 440/1000\n",
            "8/8 [==============================] - 0s 8ms/step - loss: 1.5205 - accuracy: 0.3435 - val_loss: 1.8924 - val_accuracy: 0.2933\n",
            "Epoch 441/1000\n",
            "8/8 [==============================] - 0s 8ms/step - loss: 1.4987 - accuracy: 0.3636 - val_loss: 1.8203 - val_accuracy: 0.2933\n",
            "Epoch 442/1000\n",
            "8/8 [==============================] - 0s 8ms/step - loss: 1.5000 - accuracy: 0.3575 - val_loss: 1.9702 - val_accuracy: 0.2812\n",
            "Epoch 443/1000\n",
            "8/8 [==============================] - 0s 9ms/step - loss: 1.5488 - accuracy: 0.3566 - val_loss: 1.8958 - val_accuracy: 0.2812\n",
            "Epoch 444/1000\n",
            "8/8 [==============================] - 0s 9ms/step - loss: 1.4731 - accuracy: 0.3605 - val_loss: 1.9743 - val_accuracy: 0.2837\n",
            "Epoch 445/1000\n",
            "8/8 [==============================] - 0s 9ms/step - loss: 1.4874 - accuracy: 0.3634 - val_loss: 2.1945 - val_accuracy: 0.3005\n",
            "Epoch 446/1000\n",
            "8/8 [==============================] - 0s 8ms/step - loss: 1.5503 - accuracy: 0.3542 - val_loss: 2.1158 - val_accuracy: 0.2885\n",
            "Epoch 447/1000\n",
            "8/8 [==============================] - 0s 26ms/step - loss: 1.4829 - accuracy: 0.3812 - val_loss: 1.8593 - val_accuracy: 0.3029\n",
            "Epoch 448/1000\n",
            "8/8 [==============================] - 0s 9ms/step - loss: 1.4840 - accuracy: 0.3481 - val_loss: 1.9792 - val_accuracy: 0.2981\n",
            "Epoch 449/1000\n",
            "8/8 [==============================] - 0s 8ms/step - loss: 1.4891 - accuracy: 0.3634 - val_loss: 2.0187 - val_accuracy: 0.2909\n",
            "Epoch 450/1000\n",
            "8/8 [==============================] - 0s 8ms/step - loss: 1.5382 - accuracy: 0.3352 - val_loss: 2.0153 - val_accuracy: 0.2861\n",
            "Epoch 451/1000\n",
            "8/8 [==============================] - 0s 8ms/step - loss: 1.5340 - accuracy: 0.3645 - val_loss: 1.9750 - val_accuracy: 0.2644\n",
            "Epoch 452/1000\n",
            "8/8 [==============================] - 0s 8ms/step - loss: 1.5540 - accuracy: 0.3159 - val_loss: 1.9384 - val_accuracy: 0.2812\n",
            "Epoch 453/1000\n",
            "8/8 [==============================] - 0s 8ms/step - loss: 1.5549 - accuracy: 0.3111 - val_loss: 1.8521 - val_accuracy: 0.3029\n",
            "Epoch 454/1000\n",
            "8/8 [==============================] - 0s 9ms/step - loss: 1.5028 - accuracy: 0.3429 - val_loss: 1.9165 - val_accuracy: 0.3077\n",
            "Epoch 455/1000\n",
            "8/8 [==============================] - 0s 9ms/step - loss: 1.4847 - accuracy: 0.3703 - val_loss: 1.9220 - val_accuracy: 0.2788\n",
            "Epoch 456/1000\n",
            "8/8 [==============================] - 0s 10ms/step - loss: 1.4967 - accuracy: 0.3460 - val_loss: 1.9539 - val_accuracy: 0.2933\n",
            "Epoch 457/1000\n",
            "8/8 [==============================] - 0s 8ms/step - loss: 1.5106 - accuracy: 0.3624 - val_loss: 2.0728 - val_accuracy: 0.2837\n",
            "Epoch 458/1000\n",
            "8/8 [==============================] - 0s 8ms/step - loss: 1.4779 - accuracy: 0.3840 - val_loss: 1.9326 - val_accuracy: 0.2909\n",
            "Epoch 459/1000\n",
            "8/8 [==============================] - 0s 8ms/step - loss: 1.4981 - accuracy: 0.3565 - val_loss: 1.9198 - val_accuracy: 0.2764\n",
            "Epoch 460/1000\n",
            "8/8 [==============================] - 0s 7ms/step - loss: 1.5525 - accuracy: 0.3348 - val_loss: 1.8826 - val_accuracy: 0.2933\n",
            "Epoch 461/1000\n",
            "8/8 [==============================] - 0s 8ms/step - loss: 1.4754 - accuracy: 0.3726 - val_loss: 1.8580 - val_accuracy: 0.3197\n",
            "Epoch 462/1000\n",
            "8/8 [==============================] - 0s 9ms/step - loss: 1.4756 - accuracy: 0.3727 - val_loss: 1.9038 - val_accuracy: 0.3197\n",
            "Epoch 463/1000\n",
            "8/8 [==============================] - 0s 8ms/step - loss: 1.4962 - accuracy: 0.3654 - val_loss: 2.0806 - val_accuracy: 0.2812\n",
            "Epoch 464/1000\n",
            "8/8 [==============================] - 0s 8ms/step - loss: 1.4868 - accuracy: 0.3831 - val_loss: 1.9408 - val_accuracy: 0.2981\n",
            "Epoch 465/1000\n",
            "8/8 [==============================] - 0s 9ms/step - loss: 1.4553 - accuracy: 0.3861 - val_loss: 1.9527 - val_accuracy: 0.2957\n",
            "Epoch 466/1000\n",
            "8/8 [==============================] - 0s 8ms/step - loss: 1.4593 - accuracy: 0.3828 - val_loss: 1.8905 - val_accuracy: 0.2981\n",
            "Epoch 467/1000\n",
            "8/8 [==============================] - 0s 8ms/step - loss: 1.4931 - accuracy: 0.3572 - val_loss: 2.1007 - val_accuracy: 0.2861\n",
            "Epoch 468/1000\n",
            "8/8 [==============================] - 0s 9ms/step - loss: 1.5898 - accuracy: 0.3421 - val_loss: 1.9342 - val_accuracy: 0.2957\n",
            "Epoch 469/1000\n",
            "8/8 [==============================] - 0s 9ms/step - loss: 1.4666 - accuracy: 0.3622 - val_loss: 1.8922 - val_accuracy: 0.2861\n",
            "Epoch 470/1000\n",
            "8/8 [==============================] - 0s 10ms/step - loss: 1.4594 - accuracy: 0.3710 - val_loss: 1.8594 - val_accuracy: 0.3149\n",
            "Epoch 471/1000\n",
            "8/8 [==============================] - 0s 8ms/step - loss: 1.4545 - accuracy: 0.3992 - val_loss: 1.9295 - val_accuracy: 0.2909\n",
            "Epoch 472/1000\n",
            "8/8 [==============================] - 0s 7ms/step - loss: 1.5156 - accuracy: 0.3589 - val_loss: 1.9699 - val_accuracy: 0.2885\n",
            "Epoch 473/1000\n",
            "8/8 [==============================] - 0s 10ms/step - loss: 1.4467 - accuracy: 0.3780 - val_loss: 2.1914 - val_accuracy: 0.2812\n",
            "Epoch 474/1000\n",
            "8/8 [==============================] - 0s 9ms/step - loss: 1.5199 - accuracy: 0.3821 - val_loss: 2.0877 - val_accuracy: 0.2524\n",
            "Epoch 475/1000\n",
            "8/8 [==============================] - 0s 8ms/step - loss: 1.5993 - accuracy: 0.2927 - val_loss: 1.8731 - val_accuracy: 0.2909\n",
            "Epoch 476/1000\n",
            "8/8 [==============================] - 0s 9ms/step - loss: 1.4728 - accuracy: 0.3635 - val_loss: 1.8666 - val_accuracy: 0.2909\n",
            "Epoch 477/1000\n",
            "8/8 [==============================] - 0s 8ms/step - loss: 1.4673 - accuracy: 0.3727 - val_loss: 1.8951 - val_accuracy: 0.2909\n",
            "Epoch 478/1000\n",
            "8/8 [==============================] - 0s 9ms/step - loss: 1.4581 - accuracy: 0.3570 - val_loss: 2.0717 - val_accuracy: 0.3077\n",
            "Epoch 479/1000\n",
            "8/8 [==============================] - 0s 8ms/step - loss: 1.5147 - accuracy: 0.3620 - val_loss: 1.9355 - val_accuracy: 0.3029\n",
            "Epoch 480/1000\n",
            "8/8 [==============================] - 0s 9ms/step - loss: 1.4812 - accuracy: 0.3749 - val_loss: 2.0763 - val_accuracy: 0.2812\n",
            "Epoch 481/1000\n",
            "8/8 [==============================] - 0s 7ms/step - loss: 1.4902 - accuracy: 0.3705 - val_loss: 1.8844 - val_accuracy: 0.2861\n",
            "Epoch 482/1000\n",
            "8/8 [==============================] - 0s 9ms/step - loss: 1.4802 - accuracy: 0.3747 - val_loss: 2.2572 - val_accuracy: 0.2788\n",
            "Epoch 483/1000\n",
            "8/8 [==============================] - 0s 8ms/step - loss: 1.5631 - accuracy: 0.3682 - val_loss: 1.8826 - val_accuracy: 0.2957\n",
            "Epoch 484/1000\n",
            "8/8 [==============================] - 0s 8ms/step - loss: 1.4857 - accuracy: 0.3792 - val_loss: 2.0756 - val_accuracy: 0.2764\n",
            "Epoch 485/1000\n",
            "8/8 [==============================] - 0s 9ms/step - loss: 1.5009 - accuracy: 0.3733 - val_loss: 1.9031 - val_accuracy: 0.2788\n",
            "Epoch 486/1000\n",
            "8/8 [==============================] - 0s 8ms/step - loss: 1.4564 - accuracy: 0.3645 - val_loss: 2.1264 - val_accuracy: 0.2812\n",
            "Epoch 487/1000\n",
            "8/8 [==============================] - 0s 8ms/step - loss: 1.5654 - accuracy: 0.3472 - val_loss: 1.9293 - val_accuracy: 0.3029\n",
            "Epoch 488/1000\n",
            "8/8 [==============================] - 0s 8ms/step - loss: 1.4752 - accuracy: 0.3555 - val_loss: 1.9290 - val_accuracy: 0.3029\n",
            "Epoch 489/1000\n",
            "8/8 [==============================] - 0s 8ms/step - loss: 1.4966 - accuracy: 0.3798 - val_loss: 2.0311 - val_accuracy: 0.2861\n",
            "Epoch 490/1000\n",
            "8/8 [==============================] - 0s 9ms/step - loss: 1.4557 - accuracy: 0.3843 - val_loss: 2.2891 - val_accuracy: 0.2716\n",
            "Epoch 491/1000\n",
            "8/8 [==============================] - 0s 25ms/step - loss: 1.5713 - accuracy: 0.3589 - val_loss: 1.9619 - val_accuracy: 0.2909\n",
            "Epoch 492/1000\n",
            "8/8 [==============================] - 0s 8ms/step - loss: 1.5002 - accuracy: 0.3440 - val_loss: 1.8489 - val_accuracy: 0.3077\n",
            "Epoch 493/1000\n",
            "8/8 [==============================] - 0s 9ms/step - loss: 1.4764 - accuracy: 0.3586 - val_loss: 1.9637 - val_accuracy: 0.2981\n",
            "Epoch 494/1000\n",
            "8/8 [==============================] - 0s 9ms/step - loss: 1.4831 - accuracy: 0.3588 - val_loss: 1.8648 - val_accuracy: 0.2861\n",
            "Epoch 495/1000\n",
            "8/8 [==============================] - 0s 8ms/step - loss: 1.4498 - accuracy: 0.3831 - val_loss: 2.0634 - val_accuracy: 0.2620\n",
            "Epoch 496/1000\n",
            "8/8 [==============================] - 0s 8ms/step - loss: 1.5599 - accuracy: 0.3592 - val_loss: 1.8779 - val_accuracy: 0.3077\n",
            "Epoch 497/1000\n",
            "8/8 [==============================] - 0s 9ms/step - loss: 1.4512 - accuracy: 0.3805 - val_loss: 1.9685 - val_accuracy: 0.2885\n",
            "Epoch 498/1000\n",
            "8/8 [==============================] - 0s 7ms/step - loss: 1.4826 - accuracy: 0.3594 - val_loss: 2.2907 - val_accuracy: 0.2933\n",
            "Epoch 499/1000\n",
            "8/8 [==============================] - 0s 8ms/step - loss: 1.5308 - accuracy: 0.3533 - val_loss: 2.0094 - val_accuracy: 0.2957\n",
            "Epoch 500/1000\n",
            "8/8 [==============================] - 0s 8ms/step - loss: 1.4807 - accuracy: 0.3696 - val_loss: 2.0002 - val_accuracy: 0.2812\n",
            "Epoch 501/1000\n",
            "8/8 [==============================] - 0s 11ms/step - loss: 1.4789 - accuracy: 0.3665 - val_loss: 2.0534 - val_accuracy: 0.2981\n",
            "Epoch 502/1000\n",
            "8/8 [==============================] - 0s 10ms/step - loss: 1.5037 - accuracy: 0.3891 - val_loss: 1.9169 - val_accuracy: 0.2909\n",
            "Epoch 503/1000\n",
            "8/8 [==============================] - 0s 8ms/step - loss: 1.4856 - accuracy: 0.3610 - val_loss: 1.8953 - val_accuracy: 0.3077\n",
            "Epoch 504/1000\n",
            "8/8 [==============================] - 0s 8ms/step - loss: 1.4637 - accuracy: 0.3673 - val_loss: 2.1000 - val_accuracy: 0.2716\n",
            "Epoch 505/1000\n",
            "8/8 [==============================] - 0s 8ms/step - loss: 1.5151 - accuracy: 0.3829 - val_loss: 1.9742 - val_accuracy: 0.2812\n",
            "Epoch 506/1000\n",
            "8/8 [==============================] - 0s 8ms/step - loss: 1.5007 - accuracy: 0.3461 - val_loss: 2.0207 - val_accuracy: 0.2764\n",
            "Epoch 507/1000\n",
            "8/8 [==============================] - 0s 9ms/step - loss: 1.4812 - accuracy: 0.3674 - val_loss: 2.2084 - val_accuracy: 0.2644\n",
            "Epoch 508/1000\n",
            "8/8 [==============================] - 0s 8ms/step - loss: 1.5318 - accuracy: 0.3716 - val_loss: 1.9333 - val_accuracy: 0.2957\n",
            "Epoch 509/1000\n",
            "8/8 [==============================] - 0s 9ms/step - loss: 1.4345 - accuracy: 0.3812 - val_loss: 2.0125 - val_accuracy: 0.2885\n",
            "Epoch 510/1000\n",
            "8/8 [==============================] - 0s 10ms/step - loss: 1.4534 - accuracy: 0.3921 - val_loss: 2.0629 - val_accuracy: 0.2837\n",
            "Epoch 511/1000\n",
            "8/8 [==============================] - 0s 8ms/step - loss: 1.5184 - accuracy: 0.3722 - val_loss: 1.8956 - val_accuracy: 0.2861\n",
            "Epoch 512/1000\n",
            "8/8 [==============================] - 0s 9ms/step - loss: 1.4718 - accuracy: 0.3843 - val_loss: 1.9689 - val_accuracy: 0.3053\n",
            "Epoch 513/1000\n",
            "8/8 [==============================] - 0s 8ms/step - loss: 1.4725 - accuracy: 0.3843 - val_loss: 2.0389 - val_accuracy: 0.2885\n",
            "Epoch 514/1000\n",
            "8/8 [==============================] - 0s 8ms/step - loss: 1.5078 - accuracy: 0.3593 - val_loss: 1.9529 - val_accuracy: 0.2909\n",
            "Epoch 515/1000\n",
            "8/8 [==============================] - 0s 8ms/step - loss: 1.4517 - accuracy: 0.3855 - val_loss: 1.9231 - val_accuracy: 0.2812\n",
            "Epoch 516/1000\n",
            "8/8 [==============================] - 0s 8ms/step - loss: 1.4733 - accuracy: 0.3721 - val_loss: 1.9753 - val_accuracy: 0.2788\n",
            "Epoch 517/1000\n",
            "8/8 [==============================] - 0s 9ms/step - loss: 1.4294 - accuracy: 0.3971 - val_loss: 1.9809 - val_accuracy: 0.2812\n",
            "Epoch 518/1000\n",
            "8/8 [==============================] - 0s 10ms/step - loss: 1.4677 - accuracy: 0.3640 - val_loss: 1.9085 - val_accuracy: 0.2788\n",
            "Epoch 519/1000\n",
            "8/8 [==============================] - 0s 8ms/step - loss: 1.4916 - accuracy: 0.3529 - val_loss: 1.9058 - val_accuracy: 0.3053\n",
            "Epoch 520/1000\n",
            "8/8 [==============================] - 0s 8ms/step - loss: 1.4429 - accuracy: 0.3782 - val_loss: 2.0794 - val_accuracy: 0.2933\n",
            "Epoch 521/1000\n",
            "8/8 [==============================] - 0s 8ms/step - loss: 1.4708 - accuracy: 0.3686 - val_loss: 2.0622 - val_accuracy: 0.2740\n",
            "Epoch 522/1000\n",
            "8/8 [==============================] - 0s 8ms/step - loss: 1.5142 - accuracy: 0.3510 - val_loss: 1.9764 - val_accuracy: 0.2788\n",
            "Epoch 523/1000\n",
            "8/8 [==============================] - 0s 10ms/step - loss: 1.4887 - accuracy: 0.3429 - val_loss: 1.9663 - val_accuracy: 0.3029\n",
            "Epoch 524/1000\n",
            "8/8 [==============================] - 0s 10ms/step - loss: 1.4791 - accuracy: 0.3818 - val_loss: 1.9808 - val_accuracy: 0.3125\n",
            "Epoch 525/1000\n",
            "8/8 [==============================] - 0s 9ms/step - loss: 1.4861 - accuracy: 0.3567 - val_loss: 1.9308 - val_accuracy: 0.3005\n",
            "Epoch 526/1000\n",
            "8/8 [==============================] - 0s 8ms/step - loss: 1.4425 - accuracy: 0.4073 - val_loss: 1.9500 - val_accuracy: 0.3125\n",
            "Epoch 527/1000\n",
            "8/8 [==============================] - 0s 8ms/step - loss: 1.4832 - accuracy: 0.3686 - val_loss: 1.9240 - val_accuracy: 0.2933\n",
            "Epoch 528/1000\n",
            "8/8 [==============================] - 0s 8ms/step - loss: 1.4806 - accuracy: 0.3637 - val_loss: 2.0050 - val_accuracy: 0.2788\n",
            "Epoch 529/1000\n",
            "8/8 [==============================] - 0s 8ms/step - loss: 1.4833 - accuracy: 0.3772 - val_loss: 1.8639 - val_accuracy: 0.3005\n",
            "Epoch 530/1000\n",
            "8/8 [==============================] - 0s 8ms/step - loss: 1.4410 - accuracy: 0.3700 - val_loss: 1.9498 - val_accuracy: 0.2909\n",
            "Epoch 531/1000\n",
            "8/8 [==============================] - 0s 8ms/step - loss: 1.4253 - accuracy: 0.3930 - val_loss: 2.0085 - val_accuracy: 0.3029\n",
            "Epoch 532/1000\n",
            "8/8 [==============================] - 0s 9ms/step - loss: 1.4338 - accuracy: 0.4039 - val_loss: 2.0031 - val_accuracy: 0.3101\n",
            "Epoch 533/1000\n",
            "8/8 [==============================] - 0s 8ms/step - loss: 1.4576 - accuracy: 0.3879 - val_loss: 2.0374 - val_accuracy: 0.2933\n",
            "Epoch 534/1000\n",
            "8/8 [==============================] - 0s 8ms/step - loss: 1.4873 - accuracy: 0.3895 - val_loss: 1.9100 - val_accuracy: 0.2933\n",
            "Epoch 535/1000\n",
            "8/8 [==============================] - 0s 25ms/step - loss: 1.4499 - accuracy: 0.3824 - val_loss: 2.2772 - val_accuracy: 0.2788\n",
            "Epoch 536/1000\n",
            "8/8 [==============================] - 0s 10ms/step - loss: 1.5097 - accuracy: 0.3744 - val_loss: 2.0812 - val_accuracy: 0.2981\n",
            "Epoch 537/1000\n",
            "8/8 [==============================] - 0s 8ms/step - loss: 1.5086 - accuracy: 0.3780 - val_loss: 2.0119 - val_accuracy: 0.2981\n",
            "Epoch 538/1000\n",
            "8/8 [==============================] - 0s 10ms/step - loss: 1.4939 - accuracy: 0.3745 - val_loss: 1.9336 - val_accuracy: 0.3101\n",
            "Epoch 539/1000\n",
            "8/8 [==============================] - 0s 9ms/step - loss: 1.4501 - accuracy: 0.3964 - val_loss: 1.8995 - val_accuracy: 0.2933\n",
            "Epoch 540/1000\n",
            "8/8 [==============================] - 0s 8ms/step - loss: 1.4214 - accuracy: 0.3932 - val_loss: 2.0332 - val_accuracy: 0.2620\n",
            "Epoch 541/1000\n",
            "8/8 [==============================] - 0s 9ms/step - loss: 1.5328 - accuracy: 0.3555 - val_loss: 1.9111 - val_accuracy: 0.3005\n",
            "Epoch 542/1000\n",
            "8/8 [==============================] - 0s 8ms/step - loss: 1.4636 - accuracy: 0.3849 - val_loss: 1.9911 - val_accuracy: 0.2981\n",
            "Epoch 543/1000\n",
            "8/8 [==============================] - 0s 8ms/step - loss: 1.4550 - accuracy: 0.3981 - val_loss: 1.9417 - val_accuracy: 0.3221\n",
            "Epoch 544/1000\n",
            "8/8 [==============================] - 0s 8ms/step - loss: 1.4647 - accuracy: 0.3876 - val_loss: 2.0000 - val_accuracy: 0.3029\n",
            "Epoch 545/1000\n",
            "8/8 [==============================] - 0s 9ms/step - loss: 1.4506 - accuracy: 0.4023 - val_loss: 2.1828 - val_accuracy: 0.3077\n",
            "Epoch 546/1000\n",
            "8/8 [==============================] - 0s 9ms/step - loss: 1.5303 - accuracy: 0.3707 - val_loss: 1.9012 - val_accuracy: 0.3053\n",
            "Epoch 547/1000\n",
            "8/8 [==============================] - 0s 8ms/step - loss: 1.4375 - accuracy: 0.4018 - val_loss: 1.9462 - val_accuracy: 0.2885\n",
            "Epoch 548/1000\n",
            "8/8 [==============================] - 0s 8ms/step - loss: 1.4537 - accuracy: 0.3787 - val_loss: 1.9937 - val_accuracy: 0.2981\n",
            "Epoch 549/1000\n",
            "8/8 [==============================] - 0s 8ms/step - loss: 1.4783 - accuracy: 0.3798 - val_loss: 1.9166 - val_accuracy: 0.2861\n",
            "Epoch 550/1000\n",
            "8/8 [==============================] - 0s 9ms/step - loss: 1.4485 - accuracy: 0.3967 - val_loss: 1.9876 - val_accuracy: 0.2885\n",
            "Epoch 551/1000\n",
            "8/8 [==============================] - 0s 8ms/step - loss: 1.4618 - accuracy: 0.3589 - val_loss: 1.9440 - val_accuracy: 0.2909\n",
            "Epoch 552/1000\n",
            "8/8 [==============================] - 0s 8ms/step - loss: 1.4908 - accuracy: 0.3771 - val_loss: 1.9015 - val_accuracy: 0.2957\n",
            "Epoch 553/1000\n",
            "8/8 [==============================] - 0s 8ms/step - loss: 1.4885 - accuracy: 0.3668 - val_loss: 1.9396 - val_accuracy: 0.3053\n",
            "Epoch 554/1000\n",
            "8/8 [==============================] - 0s 8ms/step - loss: 1.4236 - accuracy: 0.3859 - val_loss: 1.9369 - val_accuracy: 0.2957\n",
            "Epoch 555/1000\n",
            "8/8 [==============================] - 0s 8ms/step - loss: 1.4184 - accuracy: 0.4048 - val_loss: 2.0665 - val_accuracy: 0.2909\n",
            "Epoch 556/1000\n",
            "8/8 [==============================] - 0s 8ms/step - loss: 1.5146 - accuracy: 0.3608 - val_loss: 1.9171 - val_accuracy: 0.2957\n",
            "Epoch 557/1000\n",
            "8/8 [==============================] - 0s 8ms/step - loss: 1.4143 - accuracy: 0.4009 - val_loss: 2.0003 - val_accuracy: 0.3077\n",
            "Epoch 558/1000\n",
            "8/8 [==============================] - 0s 8ms/step - loss: 1.4439 - accuracy: 0.3836 - val_loss: 1.9348 - val_accuracy: 0.2981\n",
            "Epoch 559/1000\n",
            "8/8 [==============================] - 0s 10ms/step - loss: 1.4633 - accuracy: 0.3797 - val_loss: 2.1873 - val_accuracy: 0.2812\n",
            "Epoch 560/1000\n",
            "8/8 [==============================] - 0s 8ms/step - loss: 1.5743 - accuracy: 0.3732 - val_loss: 2.0407 - val_accuracy: 0.2837\n",
            "Epoch 561/1000\n",
            "8/8 [==============================] - 0s 9ms/step - loss: 1.5091 - accuracy: 0.3795 - val_loss: 1.9049 - val_accuracy: 0.3005\n",
            "Epoch 562/1000\n",
            "8/8 [==============================] - 0s 9ms/step - loss: 1.4305 - accuracy: 0.3955 - val_loss: 2.0381 - val_accuracy: 0.3053\n",
            "Epoch 563/1000\n",
            "8/8 [==============================] - 0s 8ms/step - loss: 1.4543 - accuracy: 0.3842 - val_loss: 1.9940 - val_accuracy: 0.2861\n",
            "Epoch 564/1000\n",
            "8/8 [==============================] - 0s 8ms/step - loss: 1.4606 - accuracy: 0.3877 - val_loss: 1.8932 - val_accuracy: 0.3197\n",
            "Epoch 565/1000\n",
            "8/8 [==============================] - 0s 10ms/step - loss: 1.4454 - accuracy: 0.3731 - val_loss: 2.0616 - val_accuracy: 0.3005\n",
            "Epoch 566/1000\n",
            "8/8 [==============================] - 0s 8ms/step - loss: 1.5237 - accuracy: 0.3623 - val_loss: 1.9315 - val_accuracy: 0.3053\n",
            "Epoch 567/1000\n",
            "8/8 [==============================] - 0s 9ms/step - loss: 1.5115 - accuracy: 0.3612 - val_loss: 1.9629 - val_accuracy: 0.2837\n",
            "Epoch 568/1000\n",
            "8/8 [==============================] - 0s 10ms/step - loss: 1.4438 - accuracy: 0.4082 - val_loss: 2.1356 - val_accuracy: 0.2740\n",
            "Epoch 569/1000\n",
            "8/8 [==============================] - 0s 8ms/step - loss: 1.5931 - accuracy: 0.3443 - val_loss: 1.9481 - val_accuracy: 0.2885\n",
            "Epoch 570/1000\n",
            "8/8 [==============================] - 0s 9ms/step - loss: 1.4742 - accuracy: 0.3684 - val_loss: 1.9278 - val_accuracy: 0.2812\n",
            "Epoch 571/1000\n",
            "8/8 [==============================] - 0s 8ms/step - loss: 1.4112 - accuracy: 0.4093 - val_loss: 2.1277 - val_accuracy: 0.2740\n",
            "Epoch 572/1000\n",
            "8/8 [==============================] - 0s 9ms/step - loss: 1.5436 - accuracy: 0.3496 - val_loss: 1.9380 - val_accuracy: 0.2885\n",
            "Epoch 573/1000\n",
            "8/8 [==============================] - 0s 9ms/step - loss: 1.4585 - accuracy: 0.3900 - val_loss: 2.0884 - val_accuracy: 0.2837\n",
            "Epoch 574/1000\n",
            "8/8 [==============================] - 0s 9ms/step - loss: 1.4737 - accuracy: 0.3931 - val_loss: 2.0390 - val_accuracy: 0.2812\n",
            "Epoch 575/1000\n",
            "8/8 [==============================] - 0s 9ms/step - loss: 1.4391 - accuracy: 0.3604 - val_loss: 1.9666 - val_accuracy: 0.2885\n",
            "Epoch 576/1000\n",
            "8/8 [==============================] - 0s 9ms/step - loss: 1.4944 - accuracy: 0.3557 - val_loss: 1.9217 - val_accuracy: 0.3077\n",
            "Epoch 577/1000\n",
            "8/8 [==============================] - 0s 8ms/step - loss: 1.4063 - accuracy: 0.4142 - val_loss: 2.0510 - val_accuracy: 0.2933\n",
            "Epoch 578/1000\n",
            "8/8 [==============================] - 0s 9ms/step - loss: 1.5038 - accuracy: 0.3738 - val_loss: 2.0303 - val_accuracy: 0.2933\n",
            "Epoch 579/1000\n",
            "8/8 [==============================] - 0s 8ms/step - loss: 1.4763 - accuracy: 0.3716 - val_loss: 2.0031 - val_accuracy: 0.2885\n",
            "Epoch 580/1000\n",
            "8/8 [==============================] - 0s 11ms/step - loss: 1.4402 - accuracy: 0.3922 - val_loss: 1.9150 - val_accuracy: 0.2909\n",
            "Epoch 581/1000\n",
            "8/8 [==============================] - 0s 10ms/step - loss: 1.4411 - accuracy: 0.3878 - val_loss: 2.2077 - val_accuracy: 0.2788\n",
            "Epoch 582/1000\n",
            "8/8 [==============================] - 0s 9ms/step - loss: 1.5079 - accuracy: 0.3810 - val_loss: 1.9610 - val_accuracy: 0.2909\n",
            "Epoch 583/1000\n",
            "8/8 [==============================] - 0s 9ms/step - loss: 1.4158 - accuracy: 0.4019 - val_loss: 1.9606 - val_accuracy: 0.2837\n",
            "Epoch 584/1000\n",
            "8/8 [==============================] - 0s 8ms/step - loss: 1.4832 - accuracy: 0.3615 - val_loss: 1.9969 - val_accuracy: 0.2933\n",
            "Epoch 585/1000\n",
            "8/8 [==============================] - 0s 8ms/step - loss: 1.4689 - accuracy: 0.4099 - val_loss: 2.0289 - val_accuracy: 0.2981\n",
            "Epoch 586/1000\n",
            "8/8 [==============================] - 0s 9ms/step - loss: 1.4613 - accuracy: 0.3992 - val_loss: 2.1044 - val_accuracy: 0.2837\n",
            "Epoch 587/1000\n",
            "8/8 [==============================] - 0s 11ms/step - loss: 1.4966 - accuracy: 0.3660 - val_loss: 2.0522 - val_accuracy: 0.2788\n",
            "Epoch 588/1000\n",
            "8/8 [==============================] - 0s 8ms/step - loss: 1.5188 - accuracy: 0.3661 - val_loss: 1.9858 - val_accuracy: 0.2909\n",
            "Epoch 589/1000\n",
            "8/8 [==============================] - 0s 25ms/step - loss: 1.4775 - accuracy: 0.3651 - val_loss: 1.9620 - val_accuracy: 0.2837\n",
            "Epoch 590/1000\n",
            "8/8 [==============================] - 0s 8ms/step - loss: 1.4031 - accuracy: 0.4109 - val_loss: 1.9976 - val_accuracy: 0.3053\n",
            "Epoch 591/1000\n",
            "8/8 [==============================] - 0s 9ms/step - loss: 1.4454 - accuracy: 0.3958 - val_loss: 2.2857 - val_accuracy: 0.2933\n",
            "Epoch 592/1000\n",
            "8/8 [==============================] - 0s 9ms/step - loss: 1.5769 - accuracy: 0.3705 - val_loss: 1.9012 - val_accuracy: 0.2933\n",
            "Epoch 593/1000\n",
            "8/8 [==============================] - 0s 8ms/step - loss: 1.4142 - accuracy: 0.3962 - val_loss: 1.9130 - val_accuracy: 0.3077\n",
            "Epoch 594/1000\n",
            "8/8 [==============================] - 0s 9ms/step - loss: 1.4268 - accuracy: 0.3804 - val_loss: 1.9163 - val_accuracy: 0.3173\n",
            "Epoch 595/1000\n",
            "8/8 [==============================] - 0s 8ms/step - loss: 1.4000 - accuracy: 0.4219 - val_loss: 2.0545 - val_accuracy: 0.2788\n",
            "Epoch 596/1000\n",
            "8/8 [==============================] - 0s 9ms/step - loss: 1.5033 - accuracy: 0.3802 - val_loss: 2.0371 - val_accuracy: 0.2837\n",
            "Epoch 597/1000\n",
            "8/8 [==============================] - 0s 8ms/step - loss: 1.4663 - accuracy: 0.4009 - val_loss: 1.9714 - val_accuracy: 0.2861\n",
            "Epoch 598/1000\n",
            "8/8 [==============================] - 0s 9ms/step - loss: 1.4269 - accuracy: 0.3947 - val_loss: 1.8986 - val_accuracy: 0.3197\n",
            "Epoch 599/1000\n",
            "8/8 [==============================] - 0s 8ms/step - loss: 1.4370 - accuracy: 0.4080 - val_loss: 1.9464 - val_accuracy: 0.3029\n",
            "Epoch 600/1000\n",
            "8/8 [==============================] - 0s 8ms/step - loss: 1.4296 - accuracy: 0.3880 - val_loss: 1.9189 - val_accuracy: 0.2861\n",
            "Epoch 601/1000\n",
            "8/8 [==============================] - 0s 8ms/step - loss: 1.4686 - accuracy: 0.3820 - val_loss: 1.8949 - val_accuracy: 0.2861\n",
            "Epoch 602/1000\n",
            "8/8 [==============================] - 0s 8ms/step - loss: 1.4416 - accuracy: 0.3938 - val_loss: 1.9901 - val_accuracy: 0.2861\n",
            "Epoch 603/1000\n",
            "8/8 [==============================] - 0s 8ms/step - loss: 1.4474 - accuracy: 0.3896 - val_loss: 2.0435 - val_accuracy: 0.2788\n",
            "Epoch 604/1000\n",
            "8/8 [==============================] - 0s 9ms/step - loss: 1.4517 - accuracy: 0.3849 - val_loss: 2.2398 - val_accuracy: 0.2596\n",
            "Epoch 605/1000\n",
            "8/8 [==============================] - 0s 9ms/step - loss: 1.5710 - accuracy: 0.3533 - val_loss: 1.9227 - val_accuracy: 0.2957\n",
            "Epoch 606/1000\n",
            "8/8 [==============================] - 0s 9ms/step - loss: 1.4036 - accuracy: 0.4049 - val_loss: 1.9435 - val_accuracy: 0.3149\n",
            "Epoch 607/1000\n",
            "8/8 [==============================] - 0s 9ms/step - loss: 1.4097 - accuracy: 0.3968 - val_loss: 1.9612 - val_accuracy: 0.3053\n",
            "Epoch 608/1000\n",
            "8/8 [==============================] - 0s 8ms/step - loss: 1.4255 - accuracy: 0.3785 - val_loss: 1.9420 - val_accuracy: 0.3029\n",
            "Epoch 609/1000\n",
            "8/8 [==============================] - 0s 8ms/step - loss: 1.4057 - accuracy: 0.4146 - val_loss: 1.8925 - val_accuracy: 0.2981\n",
            "Epoch 610/1000\n",
            "8/8 [==============================] - 0s 8ms/step - loss: 1.4184 - accuracy: 0.3912 - val_loss: 1.8743 - val_accuracy: 0.3053\n",
            "Epoch 611/1000\n",
            "8/8 [==============================] - 0s 9ms/step - loss: 1.4571 - accuracy: 0.3887 - val_loss: 2.1520 - val_accuracy: 0.2668\n",
            "Epoch 612/1000\n",
            "8/8 [==============================] - 0s 9ms/step - loss: 1.4916 - accuracy: 0.3803 - val_loss: 1.9089 - val_accuracy: 0.2981\n",
            "Epoch 613/1000\n",
            "8/8 [==============================] - 0s 8ms/step - loss: 1.4032 - accuracy: 0.4159 - val_loss: 1.9955 - val_accuracy: 0.3077\n",
            "Epoch 614/1000\n",
            "8/8 [==============================] - 0s 8ms/step - loss: 1.4454 - accuracy: 0.3871 - val_loss: 1.9839 - val_accuracy: 0.2933\n",
            "Epoch 615/1000\n",
            "8/8 [==============================] - 0s 9ms/step - loss: 1.4762 - accuracy: 0.3944 - val_loss: 1.9148 - val_accuracy: 0.3149\n",
            "Epoch 616/1000\n",
            "8/8 [==============================] - 0s 9ms/step - loss: 1.4401 - accuracy: 0.3976 - val_loss: 2.0422 - val_accuracy: 0.2909\n",
            "Epoch 617/1000\n",
            "8/8 [==============================] - 0s 8ms/step - loss: 1.4540 - accuracy: 0.3847 - val_loss: 1.9106 - val_accuracy: 0.2981\n",
            "Epoch 618/1000\n",
            "8/8 [==============================] - 0s 8ms/step - loss: 1.4115 - accuracy: 0.4003 - val_loss: 2.0352 - val_accuracy: 0.2981\n",
            "Epoch 619/1000\n",
            "8/8 [==============================] - 0s 10ms/step - loss: 1.4579 - accuracy: 0.3870 - val_loss: 1.9330 - val_accuracy: 0.2909\n",
            "Epoch 620/1000\n",
            "8/8 [==============================] - 0s 9ms/step - loss: 1.4749 - accuracy: 0.3685 - val_loss: 2.0965 - val_accuracy: 0.2909\n",
            "Epoch 621/1000\n",
            "8/8 [==============================] - 0s 9ms/step - loss: 1.4747 - accuracy: 0.4042 - val_loss: 2.1781 - val_accuracy: 0.2885\n",
            "Epoch 622/1000\n",
            "8/8 [==============================] - 0s 7ms/step - loss: 1.4417 - accuracy: 0.3836 - val_loss: 2.1241 - val_accuracy: 0.2788\n",
            "Epoch 623/1000\n",
            "8/8 [==============================] - 0s 9ms/step - loss: 1.4920 - accuracy: 0.3687 - val_loss: 2.0084 - val_accuracy: 0.2933\n",
            "Epoch 624/1000\n",
            "8/8 [==============================] - 0s 11ms/step - loss: 1.4674 - accuracy: 0.3859 - val_loss: 1.9421 - val_accuracy: 0.2861\n",
            "Epoch 625/1000\n",
            "8/8 [==============================] - 0s 9ms/step - loss: 1.4451 - accuracy: 0.3907 - val_loss: 2.0172 - val_accuracy: 0.3005\n",
            "Epoch 626/1000\n",
            "8/8 [==============================] - 0s 8ms/step - loss: 1.4557 - accuracy: 0.4007 - val_loss: 1.9980 - val_accuracy: 0.2981\n",
            "Epoch 627/1000\n",
            "8/8 [==============================] - 0s 9ms/step - loss: 1.4818 - accuracy: 0.3834 - val_loss: 1.9282 - val_accuracy: 0.3005\n",
            "Epoch 628/1000\n",
            "8/8 [==============================] - 0s 8ms/step - loss: 1.4144 - accuracy: 0.3879 - val_loss: 1.9191 - val_accuracy: 0.3005\n",
            "Epoch 629/1000\n",
            "8/8 [==============================] - 0s 9ms/step - loss: 1.4254 - accuracy: 0.3783 - val_loss: 1.9631 - val_accuracy: 0.2981\n",
            "Epoch 630/1000\n",
            "8/8 [==============================] - 0s 7ms/step - loss: 1.4313 - accuracy: 0.3889 - val_loss: 2.0030 - val_accuracy: 0.3077\n",
            "Epoch 631/1000\n",
            "8/8 [==============================] - 0s 9ms/step - loss: 1.4964 - accuracy: 0.3784 - val_loss: 2.1195 - val_accuracy: 0.3125\n",
            "Epoch 632/1000\n",
            "8/8 [==============================] - 0s 8ms/step - loss: 1.4903 - accuracy: 0.3668 - val_loss: 1.9948 - val_accuracy: 0.2957\n",
            "Epoch 633/1000\n",
            "8/8 [==============================] - 0s 8ms/step - loss: 1.4477 - accuracy: 0.3846 - val_loss: 2.0245 - val_accuracy: 0.2764\n",
            "Epoch 634/1000\n",
            "8/8 [==============================] - 0s 9ms/step - loss: 1.5067 - accuracy: 0.3655 - val_loss: 1.9866 - val_accuracy: 0.3029\n",
            "Epoch 635/1000\n",
            "8/8 [==============================] - 0s 8ms/step - loss: 1.4750 - accuracy: 0.3945 - val_loss: 2.2281 - val_accuracy: 0.2933\n",
            "Epoch 636/1000\n",
            "8/8 [==============================] - 0s 8ms/step - loss: 1.5049 - accuracy: 0.3722 - val_loss: 1.9717 - val_accuracy: 0.2933\n",
            "Epoch 637/1000\n",
            "8/8 [==============================] - 0s 8ms/step - loss: 1.4127 - accuracy: 0.3960 - val_loss: 1.9692 - val_accuracy: 0.3173\n",
            "Epoch 638/1000\n",
            "8/8 [==============================] - 0s 8ms/step - loss: 1.4515 - accuracy: 0.3831 - val_loss: 2.1340 - val_accuracy: 0.2740\n",
            "Epoch 639/1000\n",
            "8/8 [==============================] - 0s 8ms/step - loss: 1.4567 - accuracy: 0.3872 - val_loss: 1.9916 - val_accuracy: 0.2957\n",
            "Epoch 640/1000\n",
            "8/8 [==============================] - 0s 9ms/step - loss: 1.4891 - accuracy: 0.3921 - val_loss: 1.9195 - val_accuracy: 0.2812\n",
            "Epoch 641/1000\n",
            "8/8 [==============================] - 0s 8ms/step - loss: 1.3818 - accuracy: 0.3990 - val_loss: 2.0102 - val_accuracy: 0.2909\n",
            "Epoch 642/1000\n",
            "8/8 [==============================] - 0s 9ms/step - loss: 1.4703 - accuracy: 0.3830 - val_loss: 1.9922 - val_accuracy: 0.2837\n",
            "Epoch 643/1000\n",
            "8/8 [==============================] - 0s 27ms/step - loss: 1.4804 - accuracy: 0.3717 - val_loss: 1.9707 - val_accuracy: 0.2933\n",
            "Epoch 644/1000\n",
            "8/8 [==============================] - 0s 9ms/step - loss: 1.4761 - accuracy: 0.3766 - val_loss: 1.9230 - val_accuracy: 0.3029\n",
            "Epoch 645/1000\n",
            "8/8 [==============================] - 0s 8ms/step - loss: 1.4162 - accuracy: 0.3881 - val_loss: 2.0930 - val_accuracy: 0.2981\n",
            "Epoch 646/1000\n",
            "8/8 [==============================] - 0s 9ms/step - loss: 1.4826 - accuracy: 0.3685 - val_loss: 2.1528 - val_accuracy: 0.2812\n",
            "Epoch 647/1000\n",
            "8/8 [==============================] - 0s 8ms/step - loss: 1.4385 - accuracy: 0.3827 - val_loss: 2.0689 - val_accuracy: 0.2909\n",
            "Epoch 648/1000\n",
            "8/8 [==============================] - 0s 9ms/step - loss: 1.4393 - accuracy: 0.4095 - val_loss: 2.0946 - val_accuracy: 0.3053\n",
            "Epoch 649/1000\n",
            "8/8 [==============================] - 0s 10ms/step - loss: 1.5144 - accuracy: 0.4067 - val_loss: 1.9842 - val_accuracy: 0.2909\n",
            "Epoch 650/1000\n",
            "8/8 [==============================] - 0s 8ms/step - loss: 1.4328 - accuracy: 0.3908 - val_loss: 2.2224 - val_accuracy: 0.3053\n",
            "Epoch 651/1000\n",
            "8/8 [==============================] - 0s 9ms/step - loss: 1.4895 - accuracy: 0.3838 - val_loss: 1.9738 - val_accuracy: 0.2837\n",
            "Epoch 652/1000\n",
            "8/8 [==============================] - 0s 8ms/step - loss: 1.4331 - accuracy: 0.3709 - val_loss: 1.9647 - val_accuracy: 0.2909\n",
            "Epoch 653/1000\n",
            "8/8 [==============================] - 0s 9ms/step - loss: 1.4273 - accuracy: 0.3988 - val_loss: 1.9856 - val_accuracy: 0.2981\n",
            "Epoch 654/1000\n",
            "8/8 [==============================] - 0s 9ms/step - loss: 1.4502 - accuracy: 0.3859 - val_loss: 1.9667 - val_accuracy: 0.3173\n",
            "Epoch 655/1000\n",
            "8/8 [==============================] - 0s 9ms/step - loss: 1.4260 - accuracy: 0.4084 - val_loss: 2.0698 - val_accuracy: 0.2668\n",
            "Epoch 656/1000\n",
            "8/8 [==============================] - 0s 9ms/step - loss: 1.4715 - accuracy: 0.3915 - val_loss: 1.9262 - val_accuracy: 0.2957\n",
            "Epoch 657/1000\n",
            "8/8 [==============================] - 0s 9ms/step - loss: 1.4637 - accuracy: 0.3766 - val_loss: 2.0095 - val_accuracy: 0.3053\n",
            "Epoch 658/1000\n",
            "8/8 [==============================] - 0s 8ms/step - loss: 1.4015 - accuracy: 0.3879 - val_loss: 2.0941 - val_accuracy: 0.2861\n",
            "Epoch 659/1000\n",
            "8/8 [==============================] - 0s 8ms/step - loss: 1.5016 - accuracy: 0.3663 - val_loss: 2.1096 - val_accuracy: 0.2981\n",
            "Epoch 660/1000\n",
            "8/8 [==============================] - 0s 9ms/step - loss: 1.4331 - accuracy: 0.3984 - val_loss: 2.1157 - val_accuracy: 0.2812\n",
            "Epoch 661/1000\n",
            "8/8 [==============================] - 0s 9ms/step - loss: 1.4872 - accuracy: 0.3675 - val_loss: 1.9870 - val_accuracy: 0.3101\n",
            "Epoch 662/1000\n",
            "8/8 [==============================] - 0s 8ms/step - loss: 1.4260 - accuracy: 0.4097 - val_loss: 1.9890 - val_accuracy: 0.2909\n",
            "Epoch 663/1000\n",
            "8/8 [==============================] - 0s 10ms/step - loss: 1.4377 - accuracy: 0.3964 - val_loss: 1.9920 - val_accuracy: 0.2933\n",
            "Epoch 664/1000\n",
            "8/8 [==============================] - 0s 9ms/step - loss: 1.4592 - accuracy: 0.3877 - val_loss: 2.1941 - val_accuracy: 0.2572\n",
            "Epoch 665/1000\n",
            "8/8 [==============================] - 0s 8ms/step - loss: 1.5496 - accuracy: 0.3510 - val_loss: 2.1622 - val_accuracy: 0.2885\n",
            "Epoch 666/1000\n",
            "8/8 [==============================] - 0s 9ms/step - loss: 1.4597 - accuracy: 0.4170 - val_loss: 1.9832 - val_accuracy: 0.2885\n",
            "Epoch 667/1000\n",
            "8/8 [==============================] - 0s 8ms/step - loss: 1.4136 - accuracy: 0.3982 - val_loss: 2.0660 - val_accuracy: 0.2933\n",
            "Epoch 668/1000\n",
            "8/8 [==============================] - 0s 9ms/step - loss: 1.4629 - accuracy: 0.3936 - val_loss: 2.0197 - val_accuracy: 0.3053\n",
            "Epoch 669/1000\n",
            "8/8 [==============================] - 0s 9ms/step - loss: 1.4473 - accuracy: 0.3885 - val_loss: 2.0309 - val_accuracy: 0.2885\n",
            "Epoch 670/1000\n",
            "8/8 [==============================] - 0s 9ms/step - loss: 1.4234 - accuracy: 0.3648 - val_loss: 2.3569 - val_accuracy: 0.2524\n",
            "Epoch 671/1000\n",
            "8/8 [==============================] - 0s 9ms/step - loss: 1.5699 - accuracy: 0.3738 - val_loss: 2.1317 - val_accuracy: 0.2957\n",
            "Epoch 672/1000\n",
            "8/8 [==============================] - 0s 8ms/step - loss: 1.4912 - accuracy: 0.3825 - val_loss: 2.0306 - val_accuracy: 0.3005\n",
            "Epoch 673/1000\n",
            "8/8 [==============================] - 0s 9ms/step - loss: 1.4424 - accuracy: 0.3895 - val_loss: 2.1066 - val_accuracy: 0.2644\n",
            "Epoch 674/1000\n",
            "8/8 [==============================] - 0s 8ms/step - loss: 1.5194 - accuracy: 0.3401 - val_loss: 1.9479 - val_accuracy: 0.2981\n",
            "Epoch 675/1000\n",
            "8/8 [==============================] - 0s 9ms/step - loss: 1.4202 - accuracy: 0.3909 - val_loss: 2.1093 - val_accuracy: 0.2909\n",
            "Epoch 676/1000\n",
            "8/8 [==============================] - 0s 8ms/step - loss: 1.4345 - accuracy: 0.3999 - val_loss: 2.0156 - val_accuracy: 0.2981\n",
            "Epoch 677/1000\n",
            "8/8 [==============================] - 0s 8ms/step - loss: 1.4330 - accuracy: 0.3898 - val_loss: 2.0818 - val_accuracy: 0.2788\n",
            "Epoch 678/1000\n",
            "8/8 [==============================] - 0s 10ms/step - loss: 1.4673 - accuracy: 0.3578 - val_loss: 2.1937 - val_accuracy: 0.2620\n",
            "Epoch 679/1000\n",
            "8/8 [==============================] - 0s 9ms/step - loss: 1.5191 - accuracy: 0.3747 - val_loss: 1.9371 - val_accuracy: 0.3149\n",
            "Epoch 680/1000\n",
            "8/8 [==============================] - 0s 8ms/step - loss: 1.4000 - accuracy: 0.4075 - val_loss: 1.9907 - val_accuracy: 0.2837\n",
            "Epoch 681/1000\n",
            "8/8 [==============================] - 0s 8ms/step - loss: 1.4452 - accuracy: 0.3823 - val_loss: 1.9886 - val_accuracy: 0.3005\n",
            "Epoch 682/1000\n",
            "8/8 [==============================] - 0s 7ms/step - loss: 1.4423 - accuracy: 0.3655 - val_loss: 1.9290 - val_accuracy: 0.2981\n",
            "Epoch 683/1000\n",
            "8/8 [==============================] - 0s 8ms/step - loss: 1.4138 - accuracy: 0.3959 - val_loss: 2.1243 - val_accuracy: 0.2957\n",
            "Epoch 684/1000\n",
            "8/8 [==============================] - 0s 8ms/step - loss: 1.5082 - accuracy: 0.3822 - val_loss: 2.0403 - val_accuracy: 0.2909\n",
            "Epoch 685/1000\n",
            "8/8 [==============================] - 0s 8ms/step - loss: 1.4220 - accuracy: 0.3887 - val_loss: 1.9395 - val_accuracy: 0.2812\n",
            "Epoch 686/1000\n",
            "8/8 [==============================] - 0s 9ms/step - loss: 1.4217 - accuracy: 0.3953 - val_loss: 2.0392 - val_accuracy: 0.3029\n",
            "Epoch 687/1000\n",
            "8/8 [==============================] - 0s 9ms/step - loss: 1.4115 - accuracy: 0.4041 - val_loss: 2.0763 - val_accuracy: 0.3053\n",
            "Epoch 688/1000\n",
            "8/8 [==============================] - 0s 8ms/step - loss: 1.4534 - accuracy: 0.3998 - val_loss: 1.9962 - val_accuracy: 0.2957\n",
            "Epoch 689/1000\n",
            "8/8 [==============================] - 0s 9ms/step - loss: 1.4259 - accuracy: 0.3789 - val_loss: 2.0142 - val_accuracy: 0.3053\n",
            "Epoch 690/1000\n",
            "8/8 [==============================] - 0s 9ms/step - loss: 1.4372 - accuracy: 0.3845 - val_loss: 2.0255 - val_accuracy: 0.2861\n",
            "Epoch 691/1000\n",
            "8/8 [==============================] - 0s 8ms/step - loss: 1.4553 - accuracy: 0.3898 - val_loss: 2.0134 - val_accuracy: 0.3197\n",
            "Epoch 692/1000\n",
            "8/8 [==============================] - 0s 9ms/step - loss: 1.4120 - accuracy: 0.4132 - val_loss: 1.9567 - val_accuracy: 0.2933\n",
            "Epoch 693/1000\n",
            "8/8 [==============================] - 0s 11ms/step - loss: 1.4425 - accuracy: 0.3723 - val_loss: 1.9531 - val_accuracy: 0.3005\n",
            "Epoch 694/1000\n",
            "8/8 [==============================] - 0s 9ms/step - loss: 1.4182 - accuracy: 0.3904 - val_loss: 1.9421 - val_accuracy: 0.2837\n",
            "Epoch 695/1000\n",
            "8/8 [==============================] - 0s 8ms/step - loss: 1.4199 - accuracy: 0.3729 - val_loss: 1.9210 - val_accuracy: 0.2981\n",
            "Epoch 696/1000\n",
            "8/8 [==============================] - 0s 9ms/step - loss: 1.3956 - accuracy: 0.3945 - val_loss: 1.9773 - val_accuracy: 0.3077\n",
            "Epoch 697/1000\n",
            "8/8 [==============================] - 0s 26ms/step - loss: 1.4375 - accuracy: 0.3845 - val_loss: 2.0706 - val_accuracy: 0.2933\n",
            "Epoch 698/1000\n",
            "8/8 [==============================] - 0s 9ms/step - loss: 1.4592 - accuracy: 0.3850 - val_loss: 1.9413 - val_accuracy: 0.2861\n",
            "Epoch 699/1000\n",
            "8/8 [==============================] - 0s 8ms/step - loss: 1.4355 - accuracy: 0.3992 - val_loss: 1.9884 - val_accuracy: 0.3053\n",
            "Epoch 700/1000\n",
            "8/8 [==============================] - 0s 8ms/step - loss: 1.4194 - accuracy: 0.3977 - val_loss: 1.9591 - val_accuracy: 0.2788\n",
            "Epoch 701/1000\n",
            "8/8 [==============================] - 0s 9ms/step - loss: 1.4355 - accuracy: 0.3775 - val_loss: 1.9923 - val_accuracy: 0.2764\n",
            "Epoch 702/1000\n",
            "8/8 [==============================] - 0s 8ms/step - loss: 1.4627 - accuracy: 0.3681 - val_loss: 1.9883 - val_accuracy: 0.2957\n",
            "Epoch 703/1000\n",
            "8/8 [==============================] - 0s 8ms/step - loss: 1.4755 - accuracy: 0.3709 - val_loss: 2.0185 - val_accuracy: 0.3005\n",
            "Epoch 704/1000\n",
            "8/8 [==============================] - 0s 8ms/step - loss: 1.4162 - accuracy: 0.3820 - val_loss: 2.2355 - val_accuracy: 0.2837\n",
            "Epoch 705/1000\n",
            "8/8 [==============================] - 0s 8ms/step - loss: 1.5012 - accuracy: 0.3748 - val_loss: 1.9655 - val_accuracy: 0.3101\n",
            "Epoch 706/1000\n",
            "8/8 [==============================] - 0s 9ms/step - loss: 1.4191 - accuracy: 0.3925 - val_loss: 2.3097 - val_accuracy: 0.2957\n",
            "Epoch 707/1000\n",
            "8/8 [==============================] - 0s 9ms/step - loss: 1.4785 - accuracy: 0.3834 - val_loss: 2.0216 - val_accuracy: 0.3005\n",
            "Epoch 708/1000\n",
            "8/8 [==============================] - 0s 8ms/step - loss: 1.4154 - accuracy: 0.3860 - val_loss: 1.9350 - val_accuracy: 0.2812\n",
            "Epoch 709/1000\n",
            "8/8 [==============================] - 0s 9ms/step - loss: 1.3778 - accuracy: 0.4047 - val_loss: 2.0265 - val_accuracy: 0.2861\n",
            "Epoch 710/1000\n",
            "8/8 [==============================] - 0s 9ms/step - loss: 1.4508 - accuracy: 0.3905 - val_loss: 1.9602 - val_accuracy: 0.3125\n",
            "Epoch 711/1000\n",
            "8/8 [==============================] - 0s 8ms/step - loss: 1.4060 - accuracy: 0.3833 - val_loss: 1.9494 - val_accuracy: 0.2861\n",
            "Epoch 712/1000\n",
            "8/8 [==============================] - 0s 8ms/step - loss: 1.4475 - accuracy: 0.3793 - val_loss: 1.9524 - val_accuracy: 0.3005\n",
            "Epoch 713/1000\n",
            "8/8 [==============================] - 0s 10ms/step - loss: 1.4448 - accuracy: 0.3794 - val_loss: 2.0040 - val_accuracy: 0.2981\n",
            "Epoch 714/1000\n",
            "8/8 [==============================] - 0s 8ms/step - loss: 1.4506 - accuracy: 0.3880 - val_loss: 1.9443 - val_accuracy: 0.2885\n",
            "Epoch 715/1000\n",
            "8/8 [==============================] - 0s 9ms/step - loss: 1.4237 - accuracy: 0.3695 - val_loss: 2.0328 - val_accuracy: 0.3125\n",
            "Epoch 716/1000\n",
            "8/8 [==============================] - 0s 8ms/step - loss: 1.3970 - accuracy: 0.3944 - val_loss: 2.2273 - val_accuracy: 0.2692\n",
            "Epoch 717/1000\n",
            "8/8 [==============================] - 0s 10ms/step - loss: 1.4965 - accuracy: 0.3810 - val_loss: 2.0427 - val_accuracy: 0.2909\n",
            "Epoch 718/1000\n",
            "8/8 [==============================] - 0s 8ms/step - loss: 1.4587 - accuracy: 0.3870 - val_loss: 2.0594 - val_accuracy: 0.2957\n",
            "Epoch 719/1000\n",
            "8/8 [==============================] - 0s 9ms/step - loss: 1.4325 - accuracy: 0.3877 - val_loss: 1.9816 - val_accuracy: 0.3005\n",
            "Epoch 720/1000\n",
            "8/8 [==============================] - 0s 10ms/step - loss: 1.4244 - accuracy: 0.3720 - val_loss: 2.1281 - val_accuracy: 0.2500\n",
            "Epoch 721/1000\n",
            "8/8 [==============================] - 0s 10ms/step - loss: 1.5500 - accuracy: 0.3580 - val_loss: 2.0218 - val_accuracy: 0.3173\n",
            "Epoch 722/1000\n",
            "8/8 [==============================] - 0s 10ms/step - loss: 1.4340 - accuracy: 0.3919 - val_loss: 2.0127 - val_accuracy: 0.2764\n",
            "Epoch 723/1000\n",
            "8/8 [==============================] - 0s 9ms/step - loss: 1.3869 - accuracy: 0.3986 - val_loss: 1.9214 - val_accuracy: 0.2909\n",
            "Epoch 724/1000\n",
            "8/8 [==============================] - 0s 9ms/step - loss: 1.3959 - accuracy: 0.4049 - val_loss: 2.2351 - val_accuracy: 0.2788\n",
            "Epoch 725/1000\n",
            "8/8 [==============================] - 0s 8ms/step - loss: 1.4544 - accuracy: 0.3825 - val_loss: 1.9409 - val_accuracy: 0.2909\n",
            "Epoch 726/1000\n",
            "8/8 [==============================] - 0s 9ms/step - loss: 1.4103 - accuracy: 0.3866 - val_loss: 2.0275 - val_accuracy: 0.3077\n",
            "Epoch 727/1000\n",
            "8/8 [==============================] - 0s 8ms/step - loss: 1.4273 - accuracy: 0.3784 - val_loss: 2.1013 - val_accuracy: 0.2716\n",
            "Epoch 728/1000\n",
            "8/8 [==============================] - 0s 9ms/step - loss: 1.4881 - accuracy: 0.3671 - val_loss: 1.9302 - val_accuracy: 0.2933\n",
            "Epoch 729/1000\n",
            "8/8 [==============================] - 0s 8ms/step - loss: 1.3933 - accuracy: 0.4128 - val_loss: 1.9190 - val_accuracy: 0.2885\n",
            "Epoch 730/1000\n",
            "8/8 [==============================] - 0s 8ms/step - loss: 1.4715 - accuracy: 0.3659 - val_loss: 1.9282 - val_accuracy: 0.3029\n",
            "Epoch 731/1000\n",
            "8/8 [==============================] - 0s 8ms/step - loss: 1.4206 - accuracy: 0.3933 - val_loss: 1.8979 - val_accuracy: 0.3053\n",
            "Epoch 732/1000\n",
            "8/8 [==============================] - 0s 9ms/step - loss: 1.4068 - accuracy: 0.4311 - val_loss: 2.0357 - val_accuracy: 0.3029\n",
            "Epoch 733/1000\n",
            "8/8 [==============================] - 0s 8ms/step - loss: 1.4092 - accuracy: 0.4115 - val_loss: 1.8926 - val_accuracy: 0.3125\n",
            "Epoch 734/1000\n",
            "8/8 [==============================] - 0s 9ms/step - loss: 1.4234 - accuracy: 0.3928 - val_loss: 1.8790 - val_accuracy: 0.3293\n",
            "Epoch 735/1000\n",
            "8/8 [==============================] - 0s 9ms/step - loss: 1.3635 - accuracy: 0.4218 - val_loss: 2.0440 - val_accuracy: 0.2909\n",
            "Epoch 736/1000\n",
            "8/8 [==============================] - 0s 8ms/step - loss: 1.4161 - accuracy: 0.3903 - val_loss: 2.0431 - val_accuracy: 0.3077\n",
            "Epoch 737/1000\n",
            "8/8 [==============================] - 0s 9ms/step - loss: 1.4399 - accuracy: 0.3877 - val_loss: 1.9686 - val_accuracy: 0.3029\n",
            "Epoch 738/1000\n",
            "8/8 [==============================] - 0s 8ms/step - loss: 1.3966 - accuracy: 0.3854 - val_loss: 2.1951 - val_accuracy: 0.2668\n",
            "Epoch 739/1000\n",
            "8/8 [==============================] - 0s 8ms/step - loss: 1.5127 - accuracy: 0.3739 - val_loss: 2.0235 - val_accuracy: 0.2933\n",
            "Epoch 740/1000\n",
            "8/8 [==============================] - 0s 8ms/step - loss: 1.4578 - accuracy: 0.4055 - val_loss: 1.9642 - val_accuracy: 0.3245\n",
            "Epoch 741/1000\n",
            "8/8 [==============================] - 0s 10ms/step - loss: 1.3767 - accuracy: 0.4002 - val_loss: 1.9986 - val_accuracy: 0.3029\n",
            "Epoch 742/1000\n",
            "8/8 [==============================] - 0s 8ms/step - loss: 1.4189 - accuracy: 0.3962 - val_loss: 1.9536 - val_accuracy: 0.2981\n",
            "Epoch 743/1000\n",
            "8/8 [==============================] - 0s 9ms/step - loss: 1.4087 - accuracy: 0.4036 - val_loss: 2.0262 - val_accuracy: 0.3101\n",
            "Epoch 744/1000\n",
            "8/8 [==============================] - 0s 9ms/step - loss: 1.3925 - accuracy: 0.4121 - val_loss: 2.2247 - val_accuracy: 0.2788\n",
            "Epoch 745/1000\n",
            "8/8 [==============================] - 0s 8ms/step - loss: 1.4272 - accuracy: 0.3870 - val_loss: 1.9708 - val_accuracy: 0.3077\n",
            "Epoch 746/1000\n",
            "8/8 [==============================] - 0s 9ms/step - loss: 1.4103 - accuracy: 0.3975 - val_loss: 2.0182 - val_accuracy: 0.2909\n",
            "Epoch 747/1000\n",
            "8/8 [==============================] - 0s 9ms/step - loss: 1.4391 - accuracy: 0.3814 - val_loss: 2.0250 - val_accuracy: 0.3053\n",
            "Epoch 748/1000\n",
            "8/8 [==============================] - 0s 8ms/step - loss: 1.3990 - accuracy: 0.3916 - val_loss: 2.0948 - val_accuracy: 0.2909\n",
            "Epoch 749/1000\n",
            "8/8 [==============================] - 0s 10ms/step - loss: 1.4094 - accuracy: 0.3804 - val_loss: 2.1489 - val_accuracy: 0.2981\n",
            "Epoch 750/1000\n",
            "8/8 [==============================] - 0s 9ms/step - loss: 1.4498 - accuracy: 0.4033 - val_loss: 2.0263 - val_accuracy: 0.2981\n",
            "Epoch 751/1000\n",
            "8/8 [==============================] - 0s 26ms/step - loss: 1.4224 - accuracy: 0.3917 - val_loss: 2.0370 - val_accuracy: 0.3101\n",
            "Epoch 752/1000\n",
            "8/8 [==============================] - 0s 9ms/step - loss: 1.4279 - accuracy: 0.3958 - val_loss: 2.0766 - val_accuracy: 0.3029\n",
            "Epoch 753/1000\n",
            "8/8 [==============================] - 0s 11ms/step - loss: 1.4200 - accuracy: 0.3920 - val_loss: 1.9486 - val_accuracy: 0.3149\n",
            "Epoch 754/1000\n",
            "8/8 [==============================] - 0s 9ms/step - loss: 1.4021 - accuracy: 0.4069 - val_loss: 2.0406 - val_accuracy: 0.3029\n",
            "Epoch 755/1000\n",
            "8/8 [==============================] - 0s 9ms/step - loss: 1.4435 - accuracy: 0.4084 - val_loss: 2.0243 - val_accuracy: 0.3101\n",
            "Epoch 756/1000\n",
            "8/8 [==============================] - 0s 9ms/step - loss: 1.3792 - accuracy: 0.3937 - val_loss: 2.0764 - val_accuracy: 0.2909\n",
            "Epoch 757/1000\n",
            "8/8 [==============================] - 0s 9ms/step - loss: 1.4175 - accuracy: 0.3871 - val_loss: 2.0466 - val_accuracy: 0.2933\n",
            "Epoch 758/1000\n",
            "8/8 [==============================] - 0s 9ms/step - loss: 1.4285 - accuracy: 0.3879 - val_loss: 1.9635 - val_accuracy: 0.3029\n",
            "Epoch 759/1000\n",
            "8/8 [==============================] - 0s 10ms/step - loss: 1.4354 - accuracy: 0.3918 - val_loss: 1.8976 - val_accuracy: 0.3053\n",
            "Epoch 760/1000\n",
            "8/8 [==============================] - 0s 9ms/step - loss: 1.4125 - accuracy: 0.4079 - val_loss: 2.0584 - val_accuracy: 0.2981\n",
            "Epoch 761/1000\n",
            "8/8 [==============================] - 0s 8ms/step - loss: 1.4139 - accuracy: 0.4044 - val_loss: 2.0779 - val_accuracy: 0.3005\n",
            "Epoch 762/1000\n",
            "8/8 [==============================] - 0s 9ms/step - loss: 1.4263 - accuracy: 0.3741 - val_loss: 1.9800 - val_accuracy: 0.2837\n",
            "Epoch 763/1000\n",
            "8/8 [==============================] - 0s 8ms/step - loss: 1.3939 - accuracy: 0.4016 - val_loss: 2.1798 - val_accuracy: 0.2933\n",
            "Epoch 764/1000\n",
            "8/8 [==============================] - 0s 9ms/step - loss: 1.4407 - accuracy: 0.3858 - val_loss: 1.9450 - val_accuracy: 0.3029\n",
            "Epoch 765/1000\n",
            "8/8 [==============================] - 0s 9ms/step - loss: 1.4034 - accuracy: 0.3998 - val_loss: 2.1748 - val_accuracy: 0.2668\n",
            "Epoch 766/1000\n",
            "8/8 [==============================] - 0s 10ms/step - loss: 1.4608 - accuracy: 0.3800 - val_loss: 2.0070 - val_accuracy: 0.2861\n",
            "Epoch 767/1000\n",
            "8/8 [==============================] - 0s 9ms/step - loss: 1.3909 - accuracy: 0.4148 - val_loss: 2.0978 - val_accuracy: 0.2788\n",
            "Epoch 768/1000\n",
            "8/8 [==============================] - 0s 9ms/step - loss: 1.4629 - accuracy: 0.3673 - val_loss: 2.0523 - val_accuracy: 0.2909\n",
            "Epoch 769/1000\n",
            "8/8 [==============================] - 0s 8ms/step - loss: 1.4644 - accuracy: 0.4077 - val_loss: 2.2580 - val_accuracy: 0.2716\n",
            "Epoch 770/1000\n",
            "8/8 [==============================] - 0s 8ms/step - loss: 1.4757 - accuracy: 0.3684 - val_loss: 1.9683 - val_accuracy: 0.3125\n",
            "Epoch 771/1000\n",
            "8/8 [==============================] - 0s 9ms/step - loss: 1.3776 - accuracy: 0.4059 - val_loss: 1.9921 - val_accuracy: 0.3005\n",
            "Epoch 772/1000\n",
            "8/8 [==============================] - 0s 8ms/step - loss: 1.4228 - accuracy: 0.3877 - val_loss: 2.0971 - val_accuracy: 0.2764\n",
            "Epoch 773/1000\n",
            "8/8 [==============================] - 0s 8ms/step - loss: 1.4981 - accuracy: 0.3636 - val_loss: 1.9740 - val_accuracy: 0.2981\n",
            "Epoch 774/1000\n",
            "8/8 [==============================] - 0s 7ms/step - loss: 1.4410 - accuracy: 0.3709 - val_loss: 2.0103 - val_accuracy: 0.2933\n",
            "Epoch 775/1000\n",
            "8/8 [==============================] - 0s 9ms/step - loss: 1.4264 - accuracy: 0.3983 - val_loss: 2.2408 - val_accuracy: 0.2957\n",
            "Epoch 776/1000\n",
            "8/8 [==============================] - 0s 9ms/step - loss: 1.4570 - accuracy: 0.3873 - val_loss: 1.9806 - val_accuracy: 0.3053\n",
            "Epoch 777/1000\n",
            "8/8 [==============================] - 0s 9ms/step - loss: 1.3637 - accuracy: 0.4114 - val_loss: 2.0857 - val_accuracy: 0.2933\n",
            "Epoch 778/1000\n",
            "8/8 [==============================] - 0s 9ms/step - loss: 1.4340 - accuracy: 0.3923 - val_loss: 2.0207 - val_accuracy: 0.2981\n",
            "Epoch 779/1000\n",
            "8/8 [==============================] - 0s 8ms/step - loss: 1.4306 - accuracy: 0.3918 - val_loss: 2.1643 - val_accuracy: 0.2885\n",
            "Epoch 780/1000\n",
            "8/8 [==============================] - 0s 8ms/step - loss: 1.4173 - accuracy: 0.4066 - val_loss: 2.0854 - val_accuracy: 0.3053\n",
            "Epoch 781/1000\n",
            "8/8 [==============================] - 0s 9ms/step - loss: 1.4144 - accuracy: 0.3983 - val_loss: 1.9607 - val_accuracy: 0.2981\n",
            "Epoch 782/1000\n",
            "8/8 [==============================] - 0s 8ms/step - loss: 1.3896 - accuracy: 0.4098 - val_loss: 2.0942 - val_accuracy: 0.3101\n",
            "Epoch 783/1000\n",
            "8/8 [==============================] - 0s 9ms/step - loss: 1.4167 - accuracy: 0.3789 - val_loss: 2.0191 - val_accuracy: 0.2861\n",
            "Epoch 784/1000\n",
            "8/8 [==============================] - 0s 10ms/step - loss: 1.4309 - accuracy: 0.3925 - val_loss: 2.2226 - val_accuracy: 0.2692\n",
            "Epoch 785/1000\n",
            "8/8 [==============================] - 0s 8ms/step - loss: 1.5169 - accuracy: 0.3468 - val_loss: 2.0136 - val_accuracy: 0.3077\n",
            "Epoch 786/1000\n",
            "8/8 [==============================] - 0s 9ms/step - loss: 1.4391 - accuracy: 0.3845 - val_loss: 1.9967 - val_accuracy: 0.2933\n",
            "Epoch 787/1000\n",
            "8/8 [==============================] - 0s 9ms/step - loss: 1.3774 - accuracy: 0.3913 - val_loss: 2.0099 - val_accuracy: 0.2981\n",
            "Epoch 788/1000\n",
            "8/8 [==============================] - 0s 8ms/step - loss: 1.4005 - accuracy: 0.3969 - val_loss: 2.1294 - val_accuracy: 0.3029\n",
            "Epoch 789/1000\n",
            "8/8 [==============================] - 0s 10ms/step - loss: 1.4579 - accuracy: 0.3923 - val_loss: 2.0870 - val_accuracy: 0.2909\n",
            "Epoch 790/1000\n",
            "8/8 [==============================] - 0s 9ms/step - loss: 1.4131 - accuracy: 0.3891 - val_loss: 1.9838 - val_accuracy: 0.3005\n",
            "Epoch 791/1000\n",
            "8/8 [==============================] - 0s 8ms/step - loss: 1.4071 - accuracy: 0.4080 - val_loss: 2.0625 - val_accuracy: 0.2957\n",
            "Epoch 792/1000\n",
            "8/8 [==============================] - 0s 8ms/step - loss: 1.3750 - accuracy: 0.4105 - val_loss: 1.9892 - val_accuracy: 0.3053\n",
            "Epoch 793/1000\n",
            "8/8 [==============================] - 0s 9ms/step - loss: 1.4324 - accuracy: 0.3735 - val_loss: 2.0287 - val_accuracy: 0.3053\n",
            "Epoch 794/1000\n",
            "8/8 [==============================] - 0s 8ms/step - loss: 1.4120 - accuracy: 0.3958 - val_loss: 2.0484 - val_accuracy: 0.3029\n",
            "Epoch 795/1000\n",
            "8/8 [==============================] - 0s 10ms/step - loss: 1.4611 - accuracy: 0.3720 - val_loss: 2.0586 - val_accuracy: 0.2957\n",
            "Epoch 796/1000\n",
            "8/8 [==============================] - 0s 10ms/step - loss: 1.3822 - accuracy: 0.3947 - val_loss: 2.0121 - val_accuracy: 0.3269\n",
            "Epoch 797/1000\n",
            "8/8 [==============================] - 0s 9ms/step - loss: 1.3877 - accuracy: 0.4126 - val_loss: 2.0248 - val_accuracy: 0.2909\n",
            "Epoch 798/1000\n",
            "8/8 [==============================] - 0s 10ms/step - loss: 1.4201 - accuracy: 0.3863 - val_loss: 2.0940 - val_accuracy: 0.2788\n",
            "Epoch 799/1000\n",
            "8/8 [==============================] - 0s 8ms/step - loss: 1.4307 - accuracy: 0.3972 - val_loss: 1.9809 - val_accuracy: 0.3077\n",
            "Epoch 800/1000\n",
            "8/8 [==============================] - 0s 8ms/step - loss: 1.3685 - accuracy: 0.4110 - val_loss: 2.0267 - val_accuracy: 0.2981\n",
            "Epoch 801/1000\n",
            "8/8 [==============================] - 0s 9ms/step - loss: 1.3881 - accuracy: 0.4015 - val_loss: 2.1663 - val_accuracy: 0.2957\n",
            "Epoch 802/1000\n",
            "8/8 [==============================] - 0s 9ms/step - loss: 1.4208 - accuracy: 0.3924 - val_loss: 2.1294 - val_accuracy: 0.3005\n",
            "Epoch 803/1000\n",
            "8/8 [==============================] - 0s 9ms/step - loss: 1.4950 - accuracy: 0.3728 - val_loss: 1.9771 - val_accuracy: 0.2933\n",
            "Epoch 804/1000\n",
            "8/8 [==============================] - 0s 10ms/step - loss: 1.3966 - accuracy: 0.4067 - val_loss: 2.1855 - val_accuracy: 0.2788\n",
            "Epoch 805/1000\n",
            "8/8 [==============================] - 0s 25ms/step - loss: 1.5085 - accuracy: 0.3708 - val_loss: 2.0425 - val_accuracy: 0.2909\n",
            "Epoch 806/1000\n",
            "8/8 [==============================] - 0s 9ms/step - loss: 1.4310 - accuracy: 0.3938 - val_loss: 2.0607 - val_accuracy: 0.3197\n",
            "Epoch 807/1000\n",
            "8/8 [==============================] - 0s 8ms/step - loss: 1.4187 - accuracy: 0.3937 - val_loss: 1.9751 - val_accuracy: 0.3125\n",
            "Epoch 808/1000\n",
            "8/8 [==============================] - 0s 10ms/step - loss: 1.3829 - accuracy: 0.3960 - val_loss: 2.1610 - val_accuracy: 0.2716\n",
            "Epoch 809/1000\n",
            "8/8 [==============================] - 0s 9ms/step - loss: 1.4154 - accuracy: 0.3787 - val_loss: 2.1788 - val_accuracy: 0.2861\n",
            "Epoch 810/1000\n",
            "8/8 [==============================] - 0s 9ms/step - loss: 1.4228 - accuracy: 0.3831 - val_loss: 2.0532 - val_accuracy: 0.3125\n",
            "Epoch 811/1000\n",
            "8/8 [==============================] - 0s 9ms/step - loss: 1.4556 - accuracy: 0.3708 - val_loss: 1.9692 - val_accuracy: 0.3077\n",
            "Epoch 812/1000\n",
            "8/8 [==============================] - 0s 8ms/step - loss: 1.3664 - accuracy: 0.4104 - val_loss: 2.0441 - val_accuracy: 0.3077\n",
            "Epoch 813/1000\n",
            "8/8 [==============================] - 0s 8ms/step - loss: 1.4283 - accuracy: 0.3840 - val_loss: 2.2635 - val_accuracy: 0.2861\n",
            "Epoch 814/1000\n",
            "8/8 [==============================] - 0s 8ms/step - loss: 1.4379 - accuracy: 0.4163 - val_loss: 2.0572 - val_accuracy: 0.3101\n",
            "Epoch 815/1000\n",
            "8/8 [==============================] - 0s 8ms/step - loss: 1.4182 - accuracy: 0.3994 - val_loss: 2.0374 - val_accuracy: 0.3101\n",
            "Epoch 816/1000\n",
            "8/8 [==============================] - 0s 9ms/step - loss: 1.3780 - accuracy: 0.4093 - val_loss: 1.9658 - val_accuracy: 0.3029\n",
            "Epoch 817/1000\n",
            "8/8 [==============================] - 0s 10ms/step - loss: 1.4182 - accuracy: 0.3775 - val_loss: 2.0212 - val_accuracy: 0.3341\n",
            "Epoch 818/1000\n",
            "8/8 [==============================] - 0s 10ms/step - loss: 1.3666 - accuracy: 0.4080 - val_loss: 2.0508 - val_accuracy: 0.3053\n",
            "Epoch 819/1000\n",
            "8/8 [==============================] - 0s 9ms/step - loss: 1.3800 - accuracy: 0.4099 - val_loss: 1.9724 - val_accuracy: 0.3365\n",
            "Epoch 820/1000\n",
            "8/8 [==============================] - 0s 9ms/step - loss: 1.4022 - accuracy: 0.4012 - val_loss: 2.0617 - val_accuracy: 0.3221\n",
            "Epoch 821/1000\n",
            "8/8 [==============================] - 0s 10ms/step - loss: 1.3804 - accuracy: 0.3898 - val_loss: 1.9585 - val_accuracy: 0.3245\n",
            "Epoch 822/1000\n",
            "8/8 [==============================] - 0s 8ms/step - loss: 1.3978 - accuracy: 0.4229 - val_loss: 1.9603 - val_accuracy: 0.3245\n",
            "Epoch 823/1000\n",
            "8/8 [==============================] - 0s 9ms/step - loss: 1.3966 - accuracy: 0.3944 - val_loss: 1.9103 - val_accuracy: 0.3245\n",
            "Epoch 824/1000\n",
            "8/8 [==============================] - 0s 9ms/step - loss: 1.4070 - accuracy: 0.4059 - val_loss: 2.0251 - val_accuracy: 0.3125\n",
            "Epoch 825/1000\n",
            "8/8 [==============================] - 0s 8ms/step - loss: 1.4109 - accuracy: 0.3944 - val_loss: 1.9830 - val_accuracy: 0.3077\n",
            "Epoch 826/1000\n",
            "8/8 [==============================] - 0s 9ms/step - loss: 1.3801 - accuracy: 0.4216 - val_loss: 2.1947 - val_accuracy: 0.2909\n",
            "Epoch 827/1000\n",
            "8/8 [==============================] - 0s 8ms/step - loss: 1.4069 - accuracy: 0.4072 - val_loss: 2.0624 - val_accuracy: 0.3029\n",
            "Epoch 828/1000\n",
            "8/8 [==============================] - 0s 9ms/step - loss: 1.4288 - accuracy: 0.3835 - val_loss: 2.1126 - val_accuracy: 0.2981\n",
            "Epoch 829/1000\n",
            "8/8 [==============================] - 0s 8ms/step - loss: 1.4525 - accuracy: 0.4069 - val_loss: 1.9500 - val_accuracy: 0.3221\n",
            "Epoch 830/1000\n",
            "8/8 [==============================] - 0s 9ms/step - loss: 1.3782 - accuracy: 0.4011 - val_loss: 2.0756 - val_accuracy: 0.3053\n",
            "Epoch 831/1000\n",
            "8/8 [==============================] - 0s 9ms/step - loss: 1.4163 - accuracy: 0.3940 - val_loss: 2.0644 - val_accuracy: 0.3293\n",
            "Epoch 832/1000\n",
            "8/8 [==============================] - 0s 10ms/step - loss: 1.4075 - accuracy: 0.4169 - val_loss: 2.2663 - val_accuracy: 0.2812\n",
            "Epoch 833/1000\n",
            "8/8 [==============================] - 0s 8ms/step - loss: 1.4834 - accuracy: 0.3748 - val_loss: 2.2498 - val_accuracy: 0.3125\n",
            "Epoch 834/1000\n",
            "8/8 [==============================] - 0s 9ms/step - loss: 1.4653 - accuracy: 0.3905 - val_loss: 2.0543 - val_accuracy: 0.3197\n",
            "Epoch 835/1000\n",
            "8/8 [==============================] - 0s 8ms/step - loss: 1.3712 - accuracy: 0.4189 - val_loss: 1.9535 - val_accuracy: 0.3630\n",
            "Epoch 836/1000\n",
            "8/8 [==============================] - 0s 9ms/step - loss: 1.4231 - accuracy: 0.3956 - val_loss: 1.9361 - val_accuracy: 0.3197\n",
            "Epoch 837/1000\n",
            "8/8 [==============================] - 0s 8ms/step - loss: 1.3884 - accuracy: 0.4126 - val_loss: 2.0943 - val_accuracy: 0.2981\n",
            "Epoch 838/1000\n",
            "8/8 [==============================] - 0s 10ms/step - loss: 1.4608 - accuracy: 0.3896 - val_loss: 1.9830 - val_accuracy: 0.3125\n",
            "Epoch 839/1000\n",
            "8/8 [==============================] - 0s 9ms/step - loss: 1.3908 - accuracy: 0.4209 - val_loss: 2.0135 - val_accuracy: 0.3053\n",
            "Epoch 840/1000\n",
            "8/8 [==============================] - 0s 8ms/step - loss: 1.4363 - accuracy: 0.3846 - val_loss: 2.1898 - val_accuracy: 0.2764\n",
            "Epoch 841/1000\n",
            "8/8 [==============================] - 0s 10ms/step - loss: 1.5059 - accuracy: 0.3627 - val_loss: 2.1069 - val_accuracy: 0.3197\n",
            "Epoch 842/1000\n",
            "8/8 [==============================] - 0s 9ms/step - loss: 1.4116 - accuracy: 0.4133 - val_loss: 2.2311 - val_accuracy: 0.2788\n",
            "Epoch 843/1000\n",
            "8/8 [==============================] - 0s 9ms/step - loss: 1.4597 - accuracy: 0.3689 - val_loss: 1.9313 - val_accuracy: 0.3245\n",
            "Epoch 844/1000\n",
            "8/8 [==============================] - 0s 8ms/step - loss: 1.3845 - accuracy: 0.4104 - val_loss: 1.9540 - val_accuracy: 0.3269\n",
            "Epoch 845/1000\n",
            "8/8 [==============================] - 0s 10ms/step - loss: 1.3317 - accuracy: 0.4264 - val_loss: 2.1088 - val_accuracy: 0.2885\n",
            "Epoch 846/1000\n",
            "8/8 [==============================] - 0s 9ms/step - loss: 1.3867 - accuracy: 0.4086 - val_loss: 1.9987 - val_accuracy: 0.3221\n",
            "Epoch 847/1000\n",
            "8/8 [==============================] - 0s 9ms/step - loss: 1.3798 - accuracy: 0.4163 - val_loss: 1.9836 - val_accuracy: 0.2957\n",
            "Epoch 848/1000\n",
            "8/8 [==============================] - 0s 9ms/step - loss: 1.4188 - accuracy: 0.3908 - val_loss: 2.0359 - val_accuracy: 0.3173\n",
            "Epoch 849/1000\n",
            "8/8 [==============================] - 0s 9ms/step - loss: 1.3748 - accuracy: 0.4170 - val_loss: 2.0569 - val_accuracy: 0.3077\n",
            "Epoch 850/1000\n",
            "8/8 [==============================] - 0s 10ms/step - loss: 1.4026 - accuracy: 0.3949 - val_loss: 2.1235 - val_accuracy: 0.2933\n",
            "Epoch 851/1000\n",
            "8/8 [==============================] - 0s 9ms/step - loss: 1.4351 - accuracy: 0.3844 - val_loss: 2.1045 - val_accuracy: 0.3101\n",
            "Epoch 852/1000\n",
            "8/8 [==============================] - 0s 9ms/step - loss: 1.4352 - accuracy: 0.4020 - val_loss: 2.0754 - val_accuracy: 0.3077\n",
            "Epoch 853/1000\n",
            "8/8 [==============================] - 0s 9ms/step - loss: 1.3872 - accuracy: 0.4155 - val_loss: 2.0946 - val_accuracy: 0.3125\n",
            "Epoch 854/1000\n",
            "8/8 [==============================] - 0s 10ms/step - loss: 1.3795 - accuracy: 0.3880 - val_loss: 1.9734 - val_accuracy: 0.3293\n",
            "Epoch 855/1000\n",
            "8/8 [==============================] - 0s 8ms/step - loss: 1.3813 - accuracy: 0.4077 - val_loss: 2.0741 - val_accuracy: 0.3149\n",
            "Epoch 856/1000\n",
            "8/8 [==============================] - 0s 8ms/step - loss: 1.3924 - accuracy: 0.4068 - val_loss: 2.0788 - val_accuracy: 0.2981\n",
            "Epoch 857/1000\n",
            "8/8 [==============================] - 0s 9ms/step - loss: 1.4115 - accuracy: 0.4023 - val_loss: 2.1637 - val_accuracy: 0.2861\n",
            "Epoch 858/1000\n",
            "8/8 [==============================] - 0s 10ms/step - loss: 1.4868 - accuracy: 0.3636 - val_loss: 1.9796 - val_accuracy: 0.3413\n",
            "Epoch 859/1000\n",
            "8/8 [==============================] - 0s 26ms/step - loss: 1.3782 - accuracy: 0.4218 - val_loss: 2.0706 - val_accuracy: 0.3101\n",
            "Epoch 860/1000\n",
            "8/8 [==============================] - 0s 8ms/step - loss: 1.4021 - accuracy: 0.4138 - val_loss: 2.0004 - val_accuracy: 0.3149\n",
            "Epoch 861/1000\n",
            "8/8 [==============================] - 0s 8ms/step - loss: 1.3993 - accuracy: 0.4091 - val_loss: 1.9791 - val_accuracy: 0.3462\n",
            "Epoch 862/1000\n",
            "8/8 [==============================] - 0s 9ms/step - loss: 1.3726 - accuracy: 0.4221 - val_loss: 2.0033 - val_accuracy: 0.3317\n",
            "Epoch 863/1000\n",
            "8/8 [==============================] - 0s 8ms/step - loss: 1.4151 - accuracy: 0.3962 - val_loss: 2.1023 - val_accuracy: 0.2933\n",
            "Epoch 864/1000\n",
            "8/8 [==============================] - 0s 8ms/step - loss: 1.4240 - accuracy: 0.4152 - val_loss: 2.0882 - val_accuracy: 0.3149\n",
            "Epoch 865/1000\n",
            "8/8 [==============================] - 0s 9ms/step - loss: 1.3860 - accuracy: 0.4127 - val_loss: 2.2085 - val_accuracy: 0.2885\n",
            "Epoch 866/1000\n",
            "8/8 [==============================] - 0s 8ms/step - loss: 1.4327 - accuracy: 0.3859 - val_loss: 2.1019 - val_accuracy: 0.3029\n",
            "Epoch 867/1000\n",
            "8/8 [==============================] - 0s 9ms/step - loss: 1.3904 - accuracy: 0.4081 - val_loss: 2.5422 - val_accuracy: 0.2476\n",
            "Epoch 868/1000\n",
            "8/8 [==============================] - 0s 9ms/step - loss: 1.6171 - accuracy: 0.3207 - val_loss: 1.9851 - val_accuracy: 0.3101\n",
            "Epoch 869/1000\n",
            "8/8 [==============================] - 0s 8ms/step - loss: 1.3907 - accuracy: 0.3978 - val_loss: 2.1033 - val_accuracy: 0.3149\n",
            "Epoch 870/1000\n",
            "8/8 [==============================] - 0s 9ms/step - loss: 1.4023 - accuracy: 0.3973 - val_loss: 1.9864 - val_accuracy: 0.3173\n",
            "Epoch 871/1000\n",
            "8/8 [==============================] - 0s 8ms/step - loss: 1.3860 - accuracy: 0.4195 - val_loss: 2.0820 - val_accuracy: 0.2981\n",
            "Epoch 872/1000\n",
            "8/8 [==============================] - 0s 9ms/step - loss: 1.4124 - accuracy: 0.3972 - val_loss: 2.0300 - val_accuracy: 0.3365\n",
            "Epoch 873/1000\n",
            "8/8 [==============================] - 0s 9ms/step - loss: 1.3902 - accuracy: 0.3943 - val_loss: 2.0129 - val_accuracy: 0.3173\n",
            "Epoch 874/1000\n",
            "8/8 [==============================] - 0s 9ms/step - loss: 1.4262 - accuracy: 0.3848 - val_loss: 2.0169 - val_accuracy: 0.3245\n",
            "Epoch 875/1000\n",
            "8/8 [==============================] - 0s 9ms/step - loss: 1.3757 - accuracy: 0.4229 - val_loss: 2.1087 - val_accuracy: 0.3149\n",
            "Epoch 876/1000\n",
            "8/8 [==============================] - 0s 9ms/step - loss: 1.3855 - accuracy: 0.4017 - val_loss: 2.0229 - val_accuracy: 0.3125\n",
            "Epoch 877/1000\n",
            "8/8 [==============================] - 0s 9ms/step - loss: 1.3552 - accuracy: 0.4109 - val_loss: 2.0364 - val_accuracy: 0.3221\n",
            "Epoch 878/1000\n",
            "8/8 [==============================] - 0s 8ms/step - loss: 1.3744 - accuracy: 0.4043 - val_loss: 2.2082 - val_accuracy: 0.3077\n",
            "Epoch 879/1000\n",
            "8/8 [==============================] - 0s 8ms/step - loss: 1.4221 - accuracy: 0.4080 - val_loss: 2.0309 - val_accuracy: 0.3269\n",
            "Epoch 880/1000\n",
            "8/8 [==============================] - 0s 8ms/step - loss: 1.3924 - accuracy: 0.3997 - val_loss: 2.2720 - val_accuracy: 0.3053\n",
            "Epoch 881/1000\n",
            "8/8 [==============================] - 0s 10ms/step - loss: 1.4480 - accuracy: 0.3861 - val_loss: 2.2936 - val_accuracy: 0.2885\n",
            "Epoch 882/1000\n",
            "8/8 [==============================] - 0s 9ms/step - loss: 1.4415 - accuracy: 0.3812 - val_loss: 2.0914 - val_accuracy: 0.3101\n",
            "Epoch 883/1000\n",
            "8/8 [==============================] - 0s 9ms/step - loss: 1.4067 - accuracy: 0.4111 - val_loss: 2.0364 - val_accuracy: 0.3630\n",
            "Epoch 884/1000\n",
            "8/8 [==============================] - 0s 10ms/step - loss: 1.3687 - accuracy: 0.4053 - val_loss: 2.0478 - val_accuracy: 0.2909\n",
            "Epoch 885/1000\n",
            "8/8 [==============================] - 0s 9ms/step - loss: 1.3951 - accuracy: 0.3905 - val_loss: 2.1014 - val_accuracy: 0.2885\n",
            "Epoch 886/1000\n",
            "8/8 [==============================] - 0s 9ms/step - loss: 1.4124 - accuracy: 0.4062 - val_loss: 2.1340 - val_accuracy: 0.3077\n",
            "Epoch 887/1000\n",
            "8/8 [==============================] - 0s 9ms/step - loss: 1.3766 - accuracy: 0.4061 - val_loss: 2.0674 - val_accuracy: 0.3125\n",
            "Epoch 888/1000\n",
            "8/8 [==============================] - 0s 8ms/step - loss: 1.3294 - accuracy: 0.4155 - val_loss: 2.0291 - val_accuracy: 0.3197\n",
            "Epoch 889/1000\n",
            "8/8 [==============================] - 0s 9ms/step - loss: 1.3964 - accuracy: 0.3935 - val_loss: 2.1218 - val_accuracy: 0.3005\n",
            "Epoch 890/1000\n",
            "8/8 [==============================] - 0s 9ms/step - loss: 1.4352 - accuracy: 0.3932 - val_loss: 2.1419 - val_accuracy: 0.3149\n",
            "Epoch 891/1000\n",
            "8/8 [==============================] - 0s 9ms/step - loss: 1.4131 - accuracy: 0.3796 - val_loss: 2.0316 - val_accuracy: 0.3077\n",
            "Epoch 892/1000\n",
            "8/8 [==============================] - 0s 9ms/step - loss: 1.3822 - accuracy: 0.3929 - val_loss: 2.2352 - val_accuracy: 0.3005\n",
            "Epoch 893/1000\n",
            "8/8 [==============================] - 0s 8ms/step - loss: 1.4077 - accuracy: 0.3936 - val_loss: 2.0967 - val_accuracy: 0.3029\n",
            "Epoch 894/1000\n",
            "8/8 [==============================] - 0s 9ms/step - loss: 1.3900 - accuracy: 0.4008 - val_loss: 2.0917 - val_accuracy: 0.3077\n",
            "Epoch 895/1000\n",
            "8/8 [==============================] - 0s 9ms/step - loss: 1.4122 - accuracy: 0.3879 - val_loss: 2.0257 - val_accuracy: 0.3125\n",
            "Epoch 896/1000\n",
            "8/8 [==============================] - 0s 9ms/step - loss: 1.4356 - accuracy: 0.3922 - val_loss: 2.0540 - val_accuracy: 0.3125\n",
            "Epoch 897/1000\n",
            "8/8 [==============================] - 0s 9ms/step - loss: 1.3843 - accuracy: 0.4107 - val_loss: 1.9901 - val_accuracy: 0.3005\n",
            "Epoch 898/1000\n",
            "8/8 [==============================] - 0s 10ms/step - loss: 1.3559 - accuracy: 0.3937 - val_loss: 2.1326 - val_accuracy: 0.3462\n",
            "Epoch 899/1000\n",
            "8/8 [==============================] - 0s 10ms/step - loss: 1.4290 - accuracy: 0.3999 - val_loss: 1.9856 - val_accuracy: 0.3293\n",
            "Epoch 900/1000\n",
            "8/8 [==============================] - 0s 8ms/step - loss: 1.3901 - accuracy: 0.4246 - val_loss: 2.0740 - val_accuracy: 0.3149\n",
            "Epoch 901/1000\n",
            "8/8 [==============================] - 0s 9ms/step - loss: 1.3992 - accuracy: 0.3999 - val_loss: 2.0424 - val_accuracy: 0.2981\n",
            "Epoch 902/1000\n",
            "8/8 [==============================] - 0s 10ms/step - loss: 1.3950 - accuracy: 0.4143 - val_loss: 2.1893 - val_accuracy: 0.3053\n",
            "Epoch 903/1000\n",
            "8/8 [==============================] - 0s 9ms/step - loss: 1.4501 - accuracy: 0.3871 - val_loss: 2.0230 - val_accuracy: 0.3077\n",
            "Epoch 904/1000\n",
            "8/8 [==============================] - 0s 9ms/step - loss: 1.3761 - accuracy: 0.4045 - val_loss: 2.1203 - val_accuracy: 0.3029\n",
            "Epoch 905/1000\n",
            "8/8 [==============================] - 0s 9ms/step - loss: 1.3677 - accuracy: 0.4155 - val_loss: 2.0318 - val_accuracy: 0.3077\n",
            "Epoch 906/1000\n",
            "8/8 [==============================] - 0s 8ms/step - loss: 1.3682 - accuracy: 0.4049 - val_loss: 1.9770 - val_accuracy: 0.3293\n",
            "Epoch 907/1000\n",
            "8/8 [==============================] - 0s 9ms/step - loss: 1.4161 - accuracy: 0.3943 - val_loss: 2.0087 - val_accuracy: 0.3389\n",
            "Epoch 908/1000\n",
            "8/8 [==============================] - 0s 10ms/step - loss: 1.3988 - accuracy: 0.3938 - val_loss: 2.1664 - val_accuracy: 0.3101\n",
            "Epoch 909/1000\n",
            "8/8 [==============================] - 0s 8ms/step - loss: 1.4109 - accuracy: 0.4209 - val_loss: 2.0627 - val_accuracy: 0.3486\n",
            "Epoch 910/1000\n",
            "8/8 [==============================] - 0s 9ms/step - loss: 1.3827 - accuracy: 0.4389 - val_loss: 2.0621 - val_accuracy: 0.3053\n",
            "Epoch 911/1000\n",
            "8/8 [==============================] - 0s 10ms/step - loss: 1.3663 - accuracy: 0.4156 - val_loss: 2.0951 - val_accuracy: 0.3245\n",
            "Epoch 912/1000\n",
            "8/8 [==============================] - 0s 9ms/step - loss: 1.4174 - accuracy: 0.4084 - val_loss: 2.0273 - val_accuracy: 0.3125\n",
            "Epoch 913/1000\n",
            "8/8 [==============================] - 0s 26ms/step - loss: 1.3854 - accuracy: 0.4019 - val_loss: 2.2096 - val_accuracy: 0.3029\n",
            "Epoch 914/1000\n",
            "8/8 [==============================] - 0s 9ms/step - loss: 1.4358 - accuracy: 0.3858 - val_loss: 2.1147 - val_accuracy: 0.3077\n",
            "Epoch 915/1000\n",
            "8/8 [==============================] - 0s 8ms/step - loss: 1.3814 - accuracy: 0.4134 - val_loss: 2.0468 - val_accuracy: 0.2909\n",
            "Epoch 916/1000\n",
            "8/8 [==============================] - 0s 8ms/step - loss: 1.4231 - accuracy: 0.3879 - val_loss: 1.9921 - val_accuracy: 0.3245\n",
            "Epoch 917/1000\n",
            "8/8 [==============================] - 0s 10ms/step - loss: 1.3379 - accuracy: 0.4320 - val_loss: 2.0866 - val_accuracy: 0.3053\n",
            "Epoch 918/1000\n",
            "8/8 [==============================] - 0s 9ms/step - loss: 1.3779 - accuracy: 0.4074 - val_loss: 2.0423 - val_accuracy: 0.2981\n",
            "Epoch 919/1000\n",
            "8/8 [==============================] - 0s 8ms/step - loss: 1.4055 - accuracy: 0.4000 - val_loss: 2.2354 - val_accuracy: 0.3101\n",
            "Epoch 920/1000\n",
            "8/8 [==============================] - 0s 8ms/step - loss: 1.3947 - accuracy: 0.3931 - val_loss: 2.4019 - val_accuracy: 0.2692\n",
            "Epoch 921/1000\n",
            "8/8 [==============================] - 0s 9ms/step - loss: 1.4438 - accuracy: 0.4053 - val_loss: 2.1794 - val_accuracy: 0.3077\n",
            "Epoch 922/1000\n",
            "8/8 [==============================] - 0s 9ms/step - loss: 1.4213 - accuracy: 0.3934 - val_loss: 2.1906 - val_accuracy: 0.3197\n",
            "Epoch 923/1000\n",
            "8/8 [==============================] - 0s 9ms/step - loss: 1.4291 - accuracy: 0.3905 - val_loss: 2.1278 - val_accuracy: 0.3197\n",
            "Epoch 924/1000\n",
            "8/8 [==============================] - 0s 9ms/step - loss: 1.4503 - accuracy: 0.3891 - val_loss: 2.0601 - val_accuracy: 0.3053\n",
            "Epoch 925/1000\n",
            "8/8 [==============================] - 0s 9ms/step - loss: 1.3803 - accuracy: 0.3880 - val_loss: 2.0491 - val_accuracy: 0.3077\n",
            "Epoch 926/1000\n",
            "8/8 [==============================] - 0s 9ms/step - loss: 1.3598 - accuracy: 0.3923 - val_loss: 2.2362 - val_accuracy: 0.2909\n",
            "Epoch 927/1000\n",
            "8/8 [==============================] - 0s 10ms/step - loss: 1.4436 - accuracy: 0.3875 - val_loss: 2.0676 - val_accuracy: 0.3101\n",
            "Epoch 928/1000\n",
            "8/8 [==============================] - 0s 8ms/step - loss: 1.4308 - accuracy: 0.4091 - val_loss: 2.1515 - val_accuracy: 0.3173\n",
            "Epoch 929/1000\n",
            "8/8 [==============================] - 0s 9ms/step - loss: 1.4955 - accuracy: 0.3815 - val_loss: 2.1105 - val_accuracy: 0.3269\n",
            "Epoch 930/1000\n",
            "8/8 [==============================] - 0s 8ms/step - loss: 1.3570 - accuracy: 0.4373 - val_loss: 2.0735 - val_accuracy: 0.3317\n",
            "Epoch 931/1000\n",
            "8/8 [==============================] - 0s 10ms/step - loss: 1.3967 - accuracy: 0.4291 - val_loss: 2.1177 - val_accuracy: 0.3029\n",
            "Epoch 932/1000\n",
            "8/8 [==============================] - 0s 10ms/step - loss: 1.4335 - accuracy: 0.3770 - val_loss: 2.1973 - val_accuracy: 0.3101\n",
            "Epoch 933/1000\n",
            "8/8 [==============================] - 0s 9ms/step - loss: 1.3957 - accuracy: 0.4154 - val_loss: 1.9809 - val_accuracy: 0.3221\n",
            "Epoch 934/1000\n",
            "8/8 [==============================] - 0s 9ms/step - loss: 1.3634 - accuracy: 0.4110 - val_loss: 1.9871 - val_accuracy: 0.3293\n",
            "Epoch 935/1000\n",
            "8/8 [==============================] - 0s 10ms/step - loss: 1.3968 - accuracy: 0.3979 - val_loss: 2.1887 - val_accuracy: 0.3077\n",
            "Epoch 936/1000\n",
            "8/8 [==============================] - 0s 10ms/step - loss: 1.4301 - accuracy: 0.3763 - val_loss: 2.0872 - val_accuracy: 0.3149\n",
            "Epoch 937/1000\n",
            "8/8 [==============================] - 0s 9ms/step - loss: 1.3770 - accuracy: 0.4121 - val_loss: 2.2238 - val_accuracy: 0.3293\n",
            "Epoch 938/1000\n",
            "8/8 [==============================] - 0s 9ms/step - loss: 1.3782 - accuracy: 0.4315 - val_loss: 2.1598 - val_accuracy: 0.3365\n",
            "Epoch 939/1000\n",
            "8/8 [==============================] - 0s 8ms/step - loss: 1.4321 - accuracy: 0.3824 - val_loss: 2.1316 - val_accuracy: 0.3125\n",
            "Epoch 940/1000\n",
            "8/8 [==============================] - 0s 9ms/step - loss: 1.3536 - accuracy: 0.4279 - val_loss: 2.1953 - val_accuracy: 0.3293\n",
            "Epoch 941/1000\n",
            "8/8 [==============================] - 0s 10ms/step - loss: 1.3698 - accuracy: 0.4435 - val_loss: 2.1942 - val_accuracy: 0.3101\n",
            "Epoch 942/1000\n",
            "8/8 [==============================] - 0s 8ms/step - loss: 1.3972 - accuracy: 0.3838 - val_loss: 2.3284 - val_accuracy: 0.2788\n",
            "Epoch 943/1000\n",
            "8/8 [==============================] - 0s 9ms/step - loss: 1.4330 - accuracy: 0.3940 - val_loss: 2.4099 - val_accuracy: 0.2668\n",
            "Epoch 944/1000\n",
            "8/8 [==============================] - 0s 9ms/step - loss: 1.4403 - accuracy: 0.3746 - val_loss: 2.0786 - val_accuracy: 0.3101\n",
            "Epoch 945/1000\n",
            "8/8 [==============================] - 0s 8ms/step - loss: 1.3422 - accuracy: 0.4057 - val_loss: 2.1009 - val_accuracy: 0.3005\n",
            "Epoch 946/1000\n",
            "8/8 [==============================] - 0s 9ms/step - loss: 1.3523 - accuracy: 0.4181 - val_loss: 2.4455 - val_accuracy: 0.2933\n",
            "Epoch 947/1000\n",
            "8/8 [==============================] - 0s 8ms/step - loss: 1.4961 - accuracy: 0.3941 - val_loss: 2.0654 - val_accuracy: 0.3197\n",
            "Epoch 948/1000\n",
            "8/8 [==============================] - 0s 10ms/step - loss: 1.4102 - accuracy: 0.4234 - val_loss: 2.0443 - val_accuracy: 0.3245\n",
            "Epoch 949/1000\n",
            "8/8 [==============================] - 0s 9ms/step - loss: 1.3501 - accuracy: 0.4364 - val_loss: 2.0204 - val_accuracy: 0.3053\n",
            "Epoch 950/1000\n",
            "8/8 [==============================] - 0s 9ms/step - loss: 1.3990 - accuracy: 0.3990 - val_loss: 2.0919 - val_accuracy: 0.3077\n",
            "Epoch 951/1000\n",
            "8/8 [==============================] - 0s 8ms/step - loss: 1.3633 - accuracy: 0.4285 - val_loss: 2.0739 - val_accuracy: 0.3245\n",
            "Epoch 952/1000\n",
            "8/8 [==============================] - 0s 9ms/step - loss: 1.3877 - accuracy: 0.4142 - val_loss: 2.2383 - val_accuracy: 0.2740\n",
            "Epoch 953/1000\n",
            "8/8 [==============================] - 0s 8ms/step - loss: 1.4767 - accuracy: 0.3705 - val_loss: 2.0491 - val_accuracy: 0.3101\n",
            "Epoch 954/1000\n",
            "8/8 [==============================] - 0s 9ms/step - loss: 1.3664 - accuracy: 0.4080 - val_loss: 2.1824 - val_accuracy: 0.3005\n",
            "Epoch 955/1000\n",
            "8/8 [==============================] - 0s 8ms/step - loss: 1.4119 - accuracy: 0.3696 - val_loss: 2.1704 - val_accuracy: 0.3149\n",
            "Epoch 956/1000\n",
            "8/8 [==============================] - 0s 9ms/step - loss: 1.4025 - accuracy: 0.4177 - val_loss: 2.2601 - val_accuracy: 0.2957\n",
            "Epoch 957/1000\n",
            "8/8 [==============================] - 0s 8ms/step - loss: 1.4253 - accuracy: 0.4096 - val_loss: 2.2523 - val_accuracy: 0.2740\n",
            "Epoch 958/1000\n",
            "8/8 [==============================] - 0s 9ms/step - loss: 1.5031 - accuracy: 0.3634 - val_loss: 2.2076 - val_accuracy: 0.3269\n",
            "Epoch 959/1000\n",
            "8/8 [==============================] - 0s 8ms/step - loss: 1.3810 - accuracy: 0.4178 - val_loss: 2.0354 - val_accuracy: 0.3101\n",
            "Epoch 960/1000\n",
            "8/8 [==============================] - 0s 10ms/step - loss: 1.3499 - accuracy: 0.4148 - val_loss: 2.0398 - val_accuracy: 0.3053\n",
            "Epoch 961/1000\n",
            "8/8 [==============================] - 0s 9ms/step - loss: 1.3707 - accuracy: 0.4098 - val_loss: 2.1835 - val_accuracy: 0.2861\n",
            "Epoch 962/1000\n",
            "8/8 [==============================] - 0s 8ms/step - loss: 1.4643 - accuracy: 0.3983 - val_loss: 2.1368 - val_accuracy: 0.3245\n",
            "Epoch 963/1000\n",
            "8/8 [==============================] - 0s 10ms/step - loss: 1.3928 - accuracy: 0.4157 - val_loss: 2.0300 - val_accuracy: 0.3173\n",
            "Epoch 964/1000\n",
            "8/8 [==============================] - 0s 9ms/step - loss: 1.3673 - accuracy: 0.3999 - val_loss: 2.1960 - val_accuracy: 0.3125\n",
            "Epoch 965/1000\n",
            "8/8 [==============================] - 0s 9ms/step - loss: 1.3787 - accuracy: 0.4302 - val_loss: 2.2347 - val_accuracy: 0.3125\n",
            "Epoch 966/1000\n",
            "8/8 [==============================] - 0s 9ms/step - loss: 1.4092 - accuracy: 0.4102 - val_loss: 2.1447 - val_accuracy: 0.3269\n",
            "Epoch 967/1000\n",
            "8/8 [==============================] - 0s 28ms/step - loss: 1.4222 - accuracy: 0.4220 - val_loss: 2.2277 - val_accuracy: 0.3173\n",
            "Epoch 968/1000\n",
            "8/8 [==============================] - 0s 9ms/step - loss: 1.3911 - accuracy: 0.4028 - val_loss: 2.1165 - val_accuracy: 0.3245\n",
            "Epoch 969/1000\n",
            "8/8 [==============================] - 0s 9ms/step - loss: 1.4098 - accuracy: 0.3960 - val_loss: 2.0483 - val_accuracy: 0.3125\n",
            "Epoch 970/1000\n",
            "8/8 [==============================] - 0s 9ms/step - loss: 1.4438 - accuracy: 0.3842 - val_loss: 2.0998 - val_accuracy: 0.3101\n",
            "Epoch 971/1000\n",
            "8/8 [==============================] - 0s 8ms/step - loss: 1.4312 - accuracy: 0.3944 - val_loss: 2.1554 - val_accuracy: 0.3293\n",
            "Epoch 972/1000\n",
            "8/8 [==============================] - 0s 9ms/step - loss: 1.4297 - accuracy: 0.4017 - val_loss: 2.3727 - val_accuracy: 0.2885\n",
            "Epoch 973/1000\n",
            "8/8 [==============================] - 0s 8ms/step - loss: 1.5084 - accuracy: 0.3660 - val_loss: 2.0689 - val_accuracy: 0.3101\n",
            "Epoch 974/1000\n",
            "8/8 [==============================] - 0s 9ms/step - loss: 1.3608 - accuracy: 0.4134 - val_loss: 2.3948 - val_accuracy: 0.2981\n",
            "Epoch 975/1000\n",
            "8/8 [==============================] - 0s 10ms/step - loss: 1.4502 - accuracy: 0.3871 - val_loss: 2.1439 - val_accuracy: 0.2981\n",
            "Epoch 976/1000\n",
            "8/8 [==============================] - 0s 9ms/step - loss: 1.3452 - accuracy: 0.4206 - val_loss: 2.1026 - val_accuracy: 0.3365\n",
            "Epoch 977/1000\n",
            "8/8 [==============================] - 0s 9ms/step - loss: 1.3632 - accuracy: 0.4065 - val_loss: 2.0378 - val_accuracy: 0.3077\n",
            "Epoch 978/1000\n",
            "8/8 [==============================] - 0s 9ms/step - loss: 1.3766 - accuracy: 0.4051 - val_loss: 2.0697 - val_accuracy: 0.3365\n",
            "Epoch 979/1000\n",
            "8/8 [==============================] - 0s 8ms/step - loss: 1.3437 - accuracy: 0.4323 - val_loss: 2.1219 - val_accuracy: 0.3293\n",
            "Epoch 980/1000\n",
            "8/8 [==============================] - 0s 9ms/step - loss: 1.3889 - accuracy: 0.4133 - val_loss: 2.0968 - val_accuracy: 0.3317\n",
            "Epoch 981/1000\n",
            "8/8 [==============================] - 0s 9ms/step - loss: 1.3681 - accuracy: 0.4122 - val_loss: 2.0505 - val_accuracy: 0.3125\n",
            "Epoch 982/1000\n",
            "8/8 [==============================] - 0s 10ms/step - loss: 1.3564 - accuracy: 0.4304 - val_loss: 2.2190 - val_accuracy: 0.2837\n",
            "Epoch 983/1000\n",
            "8/8 [==============================] - 0s 9ms/step - loss: 1.4456 - accuracy: 0.3906 - val_loss: 2.1905 - val_accuracy: 0.3317\n",
            "Epoch 984/1000\n",
            "8/8 [==============================] - 0s 9ms/step - loss: 1.4134 - accuracy: 0.3933 - val_loss: 2.1267 - val_accuracy: 0.3245\n",
            "Epoch 985/1000\n",
            "8/8 [==============================] - 0s 9ms/step - loss: 1.3774 - accuracy: 0.4189 - val_loss: 2.1168 - val_accuracy: 0.3077\n",
            "Epoch 986/1000\n",
            "8/8 [==============================] - 0s 9ms/step - loss: 1.3723 - accuracy: 0.4186 - val_loss: 2.3135 - val_accuracy: 0.2885\n",
            "Epoch 987/1000\n",
            "8/8 [==============================] - 0s 9ms/step - loss: 1.4460 - accuracy: 0.3964 - val_loss: 2.1305 - val_accuracy: 0.3101\n",
            "Epoch 988/1000\n",
            "8/8 [==============================] - 0s 8ms/step - loss: 1.4005 - accuracy: 0.3897 - val_loss: 2.0791 - val_accuracy: 0.3365\n",
            "Epoch 989/1000\n",
            "8/8 [==============================] - 0s 10ms/step - loss: 1.3717 - accuracy: 0.4086 - val_loss: 2.0684 - val_accuracy: 0.3149\n",
            "Epoch 990/1000\n",
            "8/8 [==============================] - 0s 9ms/step - loss: 1.3673 - accuracy: 0.4165 - val_loss: 2.0487 - val_accuracy: 0.3438\n",
            "Epoch 991/1000\n",
            "8/8 [==============================] - 0s 9ms/step - loss: 1.3864 - accuracy: 0.4152 - val_loss: 2.2884 - val_accuracy: 0.3101\n",
            "Epoch 992/1000\n",
            "8/8 [==============================] - 0s 8ms/step - loss: 1.4270 - accuracy: 0.3865 - val_loss: 2.1058 - val_accuracy: 0.3101\n",
            "Epoch 993/1000\n",
            "8/8 [==============================] - 0s 9ms/step - loss: 1.3533 - accuracy: 0.4279 - val_loss: 2.0571 - val_accuracy: 0.3413\n",
            "Epoch 994/1000\n",
            "8/8 [==============================] - 0s 10ms/step - loss: 1.3367 - accuracy: 0.4350 - val_loss: 2.0298 - val_accuracy: 0.3149\n",
            "Epoch 995/1000\n",
            "8/8 [==============================] - 0s 9ms/step - loss: 1.3869 - accuracy: 0.4235 - val_loss: 2.0600 - val_accuracy: 0.3173\n",
            "Epoch 996/1000\n",
            "8/8 [==============================] - 0s 10ms/step - loss: 1.4215 - accuracy: 0.3939 - val_loss: 2.0357 - val_accuracy: 0.3293\n",
            "Epoch 997/1000\n",
            "8/8 [==============================] - 0s 9ms/step - loss: 1.3585 - accuracy: 0.4103 - val_loss: 2.1490 - val_accuracy: 0.3077\n",
            "Epoch 998/1000\n",
            "8/8 [==============================] - 0s 8ms/step - loss: 1.4151 - accuracy: 0.3928 - val_loss: 2.0697 - val_accuracy: 0.3438\n",
            "Epoch 999/1000\n",
            "8/8 [==============================] - 0s 9ms/step - loss: 1.3564 - accuracy: 0.4152 - val_loss: 2.3031 - val_accuracy: 0.3101\n",
            "Epoch 1000/1000\n",
            "8/8 [==============================] - 0s 9ms/step - loss: 1.3574 - accuracy: 0.4404 - val_loss: 2.0633 - val_accuracy: 0.3221\n"
          ],
          "name": "stdout"
        }
      ]
    },
    {
      "cell_type": "code",
      "metadata": {
        "id": "5zhIS7MLvudz",
        "colab": {
          "base_uri": "https://localhost:8080/",
          "height": 591
        },
        "outputId": "e17831e4-02e8-42e1-dbc1-54c2b4268959"
      },
      "source": [
        "print(history.history.keys())\n",
        "# summarize history for accuracy\n",
        "plt.plot(history.history['accuracy'])\n",
        "plt.plot(history.history['val_accuracy'])\n",
        "plt.title('model accuracy')\n",
        "plt.ylabel('accuracy')\n",
        "plt.xlabel('epoch')\n",
        "plt.legend(['training', 'Validation'], loc='upper left')\n",
        "plt.show()\n",
        "# summarize history for loss\n",
        "plt.plot(history.history['loss'])\n",
        "plt.plot(history.history['val_loss'])\n",
        "plt.title('model loss')\n",
        "plt.ylabel('loss')\n",
        "plt.xlabel('epoch')\n",
        "plt.legend(['training', 'Validation'], loc='upper left')\n",
        "plt.show()"
      ],
      "execution_count": 25,
      "outputs": [
        {
          "output_type": "stream",
          "text": [
            "dict_keys(['loss', 'accuracy', 'val_loss', 'val_accuracy'])\n"
          ],
          "name": "stdout"
        },
        {
          "output_type": "display_data",
          "data": {
            "image/png": "[encoded data removed]",
            "text/plain": [
              "<Figure size 432x288 with 1 Axes>"
            ]
          },
          "metadata": {
            "tags": [],
            "needs_background": "light"
          }
        },
        {
          "output_type": "display_data",
          "data": {
            "image/png": "[encoded data removed]",
            "text/plain": [
              "<Figure size 432x288 with 1 Axes>"
            ]
          },
          "metadata": {
            "tags": [],
            "needs_background": "light"
          }
        }
      ]
    },
    {
      "cell_type": "code",
      "metadata": {
        "id": "yvdqrQoW2A3O"
      },
      "source": [
        "ynew = model.predict(X_val)  #predicting the results on the validation dataset"
      ],
      "execution_count": 26,
      "outputs": []
    },
    {
      "cell_type": "code",
      "metadata": {
        "id": "F8CwOIHAwCjE"
      },
      "source": [
        "results = np.argmax(ynew,axis = 1)"
      ],
      "execution_count": 27,
      "outputs": []
    },
    {
      "cell_type": "code",
      "metadata": {
        "id": "IIKFwhb4QAPS"
      },
      "source": [
        "matrix = metrics.confusion_matrix(y_val.argmax(axis=1), ynew.argmax(axis=1))"
      ],
      "execution_count": 28,
      "outputs": []
    },
    {
      "cell_type": "code",
      "metadata": {
        "id": "86T7YPhrh0gS",
        "colab": {
          "base_uri": "https://localhost:8080/",
          "height": 283
        },
        "outputId": "d9365b64-e104-4ad3-8a15-63d1bd254f22"
      },
      "source": [
        "sns.heatmap(matrix, annot=True)"
      ],
      "execution_count": 29,
      "outputs": [
        {
          "output_type": "execute_result",
          "data": {
            "text/plain": [
              "<matplotlib.axes._subplots.AxesSubplot at 0x7f4fb0b1dc88>"
            ]
          },
          "metadata": {
            "tags": []
          },
          "execution_count": 29
        },
        {
          "output_type": "display_data",
          "data": {
            "image/png": "[encoded data removed]",
            "text/plain": [
              "<Figure size 432x288 with 2 Axes>"
            ]
          },
          "metadata": {
            "tags": [],
            "needs_background": "light"
          }
        }
      ]
    },
    {
      "cell_type": "code",
      "metadata": {
        "id": "v_M6zskFLAYm"
      },
      "source": [
        "X_train, X_test, y_train, y_test = train_test_split(X, Y, test_size=0.33, random_state=42)  #random state fill fix the same dataset tray"
      ],
      "execution_count": 30,
      "outputs": []
    },
    {
      "cell_type": "markdown",
      "metadata": {
        "id": "iRTV0riYN1e0"
      },
      "source": [
        "**Support Vector Machine**"
      ]
    },
    {
      "cell_type": "code",
      "metadata": {
        "colab": {
          "base_uri": "https://localhost:8080/"
        },
        "id": "KuCEVS3nl85J",
        "outputId": "c40927f7-777e-43fb-ca17-c9caaaa26b72"
      },
      "source": [
        "from sklearn.model_selection import GridSearchCV \r\n",
        "from sklearn.svm import SVC \r\n",
        "\r\n",
        "# defining parameter range \r\n",
        "param_grid = {'C': [0.1, 1, 10, 100, 1000], \r\n",
        "\t\t\t'gamma': [1, 0.1, 0.01, 0.001, 0.0001], \r\n",
        "\t\t\t'kernel': ['rbf']} \r\n",
        "\r\n",
        "grid = GridSearchCV(SVC(), param_grid, refit = True, verbose = 3,cv=5) \r\n",
        "\r\n",
        "# fitting the model for grid search \r\n",
        "grid.fit(X_train, y_train) \r\n"
      ],
      "execution_count": 31,
      "outputs": [
        {
          "output_type": "stream",
          "text": [
            "Fitting 5 folds for each of 25 candidates, totalling 125 fits\n",
            "[CV] C=0.1, gamma=1, kernel=rbf ......................................\n",
            "[CV] .......... C=0.1, gamma=1, kernel=rbf, score=0.178, total=   0.1s\n",
            "[CV] C=0.1, gamma=1, kernel=rbf ......................................\n",
            "[CV] .......... C=0.1, gamma=1, kernel=rbf, score=0.178, total=   0.1s\n",
            "[CV] C=0.1, gamma=1, kernel=rbf ......................................\n",
            "[CV] .......... C=0.1, gamma=1, kernel=rbf, score=0.172, total=   0.1s\n",
            "[CV] C=0.1, gamma=1, kernel=rbf ......................................\n"
          ],
          "name": "stdout"
        },
        {
          "output_type": "stream",
          "text": [
            "[Parallel(n_jobs=1)]: Using backend SequentialBackend with 1 concurrent workers.\n",
            "[Parallel(n_jobs=1)]: Done   1 out of   1 | elapsed:    0.1s remaining:    0.0s\n",
            "[Parallel(n_jobs=1)]: Done   2 out of   2 | elapsed:    0.1s remaining:    0.0s\n"
          ],
          "name": "stderr"
        },
        {
          "output_type": "stream",
          "text": [
            "[CV] .......... C=0.1, gamma=1, kernel=rbf, score=0.172, total=   0.1s\n",
            "[CV] C=0.1, gamma=1, kernel=rbf ......................................\n",
            "[CV] .......... C=0.1, gamma=1, kernel=rbf, score=0.173, total=   0.1s\n",
            "[CV] C=0.1, gamma=0.1, kernel=rbf ....................................\n",
            "[CV] ........ C=0.1, gamma=0.1, kernel=rbf, score=0.178, total=   0.1s\n",
            "[CV] C=0.1, gamma=0.1, kernel=rbf ....................................\n",
            "[CV] ........ C=0.1, gamma=0.1, kernel=rbf, score=0.178, total=   0.1s\n",
            "[CV] C=0.1, gamma=0.1, kernel=rbf ....................................\n",
            "[CV] ........ C=0.1, gamma=0.1, kernel=rbf, score=0.172, total=   0.1s\n",
            "[CV] C=0.1, gamma=0.1, kernel=rbf ....................................\n",
            "[CV] ........ C=0.1, gamma=0.1, kernel=rbf, score=0.172, total=   0.1s\n",
            "[CV] C=0.1, gamma=0.1, kernel=rbf ....................................\n",
            "[CV] ........ C=0.1, gamma=0.1, kernel=rbf, score=0.173, total=   0.1s\n",
            "[CV] C=0.1, gamma=0.01, kernel=rbf ...................................\n",
            "[CV] ....... C=0.1, gamma=0.01, kernel=rbf, score=0.178, total=   0.1s\n",
            "[CV] C=0.1, gamma=0.01, kernel=rbf ...................................\n",
            "[CV] ....... C=0.1, gamma=0.01, kernel=rbf, score=0.178, total=   0.1s\n",
            "[CV] C=0.1, gamma=0.01, kernel=rbf ...................................\n",
            "[CV] ....... C=0.1, gamma=0.01, kernel=rbf, score=0.172, total=   0.1s\n",
            "[CV] C=0.1, gamma=0.01, kernel=rbf ...................................\n",
            "[CV] ....... C=0.1, gamma=0.01, kernel=rbf, score=0.172, total=   0.1s\n",
            "[CV] C=0.1, gamma=0.01, kernel=rbf ...................................\n",
            "[CV] ....... C=0.1, gamma=0.01, kernel=rbf, score=0.173, total=   0.1s\n",
            "[CV] C=0.1, gamma=0.001, kernel=rbf ..................................\n",
            "[CV] ...... C=0.1, gamma=0.001, kernel=rbf, score=0.278, total=   0.1s\n",
            "[CV] C=0.1, gamma=0.001, kernel=rbf ..................................\n",
            "[CV] ...... C=0.1, gamma=0.001, kernel=rbf, score=0.207, total=   0.1s\n",
            "[CV] C=0.1, gamma=0.001, kernel=rbf ..................................\n",
            "[CV] ...... C=0.1, gamma=0.001, kernel=rbf, score=0.195, total=   0.1s\n",
            "[CV] C=0.1, gamma=0.001, kernel=rbf ..................................\n",
            "[CV] ...... C=0.1, gamma=0.001, kernel=rbf, score=0.195, total=   0.1s\n",
            "[CV] C=0.1, gamma=0.001, kernel=rbf ..................................\n",
            "[CV] ...... C=0.1, gamma=0.001, kernel=rbf, score=0.202, total=   0.1s\n",
            "[CV] C=0.1, gamma=0.0001, kernel=rbf .................................\n",
            "[CV] ..... C=0.1, gamma=0.0001, kernel=rbf, score=0.183, total=   0.1s\n",
            "[CV] C=0.1, gamma=0.0001, kernel=rbf .................................\n",
            "[CV] ..... C=0.1, gamma=0.0001, kernel=rbf, score=0.207, total=   0.1s\n",
            "[CV] C=0.1, gamma=0.0001, kernel=rbf .................................\n",
            "[CV] ..... C=0.1, gamma=0.0001, kernel=rbf, score=0.195, total=   0.1s\n",
            "[CV] C=0.1, gamma=0.0001, kernel=rbf .................................\n",
            "[CV] ..... C=0.1, gamma=0.0001, kernel=rbf, score=0.201, total=   0.1s\n",
            "[CV] C=0.1, gamma=0.0001, kernel=rbf .................................\n",
            "[CV] ..... C=0.1, gamma=0.0001, kernel=rbf, score=0.196, total=   0.1s\n",
            "[CV] C=1, gamma=1, kernel=rbf ........................................\n",
            "[CV] ............ C=1, gamma=1, kernel=rbf, score=0.237, total=   0.1s\n",
            "[CV] C=1, gamma=1, kernel=rbf ........................................\n",
            "[CV] ............ C=1, gamma=1, kernel=rbf, score=0.219, total=   0.1s\n",
            "[CV] C=1, gamma=1, kernel=rbf ........................................\n",
            "[CV] ............ C=1, gamma=1, kernel=rbf, score=0.207, total=   0.1s\n",
            "[CV] C=1, gamma=1, kernel=rbf ........................................\n",
            "[CV] ............ C=1, gamma=1, kernel=rbf, score=0.243, total=   0.1s\n",
            "[CV] C=1, gamma=1, kernel=rbf ........................................\n",
            "[CV] ............ C=1, gamma=1, kernel=rbf, score=0.238, total=   0.1s\n",
            "[CV] C=1, gamma=0.1, kernel=rbf ......................................\n",
            "[CV] .......... C=1, gamma=0.1, kernel=rbf, score=0.284, total=   0.1s\n",
            "[CV] C=1, gamma=0.1, kernel=rbf ......................................\n",
            "[CV] .......... C=1, gamma=0.1, kernel=rbf, score=0.254, total=   0.1s\n",
            "[CV] C=1, gamma=0.1, kernel=rbf ......................................\n",
            "[CV] .......... C=1, gamma=0.1, kernel=rbf, score=0.225, total=   0.1s\n",
            "[CV] C=1, gamma=0.1, kernel=rbf ......................................\n",
            "[CV] .......... C=1, gamma=0.1, kernel=rbf, score=0.272, total=   0.1s\n",
            "[CV] C=1, gamma=0.1, kernel=rbf ......................................\n",
            "[CV] .......... C=1, gamma=0.1, kernel=rbf, score=0.304, total=   0.1s\n",
            "[CV] C=1, gamma=0.01, kernel=rbf .....................................\n",
            "[CV] ......... C=1, gamma=0.01, kernel=rbf, score=0.420, total=   0.1s\n",
            "[CV] C=1, gamma=0.01, kernel=rbf .....................................\n",
            "[CV] ......... C=1, gamma=0.01, kernel=rbf, score=0.408, total=   0.1s\n",
            "[CV] C=1, gamma=0.01, kernel=rbf .....................................\n",
            "[CV] ......... C=1, gamma=0.01, kernel=rbf, score=0.379, total=   0.1s\n",
            "[CV] C=1, gamma=0.01, kernel=rbf .....................................\n",
            "[CV] ......... C=1, gamma=0.01, kernel=rbf, score=0.379, total=   0.1s\n",
            "[CV] C=1, gamma=0.01, kernel=rbf .....................................\n",
            "[CV] ......... C=1, gamma=0.01, kernel=rbf, score=0.423, total=   0.1s\n",
            "[CV] C=1, gamma=0.001, kernel=rbf ....................................\n",
            "[CV] ........ C=1, gamma=0.001, kernel=rbf, score=0.586, total=   0.1s\n",
            "[CV] C=1, gamma=0.001, kernel=rbf ....................................\n",
            "[CV] ........ C=1, gamma=0.001, kernel=rbf, score=0.627, total=   0.1s\n",
            "[CV] C=1, gamma=0.001, kernel=rbf ....................................\n",
            "[CV] ........ C=1, gamma=0.001, kernel=rbf, score=0.609, total=   0.1s\n",
            "[CV] C=1, gamma=0.001, kernel=rbf ....................................\n",
            "[CV] ........ C=1, gamma=0.001, kernel=rbf, score=0.710, total=   0.1s\n",
            "[CV] C=1, gamma=0.001, kernel=rbf ....................................\n",
            "[CV] ........ C=1, gamma=0.001, kernel=rbf, score=0.685, total=   0.1s\n",
            "[CV] C=1, gamma=0.0001, kernel=rbf ...................................\n",
            "[CV] ....... C=1, gamma=0.0001, kernel=rbf, score=0.379, total=   0.1s\n",
            "[CV] C=1, gamma=0.0001, kernel=rbf ...................................\n",
            "[CV] ....... C=1, gamma=0.0001, kernel=rbf, score=0.450, total=   0.1s\n",
            "[CV] C=1, gamma=0.0001, kernel=rbf ...................................\n",
            "[CV] ....... C=1, gamma=0.0001, kernel=rbf, score=0.473, total=   0.1s\n",
            "[CV] C=1, gamma=0.0001, kernel=rbf ...................................\n",
            "[CV] ....... C=1, gamma=0.0001, kernel=rbf, score=0.503, total=   0.1s\n",
            "[CV] C=1, gamma=0.0001, kernel=rbf ...................................\n",
            "[CV] ....... C=1, gamma=0.0001, kernel=rbf, score=0.488, total=   0.1s\n",
            "[CV] C=10, gamma=1, kernel=rbf .......................................\n",
            "[CV] ........... C=10, gamma=1, kernel=rbf, score=0.249, total=   0.1s\n",
            "[CV] C=10, gamma=1, kernel=rbf .......................................\n",
            "[CV] ........... C=10, gamma=1, kernel=rbf, score=0.225, total=   0.1s\n",
            "[CV] C=10, gamma=1, kernel=rbf .......................................\n",
            "[CV] ........... C=10, gamma=1, kernel=rbf, score=0.213, total=   0.1s\n",
            "[CV] C=10, gamma=1, kernel=rbf .......................................\n",
            "[CV] ........... C=10, gamma=1, kernel=rbf, score=0.254, total=   0.1s\n",
            "[CV] C=10, gamma=1, kernel=rbf .......................................\n",
            "[CV] ........... C=10, gamma=1, kernel=rbf, score=0.250, total=   0.1s\n",
            "[CV] C=10, gamma=0.1, kernel=rbf .....................................\n",
            "[CV] ......... C=10, gamma=0.1, kernel=rbf, score=0.296, total=   0.1s\n",
            "[CV] C=10, gamma=0.1, kernel=rbf .....................................\n",
            "[CV] ......... C=10, gamma=0.1, kernel=rbf, score=0.272, total=   0.1s\n",
            "[CV] C=10, gamma=0.1, kernel=rbf .....................................\n",
            "[CV] ......... C=10, gamma=0.1, kernel=rbf, score=0.225, total=   0.1s\n",
            "[CV] C=10, gamma=0.1, kernel=rbf .....................................\n",
            "[CV] ......... C=10, gamma=0.1, kernel=rbf, score=0.278, total=   0.1s\n",
            "[CV] C=10, gamma=0.1, kernel=rbf .....................................\n",
            "[CV] ......... C=10, gamma=0.1, kernel=rbf, score=0.304, total=   0.1s\n",
            "[CV] C=10, gamma=0.01, kernel=rbf ....................................\n",
            "[CV] ........ C=10, gamma=0.01, kernel=rbf, score=0.450, total=   0.1s\n",
            "[CV] C=10, gamma=0.01, kernel=rbf ....................................\n",
            "[CV] ........ C=10, gamma=0.01, kernel=rbf, score=0.426, total=   0.1s\n",
            "[CV] C=10, gamma=0.01, kernel=rbf ....................................\n",
            "[CV] ........ C=10, gamma=0.01, kernel=rbf, score=0.414, total=   0.1s\n",
            "[CV] C=10, gamma=0.01, kernel=rbf ....................................\n",
            "[CV] ........ C=10, gamma=0.01, kernel=rbf, score=0.414, total=   0.1s\n",
            "[CV] C=10, gamma=0.01, kernel=rbf ....................................\n",
            "[CV] ........ C=10, gamma=0.01, kernel=rbf, score=0.458, total=   0.1s\n",
            "[CV] C=10, gamma=0.001, kernel=rbf ...................................\n",
            "[CV] ....... C=10, gamma=0.001, kernel=rbf, score=0.669, total=   0.1s\n",
            "[CV] C=10, gamma=0.001, kernel=rbf ...................................\n",
            "[CV] ....... C=10, gamma=0.001, kernel=rbf, score=0.710, total=   0.1s\n",
            "[CV] C=10, gamma=0.001, kernel=rbf ...................................\n",
            "[CV] ....... C=10, gamma=0.001, kernel=rbf, score=0.675, total=   0.1s\n",
            "[CV] C=10, gamma=0.001, kernel=rbf ...................................\n",
            "[CV] ....... C=10, gamma=0.001, kernel=rbf, score=0.751, total=   0.1s\n",
            "[CV] C=10, gamma=0.001, kernel=rbf ...................................\n",
            "[CV] ....... C=10, gamma=0.001, kernel=rbf, score=0.708, total=   0.1s\n",
            "[CV] C=10, gamma=0.0001, kernel=rbf ..................................\n",
            "[CV] ...... C=10, gamma=0.0001, kernel=rbf, score=0.609, total=   0.0s\n",
            "[CV] C=10, gamma=0.0001, kernel=rbf ..................................\n",
            "[CV] ...... C=10, gamma=0.0001, kernel=rbf, score=0.651, total=   0.1s\n",
            "[CV] C=10, gamma=0.0001, kernel=rbf ..................................\n",
            "[CV] ...... C=10, gamma=0.0001, kernel=rbf, score=0.598, total=   0.0s\n",
            "[CV] C=10, gamma=0.0001, kernel=rbf ..................................\n",
            "[CV] ...... C=10, gamma=0.0001, kernel=rbf, score=0.686, total=   0.0s\n",
            "[CV] C=10, gamma=0.0001, kernel=rbf ..................................\n",
            "[CV] ...... C=10, gamma=0.0001, kernel=rbf, score=0.661, total=   0.1s\n",
            "[CV] C=100, gamma=1, kernel=rbf ......................................\n",
            "[CV] .......... C=100, gamma=1, kernel=rbf, score=0.249, total=   0.1s\n",
            "[CV] C=100, gamma=1, kernel=rbf ......................................\n",
            "[CV] .......... C=100, gamma=1, kernel=rbf, score=0.225, total=   0.1s\n",
            "[CV] C=100, gamma=1, kernel=rbf ......................................\n",
            "[CV] .......... C=100, gamma=1, kernel=rbf, score=0.213, total=   0.1s\n",
            "[CV] C=100, gamma=1, kernel=rbf ......................................\n",
            "[CV] .......... C=100, gamma=1, kernel=rbf, score=0.254, total=   0.1s\n",
            "[CV] C=100, gamma=1, kernel=rbf ......................................\n",
            "[CV] .......... C=100, gamma=1, kernel=rbf, score=0.250, total=   0.1s\n",
            "[CV] C=100, gamma=0.1, kernel=rbf ....................................\n",
            "[CV] ........ C=100, gamma=0.1, kernel=rbf, score=0.296, total=   0.1s\n",
            "[CV] C=100, gamma=0.1, kernel=rbf ....................................\n",
            "[CV] ........ C=100, gamma=0.1, kernel=rbf, score=0.272, total=   0.1s\n",
            "[CV] C=100, gamma=0.1, kernel=rbf ....................................\n",
            "[CV] ........ C=100, gamma=0.1, kernel=rbf, score=0.225, total=   0.1s\n",
            "[CV] C=100, gamma=0.1, kernel=rbf ....................................\n",
            "[CV] ........ C=100, gamma=0.1, kernel=rbf, score=0.278, total=   0.1s\n",
            "[CV] C=100, gamma=0.1, kernel=rbf ....................................\n",
            "[CV] ........ C=100, gamma=0.1, kernel=rbf, score=0.304, total=   0.1s\n",
            "[CV] C=100, gamma=0.01, kernel=rbf ...................................\n",
            "[CV] ....... C=100, gamma=0.01, kernel=rbf, score=0.450, total=   0.1s\n",
            "[CV] C=100, gamma=0.01, kernel=rbf ...................................\n",
            "[CV] ....... C=100, gamma=0.01, kernel=rbf, score=0.426, total=   0.1s\n",
            "[CV] C=100, gamma=0.01, kernel=rbf ...................................\n",
            "[CV] ....... C=100, gamma=0.01, kernel=rbf, score=0.414, total=   0.1s\n",
            "[CV] C=100, gamma=0.01, kernel=rbf ...................................\n",
            "[CV] ....... C=100, gamma=0.01, kernel=rbf, score=0.414, total=   0.1s\n",
            "[CV] C=100, gamma=0.01, kernel=rbf ...................................\n",
            "[CV] ....... C=100, gamma=0.01, kernel=rbf, score=0.458, total=   0.1s\n",
            "[CV] C=100, gamma=0.001, kernel=rbf ..................................\n",
            "[CV] ...... C=100, gamma=0.001, kernel=rbf, score=0.686, total=   0.1s\n",
            "[CV] C=100, gamma=0.001, kernel=rbf ..................................\n",
            "[CV] ...... C=100, gamma=0.001, kernel=rbf, score=0.716, total=   0.1s\n",
            "[CV] C=100, gamma=0.001, kernel=rbf ..................................\n",
            "[CV] ...... C=100, gamma=0.001, kernel=rbf, score=0.657, total=   0.1s\n",
            "[CV] C=100, gamma=0.001, kernel=rbf ..................................\n",
            "[CV] ...... C=100, gamma=0.001, kernel=rbf, score=0.751, total=   0.1s\n",
            "[CV] C=100, gamma=0.001, kernel=rbf ..................................\n",
            "[CV] ...... C=100, gamma=0.001, kernel=rbf, score=0.702, total=   0.1s\n",
            "[CV] C=100, gamma=0.0001, kernel=rbf .................................\n",
            "[CV] ..... C=100, gamma=0.0001, kernel=rbf, score=0.621, total=   0.1s\n",
            "[CV] C=100, gamma=0.0001, kernel=rbf .................................\n",
            "[CV] ..... C=100, gamma=0.0001, kernel=rbf, score=0.680, total=   0.1s\n",
            "[CV] C=100, gamma=0.0001, kernel=rbf .................................\n",
            "[CV] ..... C=100, gamma=0.0001, kernel=rbf, score=0.639, total=   0.1s\n",
            "[CV] C=100, gamma=0.0001, kernel=rbf .................................\n",
            "[CV] ..... C=100, gamma=0.0001, kernel=rbf, score=0.704, total=   0.1s\n",
            "[CV] C=100, gamma=0.0001, kernel=rbf .................................\n",
            "[CV] ..... C=100, gamma=0.0001, kernel=rbf, score=0.679, total=   0.1s\n",
            "[CV] C=1000, gamma=1, kernel=rbf .....................................\n",
            "[CV] ......... C=1000, gamma=1, kernel=rbf, score=0.249, total=   0.1s\n",
            "[CV] C=1000, gamma=1, kernel=rbf .....................................\n",
            "[CV] ......... C=1000, gamma=1, kernel=rbf, score=0.225, total=   0.1s\n",
            "[CV] C=1000, gamma=1, kernel=rbf .....................................\n",
            "[CV] ......... C=1000, gamma=1, kernel=rbf, score=0.213, total=   0.1s\n",
            "[CV] C=1000, gamma=1, kernel=rbf .....................................\n",
            "[CV] ......... C=1000, gamma=1, kernel=rbf, score=0.254, total=   0.1s\n",
            "[CV] C=1000, gamma=1, kernel=rbf .....................................\n",
            "[CV] ......... C=1000, gamma=1, kernel=rbf, score=0.250, total=   0.1s\n",
            "[CV] C=1000, gamma=0.1, kernel=rbf ...................................\n",
            "[CV] ....... C=1000, gamma=0.1, kernel=rbf, score=0.296, total=   0.1s\n",
            "[CV] C=1000, gamma=0.1, kernel=rbf ...................................\n",
            "[CV] ....... C=1000, gamma=0.1, kernel=rbf, score=0.272, total=   0.1s\n",
            "[CV] C=1000, gamma=0.1, kernel=rbf ...................................\n",
            "[CV] ....... C=1000, gamma=0.1, kernel=rbf, score=0.225, total=   0.1s\n",
            "[CV] C=1000, gamma=0.1, kernel=rbf ...................................\n",
            "[CV] ....... C=1000, gamma=0.1, kernel=rbf, score=0.278, total=   0.1s\n",
            "[CV] C=1000, gamma=0.1, kernel=rbf ...................................\n",
            "[CV] ....... C=1000, gamma=0.1, kernel=rbf, score=0.304, total=   0.1s\n",
            "[CV] C=1000, gamma=0.01, kernel=rbf ..................................\n",
            "[CV] ...... C=1000, gamma=0.01, kernel=rbf, score=0.450, total=   0.1s\n",
            "[CV] C=1000, gamma=0.01, kernel=rbf ..................................\n",
            "[CV] ...... C=1000, gamma=0.01, kernel=rbf, score=0.426, total=   0.1s\n",
            "[CV] C=1000, gamma=0.01, kernel=rbf ..................................\n",
            "[CV] ...... C=1000, gamma=0.01, kernel=rbf, score=0.414, total=   0.1s\n",
            "[CV] C=1000, gamma=0.01, kernel=rbf ..................................\n",
            "[CV] ...... C=1000, gamma=0.01, kernel=rbf, score=0.414, total=   0.1s\n",
            "[CV] C=1000, gamma=0.01, kernel=rbf ..................................\n",
            "[CV] ...... C=1000, gamma=0.01, kernel=rbf, score=0.458, total=   0.1s\n",
            "[CV] C=1000, gamma=0.001, kernel=rbf .................................\n",
            "[CV] ..... C=1000, gamma=0.001, kernel=rbf, score=0.686, total=   0.1s\n",
            "[CV] C=1000, gamma=0.001, kernel=rbf .................................\n",
            "[CV] ..... C=1000, gamma=0.001, kernel=rbf, score=0.716, total=   0.1s\n",
            "[CV] C=1000, gamma=0.001, kernel=rbf .................................\n",
            "[CV] ..... C=1000, gamma=0.001, kernel=rbf, score=0.657, total=   0.1s\n",
            "[CV] C=1000, gamma=0.001, kernel=rbf .................................\n",
            "[CV] ..... C=1000, gamma=0.001, kernel=rbf, score=0.751, total=   0.1s\n",
            "[CV] C=1000, gamma=0.001, kernel=rbf .................................\n",
            "[CV] ..... C=1000, gamma=0.001, kernel=rbf, score=0.702, total=   0.1s\n",
            "[CV] C=1000, gamma=0.0001, kernel=rbf ................................\n",
            "[CV] .... C=1000, gamma=0.0001, kernel=rbf, score=0.639, total=   0.1s\n",
            "[CV] C=1000, gamma=0.0001, kernel=rbf ................................\n",
            "[CV] .... C=1000, gamma=0.0001, kernel=rbf, score=0.651, total=   0.1s\n",
            "[CV] C=1000, gamma=0.0001, kernel=rbf ................................\n",
            "[CV] .... C=1000, gamma=0.0001, kernel=rbf, score=0.657, total=   0.1s\n",
            "[CV] C=1000, gamma=0.0001, kernel=rbf ................................\n",
            "[CV] .... C=1000, gamma=0.0001, kernel=rbf, score=0.698, total=   0.1s\n",
            "[CV] C=1000, gamma=0.0001, kernel=rbf ................................\n",
            "[CV] .... C=1000, gamma=0.0001, kernel=rbf, score=0.696, total=   0.1s\n"
          ],
          "name": "stdout"
        },
        {
          "output_type": "stream",
          "text": [
            "[Parallel(n_jobs=1)]: Done 125 out of 125 | elapsed:    8.4s finished\n"
          ],
          "name": "stderr"
        },
        {
          "output_type": "execute_result",
          "data": {
            "text/plain": [
              "GridSearchCV(cv=5, error_score=nan,\n",
              "             estimator=SVC(C=1.0, break_ties=False, cache_size=200,\n",
              "                           class_weight=None, coef0=0.0,\n",
              "                           decision_function_shape='ovr', degree=3,\n",
              "                           gamma='scale', kernel='rbf', max_iter=-1,\n",
              "                           probability=False, random_state=None, shrinking=True,\n",
              "                           tol=0.001, verbose=False),\n",
              "             iid='deprecated', n_jobs=None,\n",
              "             param_grid={'C': [0.1, 1, 10, 100, 1000],\n",
              "                         'gamma': [1, 0.1, 0.01, 0.001, 0.0001],\n",
              "                         'kernel': ['rbf']},\n",
              "             pre_dispatch='2*n_jobs', refit=True, return_train_score=False,\n",
              "             scoring=None, verbose=3)"
            ]
          },
          "metadata": {
            "tags": []
          },
          "execution_count": 31
        }
      ]
    },
    {
      "cell_type": "code",
      "metadata": {
        "colab": {
          "base_uri": "https://localhost:8080/"
        },
        "id": "gNns9AuDFb78",
        "outputId": "9f1e7ce2-e02c-4ef9-ab90-54b76407b6ba"
      },
      "source": [
        "# print winning set of hyperparameters\r\n",
        "from pprint import pprint\r\n",
        "pprint(grid.best_estimator_.get_params())"
      ],
      "execution_count": 32,
      "outputs": [
        {
          "output_type": "stream",
          "text": [
            "{'C': 10,\n",
            " 'break_ties': False,\n",
            " 'cache_size': 200,\n",
            " 'class_weight': None,\n",
            " 'coef0': 0.0,\n",
            " 'decision_function_shape': 'ovr',\n",
            " 'degree': 3,\n",
            " 'gamma': 0.001,\n",
            " 'kernel': 'rbf',\n",
            " 'max_iter': -1,\n",
            " 'probability': False,\n",
            " 'random_state': None,\n",
            " 'shrinking': True,\n",
            " 'tol': 0.001,\n",
            " 'verbose': False}\n"
          ],
          "name": "stdout"
        }
      ]
    },
    {
      "cell_type": "code",
      "metadata": {
        "colab": {
          "base_uri": "https://localhost:8080/"
        },
        "id": "mMB_3jpEKO1y",
        "outputId": "534f211f-5076-4189-ea17-c3279ea08a09"
      },
      "source": [
        "grid_predictions = grid.predict(X_test) \r\n",
        "\r\n",
        "print(classification_report(y_test, grid_predictions))"
      ],
      "execution_count": 33,
      "outputs": [
        {
          "output_type": "stream",
          "text": [
            "              precision    recall  f1-score   support\n",
            "\n",
            "           0       0.61      0.70      0.65        63\n",
            "           1       0.79      0.62      0.69        60\n",
            "           2       0.78      0.64      0.70        39\n",
            "           3       0.72      0.69      0.70        45\n",
            "           4       0.50      0.78      0.61        60\n",
            "           5       0.74      0.71      0.73        56\n",
            "           6       0.89      0.63      0.74        38\n",
            "           7       0.91      0.78      0.84        55\n",
            "\n",
            "    accuracy                           0.70       416\n",
            "   macro avg       0.74      0.69      0.71       416\n",
            "weighted avg       0.73      0.70      0.71       416\n",
            "\n"
          ],
          "name": "stdout"
        }
      ]
    },
    {
      "cell_type": "code",
      "metadata": {
        "colab": {
          "base_uri": "https://localhost:8080/",
          "height": 283
        },
        "id": "C_YBlzLKpyJK",
        "outputId": "cc1ffee3-3a73-4db7-c4bf-04315759aed3"
      },
      "source": [
        "matrix = metrics.confusion_matrix(y_test,grid_predictions)\r\n",
        "sns.heatmap(matrix, annot=True)"
      ],
      "execution_count": 34,
      "outputs": [
        {
          "output_type": "execute_result",
          "data": {
            "text/plain": [
              "<matplotlib.axes._subplots.AxesSubplot at 0x7f4fa8a85c18>"
            ]
          },
          "metadata": {
            "tags": []
          },
          "execution_count": 34
        },
        {
          "output_type": "display_data",
          "data": {
            "image/png": "[encoded data removed]",
            "text/plain": [
              "<Figure size 432x288 with 2 Axes>"
            ]
          },
          "metadata": {
            "tags": [],
            "needs_background": "light"
          }
        }
      ]
    },
    {
      "cell_type": "markdown",
      "metadata": {
        "id": "UTp5yjNKPO_b"
      },
      "source": [
        "**Random Forest Classifier**"
      ]
    },
    {
      "cell_type": "code",
      "metadata": {
        "id": "mUxfFB4aMu-x"
      },
      "source": [
        "from sklearn.ensemble import RandomForestClassifier\r\n",
        "model_params = {\r\n",
        "    'n_estimators': [50, 150, 250],\r\n",
        "    'max_features': ['sqrt', 0.25, 0.5, 0.75, 1.0],\r\n",
        "    'min_samples_split': [2, 4, 6]\r\n",
        "}\r\n"
      ],
      "execution_count": 35,
      "outputs": []
    },
    {
      "cell_type": "code",
      "metadata": {
        "colab": {
          "base_uri": "https://localhost:8080/"
        },
        "id": "6P70_wRvOxn-",
        "outputId": "e123f36b-8cf1-4938-8374-3ee60d1f3870"
      },
      "source": [
        "random_forest = RandomForestClassifier(random_state=1)\r\n",
        "\r\n",
        "# set up grid search meta-estimator\r\n",
        "random_forest = GridSearchCV(random_forest, model_params, cv=5,verbose=3)\r\n",
        "\r\n",
        "# train the grid search meta-estimator to find the best model\r\n",
        "random_forest = random_forest.fit(X_train, y_train)\r\n",
        "\r\n",
        "# print winning set of hyperparameters\r\n",
        "pprint(random_forest.best_estimator_.get_params())"
      ],
      "execution_count": 36,
      "outputs": [
        {
          "output_type": "stream",
          "text": [
            "Fitting 5 folds for each of 45 candidates, totalling 225 fits\n",
            "[CV] max_features=sqrt, min_samples_split=2, n_estimators=50 .........\n",
            "[CV]  max_features=sqrt, min_samples_split=2, n_estimators=50, score=0.817, total=   0.1s\n",
            "[CV] max_features=sqrt, min_samples_split=2, n_estimators=50 .........\n"
          ],
          "name": "stdout"
        },
        {
          "output_type": "stream",
          "text": [
            "[Parallel(n_jobs=1)]: Using backend SequentialBackend with 1 concurrent workers.\n",
            "[Parallel(n_jobs=1)]: Done   1 out of   1 | elapsed:    0.1s remaining:    0.0s\n"
          ],
          "name": "stderr"
        },
        {
          "output_type": "stream",
          "text": [
            "[CV]  max_features=sqrt, min_samples_split=2, n_estimators=50, score=0.840, total=   0.1s\n",
            "[CV] max_features=sqrt, min_samples_split=2, n_estimators=50 .........\n",
            "[CV]  max_features=sqrt, min_samples_split=2, n_estimators=50, score=0.805, total=   0.1s\n",
            "[CV] max_features=sqrt, min_samples_split=2, n_estimators=50 .........\n"
          ],
          "name": "stdout"
        },
        {
          "output_type": "stream",
          "text": [
            "[Parallel(n_jobs=1)]: Done   2 out of   2 | elapsed:    0.3s remaining:    0.0s\n"
          ],
          "name": "stderr"
        },
        {
          "output_type": "stream",
          "text": [
            "[CV]  max_features=sqrt, min_samples_split=2, n_estimators=50, score=0.817, total=   0.1s\n",
            "[CV] max_features=sqrt, min_samples_split=2, n_estimators=50 .........\n",
            "[CV]  max_features=sqrt, min_samples_split=2, n_estimators=50, score=0.804, total=   0.1s\n",
            "[CV] max_features=sqrt, min_samples_split=2, n_estimators=150 ........\n",
            "[CV]  max_features=sqrt, min_samples_split=2, n_estimators=150, score=0.822, total=   0.4s\n",
            "[CV] max_features=sqrt, min_samples_split=2, n_estimators=150 ........\n",
            "[CV]  max_features=sqrt, min_samples_split=2, n_estimators=150, score=0.876, total=   0.4s\n",
            "[CV] max_features=sqrt, min_samples_split=2, n_estimators=150 ........\n",
            "[CV]  max_features=sqrt, min_samples_split=2, n_estimators=150, score=0.811, total=   0.4s\n",
            "[CV] max_features=sqrt, min_samples_split=2, n_estimators=150 ........\n",
            "[CV]  max_features=sqrt, min_samples_split=2, n_estimators=150, score=0.876, total=   0.5s\n",
            "[CV] max_features=sqrt, min_samples_split=2, n_estimators=150 ........\n",
            "[CV]  max_features=sqrt, min_samples_split=2, n_estimators=150, score=0.857, total=   0.4s\n",
            "[CV] max_features=sqrt, min_samples_split=2, n_estimators=250 ........\n",
            "[CV]  max_features=sqrt, min_samples_split=2, n_estimators=250, score=0.834, total=   0.6s\n",
            "[CV] max_features=sqrt, min_samples_split=2, n_estimators=250 ........\n",
            "[CV]  max_features=sqrt, min_samples_split=2, n_estimators=250, score=0.882, total=   0.6s\n",
            "[CV] max_features=sqrt, min_samples_split=2, n_estimators=250 ........\n",
            "[CV]  max_features=sqrt, min_samples_split=2, n_estimators=250, score=0.817, total=   0.6s\n",
            "[CV] max_features=sqrt, min_samples_split=2, n_estimators=250 ........\n",
            "[CV]  max_features=sqrt, min_samples_split=2, n_estimators=250, score=0.864, total=   0.6s\n",
            "[CV] max_features=sqrt, min_samples_split=2, n_estimators=250 ........\n",
            "[CV]  max_features=sqrt, min_samples_split=2, n_estimators=250, score=0.863, total=   0.6s\n",
            "[CV] max_features=sqrt, min_samples_split=4, n_estimators=50 .........\n",
            "[CV]  max_features=sqrt, min_samples_split=4, n_estimators=50, score=0.834, total=   0.1s\n",
            "[CV] max_features=sqrt, min_samples_split=4, n_estimators=50 .........\n",
            "[CV]  max_features=sqrt, min_samples_split=4, n_estimators=50, score=0.834, total=   0.1s\n",
            "[CV] max_features=sqrt, min_samples_split=4, n_estimators=50 .........\n",
            "[CV]  max_features=sqrt, min_samples_split=4, n_estimators=50, score=0.769, total=   0.1s\n",
            "[CV] max_features=sqrt, min_samples_split=4, n_estimators=50 .........\n",
            "[CV]  max_features=sqrt, min_samples_split=4, n_estimators=50, score=0.834, total=   0.1s\n",
            "[CV] max_features=sqrt, min_samples_split=4, n_estimators=50 .........\n",
            "[CV]  max_features=sqrt, min_samples_split=4, n_estimators=50, score=0.833, total=   0.1s\n",
            "[CV] max_features=sqrt, min_samples_split=4, n_estimators=150 ........\n",
            "[CV]  max_features=sqrt, min_samples_split=4, n_estimators=150, score=0.817, total=   0.4s\n",
            "[CV] max_features=sqrt, min_samples_split=4, n_estimators=150 ........\n",
            "[CV]  max_features=sqrt, min_samples_split=4, n_estimators=150, score=0.846, total=   0.4s\n",
            "[CV] max_features=sqrt, min_samples_split=4, n_estimators=150 ........\n",
            "[CV]  max_features=sqrt, min_samples_split=4, n_estimators=150, score=0.787, total=   0.4s\n",
            "[CV] max_features=sqrt, min_samples_split=4, n_estimators=150 ........\n",
            "[CV]  max_features=sqrt, min_samples_split=4, n_estimators=150, score=0.834, total=   0.4s\n",
            "[CV] max_features=sqrt, min_samples_split=4, n_estimators=150 ........\n",
            "[CV]  max_features=sqrt, min_samples_split=4, n_estimators=150, score=0.845, total=   0.4s\n",
            "[CV] max_features=sqrt, min_samples_split=4, n_estimators=250 ........\n",
            "[CV]  max_features=sqrt, min_samples_split=4, n_estimators=250, score=0.811, total=   0.6s\n",
            "[CV] max_features=sqrt, min_samples_split=4, n_estimators=250 ........\n",
            "[CV]  max_features=sqrt, min_samples_split=4, n_estimators=250, score=0.864, total=   0.6s\n",
            "[CV] max_features=sqrt, min_samples_split=4, n_estimators=250 ........\n",
            "[CV]  max_features=sqrt, min_samples_split=4, n_estimators=250, score=0.793, total=   0.6s\n",
            "[CV] max_features=sqrt, min_samples_split=4, n_estimators=250 ........\n",
            "[CV]  max_features=sqrt, min_samples_split=4, n_estimators=250, score=0.840, total=   0.6s\n",
            "[CV] max_features=sqrt, min_samples_split=4, n_estimators=250 ........\n",
            "[CV]  max_features=sqrt, min_samples_split=4, n_estimators=250, score=0.845, total=   0.6s\n",
            "[CV] max_features=sqrt, min_samples_split=6, n_estimators=50 .........\n",
            "[CV]  max_features=sqrt, min_samples_split=6, n_estimators=50, score=0.793, total=   0.1s\n",
            "[CV] max_features=sqrt, min_samples_split=6, n_estimators=50 .........\n",
            "[CV]  max_features=sqrt, min_samples_split=6, n_estimators=50, score=0.870, total=   0.1s\n",
            "[CV] max_features=sqrt, min_samples_split=6, n_estimators=50 .........\n",
            "[CV]  max_features=sqrt, min_samples_split=6, n_estimators=50, score=0.769, total=   0.1s\n",
            "[CV] max_features=sqrt, min_samples_split=6, n_estimators=50 .........\n",
            "[CV]  max_features=sqrt, min_samples_split=6, n_estimators=50, score=0.817, total=   0.1s\n",
            "[CV] max_features=sqrt, min_samples_split=6, n_estimators=50 .........\n",
            "[CV]  max_features=sqrt, min_samples_split=6, n_estimators=50, score=0.768, total=   0.1s\n",
            "[CV] max_features=sqrt, min_samples_split=6, n_estimators=150 ........\n",
            "[CV]  max_features=sqrt, min_samples_split=6, n_estimators=150, score=0.805, total=   0.3s\n",
            "[CV] max_features=sqrt, min_samples_split=6, n_estimators=150 ........\n",
            "[CV]  max_features=sqrt, min_samples_split=6, n_estimators=150, score=0.846, total=   0.4s\n",
            "[CV] max_features=sqrt, min_samples_split=6, n_estimators=150 ........\n",
            "[CV]  max_features=sqrt, min_samples_split=6, n_estimators=150, score=0.763, total=   0.4s\n",
            "[CV] max_features=sqrt, min_samples_split=6, n_estimators=150 ........\n",
            "[CV]  max_features=sqrt, min_samples_split=6, n_estimators=150, score=0.840, total=   0.4s\n",
            "[CV] max_features=sqrt, min_samples_split=6, n_estimators=150 ........\n",
            "[CV]  max_features=sqrt, min_samples_split=6, n_estimators=150, score=0.815, total=   0.4s\n",
            "[CV] max_features=sqrt, min_samples_split=6, n_estimators=250 ........\n",
            "[CV]  max_features=sqrt, min_samples_split=6, n_estimators=250, score=0.805, total=   0.6s\n",
            "[CV] max_features=sqrt, min_samples_split=6, n_estimators=250 ........\n",
            "[CV]  max_features=sqrt, min_samples_split=6, n_estimators=250, score=0.840, total=   0.6s\n",
            "[CV] max_features=sqrt, min_samples_split=6, n_estimators=250 ........\n",
            "[CV]  max_features=sqrt, min_samples_split=6, n_estimators=250, score=0.787, total=   0.6s\n",
            "[CV] max_features=sqrt, min_samples_split=6, n_estimators=250 ........\n",
            "[CV]  max_features=sqrt, min_samples_split=6, n_estimators=250, score=0.834, total=   0.6s\n",
            "[CV] max_features=sqrt, min_samples_split=6, n_estimators=250 ........\n",
            "[CV]  max_features=sqrt, min_samples_split=6, n_estimators=250, score=0.798, total=   0.6s\n",
            "[CV] max_features=0.25, min_samples_split=2, n_estimators=50 .........\n",
            "[CV]  max_features=0.25, min_samples_split=2, n_estimators=50, score=0.817, total=   0.1s\n",
            "[CV] max_features=0.25, min_samples_split=2, n_estimators=50 .........\n",
            "[CV]  max_features=0.25, min_samples_split=2, n_estimators=50, score=0.840, total=   0.1s\n",
            "[CV] max_features=0.25, min_samples_split=2, n_estimators=50 .........\n",
            "[CV]  max_features=0.25, min_samples_split=2, n_estimators=50, score=0.805, total=   0.1s\n",
            "[CV] max_features=0.25, min_samples_split=2, n_estimators=50 .........\n",
            "[CV]  max_features=0.25, min_samples_split=2, n_estimators=50, score=0.817, total=   0.1s\n",
            "[CV] max_features=0.25, min_samples_split=2, n_estimators=50 .........\n",
            "[CV]  max_features=0.25, min_samples_split=2, n_estimators=50, score=0.804, total=   0.1s\n",
            "[CV] max_features=0.25, min_samples_split=2, n_estimators=150 ........\n",
            "[CV]  max_features=0.25, min_samples_split=2, n_estimators=150, score=0.822, total=   0.4s\n",
            "[CV] max_features=0.25, min_samples_split=2, n_estimators=150 ........\n",
            "[CV]  max_features=0.25, min_samples_split=2, n_estimators=150, score=0.876, total=   0.4s\n",
            "[CV] max_features=0.25, min_samples_split=2, n_estimators=150 ........\n",
            "[CV]  max_features=0.25, min_samples_split=2, n_estimators=150, score=0.811, total=   0.4s\n",
            "[CV] max_features=0.25, min_samples_split=2, n_estimators=150 ........\n",
            "[CV]  max_features=0.25, min_samples_split=2, n_estimators=150, score=0.876, total=   0.4s\n",
            "[CV] max_features=0.25, min_samples_split=2, n_estimators=150 ........\n",
            "[CV]  max_features=0.25, min_samples_split=2, n_estimators=150, score=0.857, total=   0.4s\n",
            "[CV] max_features=0.25, min_samples_split=2, n_estimators=250 ........\n",
            "[CV]  max_features=0.25, min_samples_split=2, n_estimators=250, score=0.834, total=   0.6s\n",
            "[CV] max_features=0.25, min_samples_split=2, n_estimators=250 ........\n",
            "[CV]  max_features=0.25, min_samples_split=2, n_estimators=250, score=0.882, total=   0.6s\n",
            "[CV] max_features=0.25, min_samples_split=2, n_estimators=250 ........\n",
            "[CV]  max_features=0.25, min_samples_split=2, n_estimators=250, score=0.817, total=   0.6s\n",
            "[CV] max_features=0.25, min_samples_split=2, n_estimators=250 ........\n",
            "[CV]  max_features=0.25, min_samples_split=2, n_estimators=250, score=0.864, total=   0.6s\n",
            "[CV] max_features=0.25, min_samples_split=2, n_estimators=250 ........\n",
            "[CV]  max_features=0.25, min_samples_split=2, n_estimators=250, score=0.863, total=   0.6s\n",
            "[CV] max_features=0.25, min_samples_split=4, n_estimators=50 .........\n",
            "[CV]  max_features=0.25, min_samples_split=4, n_estimators=50, score=0.834, total=   0.1s\n",
            "[CV] max_features=0.25, min_samples_split=4, n_estimators=50 .........\n",
            "[CV]  max_features=0.25, min_samples_split=4, n_estimators=50, score=0.834, total=   0.1s\n",
            "[CV] max_features=0.25, min_samples_split=4, n_estimators=50 .........\n",
            "[CV]  max_features=0.25, min_samples_split=4, n_estimators=50, score=0.769, total=   0.1s\n",
            "[CV] max_features=0.25, min_samples_split=4, n_estimators=50 .........\n",
            "[CV]  max_features=0.25, min_samples_split=4, n_estimators=50, score=0.834, total=   0.1s\n",
            "[CV] max_features=0.25, min_samples_split=4, n_estimators=50 .........\n",
            "[CV]  max_features=0.25, min_samples_split=4, n_estimators=50, score=0.833, total=   0.1s\n",
            "[CV] max_features=0.25, min_samples_split=4, n_estimators=150 ........\n",
            "[CV]  max_features=0.25, min_samples_split=4, n_estimators=150, score=0.817, total=   0.4s\n",
            "[CV] max_features=0.25, min_samples_split=4, n_estimators=150 ........\n",
            "[CV]  max_features=0.25, min_samples_split=4, n_estimators=150, score=0.846, total=   0.4s\n",
            "[CV] max_features=0.25, min_samples_split=4, n_estimators=150 ........\n",
            "[CV]  max_features=0.25, min_samples_split=4, n_estimators=150, score=0.787, total=   0.4s\n",
            "[CV] max_features=0.25, min_samples_split=4, n_estimators=150 ........\n",
            "[CV]  max_features=0.25, min_samples_split=4, n_estimators=150, score=0.834, total=   0.4s\n",
            "[CV] max_features=0.25, min_samples_split=4, n_estimators=150 ........\n",
            "[CV]  max_features=0.25, min_samples_split=4, n_estimators=150, score=0.845, total=   0.4s\n",
            "[CV] max_features=0.25, min_samples_split=4, n_estimators=250 ........\n",
            "[CV]  max_features=0.25, min_samples_split=4, n_estimators=250, score=0.811, total=   0.6s\n",
            "[CV] max_features=0.25, min_samples_split=4, n_estimators=250 ........\n",
            "[CV]  max_features=0.25, min_samples_split=4, n_estimators=250, score=0.864, total=   0.6s\n",
            "[CV] max_features=0.25, min_samples_split=4, n_estimators=250 ........\n",
            "[CV]  max_features=0.25, min_samples_split=4, n_estimators=250, score=0.793, total=   0.6s\n",
            "[CV] max_features=0.25, min_samples_split=4, n_estimators=250 ........\n",
            "[CV]  max_features=0.25, min_samples_split=4, n_estimators=250, score=0.840, total=   0.6s\n",
            "[CV] max_features=0.25, min_samples_split=4, n_estimators=250 ........\n",
            "[CV]  max_features=0.25, min_samples_split=4, n_estimators=250, score=0.845, total=   0.6s\n",
            "[CV] max_features=0.25, min_samples_split=6, n_estimators=50 .........\n",
            "[CV]  max_features=0.25, min_samples_split=6, n_estimators=50, score=0.793, total=   0.1s\n",
            "[CV] max_features=0.25, min_samples_split=6, n_estimators=50 .........\n",
            "[CV]  max_features=0.25, min_samples_split=6, n_estimators=50, score=0.870, total=   0.1s\n",
            "[CV] max_features=0.25, min_samples_split=6, n_estimators=50 .........\n",
            "[CV]  max_features=0.25, min_samples_split=6, n_estimators=50, score=0.769, total=   0.1s\n",
            "[CV] max_features=0.25, min_samples_split=6, n_estimators=50 .........\n",
            "[CV]  max_features=0.25, min_samples_split=6, n_estimators=50, score=0.817, total=   0.1s\n",
            "[CV] max_features=0.25, min_samples_split=6, n_estimators=50 .........\n",
            "[CV]  max_features=0.25, min_samples_split=6, n_estimators=50, score=0.768, total=   0.1s\n",
            "[CV] max_features=0.25, min_samples_split=6, n_estimators=150 ........\n",
            "[CV]  max_features=0.25, min_samples_split=6, n_estimators=150, score=0.805, total=   0.4s\n",
            "[CV] max_features=0.25, min_samples_split=6, n_estimators=150 ........\n",
            "[CV]  max_features=0.25, min_samples_split=6, n_estimators=150, score=0.846, total=   0.4s\n",
            "[CV] max_features=0.25, min_samples_split=6, n_estimators=150 ........\n",
            "[CV]  max_features=0.25, min_samples_split=6, n_estimators=150, score=0.763, total=   0.4s\n",
            "[CV] max_features=0.25, min_samples_split=6, n_estimators=150 ........\n",
            "[CV]  max_features=0.25, min_samples_split=6, n_estimators=150, score=0.840, total=   0.3s\n",
            "[CV] max_features=0.25, min_samples_split=6, n_estimators=150 ........\n",
            "[CV]  max_features=0.25, min_samples_split=6, n_estimators=150, score=0.815, total=   0.3s\n",
            "[CV] max_features=0.25, min_samples_split=6, n_estimators=250 ........\n",
            "[CV]  max_features=0.25, min_samples_split=6, n_estimators=250, score=0.805, total=   0.6s\n",
            "[CV] max_features=0.25, min_samples_split=6, n_estimators=250 ........\n",
            "[CV]  max_features=0.25, min_samples_split=6, n_estimators=250, score=0.840, total=   0.6s\n",
            "[CV] max_features=0.25, min_samples_split=6, n_estimators=250 ........\n",
            "[CV]  max_features=0.25, min_samples_split=6, n_estimators=250, score=0.787, total=   0.6s\n",
            "[CV] max_features=0.25, min_samples_split=6, n_estimators=250 ........\n",
            "[CV]  max_features=0.25, min_samples_split=6, n_estimators=250, score=0.834, total=   0.6s\n",
            "[CV] max_features=0.25, min_samples_split=6, n_estimators=250 ........\n",
            "[CV]  max_features=0.25, min_samples_split=6, n_estimators=250, score=0.798, total=   0.6s\n",
            "[CV] max_features=0.5, min_samples_split=2, n_estimators=50 ..........\n",
            "[CV]  max_features=0.5, min_samples_split=2, n_estimators=50, score=0.817, total=   0.2s\n",
            "[CV] max_features=0.5, min_samples_split=2, n_estimators=50 ..........\n",
            "[CV]  max_features=0.5, min_samples_split=2, n_estimators=50, score=0.852, total=   0.2s\n",
            "[CV] max_features=0.5, min_samples_split=2, n_estimators=50 ..........\n",
            "[CV]  max_features=0.5, min_samples_split=2, n_estimators=50, score=0.757, total=   0.2s\n",
            "[CV] max_features=0.5, min_samples_split=2, n_estimators=50 ..........\n",
            "[CV]  max_features=0.5, min_samples_split=2, n_estimators=50, score=0.828, total=   0.2s\n",
            "[CV] max_features=0.5, min_samples_split=2, n_estimators=50 ..........\n",
            "[CV]  max_features=0.5, min_samples_split=2, n_estimators=50, score=0.821, total=   0.2s\n",
            "[CV] max_features=0.5, min_samples_split=2, n_estimators=150 .........\n",
            "[CV]  max_features=0.5, min_samples_split=2, n_estimators=150, score=0.846, total=   0.5s\n",
            "[CV] max_features=0.5, min_samples_split=2, n_estimators=150 .........\n",
            "[CV]  max_features=0.5, min_samples_split=2, n_estimators=150, score=0.858, total=   0.5s\n",
            "[CV] max_features=0.5, min_samples_split=2, n_estimators=150 .........\n",
            "[CV]  max_features=0.5, min_samples_split=2, n_estimators=150, score=0.781, total=   0.5s\n",
            "[CV] max_features=0.5, min_samples_split=2, n_estimators=150 .........\n",
            "[CV]  max_features=0.5, min_samples_split=2, n_estimators=150, score=0.811, total=   0.5s\n",
            "[CV] max_features=0.5, min_samples_split=2, n_estimators=150 .........\n",
            "[CV]  max_features=0.5, min_samples_split=2, n_estimators=150, score=0.821, total=   0.5s\n",
            "[CV] max_features=0.5, min_samples_split=2, n_estimators=250 .........\n",
            "[CV]  max_features=0.5, min_samples_split=2, n_estimators=250, score=0.858, total=   0.8s\n",
            "[CV] max_features=0.5, min_samples_split=2, n_estimators=250 .........\n",
            "[CV]  max_features=0.5, min_samples_split=2, n_estimators=250, score=0.888, total=   0.8s\n",
            "[CV] max_features=0.5, min_samples_split=2, n_estimators=250 .........\n",
            "[CV]  max_features=0.5, min_samples_split=2, n_estimators=250, score=0.805, total=   0.9s\n",
            "[CV] max_features=0.5, min_samples_split=2, n_estimators=250 .........\n",
            "[CV]  max_features=0.5, min_samples_split=2, n_estimators=250, score=0.817, total=   0.8s\n",
            "[CV] max_features=0.5, min_samples_split=2, n_estimators=250 .........\n",
            "[CV]  max_features=0.5, min_samples_split=2, n_estimators=250, score=0.833, total=   0.8s\n",
            "[CV] max_features=0.5, min_samples_split=4, n_estimators=50 ..........\n",
            "[CV]  max_features=0.5, min_samples_split=4, n_estimators=50, score=0.799, total=   0.2s\n",
            "[CV] max_features=0.5, min_samples_split=4, n_estimators=50 ..........\n",
            "[CV]  max_features=0.5, min_samples_split=4, n_estimators=50, score=0.864, total=   0.2s\n",
            "[CV] max_features=0.5, min_samples_split=4, n_estimators=50 ..........\n",
            "[CV]  max_features=0.5, min_samples_split=4, n_estimators=50, score=0.787, total=   0.2s\n",
            "[CV] max_features=0.5, min_samples_split=4, n_estimators=50 ..........\n",
            "[CV]  max_features=0.5, min_samples_split=4, n_estimators=50, score=0.834, total=   0.2s\n",
            "[CV] max_features=0.5, min_samples_split=4, n_estimators=50 ..........\n",
            "[CV]  max_features=0.5, min_samples_split=4, n_estimators=50, score=0.821, total=   0.2s\n",
            "[CV] max_features=0.5, min_samples_split=4, n_estimators=150 .........\n",
            "[CV]  max_features=0.5, min_samples_split=4, n_estimators=150, score=0.822, total=   0.5s\n",
            "[CV] max_features=0.5, min_samples_split=4, n_estimators=150 .........\n",
            "[CV]  max_features=0.5, min_samples_split=4, n_estimators=150, score=0.858, total=   0.5s\n",
            "[CV] max_features=0.5, min_samples_split=4, n_estimators=150 .........\n",
            "[CV]  max_features=0.5, min_samples_split=4, n_estimators=150, score=0.793, total=   0.5s\n",
            "[CV] max_features=0.5, min_samples_split=4, n_estimators=150 .........\n",
            "[CV]  max_features=0.5, min_samples_split=4, n_estimators=150, score=0.817, total=   0.5s\n",
            "[CV] max_features=0.5, min_samples_split=4, n_estimators=150 .........\n",
            "[CV]  max_features=0.5, min_samples_split=4, n_estimators=150, score=0.833, total=   0.5s\n",
            "[CV] max_features=0.5, min_samples_split=4, n_estimators=250 .........\n",
            "[CV]  max_features=0.5, min_samples_split=4, n_estimators=250, score=0.811, total=   0.8s\n",
            "[CV] max_features=0.5, min_samples_split=4, n_estimators=250 .........\n",
            "[CV]  max_features=0.5, min_samples_split=4, n_estimators=250, score=0.858, total=   0.8s\n",
            "[CV] max_features=0.5, min_samples_split=4, n_estimators=250 .........\n",
            "[CV]  max_features=0.5, min_samples_split=4, n_estimators=250, score=0.775, total=   0.8s\n",
            "[CV] max_features=0.5, min_samples_split=4, n_estimators=250 .........\n",
            "[CV]  max_features=0.5, min_samples_split=4, n_estimators=250, score=0.799, total=   0.8s\n",
            "[CV] max_features=0.5, min_samples_split=4, n_estimators=250 .........\n",
            "[CV]  max_features=0.5, min_samples_split=4, n_estimators=250, score=0.839, total=   0.8s\n",
            "[CV] max_features=0.5, min_samples_split=6, n_estimators=50 ..........\n",
            "[CV]  max_features=0.5, min_samples_split=6, n_estimators=50, score=0.811, total=   0.2s\n",
            "[CV] max_features=0.5, min_samples_split=6, n_estimators=50 ..........\n",
            "[CV]  max_features=0.5, min_samples_split=6, n_estimators=50, score=0.822, total=   0.2s\n",
            "[CV] max_features=0.5, min_samples_split=6, n_estimators=50 ..........\n",
            "[CV]  max_features=0.5, min_samples_split=6, n_estimators=50, score=0.793, total=   0.2s\n",
            "[CV] max_features=0.5, min_samples_split=6, n_estimators=50 ..........\n",
            "[CV]  max_features=0.5, min_samples_split=6, n_estimators=50, score=0.799, total=   0.2s\n",
            "[CV] max_features=0.5, min_samples_split=6, n_estimators=50 ..........\n",
            "[CV]  max_features=0.5, min_samples_split=6, n_estimators=50, score=0.798, total=   0.2s\n",
            "[CV] max_features=0.5, min_samples_split=6, n_estimators=150 .........\n",
            "[CV]  max_features=0.5, min_samples_split=6, n_estimators=150, score=0.817, total=   0.5s\n",
            "[CV] max_features=0.5, min_samples_split=6, n_estimators=150 .........\n",
            "[CV]  max_features=0.5, min_samples_split=6, n_estimators=150, score=0.822, total=   0.5s\n",
            "[CV] max_features=0.5, min_samples_split=6, n_estimators=150 .........\n",
            "[CV]  max_features=0.5, min_samples_split=6, n_estimators=150, score=0.757, total=   0.5s\n",
            "[CV] max_features=0.5, min_samples_split=6, n_estimators=150 .........\n",
            "[CV]  max_features=0.5, min_samples_split=6, n_estimators=150, score=0.811, total=   0.5s\n",
            "[CV] max_features=0.5, min_samples_split=6, n_estimators=150 .........\n",
            "[CV]  max_features=0.5, min_samples_split=6, n_estimators=150, score=0.810, total=   0.5s\n",
            "[CV] max_features=0.5, min_samples_split=6, n_estimators=250 .........\n",
            "[CV]  max_features=0.5, min_samples_split=6, n_estimators=250, score=0.811, total=   0.8s\n",
            "[CV] max_features=0.5, min_samples_split=6, n_estimators=250 .........\n",
            "[CV]  max_features=0.5, min_samples_split=6, n_estimators=250, score=0.834, total=   0.8s\n",
            "[CV] max_features=0.5, min_samples_split=6, n_estimators=250 .........\n",
            "[CV]  max_features=0.5, min_samples_split=6, n_estimators=250, score=0.775, total=   0.8s\n",
            "[CV] max_features=0.5, min_samples_split=6, n_estimators=250 .........\n",
            "[CV]  max_features=0.5, min_samples_split=6, n_estimators=250, score=0.811, total=   0.8s\n",
            "[CV] max_features=0.5, min_samples_split=6, n_estimators=250 .........\n",
            "[CV]  max_features=0.5, min_samples_split=6, n_estimators=250, score=0.804, total=   0.8s\n",
            "[CV] max_features=0.75, min_samples_split=2, n_estimators=50 .........\n",
            "[CV]  max_features=0.75, min_samples_split=2, n_estimators=50, score=0.817, total=   0.2s\n",
            "[CV] max_features=0.75, min_samples_split=2, n_estimators=50 .........\n",
            "[CV]  max_features=0.75, min_samples_split=2, n_estimators=50, score=0.876, total=   0.2s\n",
            "[CV] max_features=0.75, min_samples_split=2, n_estimators=50 .........\n",
            "[CV]  max_features=0.75, min_samples_split=2, n_estimators=50, score=0.763, total=   0.2s\n",
            "[CV] max_features=0.75, min_samples_split=2, n_estimators=50 .........\n",
            "[CV]  max_features=0.75, min_samples_split=2, n_estimators=50, score=0.822, total=   0.2s\n",
            "[CV] max_features=0.75, min_samples_split=2, n_estimators=50 .........\n",
            "[CV]  max_features=0.75, min_samples_split=2, n_estimators=50, score=0.792, total=   0.2s\n",
            "[CV] max_features=0.75, min_samples_split=2, n_estimators=150 ........\n",
            "[CV]  max_features=0.75, min_samples_split=2, n_estimators=150, score=0.828, total=   0.7s\n",
            "[CV] max_features=0.75, min_samples_split=2, n_estimators=150 ........\n",
            "[CV]  max_features=0.75, min_samples_split=2, n_estimators=150, score=0.870, total=   0.7s\n",
            "[CV] max_features=0.75, min_samples_split=2, n_estimators=150 ........\n",
            "[CV]  max_features=0.75, min_samples_split=2, n_estimators=150, score=0.805, total=   0.6s\n",
            "[CV] max_features=0.75, min_samples_split=2, n_estimators=150 ........\n",
            "[CV]  max_features=0.75, min_samples_split=2, n_estimators=150, score=0.822, total=   0.6s\n",
            "[CV] max_features=0.75, min_samples_split=2, n_estimators=150 ........\n",
            "[CV]  max_features=0.75, min_samples_split=2, n_estimators=150, score=0.810, total=   0.6s\n",
            "[CV] max_features=0.75, min_samples_split=2, n_estimators=250 ........\n",
            "[CV]  max_features=0.75, min_samples_split=2, n_estimators=250, score=0.840, total=   1.1s\n",
            "[CV] max_features=0.75, min_samples_split=2, n_estimators=250 ........\n",
            "[CV]  max_features=0.75, min_samples_split=2, n_estimators=250, score=0.899, total=   1.1s\n",
            "[CV] max_features=0.75, min_samples_split=2, n_estimators=250 ........\n",
            "[CV]  max_features=0.75, min_samples_split=2, n_estimators=250, score=0.799, total=   1.1s\n",
            "[CV] max_features=0.75, min_samples_split=2, n_estimators=250 ........\n",
            "[CV]  max_features=0.75, min_samples_split=2, n_estimators=250, score=0.817, total=   1.1s\n",
            "[CV] max_features=0.75, min_samples_split=2, n_estimators=250 ........\n",
            "[CV]  max_features=0.75, min_samples_split=2, n_estimators=250, score=0.815, total=   1.1s\n",
            "[CV] max_features=0.75, min_samples_split=4, n_estimators=50 .........\n",
            "[CV]  max_features=0.75, min_samples_split=4, n_estimators=50, score=0.799, total=   0.2s\n",
            "[CV] max_features=0.75, min_samples_split=4, n_estimators=50 .........\n",
            "[CV]  max_features=0.75, min_samples_split=4, n_estimators=50, score=0.834, total=   0.2s\n",
            "[CV] max_features=0.75, min_samples_split=4, n_estimators=50 .........\n",
            "[CV]  max_features=0.75, min_samples_split=4, n_estimators=50, score=0.728, total=   0.2s\n",
            "[CV] max_features=0.75, min_samples_split=4, n_estimators=50 .........\n",
            "[CV]  max_features=0.75, min_samples_split=4, n_estimators=50, score=0.793, total=   0.2s\n",
            "[CV] max_features=0.75, min_samples_split=4, n_estimators=50 .........\n",
            "[CV]  max_features=0.75, min_samples_split=4, n_estimators=50, score=0.786, total=   0.2s\n",
            "[CV] max_features=0.75, min_samples_split=4, n_estimators=150 ........\n",
            "[CV]  max_features=0.75, min_samples_split=4, n_estimators=150, score=0.817, total=   0.6s\n",
            "[CV] max_features=0.75, min_samples_split=4, n_estimators=150 ........\n",
            "[CV]  max_features=0.75, min_samples_split=4, n_estimators=150, score=0.846, total=   0.6s\n",
            "[CV] max_features=0.75, min_samples_split=4, n_estimators=150 ........\n",
            "[CV]  max_features=0.75, min_samples_split=4, n_estimators=150, score=0.769, total=   0.6s\n",
            "[CV] max_features=0.75, min_samples_split=4, n_estimators=150 ........\n",
            "[CV]  max_features=0.75, min_samples_split=4, n_estimators=150, score=0.799, total=   0.6s\n",
            "[CV] max_features=0.75, min_samples_split=4, n_estimators=150 ........\n",
            "[CV]  max_features=0.75, min_samples_split=4, n_estimators=150, score=0.804, total=   0.6s\n",
            "[CV] max_features=0.75, min_samples_split=4, n_estimators=250 ........\n",
            "[CV]  max_features=0.75, min_samples_split=4, n_estimators=250, score=0.822, total=   1.0s\n",
            "[CV] max_features=0.75, min_samples_split=4, n_estimators=250 ........\n",
            "[CV]  max_features=0.75, min_samples_split=4, n_estimators=250, score=0.870, total=   1.0s\n",
            "[CV] max_features=0.75, min_samples_split=4, n_estimators=250 ........\n",
            "[CV]  max_features=0.75, min_samples_split=4, n_estimators=250, score=0.781, total=   1.0s\n",
            "[CV] max_features=0.75, min_samples_split=4, n_estimators=250 ........\n",
            "[CV]  max_features=0.75, min_samples_split=4, n_estimators=250, score=0.805, total=   1.0s\n",
            "[CV] max_features=0.75, min_samples_split=4, n_estimators=250 ........\n",
            "[CV]  max_features=0.75, min_samples_split=4, n_estimators=250, score=0.810, total=   1.0s\n",
            "[CV] max_features=0.75, min_samples_split=6, n_estimators=50 .........\n",
            "[CV]  max_features=0.75, min_samples_split=6, n_estimators=50, score=0.781, total=   0.2s\n",
            "[CV] max_features=0.75, min_samples_split=6, n_estimators=50 .........\n",
            "[CV]  max_features=0.75, min_samples_split=6, n_estimators=50, score=0.811, total=   0.2s\n",
            "[CV] max_features=0.75, min_samples_split=6, n_estimators=50 .........\n",
            "[CV]  max_features=0.75, min_samples_split=6, n_estimators=50, score=0.728, total=   0.2s\n",
            "[CV] max_features=0.75, min_samples_split=6, n_estimators=50 .........\n",
            "[CV]  max_features=0.75, min_samples_split=6, n_estimators=50, score=0.799, total=   0.2s\n",
            "[CV] max_features=0.75, min_samples_split=6, n_estimators=50 .........\n",
            "[CV]  max_features=0.75, min_samples_split=6, n_estimators=50, score=0.774, total=   0.2s\n",
            "[CV] max_features=0.75, min_samples_split=6, n_estimators=150 ........\n",
            "[CV]  max_features=0.75, min_samples_split=6, n_estimators=150, score=0.805, total=   0.6s\n",
            "[CV] max_features=0.75, min_samples_split=6, n_estimators=150 ........\n",
            "[CV]  max_features=0.75, min_samples_split=6, n_estimators=150, score=0.822, total=   0.6s\n",
            "[CV] max_features=0.75, min_samples_split=6, n_estimators=150 ........\n",
            "[CV]  max_features=0.75, min_samples_split=6, n_estimators=150, score=0.787, total=   0.6s\n",
            "[CV] max_features=0.75, min_samples_split=6, n_estimators=150 ........\n",
            "[CV]  max_features=0.75, min_samples_split=6, n_estimators=150, score=0.817, total=   0.6s\n",
            "[CV] max_features=0.75, min_samples_split=6, n_estimators=150 ........\n",
            "[CV]  max_features=0.75, min_samples_split=6, n_estimators=150, score=0.798, total=   0.6s\n",
            "[CV] max_features=0.75, min_samples_split=6, n_estimators=250 ........\n",
            "[CV]  max_features=0.75, min_samples_split=6, n_estimators=250, score=0.817, total=   1.1s\n",
            "[CV] max_features=0.75, min_samples_split=6, n_estimators=250 ........\n",
            "[CV]  max_features=0.75, min_samples_split=6, n_estimators=250, score=0.840, total=   1.0s\n",
            "[CV] max_features=0.75, min_samples_split=6, n_estimators=250 ........\n",
            "[CV]  max_features=0.75, min_samples_split=6, n_estimators=250, score=0.769, total=   1.0s\n",
            "[CV] max_features=0.75, min_samples_split=6, n_estimators=250 ........\n",
            "[CV]  max_features=0.75, min_samples_split=6, n_estimators=250, score=0.793, total=   1.0s\n",
            "[CV] max_features=0.75, min_samples_split=6, n_estimators=250 ........\n",
            "[CV]  max_features=0.75, min_samples_split=6, n_estimators=250, score=0.798, total=   1.1s\n",
            "[CV] max_features=1.0, min_samples_split=2, n_estimators=50 ..........\n",
            "[CV]  max_features=1.0, min_samples_split=2, n_estimators=50, score=0.805, total=   0.3s\n",
            "[CV] max_features=1.0, min_samples_split=2, n_estimators=50 ..........\n",
            "[CV]  max_features=1.0, min_samples_split=2, n_estimators=50, score=0.852, total=   0.3s\n",
            "[CV] max_features=1.0, min_samples_split=2, n_estimators=50 ..........\n",
            "[CV]  max_features=1.0, min_samples_split=2, n_estimators=50, score=0.740, total=   0.3s\n",
            "[CV] max_features=1.0, min_samples_split=2, n_estimators=50 ..........\n",
            "[CV]  max_features=1.0, min_samples_split=2, n_estimators=50, score=0.740, total=   0.3s\n",
            "[CV] max_features=1.0, min_samples_split=2, n_estimators=50 ..........\n",
            "[CV]  max_features=1.0, min_samples_split=2, n_estimators=50, score=0.780, total=   0.3s\n",
            "[CV] max_features=1.0, min_samples_split=2, n_estimators=150 .........\n",
            "[CV]  max_features=1.0, min_samples_split=2, n_estimators=150, score=0.805, total=   0.8s\n",
            "[CV] max_features=1.0, min_samples_split=2, n_estimators=150 .........\n",
            "[CV]  max_features=1.0, min_samples_split=2, n_estimators=150, score=0.864, total=   0.8s\n",
            "[CV] max_features=1.0, min_samples_split=2, n_estimators=150 .........\n",
            "[CV]  max_features=1.0, min_samples_split=2, n_estimators=150, score=0.793, total=   0.8s\n",
            "[CV] max_features=1.0, min_samples_split=2, n_estimators=150 .........\n",
            "[CV]  max_features=1.0, min_samples_split=2, n_estimators=150, score=0.793, total=   0.8s\n",
            "[CV] max_features=1.0, min_samples_split=2, n_estimators=150 .........\n",
            "[CV]  max_features=1.0, min_samples_split=2, n_estimators=150, score=0.810, total=   0.8s\n",
            "[CV] max_features=1.0, min_samples_split=2, n_estimators=250 .........\n",
            "[CV]  max_features=1.0, min_samples_split=2, n_estimators=250, score=0.799, total=   1.3s\n",
            "[CV] max_features=1.0, min_samples_split=2, n_estimators=250 .........\n",
            "[CV]  max_features=1.0, min_samples_split=2, n_estimators=250, score=0.858, total=   1.3s\n",
            "[CV] max_features=1.0, min_samples_split=2, n_estimators=250 .........\n",
            "[CV]  max_features=1.0, min_samples_split=2, n_estimators=250, score=0.793, total=   1.3s\n",
            "[CV] max_features=1.0, min_samples_split=2, n_estimators=250 .........\n",
            "[CV]  max_features=1.0, min_samples_split=2, n_estimators=250, score=0.799, total=   1.3s\n",
            "[CV] max_features=1.0, min_samples_split=2, n_estimators=250 .........\n",
            "[CV]  max_features=1.0, min_samples_split=2, n_estimators=250, score=0.810, total=   1.3s\n",
            "[CV] max_features=1.0, min_samples_split=4, n_estimators=50 ..........\n",
            "[CV]  max_features=1.0, min_samples_split=4, n_estimators=50, score=0.781, total=   0.3s\n",
            "[CV] max_features=1.0, min_samples_split=4, n_estimators=50 ..........\n",
            "[CV]  max_features=1.0, min_samples_split=4, n_estimators=50, score=0.822, total=   0.3s\n",
            "[CV] max_features=1.0, min_samples_split=4, n_estimators=50 ..........\n",
            "[CV]  max_features=1.0, min_samples_split=4, n_estimators=50, score=0.710, total=   0.3s\n",
            "[CV] max_features=1.0, min_samples_split=4, n_estimators=50 ..........\n",
            "[CV]  max_features=1.0, min_samples_split=4, n_estimators=50, score=0.751, total=   0.3s\n",
            "[CV] max_features=1.0, min_samples_split=4, n_estimators=50 ..........\n",
            "[CV]  max_features=1.0, min_samples_split=4, n_estimators=50, score=0.792, total=   0.3s\n",
            "[CV] max_features=1.0, min_samples_split=4, n_estimators=150 .........\n",
            "[CV]  max_features=1.0, min_samples_split=4, n_estimators=150, score=0.799, total=   0.8s\n",
            "[CV] max_features=1.0, min_samples_split=4, n_estimators=150 .........\n",
            "[CV]  max_features=1.0, min_samples_split=4, n_estimators=150, score=0.834, total=   0.8s\n",
            "[CV] max_features=1.0, min_samples_split=4, n_estimators=150 .........\n",
            "[CV]  max_features=1.0, min_samples_split=4, n_estimators=150, score=0.769, total=   0.8s\n",
            "[CV] max_features=1.0, min_samples_split=4, n_estimators=150 .........\n",
            "[CV]  max_features=1.0, min_samples_split=4, n_estimators=150, score=0.769, total=   0.8s\n",
            "[CV] max_features=1.0, min_samples_split=4, n_estimators=150 .........\n",
            "[CV]  max_features=1.0, min_samples_split=4, n_estimators=150, score=0.804, total=   0.8s\n",
            "[CV] max_features=1.0, min_samples_split=4, n_estimators=250 .........\n",
            "[CV]  max_features=1.0, min_samples_split=4, n_estimators=250, score=0.793, total=   1.3s\n",
            "[CV] max_features=1.0, min_samples_split=4, n_estimators=250 .........\n",
            "[CV]  max_features=1.0, min_samples_split=4, n_estimators=250, score=0.846, total=   1.3s\n",
            "[CV] max_features=1.0, min_samples_split=4, n_estimators=250 .........\n",
            "[CV]  max_features=1.0, min_samples_split=4, n_estimators=250, score=0.746, total=   1.3s\n",
            "[CV] max_features=1.0, min_samples_split=4, n_estimators=250 .........\n",
            "[CV]  max_features=1.0, min_samples_split=4, n_estimators=250, score=0.787, total=   1.3s\n",
            "[CV] max_features=1.0, min_samples_split=4, n_estimators=250 .........\n",
            "[CV]  max_features=1.0, min_samples_split=4, n_estimators=250, score=0.810, total=   1.2s\n",
            "[CV] max_features=1.0, min_samples_split=6, n_estimators=50 ..........\n",
            "[CV]  max_features=1.0, min_samples_split=6, n_estimators=50, score=0.769, total=   0.2s\n",
            "[CV] max_features=1.0, min_samples_split=6, n_estimators=50 ..........\n",
            "[CV]  max_features=1.0, min_samples_split=6, n_estimators=50, score=0.799, total=   0.3s\n",
            "[CV] max_features=1.0, min_samples_split=6, n_estimators=50 ..........\n",
            "[CV]  max_features=1.0, min_samples_split=6, n_estimators=50, score=0.728, total=   0.3s\n",
            "[CV] max_features=1.0, min_samples_split=6, n_estimators=50 ..........\n",
            "[CV]  max_features=1.0, min_samples_split=6, n_estimators=50, score=0.740, total=   0.2s\n",
            "[CV] max_features=1.0, min_samples_split=6, n_estimators=50 ..........\n",
            "[CV]  max_features=1.0, min_samples_split=6, n_estimators=50, score=0.792, total=   0.3s\n",
            "[CV] max_features=1.0, min_samples_split=6, n_estimators=150 .........\n",
            "[CV]  max_features=1.0, min_samples_split=6, n_estimators=150, score=0.781, total=   0.8s\n",
            "[CV] max_features=1.0, min_samples_split=6, n_estimators=150 .........\n",
            "[CV]  max_features=1.0, min_samples_split=6, n_estimators=150, score=0.828, total=   0.7s\n",
            "[CV] max_features=1.0, min_samples_split=6, n_estimators=150 .........\n",
            "[CV]  max_features=1.0, min_samples_split=6, n_estimators=150, score=0.751, total=   0.7s\n",
            "[CV] max_features=1.0, min_samples_split=6, n_estimators=150 .........\n",
            "[CV]  max_features=1.0, min_samples_split=6, n_estimators=150, score=0.769, total=   0.7s\n",
            "[CV] max_features=1.0, min_samples_split=6, n_estimators=150 .........\n",
            "[CV]  max_features=1.0, min_samples_split=6, n_estimators=150, score=0.810, total=   0.7s\n",
            "[CV] max_features=1.0, min_samples_split=6, n_estimators=250 .........\n",
            "[CV]  max_features=1.0, min_samples_split=6, n_estimators=250, score=0.775, total=   1.2s\n",
            "[CV] max_features=1.0, min_samples_split=6, n_estimators=250 .........\n",
            "[CV]  max_features=1.0, min_samples_split=6, n_estimators=250, score=0.840, total=   1.2s\n",
            "[CV] max_features=1.0, min_samples_split=6, n_estimators=250 .........\n",
            "[CV]  max_features=1.0, min_samples_split=6, n_estimators=250, score=0.734, total=   1.2s\n",
            "[CV] max_features=1.0, min_samples_split=6, n_estimators=250 .........\n",
            "[CV]  max_features=1.0, min_samples_split=6, n_estimators=250, score=0.781, total=   1.2s\n",
            "[CV] max_features=1.0, min_samples_split=6, n_estimators=250 .........\n",
            "[CV]  max_features=1.0, min_samples_split=6, n_estimators=250, score=0.798, total=   1.2s\n"
          ],
          "name": "stdout"
        },
        {
          "output_type": "stream",
          "text": [
            "[Parallel(n_jobs=1)]: Done 225 out of 225 | elapsed:  2.0min finished\n"
          ],
          "name": "stderr"
        },
        {
          "output_type": "stream",
          "text": [
            "{'bootstrap': True,\n",
            " 'ccp_alpha': 0.0,\n",
            " 'class_weight': None,\n",
            " 'criterion': 'gini',\n",
            " 'max_depth': None,\n",
            " 'max_features': 'sqrt',\n",
            " 'max_leaf_nodes': None,\n",
            " 'max_samples': None,\n",
            " 'min_impurity_decrease': 0.0,\n",
            " 'min_impurity_split': None,\n",
            " 'min_samples_leaf': 1,\n",
            " 'min_samples_split': 2,\n",
            " 'min_weight_fraction_leaf': 0.0,\n",
            " 'n_estimators': 250,\n",
            " 'n_jobs': None,\n",
            " 'oob_score': False,\n",
            " 'random_state': 1,\n",
            " 'verbose': 0,\n",
            " 'warm_start': False}\n"
          ],
          "name": "stdout"
        }
      ]
    },
    {
      "cell_type": "code",
      "metadata": {
        "id": "-f0Gyf3GO1RJ"
      },
      "source": [
        "predictions = random_forest.predict(X_test)\r\n",
        "matrix = metrics.confusion_matrix(y_test, predictions)\r\n"
      ],
      "execution_count": 37,
      "outputs": []
    },
    {
      "cell_type": "code",
      "metadata": {
        "colab": {
          "base_uri": "https://localhost:8080/",
          "height": 283
        },
        "id": "ze9fwUlyqlP5",
        "outputId": "4210f24c-e889-42a9-fafc-a4739769a0c0"
      },
      "source": [
        "sns.heatmap(matrix, annot=True)"
      ],
      "execution_count": 38,
      "outputs": [
        {
          "output_type": "execute_result",
          "data": {
            "text/plain": [
              "<matplotlib.axes._subplots.AxesSubplot at 0x7f4fb1c545c0>"
            ]
          },
          "metadata": {
            "tags": []
          },
          "execution_count": 38
        },
        {
          "output_type": "display_data",
          "data": {
            "image/png": "[encoded data removed]",
            "text/plain": [
              "<Figure size 432x288 with 2 Axes>"
            ]
          },
          "metadata": {
            "tags": [],
            "needs_background": "light"
          }
        }
      ]
    },
    {
      "cell_type": "code",
      "metadata": {
        "colab": {
          "base_uri": "https://localhost:8080/"
        },
        "id": "nVAfbNLNO8ZA",
        "outputId": "49524422-8bb8-4032-90cb-2f7979de5968"
      },
      "source": [
        "print(classification_report(y_test,predictions))"
      ],
      "execution_count": 39,
      "outputs": [
        {
          "output_type": "stream",
          "text": [
            "              precision    recall  f1-score   support\n",
            "\n",
            "           0       0.80      0.78      0.79        63\n",
            "           1       0.91      0.88      0.90        60\n",
            "           2       0.87      0.87      0.87        39\n",
            "           3       0.85      0.89      0.87        45\n",
            "           4       0.75      0.87      0.81        60\n",
            "           5       0.89      0.86      0.87        56\n",
            "           6       0.85      0.74      0.79        38\n",
            "           7       0.89      0.89      0.89        55\n",
            "\n",
            "    accuracy                           0.85       416\n",
            "   macro avg       0.85      0.85      0.85       416\n",
            "weighted avg       0.85      0.85      0.85       416\n",
            "\n"
          ],
          "name": "stdout"
        }
      ]
    },
    {
      "cell_type": "markdown",
      "metadata": {
        "id": "eWhwkrTkLjYT"
      },
      "source": [
        "**Decision Tree Classifier**"
      ]
    },
    {
      "cell_type": "code",
      "metadata": {
        "id": "vkdr2Z6-SWxF"
      },
      "source": [
        "from sklearn.tree import DecisionTreeClassifier\r\n",
        "clf = DecisionTreeClassifier(random_state=0)"
      ],
      "execution_count": 40,
      "outputs": []
    },
    {
      "cell_type": "code",
      "metadata": {
        "colab": {
          "base_uri": "https://localhost:8080/"
        },
        "id": "wVYZWvOUr1bT",
        "outputId": "231e3657-9795-472a-be67-ef8e0da6e23f"
      },
      "source": [
        "clf.fit(X_train,y_train)"
      ],
      "execution_count": 41,
      "outputs": [
        {
          "output_type": "execute_result",
          "data": {
            "text/plain": [
              "DecisionTreeClassifier(ccp_alpha=0.0, class_weight=None, criterion='gini',\n",
              "                       max_depth=None, max_features=None, max_leaf_nodes=None,\n",
              "                       min_impurity_decrease=0.0, min_impurity_split=None,\n",
              "                       min_samples_leaf=1, min_samples_split=2,\n",
              "                       min_weight_fraction_leaf=0.0, presort='deprecated',\n",
              "                       random_state=0, splitter='best')"
            ]
          },
          "metadata": {
            "tags": []
          },
          "execution_count": 41
        }
      ]
    },
    {
      "cell_type": "code",
      "metadata": {
        "id": "uw9G_vjlr3WM"
      },
      "source": [
        "y_pred=clf.predict(X_test)"
      ],
      "execution_count": 42,
      "outputs": []
    },
    {
      "cell_type": "code",
      "metadata": {
        "colab": {
          "base_uri": "https://localhost:8080/",
          "height": 283
        },
        "id": "i2QpUZ_jr3pO",
        "outputId": "6604cdce-5e23-46bc-81b6-7c8c1dd98ade"
      },
      "source": [
        "matrix = metrics.confusion_matrix(y_val.argmax(axis=1), y_pred)\r\n",
        "sns.heatmap(matrix, annot=True)\r\n"
      ],
      "execution_count": 43,
      "outputs": [
        {
          "output_type": "execute_result",
          "data": {
            "text/plain": [
              "<matplotlib.axes._subplots.AxesSubplot at 0x7f4fa5539d30>"
            ]
          },
          "metadata": {
            "tags": []
          },
          "execution_count": 43
        },
        {
          "output_type": "display_data",
          "data": {
            "image/png": "[encoded data removed]",
            "text/plain": [
              "<Figure size 432x288 with 2 Axes>"
            ]
          },
          "metadata": {
            "tags": [],
            "needs_background": "light"
          }
        }
      ]
    },
    {
      "cell_type": "code",
      "metadata": {
        "colab": {
          "base_uri": "https://localhost:8080/"
        },
        "id": "q_Pq0UxssHly",
        "outputId": "5f6e28a6-ac0c-429d-e173-33fa124375ba"
      },
      "source": [
        "print(classification_report(y_test,y_pred))"
      ],
      "execution_count": 44,
      "outputs": [
        {
          "output_type": "stream",
          "text": [
            "              precision    recall  f1-score   support\n",
            "\n",
            "           0       0.61      0.68      0.64        63\n",
            "           1       0.75      0.70      0.72        60\n",
            "           2       0.76      0.67      0.71        39\n",
            "           3       0.67      0.71      0.69        45\n",
            "           4       0.69      0.70      0.69        60\n",
            "           5       0.64      0.68      0.66        56\n",
            "           6       0.57      0.53      0.55        38\n",
            "           7       0.83      0.78      0.80        55\n",
            "\n",
            "    accuracy                           0.69       416\n",
            "   macro avg       0.69      0.68      0.68       416\n",
            "weighted avg       0.69      0.69      0.69       416\n",
            "\n"
          ],
          "name": "stdout"
        }
      ]
    },
    {
      "cell_type": "markdown",
      "metadata": {
        "id": "Rx6WnrQl8EiY"
      },
      "source": [
        "**Voting Classifier**"
      ]
    },
    {
      "cell_type": "code",
      "metadata": {
        "id": "H45_rLpw8Kyf"
      },
      "source": [
        "from sklearn.ensemble import VotingClassifier \r\n",
        "from sklearn.linear_model import LogisticRegression \r\n",
        "from sklearn.svm import SVC \r\n",
        "from sklearn.tree import DecisionTreeClassifier \r\n",
        "from sklearn.datasets import load_iris \r\n",
        "from sklearn.metrics import accuracy_score \r\n",
        "from sklearn.model_selection import train_test_split"
      ],
      "execution_count": 45,
      "outputs": []
    },
    {
      "cell_type": "code",
      "metadata": {
        "id": "kdOyd5Q_8K_f"
      },
      "source": [
        "estimator = [] \r\n",
        "estimator.append(('LR',  \r\n",
        "                  LogisticRegression(solver ='lbfgs',  \r\n",
        "                                     multi_class ='multinomial',  \r\n",
        "                                     max_iter = 200))) \r\n",
        "estimator.append(('SVC', SVC(\r\n",
        "    C=1.0, break_ties=False, cache_size=200,\r\n",
        "                           class_weight=None, coef0=0.0,\r\n",
        "                           decision_function_shape='ovr', degree=3,\r\n",
        "                           gamma='scale', kernel='rbf', max_iter=-1,\r\n",
        "                           probability=False, random_state=None, shrinking=True,\r\n",
        "                           tol=0.001, verbose=False\r\n",
        "    \r\n",
        "))) \r\n",
        "estimator.append(('DTC', DecisionTreeClassifier())) \r\n",
        "estimator.append(('Rd',RandomForestClassifier(bootstrap=True,\r\n",
        "ccp_alpha=0.0,\r\n",
        "class_weight= None,\r\n",
        "criterion= 'gini',\r\n",
        "max_depth= None,\r\n",
        "max_features= 'sqrt',\r\n",
        "max_leaf_nodes= None,\r\n",
        "max_samples= None,\r\n",
        "min_impurity_decrease= 0.0,\r\n",
        "min_impurity_split= None,\r\n",
        "min_samples_leaf= 1,\r\n",
        "min_samples_split= 2,\r\n",
        "min_weight_fraction_leaf= 0.0,\r\n",
        "n_estimators= 250,\r\n",
        "n_jobs= None,\r\n",
        "oob_score= False,\r\n",
        "random_state= 1,\r\n",
        "verbose= 0,\r\n",
        "warm_start= False)\r\n",
        "\r\n",
        "\r\n",
        "))\r\n"
      ],
      "execution_count": 46,
      "outputs": []
    },
    {
      "cell_type": "code",
      "metadata": {
        "colab": {
          "base_uri": "https://localhost:8080/"
        },
        "id": "QON-GwhT8LS3",
        "outputId": "a24d10e5-97d3-4df9-d28c-1457221ad995"
      },
      "source": [
        "from sklearn.metrics import accuracy_score, f1_score, log_loss\r\n",
        "# Voting Classifier with hard voting \r\n",
        "voting_clf = VotingClassifier(estimators = estimator, voting ='hard') \r\n",
        "voting_clf.fit(X_train, y_train)\r\n"
      ],
      "execution_count": 47,
      "outputs": [
        {
          "output_type": "stream",
          "text": [
            "/usr/local/lib/python3.6/dist-packages/sklearn/linear_model/_logistic.py:940: ConvergenceWarning: lbfgs failed to converge (status=1):\n",
            "STOP: TOTAL NO. of ITERATIONS REACHED LIMIT.\n",
            "\n",
            "Increase the number of iterations (max_iter) or scale the data as shown in:\n",
            "    https://scikit-learn.org/stable/modules/preprocessing.html\n",
            "Please also refer to the documentation for alternative solver options:\n",
            "    https://scikit-learn.org/stable/modules/linear_model.html#logistic-regression\n",
            "  extra_warning_msg=_LOGISTIC_SOLVER_CONVERGENCE_MSG)\n"
          ],
          "name": "stderr"
        },
        {
          "output_type": "execute_result",
          "data": {
            "text/plain": [
              "VotingClassifier(estimators=[('LR',\n",
              "                              LogisticRegression(C=1.0, class_weight=None,\n",
              "                                                 dual=False, fit_intercept=True,\n",
              "                                                 intercept_scaling=1,\n",
              "                                                 l1_ratio=None, max_iter=200,\n",
              "                                                 multi_class='multinomial',\n",
              "                                                 n_jobs=None, penalty='l2',\n",
              "                                                 random_state=None,\n",
              "                                                 solver='lbfgs', tol=0.0001,\n",
              "                                                 verbose=0, warm_start=False)),\n",
              "                             ('SVC',\n",
              "                              SVC(C=1.0, break_ties=False, cache_size=200,\n",
              "                                  class_weight=None, coef...\n",
              "                                                     criterion='gini',\n",
              "                                                     max_depth=None,\n",
              "                                                     max_features='sqrt',\n",
              "                                                     max_leaf_nodes=None,\n",
              "                                                     max_samples=None,\n",
              "                                                     min_impurity_decrease=0.0,\n",
              "                                                     min_impurity_split=None,\n",
              "                                                     min_samples_leaf=1,\n",
              "                                                     min_samples_split=2,\n",
              "                                                     min_weight_fraction_leaf=0.0,\n",
              "                                                     n_estimators=250,\n",
              "                                                     n_jobs=None,\n",
              "                                                     oob_score=False,\n",
              "                                                     random_state=1, verbose=0,\n",
              "                                                     warm_start=False))],\n",
              "                 flatten_transform=True, n_jobs=None, voting='hard',\n",
              "                 weights=None)"
            ]
          },
          "metadata": {
            "tags": []
          },
          "execution_count": 47
        }
      ]
    },
    {
      "cell_type": "code",
      "metadata": {
        "colab": {
          "base_uri": "https://localhost:8080/",
          "height": 283
        },
        "id": "l1aB6ub-FlRl",
        "outputId": "0d25356c-1125-491d-a341-edeb14cb9cf9"
      },
      "source": [
        "preds = voting_clf.predict(X_test)\r\n",
        "\r\n",
        "\r\n",
        "matrix = metrics.confusion_matrix(y_test,preds)\r\n",
        "sns.heatmap(matrix, annot=True)\r\n"
      ],
      "execution_count": 48,
      "outputs": [
        {
          "output_type": "execute_result",
          "data": {
            "text/plain": [
              "<matplotlib.axes._subplots.AxesSubplot at 0x7f4fa488bbe0>"
            ]
          },
          "metadata": {
            "tags": []
          },
          "execution_count": 48
        },
        {
          "output_type": "display_data",
          "data": {
            "image/png": "[encoded data removed]",
            "text/plain": [
              "<Figure size 432x288 with 2 Axes>"
            ]
          },
          "metadata": {
            "tags": [],
            "needs_background": "light"
          }
        }
      ]
    },
    {
      "cell_type": "code",
      "metadata": {
        "colab": {
          "base_uri": "https://localhost:8080/"
        },
        "id": "GWTNJtaMF5AH",
        "outputId": "2bbacf9c-0741-41cc-f2ab-236db00b8745"
      },
      "source": [
        "print(classification_report(y_test,preds))"
      ],
      "execution_count": 49,
      "outputs": [
        {
          "output_type": "stream",
          "text": [
            "              precision    recall  f1-score   support\n",
            "\n",
            "           0       0.48      0.76      0.59        63\n",
            "           1       0.78      0.85      0.82        60\n",
            "           2       0.69      0.64      0.67        39\n",
            "           3       0.91      0.67      0.77        45\n",
            "           4       0.62      0.73      0.67        60\n",
            "           5       0.91      0.57      0.70        56\n",
            "           6       0.92      0.63      0.75        38\n",
            "           7       0.86      0.76      0.81        55\n",
            "\n",
            "    accuracy                           0.71       416\n",
            "   macro avg       0.77      0.70      0.72       416\n",
            "weighted avg       0.76      0.71      0.72       416\n",
            "\n"
          ],
          "name": "stdout"
        }
      ]
    },
    {
      "cell_type": "code",
      "metadata": {
        "colab": {
          "base_uri": "https://localhost:8080/"
        },
        "id": "OyQ2x8ILFzH2",
        "outputId": "f3d39173-d358-47fa-bf26-262ad9fc3d5a"
      },
      "source": [
        "acc = accuracy_score(y_test, preds)\r\n",
        "print(\"Voting Classifier Accuracy\",acc)"
      ],
      "execution_count": 50,
      "outputs": [
        {
          "output_type": "stream",
          "text": [
            "Voting Classifier Accuracy 0.7115384615384616\n"
          ],
          "name": "stdout"
        }
      ]
    },
    {
      "cell_type": "markdown",
      "metadata": {
        "id": "y-n1p7G9U3R5"
      },
      "source": [
        "|Algorithm|Accuracy|\r\n",
        "|---------|--------|\r\n",
        "|Multi-Layer Perceptron|0.58|\r\n",
        "|Random Forest|0.85|\r\n",
        "|SVM|0.70|\r\n",
        "|Decision Tree|0.69|\r\n",
        "|Voting Classifier|0.71|\r\n",
        "\r\n",
        "\r\n"
      ]
    },
    {
      "cell_type": "markdown",
      "metadata": {
        "id": "s9D_3gYDBtA6"
      },
      "source": [
        "**Testing Data**"
      ]
    },
    {
      "cell_type": "code",
      "metadata": {
        "id": "kfPTZ1LwBvd7"
      },
      "source": [
        "def multi_layer_perceptron(X):\r\n",
        "  X = model.predict(X)\r\n",
        "  plt.hist(X,rwidth=0.8,alpha=0.7)\r\n",
        "  plt.title('Multi-Layer Perceptron')\r\n",
        "  plt.grid(axis='y', alpha=0.75)\r\n",
        "  plt.xlabel('Classes',fontsize=9)\r\n",
        "  plt.show()\r\n",
        "\r\n",
        "\r\n",
        "\r\n",
        "\r\n",
        "def random_forest_func(X):\r\n",
        "\r\n",
        "  X = random_forest.predict(X)\r\n",
        "  plt.hist(X,rwidth=0.8,color='sienna',alpha=0.7)\r\n",
        "  plt.title('Random Forest')\r\n",
        "  plt.grid(axis='y', alpha=0.75)\r\n",
        "  plt.xlabel('Classes',fontsize=9)\r\n",
        "   \r\n",
        "  plt.show()\r\n",
        "  #return accuracy_score(y,X)\r\n",
        "  #return (np.bincount(X).argmax())\r\n",
        "\r\n",
        "def support_vector_machine(X):\r\n",
        "  X= grid.predict(X)\r\n",
        "  plt.hist(X,rwidth=0.8,color='red',alpha=0.7)\r\n",
        "  plt.title('Support Vector Machine')\r\n",
        "  plt.grid(axis='y', alpha=0.75)\r\n",
        "  plt.xlabel('Classes',fontsize=9)\r\n",
        "   \r\n",
        "  plt.show()\r\n",
        "  \r\n",
        "  #return (np.bincount(X).argmax())\r\n",
        "\r\n",
        "\r\n",
        "def decision_tree(X):\r\n",
        "   X = clf.predict(X)\r\n",
        "   plt.hist(X,rwidth=0.8,color='orange',alpha=0.7)\r\n",
        "   plt.title('Decision Tree')\r\n",
        "   plt.grid(axis='y', alpha=0.75)\r\n",
        "   plt.xlabel('Classes',fontsize=9)\r\n",
        "   plt.show()\r\n",
        "  \r\n",
        "   #return (np.bincount(X).argmax())\r\n",
        "\r\n",
        "\r\n",
        "def voting_classifier(X):\r\n",
        "  X = voting_clf.predict(X)\r\n",
        "  plt.hist(X,rwidth=0.8,color='navy',alpha=0.7)\r\n",
        "  plt.title('Voting Classifier')\r\n",
        "  plt.grid(axis='y', alpha=0.75)\r\n",
        "  plt.xlabel('Classes',fontsize=9)\r\n",
        "   \r\n",
        "  plt.show()\r\n",
        "  \r\n",
        "  #return (np.bincount(X).argmax())"
      ],
      "execution_count": 64,
      "outputs": []
    },
    {
      "cell_type": "code",
      "metadata": {
        "id": "2JeJMoeQir6R"
      },
      "source": [
        "def read_csv(pose_file,angles_file):\r\n",
        " \r\n",
        "  pose_data = pd.read_csv(pose_file)\r\n",
        "  angles_data=pd.read_csv(angles_file)\r\n",
        " \r\n",
        "  return pose_data,angles_data\r\n",
        "\r\n",
        "\r\n",
        "def pre_processing(df):\r\n",
        "  \r\n",
        "  del df['Image']\r\n",
        "  del df['images']\r\n",
        "  \r\n",
        "  df=df.fillna(0)\r\n",
        "  \r\n",
        "  return df"
      ],
      "execution_count": 65,
      "outputs": []
    },
    {
      "cell_type": "code",
      "metadata": {
        "id": "CVZMjv08FCSd"
      },
      "source": [
        "\r\n",
        "def label_encoding(df):\r\n",
        "  \r\n",
        "  df = pre_processing(df)\r\n",
        "  df['Class'] = labelencoder_y_1.fit_transform(df['Class'].values)\r\n",
        "  \r\n",
        "  return df\r\n",
        "\r\n",
        "def testing_data(pose_file,angles_file):\r\n",
        "  df,df1 = read_csv(pose_file,angles_file)\r\n",
        "  \r\n",
        "  df=pd.merge(df,df1, how='left', left_on='Image', right_on='images')\r\n",
        "  df = label_encoding(df)\r\n",
        "  \r\n",
        "  Y=df['Class']\r\n",
        "  X=df.drop(['Class'],axis=1)\r\n",
        "  \r\n",
        "  return random_forest_func(X),support_vector_machine(X),decision_tree(X),voting_classifier(X)"
      ],
      "execution_count": 72,
      "outputs": []
    },
    {
      "cell_type": "code",
      "metadata": {
        "colab": {
          "base_uri": "https://localhost:8080/",
          "height": 1000
        },
        "id": "DQ_Ihg0IB6Me",
        "outputId": "5680db11-a21b-4afc-8d08-4a7e1384b772"
      },
      "source": [
        "print(testing_data('ahmed_pose.csv','ahmed_angle.csv'))"
      ],
      "execution_count": 73,
      "outputs": [
        {
          "output_type": "display_data",
          "data": {
            "image/png": "[encoded data removed]",
            "text/plain": [
              "<Figure size 432x288 with 1 Axes>"
            ]
          },
          "metadata": {
            "tags": [],
            "needs_background": "light"
          }
        },
        {
          "output_type": "display_data",
          "data": {
            "image/png": "[encoded data removed]",
            "text/plain": [
              "<Figure size 432x288 with 1 Axes>"
            ]
          },
          "metadata": {
            "tags": [],
            "needs_background": "light"
          }
        },
        {
          "output_type": "display_data",
          "data": {
            "image/png": "[encoded data removed]",
            "text/plain": [
              "<Figure size 432x288 with 1 Axes>"
            ]
          },
          "metadata": {
            "tags": [],
            "needs_background": "light"
          }
        },
        {
          "output_type": "display_data",
          "data": {
            "image/png": "[encoded data removed]",
            "text/plain": [
              "<Figure size 432x288 with 1 Axes>"
            ]
          },
          "metadata": {
            "tags": [],
            "needs_background": "light"
          }
        },
        {
          "output_type": "stream",
          "text": [
            "(None, None, None, None)\n"
          ],
          "name": "stdout"
        }
      ]
    },
    {
      "cell_type": "code",
      "metadata": {
        "id": "a2VFoj36DWVV",
        "colab": {
          "base_uri": "https://localhost:8080/",
          "height": 1000
        },
        "outputId": "52734ec0-9c97-434f-f7cd-9a081b0a8eb4"
      },
      "source": [
        "print(testing_data('amman_pose.csv','amman_angle.csv'))"
      ],
      "execution_count": 74,
      "outputs": [
        {
          "output_type": "display_data",
          "data": {
            "image/png": "[encoded data removed]",
            "text/plain": [
              "<Figure size 432x288 with 1 Axes>"
            ]
          },
          "metadata": {
            "tags": [],
            "needs_background": "light"
          }
        },
        {
          "output_type": "display_data",
          "data": {
            "image/png": "[encoded data removed]",
            "text/plain": [
              "<Figure size 432x288 with 1 Axes>"
            ]
          },
          "metadata": {
            "tags": [],
            "needs_background": "light"
          }
        },
        {
          "output_type": "display_data",
          "data": {
            "image/png": "[encoded data removed]",
            "text/plain": [
              "<Figure size 432x288 with 1 Axes>"
            ]
          },
          "metadata": {
            "tags": [],
            "needs_background": "light"
          }
        },
        {
          "output_type": "display_data",
          "data": {
            "image/png": "[encoded data removed]",
            "text/plain": [
              "<Figure size 432x288 with 1 Axes>"
            ]
          },
          "metadata": {
            "tags": [],
            "needs_background": "light"
          }
        },
        {
          "output_type": "stream",
          "text": [
            "(None, None, None, None)\n"
          ],
          "name": "stdout"
        }
      ]
    },
    {
      "cell_type": "code",
      "metadata": {
        "id": "zVoDRbHZUhwP",
        "colab": {
          "base_uri": "https://localhost:8080/",
          "height": 1000
        },
        "outputId": "1edca00d-16fc-44ae-c939-e0f476538728"
      },
      "source": [
        "print(testing_data('sajid_pose.csv','sajid_angle.csv'))"
      ],
      "execution_count": 75,
      "outputs": [
        {
          "output_type": "display_data",
          "data": {
            "image/png": "[encoded data removed]",
            "text/plain": [
              "<Figure size 432x288 with 1 Axes>"
            ]
          },
          "metadata": {
            "tags": [],
            "needs_background": "light"
          }
        },
        {
          "output_type": "display_data",
          "data": {
            "image/png": "[encoded data removed]",
            "text/plain": [
              "<Figure size 432x288 with 1 Axes>"
            ]
          },
          "metadata": {
            "tags": [],
            "needs_background": "light"
          }
        },
        {
          "output_type": "display_data",
          "data": {
            "image/png": "[encoded data removed]",
            "text/plain": [
              "<Figure size 432x288 with 1 Axes>"
            ]
          },
          "metadata": {
            "tags": [],
            "needs_background": "light"
          }
        },
        {
          "output_type": "display_data",
          "data": {
            "image/png": "[encoded data removed]",
            "text/plain": [
              "<Figure size 432x288 with 1 Axes>"
            ]
          },
          "metadata": {
            "tags": [],
            "needs_background": "light"
          }
        },
        {
          "output_type": "stream",
          "text": [
            "(None, None, None, None)\n"
          ],
          "name": "stdout"
        }
      ]
    },
    {
      "cell_type": "code",
      "metadata": {
        "id": "yRMuUQCsVv67",
        "colab": {
          "base_uri": "https://localhost:8080/",
          "height": 1000
        },
        "outputId": "cd56e625-f8a1-4b64-8a78-26ce2b2bebef"
      },
      "source": [
        "print(testing_data('sami_pose.csv','sami_angle.csv'))"
      ],
      "execution_count": 76,
      "outputs": [
        {
          "output_type": "display_data",
          "data": {
            "image/png": "[encoded data removed]",
            "text/plain": [
              "<Figure size 432x288 with 1 Axes>"
            ]
          },
          "metadata": {
            "tags": [],
            "needs_background": "light"
          }
        },
        {
          "output_type": "display_data",
          "data": {
            "image/png": "[encoded data removed]",
            "text/plain": [
              "<Figure size 432x288 with 1 Axes>"
            ]
          },
          "metadata": {
            "tags": [],
            "needs_background": "light"
          }
        },
        {
          "output_type": "display_data",
          "data": {
            "image/png": "[encoded data removed]",
            "text/plain": [
              "<Figure size 432x288 with 1 Axes>"
            ]
          },
          "metadata": {
            "tags": [],
            "needs_background": "light"
          }
        },
        {
          "output_type": "display_data",
          "data": {
            "image/png": "[encoded data removed]",
            "text/plain": [
              "<Figure size 432x288 with 1 Axes>"
            ]
          },
          "metadata": {
            "tags": [],
            "needs_background": "light"
          }
        },
        {
          "output_type": "stream",
          "text": [
            "(None, None, None, None)\n"
          ],
          "name": "stdout"
        }
      ]
    },
    {
      "cell_type": "code",
      "metadata": {
        "colab": {
          "base_uri": "https://localhost:8080/",
          "height": 1000
        },
        "id": "D2oqIa4AijgI",
        "outputId": "ceaec44d-f0d8-439b-b608-490e3dcb5e15"
      },
      "source": [
        "print(testing_data('shumile_pose.csv','shumail_angle.csv'))"
      ],
      "execution_count": 77,
      "outputs": [
        {
          "output_type": "display_data",
          "data": {
            "image/png": "[encoded data removed]",
            "text/plain": [
              "<Figure size 432x288 with 1 Axes>"
            ]
          },
          "metadata": {
            "tags": [],
            "needs_background": "light"
          }
        },
        {
          "output_type": "display_data",
          "data": {
            "image/png": "[encoded data removed]",
            "text/plain": [
              "<Figure size 432x288 with 1 Axes>"
            ]
          },
          "metadata": {
            "tags": [],
            "needs_background": "light"
          }
        },
        {
          "output_type": "display_data",
          "data": {
            "image/png": "[encoded data removed]",
            "text/plain": [
              "<Figure size 432x288 with 1 Axes>"
            ]
          },
          "metadata": {
            "tags": [],
            "needs_background": "light"
          }
        },
        {
          "output_type": "display_data",
          "data": {
            "image/png": "[encoded data removed]",
            "text/plain": [
              "<Figure size 432x288 with 1 Axes>"
            ]
          },
          "metadata": {
            "tags": [],
            "needs_background": "light"
          }
        },
        {
          "output_type": "stream",
          "text": [
            "(None, None, None, None)\n"
          ],
          "name": "stdout"
        }
      ]
    },
    {
      "cell_type": "code",
      "metadata": {
        "colab": {
          "base_uri": "https://localhost:8080/",
          "height": 1000
        },
        "id": "JRec7nE1lNT6",
        "outputId": "8855eec5-c7c2-4099-eaed-482f689f7860"
      },
      "source": [
        "print(testing_data('steve_pose.csv','steve_angle.csv'))"
      ],
      "execution_count": 78,
      "outputs": [
        {
          "output_type": "display_data",
          "data": {
            "image/png": "[encoded data removed]",
            "text/plain": [
              "<Figure size 432x288 with 1 Axes>"
            ]
          },
          "metadata": {
            "tags": [],
            "needs_background": "light"
          }
        },
        {
          "output_type": "display_data",
          "data": {
            "image/png": "[encoded data removed]",
            "text/plain": [
              "<Figure size 432x288 with 1 Axes>"
            ]
          },
          "metadata": {
            "tags": [],
            "needs_background": "light"
          }
        },
        {
          "output_type": "display_data",
          "data": {
            "image/png": "[encoded data removed]",
            "text/plain": [
              "<Figure size 432x288 with 1 Axes>"
            ]
          },
          "metadata": {
            "tags": [],
            "needs_background": "light"
          }
        },
        {
          "output_type": "display_data",
          "data": {
            "image/png": "[encoded data removed]",
            "text/plain": [
              "<Figure size 432x288 with 1 Axes>"
            ]
          },
          "metadata": {
            "tags": [],
            "needs_background": "light"
          }
        },
        {
          "output_type": "stream",
          "text": [
            "(None, None, None, None)\n"
          ],
          "name": "stdout"
        }
      ]
    },
    {
      "cell_type": "code",
      "metadata": {
        "colab": {
          "base_uri": "https://localhost:8080/",
          "height": 1000
        },
        "id": "XWsmN-exsRSR",
        "outputId": "de3b017d-c9f3-45cd-bfaf-0f90241747e3"
      },
      "source": [
        "print(testing_data('wajid_pose.csv','wajid_angle.csv'))"
      ],
      "execution_count": 79,
      "outputs": [
        {
          "output_type": "display_data",
          "data": {
            "image/png": "[encoded data removed]",
            "text/plain": [
              "<Figure size 432x288 with 1 Axes>"
            ]
          },
          "metadata": {
            "tags": [],
            "needs_background": "light"
          }
        },
        {
          "output_type": "display_data",
          "data": {
            "image/png": "[encoded data removed]",
            "text/plain": [
              "<Figure size 432x288 with 1 Axes>"
            ]
          },
          "metadata": {
            "tags": [],
            "needs_background": "light"
          }
        },
        {
          "output_type": "display_data",
          "data": {
            "image/png": "[encoded data removed]",
            "text/plain": [
              "<Figure size 432x288 with 1 Axes>"
            ]
          },
          "metadata": {
            "tags": [],
            "needs_background": "light"
          }
        },
        {
          "output_type": "display_data",
          "data": {
            "image/png": "[encoded data removed]",
            "text/plain": [
              "<Figure size 432x288 with 1 Axes>"
            ]
          },
          "metadata": {
            "tags": [],
            "needs_background": "light"
          }
        },
        {
          "output_type": "stream",
          "text": [
            "(None, None, None, None)\n"
          ],
          "name": "stdout"
        }
      ]
    },
    {
      "cell_type": "code",
      "metadata": {
        "id": "_9cFrSpz0z6c"
      },
      "source": [
        ""
      ],
      "execution_count": null,
      "outputs": []
    }
  ]
}
